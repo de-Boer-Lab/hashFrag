{
 "cells": [
  {
   "cell_type": "code",
   "execution_count": 1,
   "id": "60c5272d-1889-41ca-b3fb-60614d5f83c8",
   "metadata": {
    "execution": {
     "iopub.execute_input": "2024-12-31T20:15:14.705868Z",
     "iopub.status.busy": "2024-12-31T20:15:14.705636Z",
     "iopub.status.idle": "2024-12-31T20:15:25.767488Z",
     "shell.execute_reply": "2024-12-31T20:15:25.766923Z",
     "shell.execute_reply.started": "2024-12-31T20:15:14.705843Z"
    },
    "tags": []
   },
   "outputs": [
    {
     "name": "stdout",
     "output_type": "stream",
     "text": [
      "usage: hashFrag [-h]\n",
      "                {blastn_module,filter_candidates_module,filter_test_split_module,stratify_test_split_module,identify_homologous_groups_module,create_orthogonal_splits_module,filter_existing_splits,stratify_test_split,create_orthogonal_splits}\n",
      "                ...\n",
      "\n",
      "hashFrag is a tool developed to mitigate the impacts of homology-based data leakage in sequence-to-expression models. By identifying homology (based on pairwise alignment scores) in a sequence dataset, this tool can be used to\n",
      "filter homologous sequences spanning existing train-test splits (e.g., chromosomal splits), stratify a test split according to different levels of homology, or create homology-aware train-test splits.\n",
      "\n",
      "positional arguments:\n",
      "  {blastn_module,filter_candidates_module,filter_test_split_module,stratify_test_split_module,identify_homologous_groups_module,create_orthogonal_splits_module,filter_existing_splits,stratify_test_split,create_orthogonal_splits}\n",
      "    blastn_module       A wrapper script calling BLASTn to identify candidate pairs of sequences sharing regions with high similarity.\n",
      "    filter_candidates_module\n",
      "                        Filter candidate pairs based on a specified alignment score threshold (false-positive removal).\n",
      "    filter_test_split_module\n",
      "                        Filter test sequences that exhibit homology with any train sequences.\n",
      "    stratify_test_split_module\n",
      "                        Stratify the test split into subsplits based on their maximum alignment score to the sequences in the train split.\n",
      "    identify_homologous_groups_module\n",
      "                        Identify all distinct groups of homologous sequences.\n",
      "    create_orthogonal_splits_module\n",
      "                        Create homology-aware test-train splits.\n",
      "    filter_existing_splits\n",
      "                        Execute the full workflow of commands to filter homology spanning the input test splits.\n",
      "    stratify_test_split\n",
      "                        Execute the full workflow of commands to stratify the test split based on their maximum pairwise alignment score to the train split sequences.\n",
      "    create_orthogonal_splits\n",
      "                        Execute the full workflow of commands to create homology-aware train-test splits.\n",
      "\n",
      "optional arguments:\n",
      "  -h, --help            show this help message and exit\n"
     ]
    }
   ],
   "source": [
    "%%bash\n",
    "\n",
    "hashFrag -h"
   ]
  },
  {
   "cell_type": "markdown",
   "id": "8381d6c3-0050-401e-87b1-c5b2eb76cc78",
   "metadata": {},
   "source": [
    "# Introduction\n",
    "\n",
    "> This notebook refers to the case when users have a nucleotide sequence dataset and are interested in creating homology-aware train-test data splits for sequence-to-expression models.\n",
    "\n",
    "The basic workflow is provided with respect a subsampled MPRA dataset (K562): a 10,000-sequence FASTA file (provided in the `data` directory).\n",
    "\n",
    "hashFrag is a command line tool. This notebook serves as a resource to provide example calls and explanations to each step in the process.\n"
   ]
  },
  {
   "cell_type": "markdown",
   "id": "8ba4efbc-3011-4957-b39e-32c3987662fc",
   "metadata": {},
   "source": [
    "# Section 0: Basic usage - full pipeline command"
   ]
  },
  {
   "cell_type": "code",
   "execution_count": 10,
   "id": "ddf192f9-3448-4ec9-a0da-2faeb526467f",
   "metadata": {
    "execution": {
     "iopub.execute_input": "2024-12-31T20:22:16.138356Z",
     "iopub.status.busy": "2024-12-31T20:22:16.137990Z",
     "iopub.status.idle": "2024-12-31T20:28:36.473201Z",
     "shell.execute_reply": "2024-12-31T20:28:36.472547Z",
     "shell.execute_reply.started": "2024-12-31T20:22:16.138331Z"
    },
    "tags": []
   },
   "outputs": [
    {
     "name": "stdout",
     "output_type": "stream",
     "text": [
      "2025-01-01 05:22:23 - pipeline - INFO - Initializing `create_orthogonal_splits` pipeline.\n",
      "\n",
      "2025-01-01 05:22:23 - blastn_module - INFO - Calling module...\n",
      "2025-01-01 05:22:23 - blastn_module - INFO - One FASTA files detected. Computing pairwise BLAST comparisons for all sequence-pairs...\n",
      "2025-01-01 05:22:33 - blastn_module - INFO - BLASTn output: \n",
      "\n",
      "Building a new DB, current time: 01/01/2025 05:22:32\n",
      "New DB name:   /home/brett/work/OrthogonalTrainValSplits/hashFrag/data/tutorial.create_orthogonal_splits.work/hashFrag.blastdb\n",
      "New DB title:  hashFrag\n",
      "Sequence type: Nucleotide\n",
      "Keep MBits: T\n",
      "Maximum file size: 1000000000B\n",
      "Adding sequences from FASTA; added 10000 sequences in 0.278819 seconds.\n",
      "\n",
      "\n",
      "\n",
      "2025-01-01 05:22:33 - blastn_module - INFO - BLAST DataBase construction finished and written to: /home/brett/work/OrthogonalTrainValSplits/hashFrag/data/tutorial.create_orthogonal_splits.work/hashFrag.blastdb\n",
      "2025-01-01 05:28:24 - blastn_module - INFO - BLASTn process finished and written to: /home/brett/work/OrthogonalTrainValSplits/hashFrag/data/tutorial.create_orthogonal_splits.work/hashFrag.blastn.out\n",
      "2025-01-01 05:28:24 - blastn_module - INFO - Module execution completed.\n",
      "\n",
      "2025-01-01 05:28:24 - filter_candidates_module - INFO - Calling module...\n",
      "2025-01-01 05:28:24 - filter_candidates_module - INFO - Filtering based on corrected BLAST alignment scores (lightning mode).\n",
      "2025-01-01 05:28:26 - filter_candidates_module - INFO - Filtered results written to: /home/brett/work/OrthogonalTrainValSplits/hashFrag/data/tutorial.create_orthogonal_splits.work/hashFrag_lightning.similar_pairs.tsv.gz\n",
      "2025-01-01 05:28:26 - filter_candidates_module - INFO - Module execution completed.\n",
      "\n",
      "2025-01-01 05:28:26 - identify_homologous_groups_module - INFO - Calling module...\n",
      "2025-01-01 05:28:26 - identify_homologous_groups_module - INFO - 1114 sequences exhibiting homology.\n",
      "2025-01-01 05:28:27 - identify_homologous_groups_module - INFO - 90 distinct groups.\n",
      "2025-01-01 05:28:27 - identify_homologous_groups_module - INFO - Homologous groups written to: /home/brett/work/OrthogonalTrainValSplits/hashFrag/data/tutorial.create_orthogonal_splits.work/hashFrag_lightning.homologous_groups.tsv\n",
      "2025-01-01 05:28:27 - identify_homologous_groups_module - INFO - Module execution completed.\n",
      "\n",
      "2025-01-01 05:28:27 - create_orthogonal_splits_module - INFO - Calling module...\n",
      "2025-01-01 05:28:29 - create_orthogonal_splits_module - INFO - Creating 10 orthogonal splits in directory: /home/brett/work/OrthogonalTrainValSplits/hashFrag/data/tutorial.create_orthogonal_splits.work\n",
      "2025-01-01 05:28:32 - create_orthogonal_splits_module - INFO - Module execution completed.\n",
      "\n",
      "2025-01-01 05:28:32 - pipeline - INFO - Completed execution of the pipeline to create homology-aware data splits!\n"
     ]
    }
   ],
   "source": [
    "%%bash\n",
    "\n",
    "FASTA_PATH=/home/brett/work/OrthogonalTrainValSplits/hashFrag/data/example_full_dataset.fa.gz\n",
    "WORK_DIR=/home/brett/work/OrthogonalTrainValSplits/hashFrag/data/tutorial.create_orthogonal_splits.work\n",
    "\n",
    "WORD_SIZE=7\n",
    "MAX_TARGET_SEQS=8000 # size of train dataset\n",
    "E_VALUE=100\n",
    "THRESHOLD=60\n",
    "N_SPLITS=10\n",
    "\n",
    "hashFrag create_orthogonal_splits \\\n",
    "--fasta_path $FASTA_PATH \\\n",
    "--word_size $WORD_SIZE \\\n",
    "--max_target_seqs $MAX_TARGET_SEQS \\\n",
    "--e_value $E_VALUE \\\n",
    "--threshold $THRESHOLD \\\n",
    "--n_splits $N_SPLITS \\\n",
    "--output_dir $WORK_DIR"
   ]
  },
  {
   "cell_type": "markdown",
   "id": "86e0deed-41d6-4976-b81c-d2a40d809ba9",
   "metadata": {},
   "source": [
    "# Section 1 - Identifying candidate similar sequences\n",
    "\n",
    "The process of identifying candidate pairs of similar sequences involves first creating a BLAST database of the dataset, and then querying each sequence against the database. The BLASTn algorithm returns pairwise matches that represent potential cases of homology. \n",
    "\n",
    "Successful identification of cases of homology is paramount to effectively mitigate homology-based data leakage. As such, we configure the BLASTn parameters such that recall is maximized, even if it comes at the expense of increased false-positives. Here we consider the following parameters of BLASTn:\n",
    "\n",
    "* word_size: smaller word sizes results in more exact word matches found between the query and sequences in the database, leading to more alignment score calculations being initialized.\n",
    "* max_target_seqs: set to the size of the database to remove any constraints and allow for all possible candidate sequences to be returned for a given query.\n",
    "* evalue: the e-value statistic is a measure of how likely you observe the alignment by chance (lower value corresponds to less likely to observe). By increasing the e-value threshold, less stringent matches that could be due to chance are returned.\n",
    "* dust: by setting dust off, low-complexity (e.g., repetitive sequences) are no longer masked/filtered out."
   ]
  },
  {
   "cell_type": "code",
   "execution_count": 11,
   "id": "1fc29f5e-cba3-4433-b10b-2f7a3c871292",
   "metadata": {
    "execution": {
     "iopub.execute_input": "2024-12-31T20:29:04.921681Z",
     "iopub.status.busy": "2024-12-31T20:29:04.921443Z",
     "iopub.status.idle": "2024-12-31T20:29:07.221136Z",
     "shell.execute_reply": "2024-12-31T20:29:07.220595Z",
     "shell.execute_reply.started": "2024-12-31T20:29:04.921662Z"
    },
    "tags": []
   },
   "outputs": [
    {
     "name": "stdout",
     "output_type": "stream",
     "text": [
      "2025-01-01 05:29:07 - blastn_module - INFO - Calling module...\n",
      "2025-01-01 05:29:07 - blastn_module - INFO - One FASTA files detected. Computing pairwise BLAST comparisons for all sequence-pairs...\n",
      "2025-01-01 05:29:07 - blastn_module - INFO - Existing BLAST database found. Path: /home/brett/work/OrthogonalTrainValSplits/hashFrag/data/tutorial.create_orthogonal_splits.work/hashFrag.blastdb\n",
      "\tskipping `makeblastdb` call.\n",
      "2025-01-01 05:29:07 - blastn_module - INFO - Existing BLAST results file found. Path: /home/brett/work/OrthogonalTrainValSplits/hashFrag/data/tutorial.create_orthogonal_splits.work/hashFrag.blastn.out\n",
      "\tskipping `blastn` call.\n",
      "2025-01-01 05:29:07 - blastn_module - INFO - Module execution completed.\n",
      "\n"
     ]
    }
   ],
   "source": [
    "%%bash\n",
    "\n",
    "FASTA_PATH=/home/brett/work/OrthogonalTrainValSplits/hashFrag/data/example_full_dataset.fa.gz\n",
    "WORK_DIR=/home/brett/work/OrthogonalTrainValSplits/hashFrag/data/tutorial.create_orthogonal_splits.work\n",
    "\n",
    "WORD_SIZE=7\n",
    "MAX_TARGET_SEQS=10000 # size of dataset\n",
    "E_VALUE=100\n",
    "\n",
    "hashFrag blastn_module \\\n",
    "-f $FASTA_PATH \\\n",
    "-m $MAX_TARGET_SEQS \\\n",
    "-w $WORD_SIZE \\\n",
    "-e $E_VALUE \\\n",
    "--blastdb_label \"hashFrag\" \\\n",
    "-o $WORK_DIR"
   ]
  },
  {
   "cell_type": "markdown",
   "id": "62d63c8e-42ca-451d-acc0-0f4f336c5f12",
   "metadata": {},
   "source": [
    "# Section 2: Filter false-positives based on a defined threshold\n",
    "\n",
    "The next step involves filtering candidate pairings with alignment scores lower than the specified threshold. There are two different modes of hashFrag depending on what alignment score is selected.\n",
    "\n",
    "* `hashFrag-lightning` is the faster version where the alignment score computed from the BLAST output file. BLASTn is a heuristic method and the alignment scores were found to highly correlate with the optimal alignment scores; however, its underestimation of homology in some cases can lead to slightly worse recall. \n",
    "* `hashFrag-pure` is the slower but more comprehensive method that is based on the optimal, Smith-Waterman local alignment scores between pairs of sequences. The calculation of optimal alignment scores incurs an additional cost to filtering.\n",
    "\n",
    "An alignment score threshold of 60 was determined to be appropriate based on an analysis looking at alignment scores between dinucleotide shuffled (i.e., random) sequences."
   ]
  },
  {
   "cell_type": "markdown",
   "id": "e904fb3a-8107-4e46-a4d2-f64c55f2d703",
   "metadata": {},
   "source": [
    "## Section 2.1: Lightning mode (Default behaviour)"
   ]
  },
  {
   "cell_type": "code",
   "execution_count": 12,
   "id": "b48ccad1-aa5f-4546-96c1-eb1d2f92f8e2",
   "metadata": {
    "execution": {
     "iopub.execute_input": "2024-12-31T20:29:53.275983Z",
     "iopub.status.busy": "2024-12-31T20:29:53.275770Z",
     "iopub.status.idle": "2024-12-31T20:30:00.458341Z",
     "shell.execute_reply": "2024-12-31T20:30:00.457577Z",
     "shell.execute_reply.started": "2024-12-31T20:29:53.275964Z"
    },
    "tags": []
   },
   "outputs": [
    {
     "name": "stdout",
     "output_type": "stream",
     "text": [
      "2025-01-01 05:29:59 - filter_candidates_module - INFO - Calling module...\n",
      "2025-01-01 05:29:59 - filter_candidates_module - INFO - Filtering based on corrected BLAST alignment scores (lightning mode).\n",
      "2025-01-01 05:30:00 - filter_candidates_module - INFO - Filtered results written to: /home/brett/work/OrthogonalTrainValSplits/hashFrag/data/tutorial.create_orthogonal_splits.work/hashFrag_lightning.similar_pairs.tsv.gz\n",
      "2025-01-01 05:30:00 - filter_candidates_module - INFO - Module execution completed.\n",
      "\n"
     ]
    }
   ],
   "source": [
    "%%bash\n",
    "\n",
    "WORK_DIR=/home/brett/work/OrthogonalTrainValSplits/hashFrag/data/tutorial.create_orthogonal_splits.work\n",
    "INPUT_PATH=$WORK_DIR/hashFrag.blastn.out\n",
    "MODE=lightning\n",
    "THRESHOLD=60\n",
    "\n",
    "hashFrag filter_candidates_module -m $MODE -i $INPUT_PATH -t $THRESHOLD -o $WORK_DIR"
   ]
  },
  {
   "cell_type": "markdown",
   "id": "63de3a6b-cfb9-4dac-a41b-3e67e972f9fa",
   "metadata": {},
   "source": [
    "## Section 2.2: Pure mode (optional)\n",
    "\n",
    "To limit memory usage, we'll start by partitioning the blast output file based on size. "
   ]
  },
  {
   "cell_type": "code",
   "execution_count": 13,
   "id": "ed5859ff-f987-4657-9893-5eda20be19a8",
   "metadata": {
    "execution": {
     "iopub.execute_input": "2024-12-31T20:30:27.326439Z",
     "iopub.status.busy": "2024-12-31T20:30:27.326225Z",
     "iopub.status.idle": "2024-12-31T20:30:27.524037Z",
     "shell.execute_reply": "2024-12-31T20:30:27.523416Z",
     "shell.execute_reply.started": "2024-12-31T20:30:27.326420Z"
    },
    "tags": []
   },
   "outputs": [],
   "source": [
    "%%bash\n",
    "\n",
    "WORK_DIR=/home/brett/work/OrthogonalTrainValSplits/hashFrag/data/tutorial.create_orthogonal_splits.work\n",
    "BLAST_PATH=$WORK_DIR/hashFrag.blastn.out\n",
    "BLAST_DIR=$WORK_DIR/blast_partitions\n",
    "\n",
    "LABEL=$( basename -s \".out\" $BLAST_PATH )\n",
    "\n",
    "mkdir -p $BLAST_DIR\n",
    "cd $BLAST_DIR\n",
    "\n",
    "SPLIT_SIZE=100000\n",
    "\n",
    "split -l $SPLIT_SIZE -a 4 --additional-suffix=.tsv $BLAST_PATH ${LABEL}.partition_"
   ]
  },
  {
   "cell_type": "markdown",
   "id": "a53a5b0f-188c-46eb-88f5-992fe32a712a",
   "metadata": {},
   "source": [
    "This bash script execution will call a custom python script that computes pairwise Smith-Waterman local alignment scores for the candidate pairs of sequences identified by the BLASTn algorithm. Note that this could feasibly be replaced with any scoring metric of interest.\n",
    "\n",
    "The expected format output files consists of a tab-delimited file with 3 columns: the query sequence iD, the target seqeuence ID, and their alignment score:\n",
    "```\n",
    "seq1    seq2    100\n",
    "seq3    seq4    30\n",
    "seq5    seq6    65\n",
    "```"
   ]
  },
  {
   "cell_type": "code",
   "execution_count": 14,
   "id": "26e67396-e139-4544-868b-7b1eeea37b38",
   "metadata": {
    "execution": {
     "iopub.execute_input": "2024-12-31T20:30:32.177313Z",
     "iopub.status.busy": "2024-12-31T20:30:32.177113Z",
     "iopub.status.idle": "2024-12-31T20:36:00.190403Z",
     "shell.execute_reply": "2024-12-31T20:36:00.189733Z",
     "shell.execute_reply.started": "2024-12-31T20:30:32.177295Z"
    },
    "tags": []
   },
   "outputs": [
    {
     "name": "stdout",
     "output_type": "stream",
     "text": [
      "/home/brett/work/OrthogonalTrainValSplits/hashFrag/data/tutorial.create_orthogonal_splits.work/blast_partitions/hashFrag.blastn.partition_aaaa.tsv\n",
      "/home/brett/work/OrthogonalTrainValSplits/hashFrag/data/tutorial.create_orthogonal_splits.work/blast_partitions/hashFrag.blastn.partition_aaab.tsv\n",
      "/home/brett/work/OrthogonalTrainValSplits/hashFrag/data/tutorial.create_orthogonal_splits.work/blast_partitions/hashFrag.blastn.partition_aaac.tsv\n",
      "/home/brett/work/OrthogonalTrainValSplits/hashFrag/data/tutorial.create_orthogonal_splits.work/blast_partitions/hashFrag.blastn.partition_aaad.tsv\n",
      "/home/brett/work/OrthogonalTrainValSplits/hashFrag/data/tutorial.create_orthogonal_splits.work/blast_partitions/hashFrag.blastn.partition_aaae.tsv\n",
      "/home/brett/work/OrthogonalTrainValSplits/hashFrag/data/tutorial.create_orthogonal_splits.work/blast_partitions/hashFrag.blastn.partition_aaaf.tsv\n",
      "/home/brett/work/OrthogonalTrainValSplits/hashFrag/data/tutorial.create_orthogonal_splits.work/blast_partitions/hashFrag.blastn.partition_aaag.tsv\n",
      "/home/brett/work/OrthogonalTrainValSplits/hashFrag/data/tutorial.create_orthogonal_splits.work/blast_partitions/hashFrag.blastn.partition_aaah.tsv\n",
      "/home/brett/work/OrthogonalTrainValSplits/hashFrag/data/tutorial.create_orthogonal_splits.work/blast_partitions/hashFrag.blastn.partition_aaai.tsv\n"
     ]
    }
   ],
   "source": [
    "%%bash\n",
    "\n",
    "cd ../src/external\n",
    "\n",
    "FASTA_PATH=/home/brett/work/OrthogonalTrainValSplits/hashFrag/data/example_full_dataset.fa.gz\n",
    "WORK_DIR=/home/brett/work/OrthogonalTrainValSplits/hashFrag/data/tutorial.create_orthogonal_splits.work\n",
    "BLAST_DIR=$WORK_DIR/blast_partitions\n",
    "\n",
    "for PARTITIONED_BLAST_PATH in $BLAST_DIR/*.blastn.partition_*.tsv\n",
    "do\n",
    "    echo $PARTITIONED_BLAST_PATH\n",
    "    bash compute_blast_candidate_SW_scores.sh $FASTA_PATH $PARTITIONED_BLAST_PATH\n",
    "done"
   ]
  },
  {
   "cell_type": "markdown",
   "id": "b8bde38a-6f74-46f4-960c-9d2ab6aea8fb",
   "metadata": {},
   "source": [
    "The SW scores for candidate pairs of sequences can subsequently be concatenated into a single `.tsv` file."
   ]
  },
  {
   "cell_type": "code",
   "execution_count": 25,
   "id": "b019aebd-9fa0-43ca-b80b-d1150deabe90",
   "metadata": {
    "execution": {
     "iopub.execute_input": "2024-12-31T22:03:45.590504Z",
     "iopub.status.busy": "2024-12-31T22:03:45.581172Z",
     "iopub.status.idle": "2024-12-31T22:03:46.662379Z",
     "shell.execute_reply": "2024-12-31T22:03:46.661948Z",
     "shell.execute_reply.started": "2024-12-31T22:03:45.590481Z"
    },
    "tags": []
   },
   "outputs": [
    {
     "name": "stdout",
     "output_type": "stream",
     "text": [
      "BCL11A_1542\tRBM38_4242\t65.0\n",
      "BCL11A_1542\tpeak12103_Reversed\t15.0\n",
      "BCL11A_1542\tpeak70845\t16.0\n",
      "BCL11A_1542\tpeak47251\t16.0\n",
      "BCL11A_1542\tpeak17855\t14.0\n",
      "BCL11A_1542\tpeak25306_Reversed\t15.0\n",
      "BCL11A_1542\tpeak9935\t14.0\n",
      "BCL11A_1542\tpeak26903_Reversed\t16.0\n",
      "BCL11A_1542\tRBM38_1861\t15.0\n",
      "BCL11A_1542\tHBA2_5018\t16.0\n"
     ]
    }
   ],
   "source": [
    "%%bash\n",
    "\n",
    "WORK_DIR=/home/brett/work/OrthogonalTrainValSplits/hashFrag/data/tutorial.create_orthogonal_splits.work\n",
    "BLAST_DIR=$WORK_DIR/blast_partitions\n",
    "\n",
    "zcat $BLAST_DIR/*.pairwise_scores.tsv.gz | gzip > $WORK_DIR/hashFrag_pure.blastn_candidates.sw_scores.tsv.gz\n",
    "\n",
    "zcat $WORK_DIR/hashFrag_pure.blastn_candidates.sw_scores.tsv.gz | head -n 10"
   ]
  },
  {
   "cell_type": "markdown",
   "id": "8b623b03-e9b5-4bf3-ac49-89db8b95d63e",
   "metadata": {},
   "source": [
    "Rather than using the heuristic alignment scores provided by the BLASTn algorithm, we can filter false-positives based on SW alignment scores. Make sure to set the mode to `pure`."
   ]
  },
  {
   "cell_type": "code",
   "execution_count": 18,
   "id": "3c8e40c2-0972-4413-9201-37fbf60e124b",
   "metadata": {
    "execution": {
     "iopub.execute_input": "2024-12-31T20:37:10.896629Z",
     "iopub.status.busy": "2024-12-31T20:37:10.896443Z",
     "iopub.status.idle": "2024-12-31T20:37:12.201585Z",
     "shell.execute_reply": "2024-12-31T20:37:12.201103Z",
     "shell.execute_reply.started": "2024-12-31T20:37:10.896610Z"
    },
    "tags": []
   },
   "outputs": [
    {
     "name": "stdout",
     "output_type": "stream",
     "text": [
      "2025-01-01 05:37:11 - filter_candidates_module - INFO - Calling module...\n",
      "2025-01-01 05:37:11 - filter_candidates_module - INFO - Filtering based on precomputed alignment scores (pure mode).\n",
      "2025-01-01 05:37:12 - filter_candidates_module - INFO - Filtered results written to: /home/brett/work/OrthogonalTrainValSplits/hashFrag/data/tutorial.create_orthogonal_splits.work/hashFrag_pure.similar_pairs.tsv.gz\n",
      "2025-01-01 05:37:12 - filter_candidates_module - INFO - Module execution completed.\n",
      "\n"
     ]
    }
   ],
   "source": [
    "%%bash\n",
    "\n",
    "WORK_DIR=/home/brett/work/OrthogonalTrainValSplits/hashFrag/data/tutorial.create_orthogonal_splits.work\n",
    "INPUT_PATH=$WORK_DIR/hashFrag_pure.blastn_candidates.sw_scores.tsv.gz\n",
    "MODE=pure\n",
    "THRESHOLD=60\n",
    "\n",
    "hashFrag filter_candidates_module -m $MODE -i $INPUT_PATH -t $THRESHOLD -o $WORK_DIR"
   ]
  },
  {
   "cell_type": "markdown",
   "id": "d9c75343-485f-441c-9576-e4c61b82ccb0",
   "metadata": {},
   "source": [
    "# Section 3: Determine groups of homology\n",
    "\n",
    "There are often distinct groups of sequences exhibiting different cases of homology throughout the dataset. To determine such groups, we represent the \"hits\" (i.e., pairs of sequences with an alignment score greater than the threshold) as a sparse adjacency matrix. A graph can then be constructed, where nodes correspond to sequences and edges denote shared homology between the two sequences. The process of identifying groups of homology can readily be solved by identifying disconnected subgraphs. \n",
    "\n",
    "An efficient implementation for this graph-based task is provided in the `igraph` Python library."
   ]
  },
  {
   "cell_type": "markdown",
   "id": "ce5aff80-d28b-4382-9701-5f2526f1079e",
   "metadata": {},
   "source": [
    "## Section 3.1: `lightning`-filtered homologous pairs (Default behaviour)"
   ]
  },
  {
   "cell_type": "code",
   "execution_count": 19,
   "id": "1990b87e-d476-44fc-9db6-e2c17b38a1a5",
   "metadata": {
    "execution": {
     "iopub.execute_input": "2024-12-31T20:37:43.506855Z",
     "iopub.status.busy": "2024-12-31T20:37:43.506632Z",
     "iopub.status.idle": "2024-12-31T20:37:56.022107Z",
     "shell.execute_reply": "2024-12-31T20:37:56.021657Z",
     "shell.execute_reply.started": "2024-12-31T20:37:43.506836Z"
    },
    "tags": []
   },
   "outputs": [
    {
     "name": "stdout",
     "output_type": "stream",
     "text": [
      "2025-01-01 05:37:55 - identify_homologous_groups_module - INFO - Calling module...\n",
      "2025-01-01 05:37:55 - identify_homologous_groups_module - INFO - 1114 sequences exhibiting homology.\n",
      "2025-01-01 05:37:55 - identify_homologous_groups_module - INFO - 90 distinct groups.\n",
      "2025-01-01 05:37:55 - identify_homologous_groups_module - INFO - Homologous groups written to: /home/brett/work/OrthogonalTrainValSplits/hashFrag/data/tutorial.create_orthogonal_splits.work/homologous_groups.lightning.csv\n",
      "2025-01-01 05:37:55 - identify_homologous_groups_module - INFO - Module execution completed.\n",
      "\n"
     ]
    }
   ],
   "source": [
    "%%bash\n",
    "\n",
    "WORK_DIR=/home/brett/work/OrthogonalTrainValSplits/hashFrag/data/tutorial.create_orthogonal_splits.work\n",
    "HITS_PATH=$WORK_DIR/hashFrag_lightning.similar_pairs.tsv.gz\n",
    "OUTPUT_PATH=$WORK_DIR/homologous_groups.lightning.csv\n",
    "\n",
    "hashFrag identify_homologous_groups_module -i $HITS_PATH -o $OUTPUT_PATH"
   ]
  },
  {
   "cell_type": "markdown",
   "id": "c716c81f-6b1e-41f9-8e6f-0ac74a651f55",
   "metadata": {},
   "source": [
    "## Section 3.2: `pure`-filtered homologous pairs"
   ]
  },
  {
   "cell_type": "code",
   "execution_count": 20,
   "id": "a6f54fd6-7039-4304-95eb-2bf5974bef81",
   "metadata": {
    "execution": {
     "iopub.execute_input": "2024-12-31T20:38:27.759378Z",
     "iopub.status.busy": "2024-12-31T20:38:27.759161Z",
     "iopub.status.idle": "2024-12-31T20:38:29.142282Z",
     "shell.execute_reply": "2024-12-31T20:38:29.141817Z",
     "shell.execute_reply.started": "2024-12-31T20:38:27.759359Z"
    },
    "tags": []
   },
   "outputs": [
    {
     "name": "stdout",
     "output_type": "stream",
     "text": [
      "2025-01-01 05:38:28 - identify_homologous_groups_module - INFO - Calling module...\n",
      "2025-01-01 05:38:28 - identify_homologous_groups_module - INFO - 1138 sequences exhibiting homology.\n",
      "2025-01-01 05:38:29 - identify_homologous_groups_module - INFO - 92 distinct groups.\n",
      "2025-01-01 05:38:29 - identify_homologous_groups_module - INFO - Homologous groups written to: /home/brett/work/OrthogonalTrainValSplits/hashFrag/data/tutorial.create_orthogonal_splits.work/homologous_groups.pure.csv\n",
      "2025-01-01 05:38:29 - identify_homologous_groups_module - INFO - Module execution completed.\n",
      "\n"
     ]
    }
   ],
   "source": [
    "%%bash\n",
    "\n",
    "WORK_DIR=/home/brett/work/OrthogonalTrainValSplits/hashFrag/data/tutorial.create_orthogonal_splits.work\n",
    "HITS_PATH=$WORK_DIR/hashFrag_pure.similar_pairs.tsv.gz\n",
    "OUTPUT_PATH=$WORK_DIR/homologous_groups.pure.csv\n",
    "\n",
    "hashFrag identify_homologous_groups_module -i $HITS_PATH -o $OUTPUT_PATH"
   ]
  },
  {
   "cell_type": "markdown",
   "id": "f5565f51-e041-490a-a639-519dff059526",
   "metadata": {},
   "source": [
    "# Section 4: Use case(s)\n",
    "\n",
    "Upon identifying groups of sequences exhibiting high similarity (i.e., homology), we can create train-test data splits using a graph-based method. Specifically, by representing sequences as nodes and using edges to denote whether sequences were found to be homologous (yes or no), identifying homologous groups of sequences can be reduced to the task of identifying all disconnected subgraphs in the population. \n",
    "\n",
    "## Creating homology-aware data splits\n",
    "\n",
    "Below we show how splits can be created based on the homologous groups identified from either the `hashFrag-lightning` or `hashFrag-pure` methods."
   ]
  },
  {
   "cell_type": "code",
   "execution_count": 21,
   "id": "ebbc568a-ae85-4df6-a990-0b52f05e6866",
   "metadata": {
    "execution": {
     "iopub.execute_input": "2024-12-31T20:39:07.359512Z",
     "iopub.status.busy": "2024-12-31T20:39:07.359291Z",
     "iopub.status.idle": "2024-12-31T20:39:10.463717Z",
     "shell.execute_reply": "2024-12-31T20:39:10.463286Z",
     "shell.execute_reply.started": "2024-12-31T20:39:07.359488Z"
    },
    "tags": []
   },
   "outputs": [
    {
     "name": "stdout",
     "output_type": "stream",
     "text": [
      "2025-01-01 05:39:07 - create_orthogonal_splits_module - INFO - Calling module...\n",
      "2025-01-01 05:39:07 - create_orthogonal_splits_module - INFO - Creating 10 orthogonal splits in directory: /home/brett/work/OrthogonalTrainValSplits/hashFrag/data/tutorial.create_orthogonal_splits.work\n",
      "2025-01-01 05:39:10 - create_orthogonal_splits_module - INFO - Module execution completed.\n",
      "\n"
     ]
    }
   ],
   "source": [
    "%%bash\n",
    "\n",
    "FASTA_PATH=/home/brett/work/OrthogonalTrainValSplits/hashFrag/data/example_full_dataset.fa.gz\n",
    "WORK_DIR=/home/brett/work/OrthogonalTrainValSplits/hashFrag/data/tutorial.create_orthogonal_splits.work\n",
    "HOMOLOGY_PATH=$WORK_DIR/homologous_groups.lightning.csv # lightning mode (Default behavior)\n",
    "OUT_DIR=$WORK_DIR\n",
    "\n",
    "hashFrag create_orthogonal_splits_module -f $FASTA_PATH -i $HOMOLOGY_PATH -n 10 -o $OUT_DIR"
   ]
  },
  {
   "cell_type": "code",
   "execution_count": 22,
   "id": "d8b8f59f-0c8b-4118-a4b9-1e4962996887",
   "metadata": {
    "execution": {
     "iopub.execute_input": "2024-12-31T20:39:14.906924Z",
     "iopub.status.busy": "2024-12-31T20:39:14.906700Z",
     "iopub.status.idle": "2024-12-31T20:39:17.884312Z",
     "shell.execute_reply": "2024-12-31T20:39:17.883893Z",
     "shell.execute_reply.started": "2024-12-31T20:39:14.906901Z"
    },
    "tags": []
   },
   "outputs": [
    {
     "name": "stdout",
     "output_type": "stream",
     "text": [
      "2025-01-01 05:39:15 - create_orthogonal_splits_module - INFO - Calling module...\n",
      "2025-01-01 05:39:15 - create_orthogonal_splits_module - INFO - Creating 10 orthogonal splits in directory: /home/brett/work/OrthogonalTrainValSplits/hashFrag/data/tutorial.create_orthogonal_splits.work\n",
      "2025-01-01 05:39:17 - create_orthogonal_splits_module - INFO - Module execution completed.\n",
      "\n"
     ]
    }
   ],
   "source": [
    "%%bash\n",
    "\n",
    "FASTA_PATH=/home/brett/work/OrthogonalTrainValSplits/hashFrag/data/example_full_dataset.fa.gz\n",
    "WORK_DIR=/home/brett/work/OrthogonalTrainValSplits/hashFrag/data/tutorial.create_orthogonal_splits.work\n",
    "HOMOLOGY_PATH=$WORK_DIR/homologous_groups.pure.csv # pure mode\n",
    "OUT_DIR=$WORK_DIR\n",
    "\n",
    "hashFrag create_orthogonal_splits_module -f $FASTA_PATH -i $HOMOLOGY_PATH -n 10 -o $OUT_DIR"
   ]
  }
 ],
 "metadata": {
  "kernelspec": {
   "display_name": "Python 3 (ipykernel)",
   "language": "python",
   "name": "python3"
  },
  "language_info": {
   "codemirror_mode": {
    "name": "ipython",
    "version": 3
   },
   "file_extension": ".py",
   "mimetype": "text/x-python",
   "name": "python",
   "nbconvert_exporter": "python",
   "pygments_lexer": "ipython3",
   "version": "3.9.15"
  }
 },
 "nbformat": 4,
 "nbformat_minor": 5
}

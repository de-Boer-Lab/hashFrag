{
 "cells": [
  {
   "cell_type": "code",
   "execution_count": 1,
   "id": "e7bb08a6-c8da-4175-90d6-53fadc7afa74",
   "metadata": {
    "execution": {
     "iopub.execute_input": "2024-12-20T20:15:33.215225Z",
     "iopub.status.busy": "2024-12-20T20:15:33.196517Z",
     "iopub.status.idle": "2024-12-20T20:15:33.375784Z",
     "shell.execute_reply": "2024-12-20T20:15:33.375128Z",
     "shell.execute_reply.started": "2024-12-20T20:15:33.215192Z"
    },
    "tags": []
   },
   "outputs": [],
   "source": [
    "import os\n",
    "from pathlib import Path"
   ]
  },
  {
   "cell_type": "code",
   "execution_count": 5,
   "id": "fc719fe2-f848-431e-9b17-31479969a4d1",
   "metadata": {
    "execution": {
     "iopub.execute_input": "2024-12-19T07:25:38.854451Z",
     "iopub.status.busy": "2024-12-19T07:25:38.854078Z",
     "iopub.status.idle": "2024-12-19T07:25:39.046818Z",
     "shell.execute_reply": "2024-12-19T07:25:39.046064Z",
     "shell.execute_reply.started": "2024-12-19T07:25:38.854432Z"
    },
    "tags": []
   },
   "outputs": [],
   "source": [
    "!export PATH=$PATH:/home/brett/work/OrthogonalTrainValSplits/hashFrag/src"
   ]
  },
  {
   "cell_type": "code",
   "execution_count": 1,
   "id": "60c5272d-1889-41ca-b3fb-60614d5f83c8",
   "metadata": {
    "execution": {
     "iopub.execute_input": "2024-12-19T07:29:13.491757Z",
     "iopub.status.busy": "2024-12-19T07:29:13.491415Z",
     "iopub.status.idle": "2024-12-19T07:29:48.643211Z",
     "shell.execute_reply": "2024-12-19T07:29:48.642587Z",
     "shell.execute_reply.started": "2024-12-19T07:29:13.491738Z"
    },
    "tags": []
   },
   "outputs": [
    {
     "name": "stdout",
     "output_type": "stream",
     "text": [
      "usage: hashFrag [-h]\n",
      "                {blastn,filter_false_positives,identify_homologous_groups,create_orthogonal_splits}\n",
      "                ...\n",
      "\n",
      "positional arguments:\n",
      "  {blastn,filter_false_positives,identify_homologous_groups,create_orthogonal_splits}\n",
      "\n",
      "optional arguments:\n",
      "  -h, --help            show this help message and exit\n"
     ]
    }
   ],
   "source": [
    "%%bash\n",
    "\n",
    "hashFrag"
   ]
  },
  {
   "cell_type": "markdown",
   "id": "8381d6c3-0050-401e-87b1-c5b2eb76cc78",
   "metadata": {},
   "source": [
    "# Introduction\n",
    "\n",
    "> This notebook refers to the case when users have a nucleotide sequence dataset and are interested in creating homology-aware train-test data splits for sequence-to-expression models.\n",
    "\n",
    "The basic workflow is provided with respect a subsampled MPRA dataset (K562): a 10,000-sequence FASTA file (provided in the `data` directory).\n",
    "\n",
    "hashFrag is a command line tool. This notebook serves as a resource to provide example calls and explanations to each step in the process.\n"
   ]
  },
  {
   "cell_type": "markdown",
   "id": "68f3bd7e-e67b-4236-aa5b-0c51c3344d8b",
   "metadata": {
    "execution": {
     "iopub.execute_input": "2024-12-09T04:30:02.468472Z",
     "iopub.status.busy": "2024-12-09T04:30:02.468181Z",
     "iopub.status.idle": "2024-12-09T04:30:02.472211Z",
     "shell.execute_reply": "2024-12-09T04:30:02.471603Z",
     "shell.execute_reply.started": "2024-12-09T04:30:02.468450Z"
    },
    "tags": []
   },
   "source": [
    "# Section 0: Setup"
   ]
  },
  {
   "cell_type": "code",
   "execution_count": 72,
   "id": "82b029ef-ccdd-418e-86dd-0a99721c68a9",
   "metadata": {
    "execution": {
     "iopub.execute_input": "2024-12-20T08:12:47.979804Z",
     "iopub.status.busy": "2024-12-20T08:12:47.977276Z",
     "iopub.status.idle": "2024-12-20T08:12:48.008829Z",
     "shell.execute_reply": "2024-12-20T08:12:48.008240Z",
     "shell.execute_reply.started": "2024-12-20T08:12:47.979772Z"
    },
    "tags": []
   },
   "outputs": [
    {
     "name": "stdout",
     "output_type": "stream",
     "text": [
      "/home/brett/work/OrthogonalTrainValSplits/hashFrag/data/K562.sample_10000.hashFrag.create_splits.work\n"
     ]
    }
   ],
   "source": [
    "data_dir   = \"/home/brett/work/OrthogonalTrainValSplits/hashFrag/data\"\n",
    "fasta_path = os.path.join(data_dir,\"K562.sample_10000.fa.gz\")\n",
    "label      = os.path.basename(fasta_path).replace(\".fa.gz\",\"\")\n",
    "score_path = os.path.join(data_dir,f\"{label}.pairwise_scores.csv.gz\")\n",
    "work_dir   = os.path.join(data_dir,f\"{label}.hashFrag.create_splits.work\")\n",
    "Path(work_dir).mkdir(parents=True,exist_ok=True)\n",
    "print(work_dir)\n",
    "\n",
    "blast_dir = os.path.join(work_dir,\"blast_partitions\")\n",
    "Path(blast_dir).mkdir(parents=True,exist_ok=True)"
   ]
  },
  {
   "cell_type": "markdown",
   "id": "8ba4efbc-3011-4957-b39e-32c3987662fc",
   "metadata": {},
   "source": [
    "# tl;dr"
   ]
  },
  {
   "cell_type": "code",
   "execution_count": 4,
   "id": "ddf192f9-3448-4ec9-a0da-2faeb526467f",
   "metadata": {
    "execution": {
     "iopub.execute_input": "2024-12-27T21:23:49.175056Z",
     "iopub.status.busy": "2024-12-27T21:23:49.174796Z",
     "iopub.status.idle": "2024-12-27T21:31:19.043453Z",
     "shell.execute_reply": "2024-12-27T21:31:19.042695Z",
     "shell.execute_reply.started": "2024-12-27T21:23:49.175031Z"
    },
    "tags": []
   },
   "outputs": [
    {
     "name": "stdout",
     "output_type": "stream",
     "text": [
      "Running blastn...\n",
      "FASTA file containing all sequences detected.\n",
      "Computing all pairwise BLAST comparisons.\n",
      "Existing BLAST DataBase found (/home/brett/work/OrthogonalTrainValSplits/hashFrag/data/K562.sample_10000.hashFrag.create_splits2.work/hashFrag_lightning.blastdb). Skipping makeblastdb call.\n",
      "\n",
      "BLASTn process finished and written to: /home/brett/work/OrthogonalTrainValSplits/hashFrag/data/K562.sample_10000.hashFrag.create_splits2.work/hashFrag_lightning.blastn.out\n",
      "Running filter_false_positives...\n",
      "Filtered results written to: /home/brett/work/OrthogonalTrainValSplits/hashFrag/data/K562.sample_10000.hashFrag.create_splits2.work/hashFrag_lightning.similar_pairs.tsv.gz\n",
      "Running identify_homologous_groups...\n",
      "1114 sequences exhibiting homology.\n",
      "90 homologous groups identified.\n",
      "Homologous groups written to file: /home/brett/work/OrthogonalTrainValSplits/hashFrag/data/K562.sample_10000.hashFrag.create_splits2.work/hashFrag_lightning.homologous_groups.tsv\n",
      "Running create_orthogonal_splits...\n",
      "Writing splits...\n",
      "  /home/brett/work/OrthogonalTrainValSplits/hashFrag/data/K562.sample_10000.hashFrag.create_splits2.work/hashFrag.train_8000.test_2000.split_001.csv.gz\n",
      "  /home/brett/work/OrthogonalTrainValSplits/hashFrag/data/K562.sample_10000.hashFrag.create_splits2.work/hashFrag.train_8000.test_2000.split_002.csv.gz\n",
      "  /home/brett/work/OrthogonalTrainValSplits/hashFrag/data/K562.sample_10000.hashFrag.create_splits2.work/hashFrag.train_8000.test_2000.split_003.csv.gz\n",
      "  /home/brett/work/OrthogonalTrainValSplits/hashFrag/data/K562.sample_10000.hashFrag.create_splits2.work/hashFrag.train_8000.test_2000.split_004.csv.gz\n",
      "  /home/brett/work/OrthogonalTrainValSplits/hashFrag/data/K562.sample_10000.hashFrag.create_splits2.work/hashFrag.train_8000.test_2000.split_005.csv.gz\n",
      "  /home/brett/work/OrthogonalTrainValSplits/hashFrag/data/K562.sample_10000.hashFrag.create_splits2.work/hashFrag.train_8000.test_2000.split_006.csv.gz\n",
      "  /home/brett/work/OrthogonalTrainValSplits/hashFrag/data/K562.sample_10000.hashFrag.create_splits2.work/hashFrag.train_8000.test_2000.split_007.csv.gz\n",
      "  /home/brett/work/OrthogonalTrainValSplits/hashFrag/data/K562.sample_10000.hashFrag.create_splits2.work/hashFrag.train_8000.test_2000.split_008.csv.gz\n",
      "  /home/brett/work/OrthogonalTrainValSplits/hashFrag/data/K562.sample_10000.hashFrag.create_splits2.work/hashFrag.train_8000.test_2000.split_009.csv.gz\n",
      "  /home/brett/work/OrthogonalTrainValSplits/hashFrag/data/K562.sample_10000.hashFrag.create_splits2.work/hashFrag.train_8000.test_2000.split_010.csv.gz\n",
      "Master command completed successfully.\n"
     ]
    }
   ],
   "source": [
    "%%bash\n",
    "\n",
    "FASTA_PATH=/home/brett/work/OrthogonalTrainValSplits/hashFrag/data/K562.sample_10000.fa.gz\n",
    "WORK_DIR=/home/brett/work/OrthogonalTrainValSplits/hashFrag/data/K562.sample_10000.hashFrag.create_splits2.work\n",
    "\n",
    "WORD_SIZE=7\n",
    "MAX_TARGET_SEQS=8000 # size of train dataset\n",
    "E_VALUE=100\n",
    "DUST=no\n",
    "THRESHOLD=60\n",
    "SEED=21\n",
    "P_TRAIN=0.8\n",
    "P_TEST=0.2\n",
    "N_SPLITS=10\n",
    "\n",
    "hashFrag create_orthogonal_splits_pipeline \\\n",
    "--fasta_path $FASTA_PATH \\\n",
    "--word_size $WORD_SIZE \\\n",
    "--max_target_seqs $MAX_TARGET_SEQS \\\n",
    "--e_value $E_VALUE \\\n",
    "--dust $DUST \\\n",
    "--threshold $THRESHOLD \\\n",
    "--seed $SEED \\\n",
    "--p_train $P_TRAIN \\\n",
    "--p_test $P_TEST \\\n",
    "--n_splits $N_SPLITS \\\n",
    "--output_dir $WORK_DIR"
   ]
  },
  {
   "cell_type": "markdown",
   "id": "86e0deed-41d6-4976-b81c-d2a40d809ba9",
   "metadata": {},
   "source": [
    "# Section 1 - Identifying candidate similar sequences\n",
    "\n",
    "The process of identifying candidate pairs of similar sequences involves first creating a BLAST database of the dataset, and then querying each sequence against the database. The BLASTn algorithm returns pairwise matches that represent potential cases of homology. \n",
    "\n",
    "Successful identification of cases of homology is paramount to effectively mitigate homology-based data leakage. As such, we configure the BLASTn parameters such that recall is maximized, even if it comes at the expense of increased false-positives. Here we consider the following parameters of BLASTn:\n",
    "\n",
    "* word_size: smaller word sizes results in more exact word matches found between the query and sequences in the database, leading to more alignment score calculations being initialized.\n",
    "* max_target_seqs: set to the size of the database to remove any constraints and allow for all possible candidate sequences to be returned for a given query.\n",
    "* evalue: the e-value statistic is a measure of how likely you observe the alignment by chance (lower value corresponds to less likely to observe). By increasing the e-value threshold, less stringent matches that could be due to chance are returned.\n",
    "* dust: by setting dust off, low-complexity (e.g., repetitive sequences) are no longer masked/filtered out."
   ]
  },
  {
   "cell_type": "code",
   "execution_count": 73,
   "id": "1fc29f5e-cba3-4433-b10b-2f7a3c871292",
   "metadata": {
    "execution": {
     "iopub.execute_input": "2024-12-20T08:13:22.100896Z",
     "iopub.status.busy": "2024-12-20T08:13:22.100651Z",
     "iopub.status.idle": "2024-12-20T08:23:32.458355Z",
     "shell.execute_reply": "2024-12-20T08:23:32.457545Z",
     "shell.execute_reply.started": "2024-12-20T08:13:22.100878Z"
    },
    "tags": []
   },
   "outputs": [
    {
     "name": "stdout",
     "output_type": "stream",
     "text": [
      "FASTA file containing all sequences detected.\n",
      "Computing all pairwise BLAST comparisons.\n",
      "\n",
      "\n",
      "Building a new DB, current time: 12/20/2024 17:15:18\n",
      "New DB name:   /home/brett/work/OrthogonalTrainValSplits/hashFrag/data/K562.sample_10000.hashFrag.create_splits.work/K562.sample_10000.blastdb\n",
      "New DB title:  K562.sample_10000\n",
      "Sequence type: Nucleotide\n",
      "Keep MBits: T\n",
      "Maximum file size: 1000000000B\n",
      "Adding sequences from FASTA; added 10000 sequences in 0.666264 seconds.\n",
      "\n",
      "\n",
      "\n",
      "BLAST DataBase construction finished and written to: /home/brett/work/OrthogonalTrainValSplits/hashFrag/data/K562.sample_10000.hashFrag.create_splits.work/K562.sample_10000.blastdb\n",
      "\n",
      "BLASTn process finished and written to: /home/brett/work/OrthogonalTrainValSplits/hashFrag/data/K562.sample_10000.hashFrag.create_splits.work/K562.sample_10000.blastn.out\n"
     ]
    }
   ],
   "source": [
    "%%bash\n",
    "\n",
    "FASTA_PATH=/home/brett/work/OrthogonalTrainValSplits/hashFrag/data/K562.sample_10000.fa.gz\n",
    "WORK_DIR=/home/brett/work/OrthogonalTrainValSplits/hashFrag/data/K562.sample_10000.hashFrag.create_splits.work\n",
    "\n",
    "WORD_SIZE=7\n",
    "MAX_TARGET_SEQS=10000 # size of dataset\n",
    "E_VALUE=100\n",
    "DUST=no\n",
    "\n",
    "hashFrag blastn -f $FASTA_PATH -w $WORD_SIZE -e $E_VALUE -d $DUST -o $WORK_DIR"
   ]
  },
  {
   "cell_type": "markdown",
   "id": "62d63c8e-42ca-451d-acc0-0f4f336c5f12",
   "metadata": {},
   "source": [
    "# Section 2: Filter false-positives based on a defined threshold\n",
    "\n",
    "The next step involves filtering candidate pairings with alignment scores lower than the specified threshold. There are two different modes of hashFrag depending on what alignment score is selected.\n",
    "\n",
    "* `hashFrag-lightning` is the faster version where the alignment score computed from the BLAST output file. BLASTn is a heuristic method and the alignment scores were found to highly correlate with the optimal alignment scores; however, its underestimation of homology in some cases can lead to slightly worse recall. \n",
    "* `hashFrag-pure` is the slower but more comprehensive method that is based on the optimal, Smith-Waterman local alignment scores between pairs of sequences. The calculation of optimal alignment scores incurs an additional cost to filtering.\n",
    "\n",
    "An alignment score threshold of 60 was determined to be appropriate based on an analysis looking at alignment scores between dinucleotide shuffled (i.e., random) sequences."
   ]
  },
  {
   "cell_type": "markdown",
   "id": "e904fb3a-8107-4e46-a4d2-f64c55f2d703",
   "metadata": {},
   "source": [
    "## Section 2.1: Lightning mode"
   ]
  },
  {
   "cell_type": "code",
   "execution_count": 75,
   "id": "b48ccad1-aa5f-4546-96c1-eb1d2f92f8e2",
   "metadata": {
    "execution": {
     "iopub.execute_input": "2024-12-20T08:29:02.378239Z",
     "iopub.status.busy": "2024-12-20T08:29:02.377940Z",
     "iopub.status.idle": "2024-12-20T08:29:05.960723Z",
     "shell.execute_reply": "2024-12-20T08:29:05.959967Z",
     "shell.execute_reply.started": "2024-12-20T08:29:02.378217Z"
    },
    "tags": []
   },
   "outputs": [
    {
     "name": "stdout",
     "output_type": "stream",
     "text": [
      "Filtered results written to: /home/brett/work/OrthogonalTrainValSplits/hashFrag/data/K562.sample_10000.hashFrag.create_splits.work/hashFrag_lightning.similar_pairs.tsv.gz\n"
     ]
    }
   ],
   "source": [
    "%%bash\n",
    "\n",
    "WORK_DIR=/home/brett/work/OrthogonalTrainValSplits/hashFrag/data/K562.sample_10000.hashFrag.create_splits.work\n",
    "INPUT_PATH=$WORK_DIR/K562.sample_10000.blastn.out\n",
    "MODE=lightning\n",
    "THRESHOLD=60\n",
    "\n",
    "hashFrag filter_false_positives -m $MODE -i $INPUT_PATH -t $THRESHOLD -o $WORK_DIR"
   ]
  },
  {
   "cell_type": "markdown",
   "id": "63de3a6b-cfb9-4dac-a41b-3e67e972f9fa",
   "metadata": {},
   "source": [
    "## Section 2.2: Pure mode (optional)\n",
    "\n",
    "To limit memory usage, we'll start by partitioning the blast output file based on size. "
   ]
  },
  {
   "cell_type": "code",
   "execution_count": 2,
   "id": "ed5859ff-f987-4657-9893-5eda20be19a8",
   "metadata": {
    "execution": {
     "iopub.execute_input": "2024-12-20T20:15:54.073212Z",
     "iopub.status.busy": "2024-12-20T20:15:54.072959Z",
     "iopub.status.idle": "2024-12-20T20:15:54.848018Z",
     "shell.execute_reply": "2024-12-20T20:15:54.847316Z",
     "shell.execute_reply.started": "2024-12-20T20:15:54.073192Z"
    },
    "tags": []
   },
   "outputs": [],
   "source": [
    "%%bash\n",
    "\n",
    "WORK_DIR=/home/brett/work/OrthogonalTrainValSplits/hashFrag/data/K562.sample_10000.hashFrag.create_splits.work\n",
    "BLAST_PATH=$WORK_DIR/K562.sample_10000.blastn.out\n",
    "BLAST_DIR=$WORK_DIR/blast_partitions\n",
    "\n",
    "LABEL=$( basename -s \".out\" $BLAST_PATH )\n",
    "\n",
    "mkdir -p $BLAST_DIR\n",
    "cd $BLAST_DIR\n",
    "\n",
    "SPLIT_SIZE=100000\n",
    "\n",
    "split -l $SPLIT_SIZE -a 4 --additional-suffix=.tsv $BLAST_PATH ${LABEL}.partition_"
   ]
  },
  {
   "cell_type": "markdown",
   "id": "a53a5b0f-188c-46eb-88f5-992fe32a712a",
   "metadata": {},
   "source": [
    "This bash script execution will call a custom python script that computes pairwise Smith-Waterman local alignment scores for the candidate pairs of sequences identified by the BLASTn algorithm. Note that this could feasibly be replaced with any scoring metric of interest.\n",
    "\n",
    "The expected format output files consists of a tab-delimited file with 3 columns: the query sequence iD, the target seqeuence ID, and their alignment score:\n",
    "```\n",
    "seq1    seq2    100\n",
    "seq3    seq4    30\n",
    "seq5    seq6    65\n",
    "```"
   ]
  },
  {
   "cell_type": "code",
   "execution_count": 9,
   "id": "26e67396-e139-4544-868b-7b1eeea37b38",
   "metadata": {
    "execution": {
     "iopub.execute_input": "2024-12-20T20:18:15.970783Z",
     "iopub.status.busy": "2024-12-20T20:18:15.970509Z",
     "iopub.status.idle": "2024-12-20T20:24:38.579515Z",
     "shell.execute_reply": "2024-12-20T20:24:38.578791Z",
     "shell.execute_reply.started": "2024-12-20T20:18:15.970758Z"
    },
    "tags": []
   },
   "outputs": [
    {
     "name": "stdout",
     "output_type": "stream",
     "text": [
      "/home/brett/work/OrthogonalTrainValSplits/hashFrag/data/K562.sample_10000.hashFrag.create_splits.work/blast_partitions/K562.sample_10000.blastn.partition_aaaa.tsv\n",
      "/home/brett/work/OrthogonalTrainValSplits/hashFrag/data/K562.sample_10000.hashFrag.create_splits.work/blast_partitions/K562.sample_10000.blastn.partition_aaab.tsv\n",
      "/home/brett/work/OrthogonalTrainValSplits/hashFrag/data/K562.sample_10000.hashFrag.create_splits.work/blast_partitions/K562.sample_10000.blastn.partition_aaac.tsv\n",
      "/home/brett/work/OrthogonalTrainValSplits/hashFrag/data/K562.sample_10000.hashFrag.create_splits.work/blast_partitions/K562.sample_10000.blastn.partition_aaad.tsv\n",
      "/home/brett/work/OrthogonalTrainValSplits/hashFrag/data/K562.sample_10000.hashFrag.create_splits.work/blast_partitions/K562.sample_10000.blastn.partition_aaae.tsv\n",
      "/home/brett/work/OrthogonalTrainValSplits/hashFrag/data/K562.sample_10000.hashFrag.create_splits.work/blast_partitions/K562.sample_10000.blastn.partition_aaaf.tsv\n",
      "/home/brett/work/OrthogonalTrainValSplits/hashFrag/data/K562.sample_10000.hashFrag.create_splits.work/blast_partitions/K562.sample_10000.blastn.partition_aaag.tsv\n",
      "/home/brett/work/OrthogonalTrainValSplits/hashFrag/data/K562.sample_10000.hashFrag.create_splits.work/blast_partitions/K562.sample_10000.blastn.partition_aaah.tsv\n",
      "/home/brett/work/OrthogonalTrainValSplits/hashFrag/data/K562.sample_10000.hashFrag.create_splits.work/blast_partitions/K562.sample_10000.blastn.partition_aaai.tsv\n"
     ]
    }
   ],
   "source": [
    "%%bash\n",
    "\n",
    "cd ../src/external\n",
    "\n",
    "FASTA_PATH=/home/brett/work/OrthogonalTrainValSplits/hashFrag/data/K562.sample_10000.fa.gz\n",
    "WORK_DIR=/home/brett/work/OrthogonalTrainValSplits/hashFrag/data/K562.sample_10000.hashFrag.create_splits.work\n",
    "BLAST_DIR=$WORK_DIR/blast_partitions\n",
    "\n",
    "for PARTITIONED_BLAST_PATH in $BLAST_DIR/*.blastn.partition_*.tsv\n",
    "do\n",
    "    echo $PARTITIONED_BLAST_PATH\n",
    "    bash compute_blast_candidate_SW_scores.sh $FASTA_PATH $PARTITIONED_BLAST_PATH\n",
    "done"
   ]
  },
  {
   "cell_type": "markdown",
   "id": "b8bde38a-6f74-46f4-960c-9d2ab6aea8fb",
   "metadata": {},
   "source": [
    "The SW scores for candidate pairs of sequences can subsequently be concatenated into a single `.tsv` file."
   ]
  },
  {
   "cell_type": "code",
   "execution_count": 10,
   "id": "b019aebd-9fa0-43ca-b80b-d1150deabe90",
   "metadata": {
    "execution": {
     "iopub.execute_input": "2024-12-20T20:24:38.580895Z",
     "iopub.status.busy": "2024-12-20T20:24:38.580711Z",
     "iopub.status.idle": "2024-12-20T20:24:39.226678Z",
     "shell.execute_reply": "2024-12-20T20:24:39.225982Z",
     "shell.execute_reply.started": "2024-12-20T20:24:38.580873Z"
    },
    "tags": []
   },
   "outputs": [],
   "source": [
    "%%bash\n",
    "\n",
    "WORK_DIR=/home/brett/work/OrthogonalTrainValSplits/hashFrag/data/K562.sample_10000.hashFrag.create_splits.work\n",
    "BLAST_DIR=$WORK_DIR/blast_partitions\n",
    "\n",
    "zcat $BLAST_DIR/*.pairwise_scores.tsv.gz | gzip > $WORK_DIR/K562.sample_10000.blastn_candidates.custom_scores.tsv.gz"
   ]
  },
  {
   "cell_type": "markdown",
   "id": "8b623b03-e9b5-4bf3-ac49-89db8b95d63e",
   "metadata": {},
   "source": [
    "Rather than using the heuristic alignment scores provided by the BLASTn algorithm, we can filter false-positives based on SW alignment scores. Make sure to set the mode to `pure`."
   ]
  },
  {
   "cell_type": "code",
   "execution_count": 11,
   "id": "3c8e40c2-0972-4413-9201-37fbf60e124b",
   "metadata": {
    "execution": {
     "iopub.execute_input": "2024-12-20T20:24:39.227588Z",
     "iopub.status.busy": "2024-12-20T20:24:39.227406Z",
     "iopub.status.idle": "2024-12-20T20:24:50.806487Z",
     "shell.execute_reply": "2024-12-20T20:24:50.805812Z",
     "shell.execute_reply.started": "2024-12-20T20:24:39.227567Z"
    },
    "tags": []
   },
   "outputs": [
    {
     "name": "stdout",
     "output_type": "stream",
     "text": [
      "Filtered results written to: /home/brett/work/OrthogonalTrainValSplits/hashFrag/data/K562.sample_10000.hashFrag.create_splits.work/hashFrag_pure.similar_pairs.tsv.gz\n"
     ]
    }
   ],
   "source": [
    "%%bash\n",
    "\n",
    "WORK_DIR=/home/brett/work/OrthogonalTrainValSplits/hashFrag/data/K562.sample_10000.hashFrag.create_splits.work\n",
    "INPUT_PATH=$WORK_DIR/K562.sample_10000.blastn_candidates.custom_scores.tsv.gz\n",
    "MODE=pure\n",
    "THRESHOLD=60\n",
    "\n",
    "hashFrag filter_false_positives -m $MODE -i $INPUT_PATH -t $THRESHOLD -o $WORK_DIR"
   ]
  },
  {
   "cell_type": "markdown",
   "id": "d9c75343-485f-441c-9576-e4c61b82ccb0",
   "metadata": {},
   "source": [
    "# Section 3: Determine groups of homology\n",
    "\n",
    "There are often distinct groups of sequences exhibiting different cases of homology throughout the dataset. To determine such groups, we represent the \"hits\" (i.e., pairs of sequences with an alignment score greater than the threshold) as a sparse adjacency matrix. A graph can then be constructed, where nodes correspond to sequences and edges denote shared homology between the two sequences. The process of identifying groups of homology can readily be solved by identifying disconnected subgraphs. \n",
    "\n",
    "An efficient implementation for this graph-based task is provided in the `igraph` Python library."
   ]
  },
  {
   "cell_type": "markdown",
   "id": "ce5aff80-d28b-4382-9701-5f2526f1079e",
   "metadata": {},
   "source": [
    "## Section 3.1: `lightning`-filtered homologous pairs"
   ]
  },
  {
   "cell_type": "code",
   "execution_count": 12,
   "id": "1990b87e-d476-44fc-9db6-e2c17b38a1a5",
   "metadata": {
    "execution": {
     "iopub.execute_input": "2024-12-20T20:24:50.808040Z",
     "iopub.status.busy": "2024-12-20T20:24:50.807755Z",
     "iopub.status.idle": "2024-12-20T20:24:52.364886Z",
     "shell.execute_reply": "2024-12-20T20:24:52.364294Z",
     "shell.execute_reply.started": "2024-12-20T20:24:50.808017Z"
    },
    "tags": []
   },
   "outputs": [
    {
     "name": "stdout",
     "output_type": "stream",
     "text": [
      "1114 sequences exhibiting homology.\n",
      "90 homologous groups identified.\n",
      "Homologous groups written to file: /home/brett/work/OrthogonalTrainValSplits/hashFrag/data/K562.sample_10000.hashFrag.create_splits.work/homologous_groups.lightning.csv\n"
     ]
    }
   ],
   "source": [
    "%%bash\n",
    "\n",
    "WORK_DIR=/home/brett/work/OrthogonalTrainValSplits/hashFrag/data/K562.sample_10000.hashFrag.create_splits.work\n",
    "HITS_PATH=$WORK_DIR/hashFrag_lightning.similar_pairs.tsv.gz\n",
    "OUTPUT_PATH=$WORK_DIR/homologous_groups.lightning.csv\n",
    "\n",
    "hashFrag identify_homologous_groups -i $HITS_PATH -o $OUTPUT_PATH"
   ]
  },
  {
   "cell_type": "markdown",
   "id": "c716c81f-6b1e-41f9-8e6f-0ac74a651f55",
   "metadata": {},
   "source": [
    "## Section 3.2: `pure`-filtered homologous pairs"
   ]
  },
  {
   "cell_type": "code",
   "execution_count": 13,
   "id": "a6f54fd6-7039-4304-95eb-2bf5974bef81",
   "metadata": {
    "execution": {
     "iopub.execute_input": "2024-12-20T20:24:52.365887Z",
     "iopub.status.busy": "2024-12-20T20:24:52.365702Z",
     "iopub.status.idle": "2024-12-20T20:24:53.658333Z",
     "shell.execute_reply": "2024-12-20T20:24:53.657672Z",
     "shell.execute_reply.started": "2024-12-20T20:24:52.365865Z"
    }
   },
   "outputs": [
    {
     "name": "stdout",
     "output_type": "stream",
     "text": [
      "1138 sequences exhibiting homology.\n",
      "92 homologous groups identified.\n",
      "Homologous groups written to file: /home/brett/work/OrthogonalTrainValSplits/hashFrag/data/K562.sample_10000.hashFrag.create_splits.work/homologous_groups.pure.csv\n"
     ]
    }
   ],
   "source": [
    "%%bash\n",
    "\n",
    "WORK_DIR=/home/brett/work/OrthogonalTrainValSplits/hashFrag/data/K562.sample_10000.hashFrag.create_splits.work\n",
    "HITS_PATH=$WORK_DIR/hashFrag_pure.similar_pairs.tsv.gz\n",
    "OUTPUT_PATH=$WORK_DIR/homologous_groups.pure.csv\n",
    "\n",
    "hashFrag identify_homologous_groups -i $HITS_PATH -o $OUTPUT_PATH"
   ]
  },
  {
   "cell_type": "markdown",
   "id": "f5565f51-e041-490a-a639-519dff059526",
   "metadata": {},
   "source": [
    "# Section 4: Use case(s)\n",
    "\n",
    "Upon identifying groups of sequences exhibiting high similarity (i.e., homology), we can create train-test data splits using a graph-based method. Specifically, by representing sequences as nodes and using edges to denote whether sequences were found to be homologous (yes or no), identifying homologous groups of sequences can be reduced to the task of identifying all disconnected subgraphs in the population. \n",
    "\n",
    "## Creating homology-aware data splits\n",
    "\n",
    "Below we show how splits can be created based on the homologous groups identified from either the `hashFrag-lightning` or `hashFrag-pure` methods."
   ]
  },
  {
   "cell_type": "code",
   "execution_count": 15,
   "id": "ebbc568a-ae85-4df6-a990-0b52f05e6866",
   "metadata": {
    "execution": {
     "iopub.execute_input": "2024-12-20T20:37:55.713346Z",
     "iopub.status.busy": "2024-12-20T20:37:55.713081Z",
     "iopub.status.idle": "2024-12-20T20:38:04.777372Z",
     "shell.execute_reply": "2024-12-20T20:38:04.776626Z",
     "shell.execute_reply.started": "2024-12-20T20:37:55.713323Z"
    },
    "tags": []
   },
   "outputs": [
    {
     "name": "stdout",
     "output_type": "stream",
     "text": [
      "Writing splits...\n",
      "  /home/brett/work/OrthogonalTrainValSplits/hashFrag/data/K562.sample_10000.hashFrag.create_splits.work/hashFrag.train_8000.test_2000.split_001.csv.gz\n",
      "  /home/brett/work/OrthogonalTrainValSplits/hashFrag/data/K562.sample_10000.hashFrag.create_splits.work/hashFrag.train_8000.test_2000.split_002.csv.gz\n",
      "  /home/brett/work/OrthogonalTrainValSplits/hashFrag/data/K562.sample_10000.hashFrag.create_splits.work/hashFrag.train_8000.test_2000.split_003.csv.gz\n",
      "  /home/brett/work/OrthogonalTrainValSplits/hashFrag/data/K562.sample_10000.hashFrag.create_splits.work/hashFrag.train_8000.test_2000.split_004.csv.gz\n",
      "  /home/brett/work/OrthogonalTrainValSplits/hashFrag/data/K562.sample_10000.hashFrag.create_splits.work/hashFrag.train_8000.test_2000.split_005.csv.gz\n",
      "  /home/brett/work/OrthogonalTrainValSplits/hashFrag/data/K562.sample_10000.hashFrag.create_splits.work/hashFrag.train_8000.test_2000.split_006.csv.gz\n",
      "  /home/brett/work/OrthogonalTrainValSplits/hashFrag/data/K562.sample_10000.hashFrag.create_splits.work/hashFrag.train_8000.test_2000.split_007.csv.gz\n",
      "  /home/brett/work/OrthogonalTrainValSplits/hashFrag/data/K562.sample_10000.hashFrag.create_splits.work/hashFrag.train_8000.test_2000.split_008.csv.gz\n",
      "  /home/brett/work/OrthogonalTrainValSplits/hashFrag/data/K562.sample_10000.hashFrag.create_splits.work/hashFrag.train_8000.test_2000.split_009.csv.gz\n",
      "  /home/brett/work/OrthogonalTrainValSplits/hashFrag/data/K562.sample_10000.hashFrag.create_splits.work/hashFrag.train_8000.test_2000.split_010.csv.gz\n"
     ]
    }
   ],
   "source": [
    "%%bash\n",
    "\n",
    "FASTA_PATH=/home/brett/work/OrthogonalTrainValSplits/hashFrag/data/K562.sample_10000.fa.gz\n",
    "WORK_DIR=/home/brett/work/OrthogonalTrainValSplits/hashFrag/data/K562.sample_10000.hashFrag.create_splits.work\n",
    "HOMOLOGY_PATH=$WORK_DIR/homologous_groups.lightning.csv # lightning mode\n",
    "OUT_DIR=$WORK_DIR\n",
    "\n",
    "hashFrag create_orthogonal_splits -f $FASTA_PATH -i $HOMOLOGY_PATH -n 10 -o $OUT_DIR"
   ]
  },
  {
   "cell_type": "code",
   "execution_count": 16,
   "id": "d8b8f59f-0c8b-4118-a4b9-1e4962996887",
   "metadata": {
    "execution": {
     "iopub.execute_input": "2024-12-20T20:38:12.338271Z",
     "iopub.status.busy": "2024-12-20T20:38:12.337999Z",
     "iopub.status.idle": "2024-12-20T20:38:16.689527Z",
     "shell.execute_reply": "2024-12-20T20:38:16.688883Z",
     "shell.execute_reply.started": "2024-12-20T20:38:12.338243Z"
    }
   },
   "outputs": [
    {
     "name": "stdout",
     "output_type": "stream",
     "text": [
      "Writing splits...\n",
      "  /home/brett/work/OrthogonalTrainValSplits/hashFrag/data/K562.sample_10000.hashFrag.create_splits.work/hashFrag.train_8000.test_2000.split_001.csv.gz\n",
      "  /home/brett/work/OrthogonalTrainValSplits/hashFrag/data/K562.sample_10000.hashFrag.create_splits.work/hashFrag.train_8000.test_2000.split_002.csv.gz\n",
      "  /home/brett/work/OrthogonalTrainValSplits/hashFrag/data/K562.sample_10000.hashFrag.create_splits.work/hashFrag.train_8000.test_2000.split_003.csv.gz\n",
      "  /home/brett/work/OrthogonalTrainValSplits/hashFrag/data/K562.sample_10000.hashFrag.create_splits.work/hashFrag.train_8000.test_2000.split_004.csv.gz\n",
      "  /home/brett/work/OrthogonalTrainValSplits/hashFrag/data/K562.sample_10000.hashFrag.create_splits.work/hashFrag.train_8000.test_2000.split_005.csv.gz\n",
      "  /home/brett/work/OrthogonalTrainValSplits/hashFrag/data/K562.sample_10000.hashFrag.create_splits.work/hashFrag.train_8000.test_2000.split_006.csv.gz\n",
      "  /home/brett/work/OrthogonalTrainValSplits/hashFrag/data/K562.sample_10000.hashFrag.create_splits.work/hashFrag.train_8000.test_2000.split_007.csv.gz\n",
      "  /home/brett/work/OrthogonalTrainValSplits/hashFrag/data/K562.sample_10000.hashFrag.create_splits.work/hashFrag.train_8000.test_2000.split_008.csv.gz\n",
      "  /home/brett/work/OrthogonalTrainValSplits/hashFrag/data/K562.sample_10000.hashFrag.create_splits.work/hashFrag.train_8000.test_2000.split_009.csv.gz\n",
      "  /home/brett/work/OrthogonalTrainValSplits/hashFrag/data/K562.sample_10000.hashFrag.create_splits.work/hashFrag.train_8000.test_2000.split_010.csv.gz\n"
     ]
    }
   ],
   "source": [
    "%%bash\n",
    "\n",
    "FASTA_PATH=/home/brett/work/OrthogonalTrainValSplits/hashFrag/data/K562.sample_10000.fa.gz\n",
    "WORK_DIR=/home/brett/work/OrthogonalTrainValSplits/hashFrag/data/K562.sample_10000.hashFrag.create_splits.work\n",
    "HOMOLOGY_PATH=$WORK_DIR/homologous_groups.pure.csv # pure mode\n",
    "OUT_DIR=$WORK_DIR\n",
    "\n",
    "hashFrag create_orthogonal_splits -f $FASTA_PATH -i $HOMOLOGY_PATH -n 10 -o $OUT_DIR"
   ]
  },
  {
   "cell_type": "code",
   "execution_count": null,
   "id": "6058f9ba-f56f-4916-bb38-83e23fecee33",
   "metadata": {},
   "outputs": [],
   "source": []
  }
 ],
 "metadata": {
  "kernelspec": {
   "display_name": "Python 3 (ipykernel)",
   "language": "python",
   "name": "python3"
  },
  "language_info": {
   "codemirror_mode": {
    "name": "ipython",
    "version": 3
   },
   "file_extension": ".py",
   "mimetype": "text/x-python",
   "name": "python",
   "nbconvert_exporter": "python",
   "pygments_lexer": "ipython3",
   "version": "3.9.15"
  }
 },
 "nbformat": 4,
 "nbformat_minor": 5
}

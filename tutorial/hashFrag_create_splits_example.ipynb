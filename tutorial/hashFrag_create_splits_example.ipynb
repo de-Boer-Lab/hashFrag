{
 "cells": [
  {
   "cell_type": "code",
   "execution_count": 3,
   "id": "e7bb08a6-c8da-4175-90d6-53fadc7afa74",
   "metadata": {
    "execution": {
     "iopub.execute_input": "2024-12-29T04:22:58.468939Z",
     "iopub.status.busy": "2024-12-29T04:22:58.468689Z",
     "iopub.status.idle": "2024-12-29T04:22:58.471303Z",
     "shell.execute_reply": "2024-12-29T04:22:58.470944Z",
     "shell.execute_reply.started": "2024-12-29T04:22:58.468913Z"
    },
    "tags": []
   },
   "outputs": [],
   "source": [
    "import os\n",
    "from pathlib import Path"
   ]
  },
  {
   "cell_type": "code",
   "execution_count": 5,
   "id": "60c5272d-1889-41ca-b3fb-60614d5f83c8",
   "metadata": {
    "execution": {
     "iopub.execute_input": "2024-12-29T04:27:11.661655Z",
     "iopub.status.busy": "2024-12-29T04:27:11.661346Z",
     "iopub.status.idle": "2024-12-29T04:27:13.856861Z",
     "shell.execute_reply": "2024-12-29T04:27:13.856041Z",
     "shell.execute_reply.started": "2024-12-29T04:27:11.661631Z"
    },
    "tags": []
   },
   "outputs": [
    {
     "name": "stdout",
     "output_type": "stream",
     "text": [
      "usage: hashFrag [-h]\n",
      "                {blastn_module,filter_candidates_module,filter_test_split_module,stratify_test_split_module,identify_homologous_groups_module,create_orthogonal_splits_module,filter_existing_splits,stratify_test_split,create_orthogonal_splits}\n",
      "                ...\n",
      "\n",
      "hashFrag is a tool developed to mitigate the impacts of homology-based data leakage\n",
      "in sequence-to-expression models. By identifying homology (based on pairwise\n",
      "alignment scores) in a sequence dataset, this tool can be used to filter homologous\n",
      "sequences spanning existing train-test splits (e.g., chromosomal splits), stratify\n",
      "a test split according to different levels of homology, or create homology-aware\n",
      "train-test splits.\n",
      "\n",
      "positional arguments:\n",
      "  {blastn_module,filter_candidates_module,filter_test_split_module,stratify_test_split_module,identify_homologous_groups_module,create_orthogonal_splits_module,filter_existing_splits,stratify_test_split,create_orthogonal_splits}\n",
      "    blastn_module       A wrapper script calling BLASTn to identify candidate pairs\n",
      "                        of sequences sharing regions with high similarity.\n",
      "    filter_candidates_module\n",
      "                        Filter candidate pairs based on a specified alignment score\n",
      "                        threshold (false-positive removal).\n",
      "    filter_test_split_module\n",
      "                        Filter test sequences that exhibit homology with any train\n",
      "                        sequences.\n",
      "    stratify_test_split_module\n",
      "                        Stratify the test split into subsplits based on their\n",
      "                        maximum alignment score to the sequences in the train\n",
      "                        split.\n",
      "    identify_homologous_groups_module\n",
      "                        Identify all distinct groups of homologous sequences.\n",
      "    create_orthogonal_splits_module\n",
      "                        Create homology-aware test-train splits.\n",
      "    filter_existing_splits\n",
      "                        Execute the full workflow of commands to filter homology\n",
      "                        spanning the input test splits.\n",
      "    stratify_test_split\n",
      "                        Execute the full workflow of commands to stratify the test\n",
      "                        split based on their maximum pairwise alignment score to\n",
      "                        the train split sequences.\n",
      "    create_orthogonal_splits\n",
      "                        Execute the full workflow of commands to create homology-\n",
      "                        aware train-test splits.\n",
      "\n",
      "optional arguments:\n",
      "  -h, --help            show this help message and exit\n"
     ]
    }
   ],
   "source": [
    "%%bash\n",
    "\n",
    "hashFrag -h"
   ]
  },
  {
   "cell_type": "markdown",
   "id": "8381d6c3-0050-401e-87b1-c5b2eb76cc78",
   "metadata": {},
   "source": [
    "# Introduction\n",
    "\n",
    "> This notebook refers to the case when users have a nucleotide sequence dataset and are interested in creating homology-aware train-test data splits for sequence-to-expression models.\n",
    "\n",
    "The basic workflow is provided with respect a subsampled MPRA dataset (K562): a 10,000-sequence FASTA file (provided in the `data` directory).\n",
    "\n",
    "hashFrag is a command line tool. This notebook serves as a resource to provide example calls and explanations to each step in the process.\n"
   ]
  },
  {
   "cell_type": "markdown",
   "id": "68f3bd7e-e67b-4236-aa5b-0c51c3344d8b",
   "metadata": {
    "execution": {
     "iopub.execute_input": "2024-12-09T04:30:02.468472Z",
     "iopub.status.busy": "2024-12-09T04:30:02.468181Z",
     "iopub.status.idle": "2024-12-09T04:30:02.472211Z",
     "shell.execute_reply": "2024-12-09T04:30:02.471603Z",
     "shell.execute_reply.started": "2024-12-09T04:30:02.468450Z"
    },
    "tags": []
   },
   "source": [
    "# Section 0: Setup"
   ]
  },
  {
   "cell_type": "code",
   "execution_count": 72,
   "id": "82b029ef-ccdd-418e-86dd-0a99721c68a9",
   "metadata": {
    "execution": {
     "iopub.execute_input": "2024-12-20T08:12:47.979804Z",
     "iopub.status.busy": "2024-12-20T08:12:47.977276Z",
     "iopub.status.idle": "2024-12-20T08:12:48.008829Z",
     "shell.execute_reply": "2024-12-20T08:12:48.008240Z",
     "shell.execute_reply.started": "2024-12-20T08:12:47.979772Z"
    },
    "tags": []
   },
   "outputs": [
    {
     "name": "stdout",
     "output_type": "stream",
     "text": [
      "/home/brett/work/OrthogonalTrainValSplits/hashFrag/data/K562.sample_10000.hashFrag.create_splits.work\n"
     ]
    }
   ],
   "source": [
    "data_dir   = \"/home/brett/work/OrthogonalTrainValSplits/hashFrag/data\"\n",
    "fasta_path = os.path.join(data_dir,\"K562.sample_10000.fa.gz\")\n",
    "label      = os.path.basename(fasta_path).replace(\".fa.gz\",\"\")\n",
    "score_path = os.path.join(data_dir,f\"{label}.pairwise_scores.csv.gz\")\n",
    "work_dir   = os.path.join(data_dir,f\"{label}.hashFrag.create_splits.work\")\n",
    "Path(work_dir).mkdir(parents=True,exist_ok=True)\n",
    "print(work_dir)\n",
    "\n",
    "blast_dir = os.path.join(work_dir,\"blast_partitions\")\n",
    "Path(blast_dir).mkdir(parents=True,exist_ok=True)"
   ]
  },
  {
   "cell_type": "markdown",
   "id": "8ba4efbc-3011-4957-b39e-32c3987662fc",
   "metadata": {},
   "source": [
    "# tl;dr"
   ]
  },
  {
   "cell_type": "code",
   "execution_count": 8,
   "id": "ddf192f9-3448-4ec9-a0da-2faeb526467f",
   "metadata": {
    "execution": {
     "iopub.execute_input": "2024-12-29T05:35:58.126923Z",
     "iopub.status.busy": "2024-12-29T05:35:58.126646Z",
     "iopub.status.idle": "2024-12-29T05:43:53.448412Z",
     "shell.execute_reply": "2024-12-29T05:43:53.447752Z",
     "shell.execute_reply.started": "2024-12-29T05:35:58.126895Z"
    },
    "tags": []
   },
   "outputs": [
    {
     "name": "stdout",
     "output_type": "stream",
     "text": [
      "2024-12-29 14:36:00 - numexpr.utils - INFO - Note: detected 128 virtual cores but NumExpr set to maximum of 64, check \"NUMEXPR_MAX_THREADS\" environment variable.\n",
      "2024-12-29 14:36:00 - numexpr.utils - INFO - Note: NumExpr detected 128 cores but \"NUMEXPR_MAX_THREADS\" not set, so enforcing safe limit of 16.\n",
      "2024-12-29 14:36:00 - numexpr.utils - INFO - NumExpr defaulting to 16 threads.\n",
      "2024-12-29 14:36:14 - matplotlib - DEBUG - matplotlib data path: /home/brett/envs/miniconda3/envs/py39R41/lib/python3.9/site-packages/matplotlib/mpl-data\n",
      "2024-12-29 14:36:15 - matplotlib - DEBUG - CONFIGDIR=/home/brett/.config/matplotlib\n",
      "2024-12-29 14:36:15 - matplotlib - DEBUG - interactive is False\n",
      "2024-12-29 14:36:15 - matplotlib - DEBUG - platform is linux\n",
      "2024-12-29 14:36:16 - matplotlib - DEBUG - CACHEDIR=/home/brett/.cache/matplotlib\n",
      "2024-12-29 14:36:16 - matplotlib.font_manager - DEBUG - Using fontManager instance from /home/brett/.cache/matplotlib/fontlist-v330.json\n",
      "2024-12-29 14:37:02 - pipeline - INFO - Initializing `create_orthogonal_splits` pipeline.\n",
      "\n",
      "2024-12-29 14:37:02 - blastn_module - INFO - Calling module...\n",
      "2024-12-29 14:37:02 - blastn_module - INFO - One FASTA files detected. Computing pairwise BLAST comparisons for all sequence-pairs...\n",
      "2024-12-29 14:37:13 - blastn_module - INFO - BLASTn output: \n",
      "\n",
      "Building a new DB, current time: 12/29/2024 14:37:13\n",
      "New DB name:   /home/brett/work/OrthogonalTrainValSplits/hashFrag/data/K562.sample_10000.hashFrag.create_splits.work/hashFrag.blastdb\n",
      "New DB title:  hashFrag\n",
      "Sequence type: Nucleotide\n",
      "Keep MBits: T\n",
      "Maximum file size: 1000000000B\n",
      "Adding sequences from FASTA; added 10000 sequences in 0.256286 seconds.\n",
      "\n",
      "\n",
      "\n",
      "2024-12-29 14:37:13 - blastn_module - INFO - BLAST DataBase construction finished and written to: /home/brett/work/OrthogonalTrainValSplits/hashFrag/data/K562.sample_10000.hashFrag.create_splits.work/hashFrag.blastdb\n",
      "2024-12-29 14:43:25 - blastn_module - INFO - BLASTn process finished and written to: /home/brett/work/OrthogonalTrainValSplits/hashFrag/data/K562.sample_10000.hashFrag.create_splits.work/hashFrag.blastn.out\n",
      "2024-12-29 14:43:25 - blastn_module - INFO - Module execution completed.\n",
      "\n",
      "2024-12-29 14:43:25 - filter_candidates_module - INFO - Calling module...\n",
      "2024-12-29 14:43:25 - filter_candidates_module - INFO - Filtering based on corrected BLAST alignment scores (lightning mode).\n",
      "2024-12-29 14:43:31 - filter_candidates_module - INFO - Filtered results written to: /home/brett/work/OrthogonalTrainValSplits/hashFrag/data/K562.sample_10000.hashFrag.create_splits.work/hashFrag_lightning.similar_pairs.tsv.gz\n",
      "2024-12-29 14:43:31 - filter_candidates_module - INFO - Module execution completed.\n",
      "\n",
      "2024-12-29 14:43:31 - identify_homologous_groups_module - INFO - Calling module...\n",
      "2024-12-29 14:43:31 - identify_homologous_groups_module - INFO - 1114 sequences exhibiting homology.\n",
      "2024-12-29 14:43:31 - identify_homologous_groups_module - INFO - 90 distinct groups.\n",
      "2024-12-29 14:43:31 - identify_homologous_groups_module - INFO - Homologous groups written to: /home/brett/work/OrthogonalTrainValSplits/hashFrag/data/K562.sample_10000.hashFrag.create_splits.work/hashFrag_lightning.homologous_groups.tsv\n",
      "2024-12-29 14:43:31 - identify_homologous_groups_module - INFO - Module execution completed.\n",
      "\n",
      "2024-12-29 14:43:31 - create_orthogonal_splits_module - INFO - Calling module...\n",
      "2024-12-29 14:43:31 - create_orthogonal_splits_module - INFO - Creating 10 orthogonal splits in directory: /home/brett/work/OrthogonalTrainValSplits/hashFrag/data/K562.sample_10000.hashFrag.create_splits.work\n",
      "2024-12-29 14:43:34 - create_orthogonal_splits_module - INFO - Module execution completed.\n",
      "\n",
      "2024-12-29 14:43:34 - pipeline - INFO - Completed execution of the pipeline to create homology-aware data splits!\n"
     ]
    }
   ],
   "source": [
    "%%bash\n",
    "\n",
    "FASTA_PATH=/home/brett/work/OrthogonalTrainValSplits/hashFrag/data/K562.sample_10000.fa.gz\n",
    "WORK_DIR=/home/brett/work/OrthogonalTrainValSplits/hashFrag/data/K562.sample_10000.hashFrag.create_splits.work\n",
    "\n",
    "WORD_SIZE=7\n",
    "MAX_TARGET_SEQS=8000 # size of train dataset\n",
    "E_VALUE=100\n",
    "DUST=no\n",
    "THRESHOLD=60\n",
    "SEED=21\n",
    "P_TRAIN=0.8\n",
    "P_TEST=0.2\n",
    "N_SPLITS=10\n",
    "\n",
    "hashFrag create_orthogonal_splits \\\n",
    "--fasta_path $FASTA_PATH \\\n",
    "--word_size $WORD_SIZE \\\n",
    "--max_target_seqs $MAX_TARGET_SEQS \\\n",
    "--e_value $E_VALUE \\\n",
    "--dust $DUST \\\n",
    "--threshold $THRESHOLD \\\n",
    "--seed $SEED \\\n",
    "--p_train $P_TRAIN \\\n",
    "--p_test $P_TEST \\\n",
    "--n_splits $N_SPLITS \\\n",
    "--output_dir $WORK_DIR"
   ]
  },
  {
   "cell_type": "markdown",
   "id": "86e0deed-41d6-4976-b81c-d2a40d809ba9",
   "metadata": {},
   "source": [
    "# Section 1 - Identifying candidate similar sequences\n",
    "\n",
    "The process of identifying candidate pairs of similar sequences involves first creating a BLAST database of the dataset, and then querying each sequence against the database. The BLASTn algorithm returns pairwise matches that represent potential cases of homology. \n",
    "\n",
    "Successful identification of cases of homology is paramount to effectively mitigate homology-based data leakage. As such, we configure the BLASTn parameters such that recall is maximized, even if it comes at the expense of increased false-positives. Here we consider the following parameters of BLASTn:\n",
    "\n",
    "* word_size: smaller word sizes results in more exact word matches found between the query and sequences in the database, leading to more alignment score calculations being initialized.\n",
    "* max_target_seqs: set to the size of the database to remove any constraints and allow for all possible candidate sequences to be returned for a given query.\n",
    "* evalue: the e-value statistic is a measure of how likely you observe the alignment by chance (lower value corresponds to less likely to observe). By increasing the e-value threshold, less stringent matches that could be due to chance are returned.\n",
    "* dust: by setting dust off, low-complexity (e.g., repetitive sequences) are no longer masked/filtered out."
   ]
  },
  {
   "cell_type": "code",
   "execution_count": 9,
   "id": "1fc29f5e-cba3-4433-b10b-2f7a3c871292",
   "metadata": {
    "execution": {
     "iopub.execute_input": "2024-12-29T05:45:11.435466Z",
     "iopub.status.busy": "2024-12-29T05:45:11.435185Z",
     "iopub.status.idle": "2024-12-29T05:45:33.739058Z",
     "shell.execute_reply": "2024-12-29T05:45:33.738531Z",
     "shell.execute_reply.started": "2024-12-29T05:45:11.435444Z"
    },
    "tags": []
   },
   "outputs": [
    {
     "name": "stdout",
     "output_type": "stream",
     "text": [
      "2024-12-29 14:45:33 - blastn_module - INFO - Calling module...\n",
      "2024-12-29 14:45:33 - blastn_module - INFO - One FASTA files detected. Computing pairwise BLAST comparisons for all sequence-pairs...\n",
      "2024-12-29 14:45:33 - blastn_module - INFO - Existing BLAST database found. Path: /home/brett/work/OrthogonalTrainValSplits/hashFrag/data/K562.sample_10000.hashFrag.create_splits.work/hashFrag.blastdb\n",
      "\tskipping `makeblastdb` call.\n",
      "2024-12-29 14:45:33 - blastn_module - INFO - Existing BLAST results file found. Path: /home/brett/work/OrthogonalTrainValSplits/hashFrag/data/K562.sample_10000.hashFrag.create_splits.work/hashFrag.blastn.out\n",
      "\tskipping `blastn` call.\n",
      "2024-12-29 14:45:33 - blastn_module - INFO - Module execution completed.\n",
      "\n"
     ]
    }
   ],
   "source": [
    "%%bash\n",
    "\n",
    "FASTA_PATH=/home/brett/work/OrthogonalTrainValSplits/hashFrag/data/K562.sample_10000.fa.gz\n",
    "WORK_DIR=/home/brett/work/OrthogonalTrainValSplits/hashFrag/data/K562.sample_10000.hashFrag.create_splits.work\n",
    "\n",
    "WORD_SIZE=7\n",
    "MAX_TARGET_SEQS=10000 # size of dataset\n",
    "E_VALUE=100\n",
    "DUST=no\n",
    "\n",
    "hashFrag blastn_module \\\n",
    "-f $FASTA_PATH \\\n",
    "-m $MAX_TARGET_SEQS \\\n",
    "-w $WORD_SIZE \\\n",
    "-e $E_VALUE \\\n",
    "-d $DUST \\\n",
    "--blastdb_label \"hashFrag\" \\\n",
    "-o $WORK_DIR"
   ]
  },
  {
   "cell_type": "markdown",
   "id": "62d63c8e-42ca-451d-acc0-0f4f336c5f12",
   "metadata": {},
   "source": [
    "# Section 2: Filter false-positives based on a defined threshold\n",
    "\n",
    "The next step involves filtering candidate pairings with alignment scores lower than the specified threshold. There are two different modes of hashFrag depending on what alignment score is selected.\n",
    "\n",
    "* `hashFrag-lightning` is the faster version where the alignment score computed from the BLAST output file. BLASTn is a heuristic method and the alignment scores were found to highly correlate with the optimal alignment scores; however, its underestimation of homology in some cases can lead to slightly worse recall. \n",
    "* `hashFrag-pure` is the slower but more comprehensive method that is based on the optimal, Smith-Waterman local alignment scores between pairs of sequences. The calculation of optimal alignment scores incurs an additional cost to filtering.\n",
    "\n",
    "An alignment score threshold of 60 was determined to be appropriate based on an analysis looking at alignment scores between dinucleotide shuffled (i.e., random) sequences."
   ]
  },
  {
   "cell_type": "markdown",
   "id": "e904fb3a-8107-4e46-a4d2-f64c55f2d703",
   "metadata": {},
   "source": [
    "## Section 2.1: Lightning mode"
   ]
  },
  {
   "cell_type": "code",
   "execution_count": 10,
   "id": "b48ccad1-aa5f-4546-96c1-eb1d2f92f8e2",
   "metadata": {
    "execution": {
     "iopub.execute_input": "2024-12-29T05:45:50.411755Z",
     "iopub.status.busy": "2024-12-29T05:45:50.411474Z",
     "iopub.status.idle": "2024-12-29T05:46:09.362187Z",
     "shell.execute_reply": "2024-12-29T05:46:09.361454Z",
     "shell.execute_reply.started": "2024-12-29T05:45:50.411732Z"
    },
    "tags": []
   },
   "outputs": [
    {
     "name": "stdout",
     "output_type": "stream",
     "text": [
      "2024-12-29 14:46:00 - numexpr.utils - INFO - Note: detected 128 virtual cores but NumExpr set to maximum of 64, check \"NUMEXPR_MAX_THREADS\" environment variable.\n",
      "2024-12-29 14:46:00 - numexpr.utils - INFO - Note: NumExpr detected 128 cores but \"NUMEXPR_MAX_THREADS\" not set, so enforcing safe limit of 16.\n",
      "2024-12-29 14:46:00 - numexpr.utils - INFO - NumExpr defaulting to 16 threads.\n",
      "2024-12-29 14:46:08 - filter_candidates_module - INFO - Calling module...\n",
      "2024-12-29 14:46:08 - filter_candidates_module - INFO - Filtering based on corrected BLAST alignment scores (lightning mode).\n",
      "2024-12-29 14:46:09 - filter_candidates_module - INFO - Filtered results written to: /home/brett/work/OrthogonalTrainValSplits/hashFrag/data/K562.sample_10000.hashFrag.create_splits.work/hashFrag_lightning.similar_pairs.tsv.gz\n",
      "2024-12-29 14:46:09 - filter_candidates_module - INFO - Module execution completed.\n",
      "\n"
     ]
    }
   ],
   "source": [
    "%%bash\n",
    "\n",
    "WORK_DIR=/home/brett/work/OrthogonalTrainValSplits/hashFrag/data/K562.sample_10000.hashFrag.create_splits.work\n",
    "INPUT_PATH=$WORK_DIR/hashFrag.blastn.out\n",
    "MODE=lightning\n",
    "THRESHOLD=60\n",
    "\n",
    "hashFrag filter_candidates_module -m $MODE -i $INPUT_PATH -t $THRESHOLD -o $WORK_DIR"
   ]
  },
  {
   "cell_type": "markdown",
   "id": "63de3a6b-cfb9-4dac-a41b-3e67e972f9fa",
   "metadata": {},
   "source": [
    "## Section 2.2: Pure mode (optional)\n",
    "\n",
    "To limit memory usage, we'll start by partitioning the blast output file based on size. "
   ]
  },
  {
   "cell_type": "code",
   "execution_count": 11,
   "id": "ed5859ff-f987-4657-9893-5eda20be19a8",
   "metadata": {
    "execution": {
     "iopub.execute_input": "2024-12-29T05:46:09.364246Z",
     "iopub.status.busy": "2024-12-29T05:46:09.363944Z",
     "iopub.status.idle": "2024-12-29T05:46:09.597312Z",
     "shell.execute_reply": "2024-12-29T05:46:09.596673Z",
     "shell.execute_reply.started": "2024-12-29T05:46:09.364221Z"
    },
    "tags": []
   },
   "outputs": [],
   "source": [
    "%%bash\n",
    "\n",
    "WORK_DIR=/home/brett/work/OrthogonalTrainValSplits/hashFrag/data/K562.sample_10000.hashFrag.create_splits.work\n",
    "BLAST_PATH=$WORK_DIR/hashFrag.blastn.out\n",
    "BLAST_DIR=$WORK_DIR/blast_partitions\n",
    "\n",
    "LABEL=$( basename -s \".out\" $BLAST_PATH )\n",
    "\n",
    "mkdir -p $BLAST_DIR\n",
    "cd $BLAST_DIR\n",
    "\n",
    "SPLIT_SIZE=100000\n",
    "\n",
    "split -l $SPLIT_SIZE -a 4 --additional-suffix=.tsv $BLAST_PATH ${LABEL}.partition_"
   ]
  },
  {
   "cell_type": "markdown",
   "id": "a53a5b0f-188c-46eb-88f5-992fe32a712a",
   "metadata": {},
   "source": [
    "This bash script execution will call a custom python script that computes pairwise Smith-Waterman local alignment scores for the candidate pairs of sequences identified by the BLASTn algorithm. Note that this could feasibly be replaced with any scoring metric of interest.\n",
    "\n",
    "The expected format output files consists of a tab-delimited file with 3 columns: the query sequence iD, the target seqeuence ID, and their alignment score:\n",
    "```\n",
    "seq1    seq2    100\n",
    "seq3    seq4    30\n",
    "seq5    seq6    65\n",
    "```"
   ]
  },
  {
   "cell_type": "code",
   "execution_count": 12,
   "id": "26e67396-e139-4544-868b-7b1eeea37b38",
   "metadata": {
    "execution": {
     "iopub.execute_input": "2024-12-29T05:46:09.598208Z",
     "iopub.status.busy": "2024-12-29T05:46:09.598040Z",
     "iopub.status.idle": "2024-12-29T05:53:04.896066Z",
     "shell.execute_reply": "2024-12-29T05:53:04.895251Z",
     "shell.execute_reply.started": "2024-12-29T05:46:09.598187Z"
    },
    "tags": []
   },
   "outputs": [
    {
     "name": "stdout",
     "output_type": "stream",
     "text": [
      "/home/brett/work/OrthogonalTrainValSplits/hashFrag/data/K562.sample_10000.hashFrag.create_splits.work/blast_partitions/hashFrag.blastn.partition_aaaa.tsv\n",
      "/home/brett/work/OrthogonalTrainValSplits/hashFrag/data/K562.sample_10000.hashFrag.create_splits.work/blast_partitions/hashFrag.blastn.partition_aaab.tsv\n",
      "/home/brett/work/OrthogonalTrainValSplits/hashFrag/data/K562.sample_10000.hashFrag.create_splits.work/blast_partitions/hashFrag.blastn.partition_aaac.tsv\n",
      "/home/brett/work/OrthogonalTrainValSplits/hashFrag/data/K562.sample_10000.hashFrag.create_splits.work/blast_partitions/hashFrag.blastn.partition_aaad.tsv\n",
      "/home/brett/work/OrthogonalTrainValSplits/hashFrag/data/K562.sample_10000.hashFrag.create_splits.work/blast_partitions/hashFrag.blastn.partition_aaae.tsv\n",
      "/home/brett/work/OrthogonalTrainValSplits/hashFrag/data/K562.sample_10000.hashFrag.create_splits.work/blast_partitions/hashFrag.blastn.partition_aaaf.tsv\n",
      "/home/brett/work/OrthogonalTrainValSplits/hashFrag/data/K562.sample_10000.hashFrag.create_splits.work/blast_partitions/hashFrag.blastn.partition_aaag.tsv\n",
      "/home/brett/work/OrthogonalTrainValSplits/hashFrag/data/K562.sample_10000.hashFrag.create_splits.work/blast_partitions/hashFrag.blastn.partition_aaah.tsv\n",
      "/home/brett/work/OrthogonalTrainValSplits/hashFrag/data/K562.sample_10000.hashFrag.create_splits.work/blast_partitions/hashFrag.blastn.partition_aaai.tsv\n"
     ]
    }
   ],
   "source": [
    "%%bash\n",
    "\n",
    "cd ../src/external\n",
    "\n",
    "FASTA_PATH=/home/brett/work/OrthogonalTrainValSplits/hashFrag/data/K562.sample_10000.fa.gz\n",
    "WORK_DIR=/home/brett/work/OrthogonalTrainValSplits/hashFrag/data/K562.sample_10000.hashFrag.create_splits.work\n",
    "BLAST_DIR=$WORK_DIR/blast_partitions\n",
    "\n",
    "for PARTITIONED_BLAST_PATH in $BLAST_DIR/*.blastn.partition_*.tsv\n",
    "do\n",
    "    echo $PARTITIONED_BLAST_PATH\n",
    "    bash compute_blast_candidate_SW_scores.sh $FASTA_PATH $PARTITIONED_BLAST_PATH\n",
    "done"
   ]
  },
  {
   "cell_type": "markdown",
   "id": "b8bde38a-6f74-46f4-960c-9d2ab6aea8fb",
   "metadata": {},
   "source": [
    "The SW scores for candidate pairs of sequences can subsequently be concatenated into a single `.tsv` file."
   ]
  },
  {
   "cell_type": "code",
   "execution_count": 13,
   "id": "b019aebd-9fa0-43ca-b80b-d1150deabe90",
   "metadata": {
    "execution": {
     "iopub.execute_input": "2024-12-29T05:53:04.897916Z",
     "iopub.status.busy": "2024-12-29T05:53:04.897725Z",
     "iopub.status.idle": "2024-12-29T05:53:05.704550Z",
     "shell.execute_reply": "2024-12-29T05:53:05.703688Z",
     "shell.execute_reply.started": "2024-12-29T05:53:04.897893Z"
    },
    "tags": []
   },
   "outputs": [],
   "source": [
    "%%bash\n",
    "\n",
    "WORK_DIR=/home/brett/work/OrthogonalTrainValSplits/hashFrag/data/K562.sample_10000.hashFrag.create_splits.work\n",
    "BLAST_DIR=$WORK_DIR/blast_partitions\n",
    "\n",
    "zcat $BLAST_DIR/*.pairwise_scores.tsv.gz | gzip > $WORK_DIR/K562.sample_10000.blastn_candidates.custom_scores.tsv.gz"
   ]
  },
  {
   "cell_type": "markdown",
   "id": "8b623b03-e9b5-4bf3-ac49-89db8b95d63e",
   "metadata": {},
   "source": [
    "Rather than using the heuristic alignment scores provided by the BLASTn algorithm, we can filter false-positives based on SW alignment scores. Make sure to set the mode to `pure`."
   ]
  },
  {
   "cell_type": "code",
   "execution_count": 14,
   "id": "3c8e40c2-0972-4413-9201-37fbf60e124b",
   "metadata": {
    "execution": {
     "iopub.execute_input": "2024-12-29T05:53:05.705748Z",
     "iopub.status.busy": "2024-12-29T05:53:05.705563Z",
     "iopub.status.idle": "2024-12-29T05:53:07.515481Z",
     "shell.execute_reply": "2024-12-29T05:53:07.514721Z",
     "shell.execute_reply.started": "2024-12-29T05:53:05.705725Z"
    },
    "tags": []
   },
   "outputs": [
    {
     "name": "stdout",
     "output_type": "stream",
     "text": [
      "2024-12-29 14:53:06 - numexpr.utils - INFO - Note: detected 128 virtual cores but NumExpr set to maximum of 64, check \"NUMEXPR_MAX_THREADS\" environment variable.\n",
      "2024-12-29 14:53:06 - numexpr.utils - INFO - Note: NumExpr detected 128 cores but \"NUMEXPR_MAX_THREADS\" not set, so enforcing safe limit of 16.\n",
      "2024-12-29 14:53:06 - numexpr.utils - INFO - NumExpr defaulting to 16 threads.\n",
      "2024-12-29 14:53:06 - filter_candidates_module - INFO - Calling module...\n",
      "2024-12-29 14:53:06 - filter_candidates_module - INFO - Filtering based on precomputed alignment scores (pure mode).\n",
      "2024-12-29 14:53:07 - filter_candidates_module - INFO - Filtered results written to: /home/brett/work/OrthogonalTrainValSplits/hashFrag/data/K562.sample_10000.hashFrag.create_splits.work/hashFrag_pure.similar_pairs.tsv.gz\n",
      "2024-12-29 14:53:07 - filter_candidates_module - INFO - Module execution completed.\n",
      "\n"
     ]
    }
   ],
   "source": [
    "%%bash\n",
    "\n",
    "WORK_DIR=/home/brett/work/OrthogonalTrainValSplits/hashFrag/data/K562.sample_10000.hashFrag.create_splits.work\n",
    "INPUT_PATH=$WORK_DIR/K562.sample_10000.blastn_candidates.custom_scores.tsv.gz\n",
    "MODE=pure\n",
    "THRESHOLD=60\n",
    "\n",
    "hashFrag filter_candidates_module -m $MODE -i $INPUT_PATH -t $THRESHOLD -o $WORK_DIR"
   ]
  },
  {
   "cell_type": "markdown",
   "id": "d9c75343-485f-441c-9576-e4c61b82ccb0",
   "metadata": {},
   "source": [
    "# Section 3: Determine groups of homology\n",
    "\n",
    "There are often distinct groups of sequences exhibiting different cases of homology throughout the dataset. To determine such groups, we represent the \"hits\" (i.e., pairs of sequences with an alignment score greater than the threshold) as a sparse adjacency matrix. A graph can then be constructed, where nodes correspond to sequences and edges denote shared homology between the two sequences. The process of identifying groups of homology can readily be solved by identifying disconnected subgraphs. \n",
    "\n",
    "An efficient implementation for this graph-based task is provided in the `igraph` Python library."
   ]
  },
  {
   "cell_type": "markdown",
   "id": "ce5aff80-d28b-4382-9701-5f2526f1079e",
   "metadata": {},
   "source": [
    "## Section 3.1: `lightning`-filtered homologous pairs"
   ]
  },
  {
   "cell_type": "code",
   "execution_count": 15,
   "id": "1990b87e-d476-44fc-9db6-e2c17b38a1a5",
   "metadata": {
    "execution": {
     "iopub.execute_input": "2024-12-29T05:53:07.516707Z",
     "iopub.status.busy": "2024-12-29T05:53:07.516519Z",
     "iopub.status.idle": "2024-12-29T05:53:54.997227Z",
     "shell.execute_reply": "2024-12-29T05:53:54.996407Z",
     "shell.execute_reply.started": "2024-12-29T05:53:07.516685Z"
    },
    "tags": []
   },
   "outputs": [
    {
     "name": "stdout",
     "output_type": "stream",
     "text": [
      "2024-12-29 14:53:18 - matplotlib - DEBUG - matplotlib data path: /home/brett/envs/miniconda3/envs/py39R41/lib/python3.9/site-packages/matplotlib/mpl-data\n",
      "2024-12-29 14:53:18 - matplotlib - DEBUG - CONFIGDIR=/home/brett/.config/matplotlib\n",
      "2024-12-29 14:53:18 - matplotlib - DEBUG - interactive is False\n",
      "2024-12-29 14:53:18 - matplotlib - DEBUG - platform is linux\n",
      "2024-12-29 14:53:19 - matplotlib - DEBUG - CACHEDIR=/home/brett/.cache/matplotlib\n",
      "2024-12-29 14:53:19 - matplotlib.font_manager - DEBUG - Using fontManager instance from /home/brett/.cache/matplotlib/fontlist-v330.json\n",
      "2024-12-29 14:53:38 - numexpr.utils - INFO - Note: detected 128 virtual cores but NumExpr set to maximum of 64, check \"NUMEXPR_MAX_THREADS\" environment variable.\n",
      "2024-12-29 14:53:38 - numexpr.utils - INFO - Note: NumExpr detected 128 cores but \"NUMEXPR_MAX_THREADS\" not set, so enforcing safe limit of 16.\n",
      "2024-12-29 14:53:38 - numexpr.utils - INFO - NumExpr defaulting to 16 threads.\n",
      "2024-12-29 14:53:54 - identify_homologous_groups_module - INFO - Calling module...\n",
      "2024-12-29 14:53:54 - identify_homologous_groups_module - INFO - 1114 sequences exhibiting homology.\n",
      "2024-12-29 14:53:54 - identify_homologous_groups_module - INFO - 90 distinct groups.\n",
      "2024-12-29 14:53:54 - identify_homologous_groups_module - INFO - Homologous groups written to: /home/brett/work/OrthogonalTrainValSplits/hashFrag/data/K562.sample_10000.hashFrag.create_splits.work/homologous_groups.lightning.csv\n",
      "2024-12-29 14:53:54 - identify_homologous_groups_module - INFO - Module execution completed.\n",
      "\n"
     ]
    }
   ],
   "source": [
    "%%bash\n",
    "\n",
    "WORK_DIR=/home/brett/work/OrthogonalTrainValSplits/hashFrag/data/K562.sample_10000.hashFrag.create_splits.work\n",
    "HITS_PATH=$WORK_DIR/hashFrag_lightning.similar_pairs.tsv.gz\n",
    "OUTPUT_PATH=$WORK_DIR/homologous_groups.lightning.csv\n",
    "\n",
    "hashFrag identify_homologous_groups_module -i $HITS_PATH -o $OUTPUT_PATH"
   ]
  },
  {
   "cell_type": "markdown",
   "id": "c716c81f-6b1e-41f9-8e6f-0ac74a651f55",
   "metadata": {},
   "source": [
    "## Section 3.2: `pure`-filtered homologous pairs"
   ]
  },
  {
   "cell_type": "code",
   "execution_count": 16,
   "id": "a6f54fd6-7039-4304-95eb-2bf5974bef81",
   "metadata": {
    "execution": {
     "iopub.execute_input": "2024-12-29T05:53:54.998410Z",
     "iopub.status.busy": "2024-12-29T05:53:54.998225Z",
     "iopub.status.idle": "2024-12-29T05:53:56.422466Z",
     "shell.execute_reply": "2024-12-29T05:53:56.421853Z",
     "shell.execute_reply.started": "2024-12-29T05:53:54.998387Z"
    },
    "tags": []
   },
   "outputs": [
    {
     "name": "stdout",
     "output_type": "stream",
     "text": [
      "2024-12-29 14:53:55 - matplotlib - DEBUG - matplotlib data path: /home/brett/envs/miniconda3/envs/py39R41/lib/python3.9/site-packages/matplotlib/mpl-data\n",
      "2024-12-29 14:53:55 - matplotlib - DEBUG - CONFIGDIR=/home/brett/.config/matplotlib\n",
      "2024-12-29 14:53:55 - matplotlib - DEBUG - interactive is False\n",
      "2024-12-29 14:53:55 - matplotlib - DEBUG - platform is linux\n",
      "2024-12-29 14:53:55 - matplotlib - DEBUG - CACHEDIR=/home/brett/.cache/matplotlib\n",
      "2024-12-29 14:53:55 - matplotlib.font_manager - DEBUG - Using fontManager instance from /home/brett/.cache/matplotlib/fontlist-v330.json\n",
      "2024-12-29 14:53:55 - numexpr.utils - INFO - Note: detected 128 virtual cores but NumExpr set to maximum of 64, check \"NUMEXPR_MAX_THREADS\" environment variable.\n",
      "2024-12-29 14:53:55 - numexpr.utils - INFO - Note: NumExpr detected 128 cores but \"NUMEXPR_MAX_THREADS\" not set, so enforcing safe limit of 16.\n",
      "2024-12-29 14:53:55 - numexpr.utils - INFO - NumExpr defaulting to 16 threads.\n",
      "2024-12-29 14:53:56 - identify_homologous_groups_module - INFO - Calling module...\n",
      "2024-12-29 14:53:56 - identify_homologous_groups_module - INFO - 1138 sequences exhibiting homology.\n",
      "2024-12-29 14:53:56 - identify_homologous_groups_module - INFO - 92 distinct groups.\n",
      "2024-12-29 14:53:56 - identify_homologous_groups_module - INFO - Homologous groups written to: /home/brett/work/OrthogonalTrainValSplits/hashFrag/data/K562.sample_10000.hashFrag.create_splits.work/homologous_groups.pure.csv\n",
      "2024-12-29 14:53:56 - identify_homologous_groups_module - INFO - Module execution completed.\n",
      "\n"
     ]
    }
   ],
   "source": [
    "%%bash\n",
    "\n",
    "WORK_DIR=/home/brett/work/OrthogonalTrainValSplits/hashFrag/data/K562.sample_10000.hashFrag.create_splits.work\n",
    "HITS_PATH=$WORK_DIR/hashFrag_pure.similar_pairs.tsv.gz\n",
    "OUTPUT_PATH=$WORK_DIR/homologous_groups.pure.csv\n",
    "\n",
    "hashFrag identify_homologous_groups_module -i $HITS_PATH -o $OUTPUT_PATH"
   ]
  },
  {
   "cell_type": "markdown",
   "id": "f5565f51-e041-490a-a639-519dff059526",
   "metadata": {},
   "source": [
    "# Section 4: Use case(s)\n",
    "\n",
    "Upon identifying groups of sequences exhibiting high similarity (i.e., homology), we can create train-test data splits using a graph-based method. Specifically, by representing sequences as nodes and using edges to denote whether sequences were found to be homologous (yes or no), identifying homologous groups of sequences can be reduced to the task of identifying all disconnected subgraphs in the population. \n",
    "\n",
    "## Creating homology-aware data splits\n",
    "\n",
    "Below we show how splits can be created based on the homologous groups identified from either the `hashFrag-lightning` or `hashFrag-pure` methods."
   ]
  },
  {
   "cell_type": "code",
   "execution_count": 17,
   "id": "ebbc568a-ae85-4df6-a990-0b52f05e6866",
   "metadata": {
    "execution": {
     "iopub.execute_input": "2024-12-29T05:53:56.423420Z",
     "iopub.status.busy": "2024-12-29T05:53:56.423242Z",
     "iopub.status.idle": "2024-12-29T05:53:59.731107Z",
     "shell.execute_reply": "2024-12-29T05:53:59.730516Z",
     "shell.execute_reply.started": "2024-12-29T05:53:56.423398Z"
    },
    "tags": []
   },
   "outputs": [
    {
     "name": "stdout",
     "output_type": "stream",
     "text": [
      "2024-12-29 14:53:56 - create_orthogonal_splits_module - INFO - Calling module...\n",
      "2024-12-29 14:53:56 - create_orthogonal_splits_module - INFO - Creating 10 orthogonal splits in directory: /home/brett/work/OrthogonalTrainValSplits/hashFrag/data/K562.sample_10000.hashFrag.create_splits.work\n",
      "2024-12-29 14:53:59 - create_orthogonal_splits_module - INFO - Module execution completed.\n",
      "\n"
     ]
    }
   ],
   "source": [
    "%%bash\n",
    "\n",
    "FASTA_PATH=/home/brett/work/OrthogonalTrainValSplits/hashFrag/data/K562.sample_10000.fa.gz\n",
    "WORK_DIR=/home/brett/work/OrthogonalTrainValSplits/hashFrag/data/K562.sample_10000.hashFrag.create_splits.work\n",
    "HOMOLOGY_PATH=$WORK_DIR/homologous_groups.lightning.csv # lightning mode\n",
    "OUT_DIR=$WORK_DIR\n",
    "\n",
    "hashFrag create_orthogonal_splits_module -f $FASTA_PATH -i $HOMOLOGY_PATH -n 10 -o $OUT_DIR"
   ]
  },
  {
   "cell_type": "code",
   "execution_count": 18,
   "id": "d8b8f59f-0c8b-4118-a4b9-1e4962996887",
   "metadata": {
    "execution": {
     "iopub.execute_input": "2024-12-29T05:53:59.732106Z",
     "iopub.status.busy": "2024-12-29T05:53:59.731928Z",
     "iopub.status.idle": "2024-12-29T05:54:03.022114Z",
     "shell.execute_reply": "2024-12-29T05:54:03.021312Z",
     "shell.execute_reply.started": "2024-12-29T05:53:59.732083Z"
    },
    "tags": []
   },
   "outputs": [
    {
     "name": "stdout",
     "output_type": "stream",
     "text": [
      "2024-12-29 14:54:00 - create_orthogonal_splits_module - INFO - Calling module...\n",
      "2024-12-29 14:54:00 - create_orthogonal_splits_module - INFO - Creating 10 orthogonal splits in directory: /home/brett/work/OrthogonalTrainValSplits/hashFrag/data/K562.sample_10000.hashFrag.create_splits.work\n",
      "2024-12-29 14:54:02 - create_orthogonal_splits_module - INFO - Module execution completed.\n",
      "\n"
     ]
    }
   ],
   "source": [
    "%%bash\n",
    "\n",
    "FASTA_PATH=/home/brett/work/OrthogonalTrainValSplits/hashFrag/data/K562.sample_10000.fa.gz\n",
    "WORK_DIR=/home/brett/work/OrthogonalTrainValSplits/hashFrag/data/K562.sample_10000.hashFrag.create_splits.work\n",
    "HOMOLOGY_PATH=$WORK_DIR/homologous_groups.pure.csv # pure mode\n",
    "OUT_DIR=$WORK_DIR\n",
    "\n",
    "hashFrag create_orthogonal_splits_module -f $FASTA_PATH -i $HOMOLOGY_PATH -n 10 -o $OUT_DIR"
   ]
  },
  {
   "cell_type": "code",
   "execution_count": null,
   "id": "6058f9ba-f56f-4916-bb38-83e23fecee33",
   "metadata": {},
   "outputs": [],
   "source": []
  }
 ],
 "metadata": {
  "kernelspec": {
   "display_name": "Python 3 (ipykernel)",
   "language": "python",
   "name": "python3"
  },
  "language_info": {
   "codemirror_mode": {
    "name": "ipython",
    "version": 3
   },
   "file_extension": ".py",
   "mimetype": "text/x-python",
   "name": "python",
   "nbconvert_exporter": "python",
   "pygments_lexer": "ipython3",
   "version": "3.9.15"
  }
 },
 "nbformat": 4,
 "nbformat_minor": 5
}

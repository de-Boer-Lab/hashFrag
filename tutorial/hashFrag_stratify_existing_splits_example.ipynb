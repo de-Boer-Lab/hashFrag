{
 "cells": [
  {
   "cell_type": "markdown",
   "id": "d6c530bb-9392-442c-bba2-34420b120d7f",
   "metadata": {},
   "source": [
    "# `help` commands for general usage"
   ]
  },
  {
   "cell_type": "code",
   "execution_count": 2,
   "id": "0308633d-5c9a-4425-ab28-191ac234e6df",
   "metadata": {
    "execution": {
     "iopub.execute_input": "2025-03-01T23:27:16.926412Z",
     "iopub.status.busy": "2025-03-01T23:27:16.926051Z",
     "iopub.status.idle": "2025-03-01T23:27:17.251833Z",
     "shell.execute_reply": "2025-03-01T23:27:17.251397Z",
     "shell.execute_reply.started": "2025-03-01T23:27:16.926378Z"
    },
    "tags": []
   },
   "outputs": [
    {
     "name": "stdout",
     "output_type": "stream",
     "text": [
      "usage: hashFrag [-h]\n",
      "                {blastn_module,blastn_array_module,process_blast_results_module,filter_candidates_module,filter_test_split_module,stratify_test_split_module,identify_homologous_groups_module,create_orthogonal_splits_module,filter_existing_splits,stratify_test_split,create_orthogonal_splits}\n",
      "                ...\n",
      "\n",
      "hashFrag is a tool developed to mitigate the impacts of homology-based data leakage in sequence-to-expression\n",
      "models. By identifying homology (based on pairwise alignment scores) in a sequence dataset, this tool can be used\n",
      "to filter homologous sequences spanning existing train-test splits (e.g., chromosomal splits), stratify a test\n",
      "split according to different levels of homology, or create homology-aware train-test splits.\n",
      "\n",
      "positional arguments:\n",
      "  {blastn_module,blastn_array_module,process_blast_results_module,filter_candidates_module,filter_test_split_module,stratify_test_split_module,identify_homologous_groups_module,create_orthogonal_splits_module,filter_existing_splits,stratify_test_split,create_orthogonal_splits}\n",
      "    blastn_module       A wrapper script calling BLASTn to identify candidate pairs of sequences sharing regions\n",
      "                        with high similarity.\n",
      "    blastn_array_module\n",
      "                        A wrapper script to set up an array job calling BLASTn to identify candidate pairs of\n",
      "                        sequences sharing regions with high similarity.\n",
      "    process_blast_results_module\n",
      "                        A wrapper script calling BLASTn to identify candidate pairs of sequences sharing regions\n",
      "                        with high similarity.\n",
      "    filter_candidates_module\n",
      "                        Filter candidate pairs based on a specified alignment score threshold (false-positive\n",
      "                        removal).\n",
      "    filter_test_split_module\n",
      "                        Filter test sequences that exhibit homology with any train sequences.\n",
      "    stratify_test_split_module\n",
      "                        Stratify the test split into subsplits based on their maximum alignment score to the\n",
      "                        sequences in the train split.\n",
      "    identify_homologous_groups_module\n",
      "                        Identify all distinct groups of homologous sequences.\n",
      "    create_orthogonal_splits_module\n",
      "                        Create homology-aware test-train splits.\n",
      "    filter_existing_splits\n",
      "                        Execute the full workflow of commands to filter homology spanning the input test splits.\n",
      "    stratify_test_split\n",
      "                        Execute the full workflow of commands to stratify the test split based on their maximum\n",
      "                        pairwise alignment score to the train split sequences.\n",
      "    create_orthogonal_splits\n",
      "                        Execute the full workflow of commands to create homology-aware train-test splits.\n",
      "\n",
      "optional arguments:\n",
      "  -h, --help            show this help message and exit\n"
     ]
    }
   ],
   "source": [
    "%%bash\n",
    "\n",
    "hashFrag -h"
   ]
  },
  {
   "cell_type": "code",
   "execution_count": 3,
   "id": "4fa15d5b-745f-4746-911e-7ddb372a41f1",
   "metadata": {
    "execution": {
     "iopub.execute_input": "2025-03-01T23:27:19.691449Z",
     "iopub.status.busy": "2025-03-01T23:27:19.691272Z",
     "iopub.status.idle": "2025-03-01T23:27:19.989092Z",
     "shell.execute_reply": "2025-03-01T23:27:19.988652Z",
     "shell.execute_reply.started": "2025-03-01T23:27:19.691430Z"
    },
    "tags": []
   },
   "outputs": [
    {
     "name": "stdout",
     "output_type": "stream",
     "text": [
      "usage: hashFrag stratify_test_split [-h] [--train-fasta-path TRAIN_FASTA_PATH] [--test-fasta-path TEST_FASTA_PATH]\n",
      "                                    [-w WORD_SIZE] [-g GAPOPEN] [-x GAPEXTEND] [-p PENALTY] [-r REWARD]\n",
      "                                    [-m MAX_TARGET_SEQS] [--exec-makeblastdb-only] [--skip-revcomp]\n",
      "                                    [--xdrop-ungap XDROP_UNGAP] [--xdrop-gap XDROP_GAP]\n",
      "                                    [--xdrop-gap_final XDROP_GAP_FINAL] [-e EVALUE] [-d DUST] [-b BLASTDB_ARGS]\n",
      "                                    [--blastdb-label BLASTDB_LABEL] [-B BLASTN_ARGS] [-T THREADS] [--force]\n",
      "                                    [-o OUTPUT_DIR] [-s STEP]\n",
      "\n",
      "Execute the full workflow of commands to stratify the test split based on their maximum pairwise alignment score\n",
      "to the train split sequences. This involves identifying pairs of sequences sharing similarities with BLAST, and\n",
      "then stratiyfing the test split into subsplits based on the corrected BLAST alignment score.\n",
      "\n",
      "optional arguments:\n",
      "  -h, --help            show this help message and exit\n",
      "  --train-fasta-path TRAIN_FASTA_PATH\n",
      "                        Input FASTA file for the training data split, which will comprise the BLAST database.\n",
      "                        (supports unzipped or gzipped file formats)\n",
      "  --test-fasta-path TEST_FASTA_PATH\n",
      "                        Each sequence will be queried against the train split BLAST database. (supports unzipped\n",
      "                        or gzipped file formats)\n",
      "  -w WORD_SIZE, --word_size WORD_SIZE\n",
      "                        Length of exact matching subsequences of initial match (Default: 11).\n",
      "  -g GAPOPEN, --gapopen GAPOPEN\n",
      "                        Penalty (positive value) for opening gap in the alignment (Default: 2).\n",
      "  -x GAPEXTEND, --gapextend GAPEXTEND\n",
      "                        Penalty (positive value) for extending an existing gap in the alignment (Default: 1).\n",
      "  -p PENALTY, --penalty PENALTY\n",
      "                        Nucleotide mismatch in penalty (negative value) the alignment (Default: -1).\n",
      "  -r REWARD, --reward REWARD\n",
      "                        Nucleotide match reward in the alignment (Default: 1).\n",
      "  -m MAX_TARGET_SEQS, --max-target-seqs MAX_TARGET_SEQS\n",
      "                        The maximum number of target sequences that can be returned per query sequence (Default:\n",
      "                        500).\n",
      "  --exec-makeblastdb-only\n",
      "                        Only run the makeblastdb command (default: False, set to True when specified).\n",
      "  --skip-revcomp        Skip generating reverse complement of sequences comprising the BLAST database (Default:\n",
      "                        False, generated if not skipped).\n",
      "  --xdrop-ungap XDROP_UNGAP\n",
      "                        X-drop threshold for ungapped alignment extension (Permissible values: real numbers;\n",
      "                        Default: 20).\n",
      "  --xdrop-gap XDROP_GAP\n",
      "                        X-drop threshold for gapped alignment extension (Permissible values: real numbers;\n",
      "                        Default: 30).\n",
      "  --xdrop-gap_final XDROP_GAP_FINAL\n",
      "                        X-drop threshold for final alignment extension (Permissible values: real numbers; Default:\n",
      "                        100).\n",
      "  -e EVALUE, --evalue EVALUE\n",
      "                        The likelihood threshold required to report sequences as a match (Default: 10).\n",
      "  -d DUST, --dust DUST  Filter low-complexity (e.g., repetitive) regions (Default: 'no').\n",
      "  -b BLASTDB_ARGS, --blastdb-args BLASTDB_ARGS\n",
      "                        Pass additional arguments for makeblastdb call.\n",
      "  --blastdb-label BLASTDB_LABEL\n",
      "                        A label for the BLAST database.\n",
      "  -B BLASTN_ARGS, --blastn-args BLASTN_ARGS\n",
      "                        Pass additional arguments for blastn call.\n",
      "  -T THREADS, --threads THREADS\n",
      "                        The number of CPUs for database search (Default: 1).\n",
      "  --force               Force overwrite existing BLAST module output files (Default: False, existing output files\n",
      "                        will not be overwritten).\n",
      "  -o OUTPUT_DIR, --output-dir OUTPUT_DIR\n",
      "                        Directory to write BLASTn results (Default: '.').\n",
      "  -s STEP, --step STEP  The step size refers to how large each alignment score range is (Default: 10).\n"
     ]
    }
   ],
   "source": [
    "%%bash\n",
    "\n",
    "hashFrag stratify_test_split -h"
   ]
  },
  {
   "cell_type": "markdown",
   "id": "c69543af-dea5-4f9a-a0ae-7f73f35dbc4b",
   "metadata": {
    "execution": {
     "iopub.execute_input": "2024-12-29T04:48:46.900958Z",
     "iopub.status.busy": "2024-12-29T04:48:46.900809Z",
     "iopub.status.idle": "2024-12-29T04:48:46.905322Z",
     "shell.execute_reply": "2024-12-29T04:48:46.904781Z",
     "shell.execute_reply.started": "2024-12-29T04:48:46.900938Z"
    }
   },
   "source": [
    "# Section 0: Introduction\n",
    "\n",
    "> This notebook refers to the case when users have existing train-test splits and are interested in identifying and mitigating data leakage attributed to shared sequence homology across splits.\n",
    "\n",
    "The example workflow is performed with two data splits from a subsampled MPRA dataset (K562): a 8,000-sequence train split and a 2,000-sequence test split (provided in the `data` directory).\n",
    "\n",
    "This notebook serves a walkthrough of calling the individual modules comprising the `hashFrag stratify_test_split` command.\n",
    "\n",
    "Example call of the complete pipeline (`lightning` mode):\n",
    "\n",
    "```\n",
    "hashFrag stratify_test_split \\\n",
    "--train-fasta-path ../data/example_train_split.f \\\n",
    "--test-fasta-path ../data/example_test_split.fa \\\n",
    "--word-size 7 \\\n",
    "--max-target-seqs 8000 \\\n",
    "--evalue 100 \\\n",
    "--step 10 \\\n",
    "--skip-revcomp \\\n",
    "--force \\\n",
    "--output-dir ../data/tutorial.stratify_test_split.work\n",
    "```\n",
    "\n",
    "However, it may be desirable to instead use exact alignment scores (e.g., Smith-Waterman local alignment scores) for the homology search process. This notebook serves as a walkthrough for how users can use manually computed local alignment scores for the BLAST candidate pairs by calling the individual modules comprising the `create_orthogonal_splits` pipeline.\n",
    "\n",
    "## Section 0.1 - A note on the selected parameters for this tutorial \n",
    "\n",
    "Successful identification of cases of homology is paramount to effectively mitigate homology-based data leakage. As such, we configure the BLASTn parameters such that recall is maximized, even if it comes at the expense of increased false-positives. Here we consider the following parameters of BLASTn:\n",
    "\n",
    "* `word_size`: smaller word sizes results in more exact word matches found between the query and sequences in the database, leading to more alignment score calculations being initialized.\n",
    "* `max_target_seqs`: set to the size of the database to remove any constraints and allow for all possible candidate sequences to be returned for a given query.\n",
    "* `evalue`: the e-value statistic is a measure of how likely you observe the alignment by chance (lower value corresponds to less likely to observe). By increasing the e-value threshold, less stringent matches that could be due to chance are returned.\n",
    "* `dust`: by setting dust off, low-complexity (e.g., repetitive sequences) are no longer masked/filtered out."
   ]
  },
  {
   "cell_type": "markdown",
   "id": "68341864-0783-4525-b293-b859797c4b1e",
   "metadata": {},
   "source": [
    "# Section 1 - Identifying candidate similar sequences\n",
    "\n",
    "When user-derived train-test splits are provided, comparisons are constrained to pairs of sequences across splits. The process of identifying candidate pairs of similar sequences involves first creating a BLAST database of sequences in the train split, and then querying each test split sequence against the database. The BLASTn algorithm returns pairwise matches that represent potential cases of homology. "
   ]
  },
  {
   "cell_type": "code",
   "execution_count": 4,
   "id": "e8aca36f-551c-4b4a-9b6a-58518a4d893c",
   "metadata": {
    "execution": {
     "iopub.execute_input": "2025-03-01T23:30:32.764230Z",
     "iopub.status.busy": "2025-03-01T23:30:32.763977Z",
     "iopub.status.idle": "2025-03-01T23:32:31.817425Z",
     "shell.execute_reply": "2025-03-01T23:32:31.816868Z",
     "shell.execute_reply.started": "2025-03-01T23:30:32.764202Z"
    },
    "tags": []
   },
   "outputs": [
    {
     "name": "stdout",
     "output_type": "stream",
     "text": [
      "2025-03-02 08:30:33 - blastn_module - INFO - Calling module...\n",
      "2025-03-02 08:30:33 - blastn_module - INFO - Train and test FASTA files detected. Computing pairwise BLAST comparisons across splits...\n",
      "2025-03-02 08:30:39 - blastn_module - INFO - BLASTn output: \n",
      "\n",
      "Building a new DB, current time: 03/02/2025 08:30:38\n",
      "New DB name:   /rshare1/ZETTAI_path_WA_slash_home_KARA/home/brett/work/OrthogonalTrainValSplits/hashFrag/data/tutorial.stratify_test_split.work/hashFrag.blastdb\n",
      "New DB title:  hashFrag\n",
      "Sequence type: Nucleotide\n",
      "Keep MBits: T\n",
      "Maximum file size: 1000000000B\n",
      "Adding sequences from FASTA; added 8000 sequences in 0.12439 seconds.\n",
      "\n",
      "\n",
      "\n",
      "2025-03-02 08:30:39 - blastn_module - INFO - BLAST DataBase construction finished and written to: /rshare1/ZETTAI_path_WA_slash_home_KARA/home/brett/work/OrthogonalTrainValSplits/hashFrag/data/tutorial.stratify_test_split.work/hashFrag.blastdb\n",
      "2025-03-02 08:32:31 - blastn_module - INFO - BLASTn process finished and written to: /rshare1/ZETTAI_path_WA_slash_home_KARA/home/brett/work/OrthogonalTrainValSplits/hashFrag/data/tutorial.stratify_test_split.work/example_test_split.blastn.out\n",
      "2025-03-02 08:32:31 - blastn_module - INFO - Module execution completed.\n",
      "\n"
     ]
    }
   ],
   "source": [
    "%%bash\n",
    "\n",
    "TRAIN_FASTA_PATH=../data/example_train_split.fa\n",
    "TEST_FASTA_PATH=../data/example_test_split.fa\n",
    "WORK_DIR=../data/tutorial.stratify_test_split.work\n",
    "\n",
    "hashFrag blastn_module \\\n",
    "--train-fasta-path $TRAIN_FASTA_PATH \\\n",
    "--test-fasta-path $TEST_FASTA_PATH \\\n",
    "--word-size 7 \\\n",
    "--max-target-seqs 8000 \\\n",
    "--evalue 100 \\\n",
    "--blastdb-label \"hashFrag\" \\\n",
    "--skip-revcomp \\\n",
    "-o $WORK_DIR"
   ]
  },
  {
   "cell_type": "markdown",
   "id": "8f25859a-f4c6-4b83-8486-34cca942c019",
   "metadata": {},
   "source": [
    "## Section 1.1 - Processing raw `blastn` output file\n",
    "\n",
    "This processing step extracts the top-scoring alignment for each unique query-subject sequence pair and corrects the heuristic alignment score for subsequent steps. The processed tab-delimited file contains 3 columns (query sequence ID, subject sequence ID and their corrected heuristic alignment score)."
   ]
  },
  {
   "cell_type": "code",
   "execution_count": 6,
   "id": "80110f76-ca57-451b-abcb-62d2492051f5",
   "metadata": {
    "execution": {
     "iopub.execute_input": "2025-03-01T23:33:11.831986Z",
     "iopub.status.busy": "2025-03-01T23:33:11.831753Z",
     "iopub.status.idle": "2025-03-01T23:33:13.131295Z",
     "shell.execute_reply": "2025-03-01T23:33:13.130562Z",
     "shell.execute_reply.started": "2025-03-01T23:33:11.831965Z"
    },
    "tags": []
   },
   "outputs": [
    {
     "name": "stdout",
     "output_type": "stream",
     "text": [
      "2025-03-02 08:33:12 - process_blast_results_module - INFO - Calling module...\n",
      "2025-03-02 08:33:13 - process_blast_results_module - INFO - Processed BLASTn results written to: ../data/tutorial.stratify_test_split.work/example_test_split.blastn.processed.tsv\n",
      "2025-03-02 08:33:13 - process_blast_results_module - INFO - Module execution completed.\n",
      "\n"
     ]
    }
   ],
   "source": [
    "%%bash\n",
    "\n",
    "WORK_DIR=../data/tutorial.stratify_test_split.work\n",
    "LABEL=example_test_split\n",
    "BLASTN_PATH=$WORK_DIR/${LABEL}.blastn.out\n",
    "PROCESSED_BLASTN_PATH=$WORK_DIR/${LABEL}.blastn.processed.tsv\n",
    "\n",
    "hashFrag process_blast_results_module --blastn-path $BLASTN_PATH --processed-blastn-path $PROCESSED_BLASTN_PATH"
   ]
  },
  {
   "cell_type": "markdown",
   "id": "17256483-34d5-4c45-a269-8c941e2ad303",
   "metadata": {},
   "source": [
    "# Section 2: Use Case(s)\n",
    "\n",
    "## Stratify test split based on homology\n",
    "\n",
    "Another potentially useful feature is to stratify the test split based on each test sequence's maximum alignment score compared to all sequences in the train split. This can aid in studying the effects that homology has on model performance evaluation. The range of values is specified by the `step` parameter.\n",
    "\n",
    "The default behavior (`lightning` mode), can be obtained wiht the following command:\n",
    "\n",
    "```\n",
    "TEST_FASTA_PATH=../data/example_test_split.fa\n",
    "WORK_DIR=../data/tutorial.stratify_test_split.work\n",
    "INPUT_PATH=$WORK_DIR/hashFrag.blastn.out\n",
    "OUTPUT_PATH=$WORK_DIR/hashFrag_lightning.stratified_test.tsv\n",
    "hashFrag stratify_test_split_module -f $TEST_FASTA_PATH -i $INPUT_PATH -s 10 -o $OUTPUT_PATH\n",
    "```"
   ]
  },
  {
   "cell_type": "markdown",
   "id": "ef7df61d-a724-4dc9-b6a1-15a6fae1df8f",
   "metadata": {},
   "source": [
    "### Section 2.1 - hashFrag-pure mode"
   ]
  },
  {
   "cell_type": "code",
   "execution_count": 8,
   "id": "d700599f-d8c2-4721-8e38-fcae98fa9bcc",
   "metadata": {
    "execution": {
     "iopub.execute_input": "2025-03-01T23:35:31.257346Z",
     "iopub.status.busy": "2025-03-01T23:35:31.257039Z",
     "iopub.status.idle": "2025-03-01T23:35:31.307203Z",
     "shell.execute_reply": "2025-03-01T23:35:31.306568Z",
     "shell.execute_reply.started": "2025-03-01T23:35:31.257323Z"
    },
    "tags": []
   },
   "outputs": [
    {
     "name": "stdout",
     "output_type": "stream",
     "text": [
      "total 1.5K\n",
      "-rw-r----- 1 brett 1.4M Mar  2 08:35 example_test_split.blastn.processed.partition_aaac.tsv\n",
      "-rw-r----- 1 brett 3.2M Mar  2 08:35 example_test_split.blastn.processed.partition_aaab.tsv\n",
      "-rw-r----- 1 brett 3.2M Mar  2 08:35 example_test_split.blastn.processed.partition_aaaa.tsv\n"
     ]
    }
   ],
   "source": [
    "%%bash\n",
    "\n",
    "WORK_DIR=../data/tutorial.stratify_test_split.work\n",
    "\n",
    "cd $WORK_DIR\n",
    "PROCESSED_BLASTN_PATH=$PWD/example_test_split.blastn.processed.tsv\n",
    "BLAST_DIR=$PWD/blast_partitions\n",
    "LABEL=$( basename -s \".tsv\" $PROCESSED_BLASTN_PATH )\n",
    "\n",
    "# Create directory for partitioned processed BLAST file\n",
    "mkdir -p $BLAST_DIR\n",
    "cd $BLAST_DIR\n",
    "\n",
    "# Split the file based on number of lines\n",
    "split -l 100000 -a 4 --additional-suffix=.tsv $PROCESSED_BLASTN_PATH ${LABEL}.partition_\n",
    "ls -thor $BLAST_DIR"
   ]
  },
  {
   "cell_type": "code",
   "execution_count": 9,
   "id": "812dca2d-c112-4286-9505-7ce579993fb7",
   "metadata": {
    "execution": {
     "iopub.execute_input": "2025-03-01T23:36:17.096450Z",
     "iopub.status.busy": "2025-03-01T23:36:17.096224Z",
     "iopub.status.idle": "2025-03-01T23:38:09.058290Z",
     "shell.execute_reply": "2025-03-01T23:38:09.057554Z",
     "shell.execute_reply.started": "2025-03-01T23:36:17.096429Z"
    },
    "tags": []
   },
   "outputs": [
    {
     "name": "stdout",
     "output_type": "stream",
     "text": [
      "Computing exact alignment scores for partitioned files...\n",
      "/rshare1/ZETTAI_path_WA_slash_home_KARA/home/brett/work/OrthogonalTrainValSplits/hashFrag/data/tutorial.stratify_test_split.work/blast_partitions/example_test_split.blastn.processed.partition_aaaa.tsv\n",
      "/rshare1/ZETTAI_path_WA_slash_home_KARA/home/brett/work/OrthogonalTrainValSplits/hashFrag/data/tutorial.stratify_test_split.work/blast_partitions/example_test_split.blastn.processed.partition_aaab.tsv\n",
      "/rshare1/ZETTAI_path_WA_slash_home_KARA/home/brett/work/OrthogonalTrainValSplits/hashFrag/data/tutorial.stratify_test_split.work/blast_partitions/example_test_split.blastn.processed.partition_aaac.tsv\n",
      "Concatenating partitioned files...\n",
      "BCL11A_1238\tpeak79295\t15.0\n",
      "BCL11A_1238\tpeak79031\t13.0\n",
      "BCL11A_1238\tpeak16460_Reversed\t15.0\n",
      "BCL11A_1238\tpeak10840_Reversed\t13.0\n",
      "BCL11A_1238\tGATA1_4792\t14.0\n",
      "BCL11A_1238\tpeak35733_Reversed\t18.0\n",
      "BCL11A_1238\tpeak74971\t14.0\n",
      "BCL11A_1238\tpeak4007_Reversed\t14.0\n",
      "BCL11A_1238\tpeak27092_Reversed\t13.0\n",
      "BCL11A_1238\tpeak48369\t13.0\n"
     ]
    }
   ],
   "source": [
    "%%bash\n",
    "\n",
    "DATA_DIR=../data\n",
    "cd $DATA_DIR\n",
    "\n",
    "FASTA_PATH=$PWD/example_full_dataset.fa\n",
    "WORK_DIR=$PWD/tutorial.stratify_test_split.work\n",
    "BLAST_DIR=$WORK_DIR/blast_partitions\n",
    "\n",
    "cd ../src/external\n",
    "\n",
    "echo \"Computing exact alignment scores for partitioned files...\"\n",
    "for PARTITIONED_BLAST_PATH in $BLAST_DIR/*.partition_*.tsv\n",
    "do\n",
    "    echo $PARTITIONED_BLAST_PATH\n",
    "    bash compute_blast_candidate_SW_scores.sh $FASTA_PATH $PARTITIONED_BLAST_PATH\n",
    "done\n",
    "\n",
    "echo \"Concatenating partitioned files...\"\n",
    "cat $BLAST_DIR/*.pairwise_scores.tsv > $WORK_DIR/hashFrag_pure.blastn_candidates.sw_scores.tsv\n",
    "cat $WORK_DIR/hashFrag_pure.blastn_candidates.sw_scores.tsv | head -n 10"
   ]
  },
  {
   "cell_type": "markdown",
   "id": "f7dea73f-0e29-46d5-b019-d82333a99b18",
   "metadata": {},
   "source": [
    "The SW scores for candidate pairs of sequences can subsequently be concatenated into a single `.tsv` file."
   ]
  },
  {
   "cell_type": "code",
   "execution_count": 12,
   "id": "7a5f32c1-4425-40aa-9d09-67c1d5967311",
   "metadata": {
    "execution": {
     "iopub.execute_input": "2025-03-01T23:40:45.808140Z",
     "iopub.status.busy": "2025-03-01T23:40:45.807914Z",
     "iopub.status.idle": "2025-03-01T23:40:46.765045Z",
     "shell.execute_reply": "2025-03-01T23:40:46.764297Z",
     "shell.execute_reply.started": "2025-03-01T23:40:45.808119Z"
    },
    "tags": []
   },
   "outputs": [
    {
     "name": "stdout",
     "output_type": "stream",
     "text": [
      "2025-03-02 08:40:46 - stratify_test_split_module - INFO - Calling module...\n",
      "2025-03-02 08:40:46 - stratify_test_split_module - INFO - Stratifying based on the provided pairwise scores...\n",
      "2025-03-02 08:40:46 - stratify_test_split_module - INFO - Stratification results written to: ../data/tutorial.stratify_test_split.work/hashFrag_pure.stratified_test.tsv\n",
      "2025-03-02 08:40:46 - stratify_test_split_module - INFO - Module execution completed.\n",
      "\n"
     ]
    }
   ],
   "source": [
    "%%bash\n",
    "\n",
    "TEST_FASTA_PATH=../data/example_test_split.fa\n",
    "WORK_DIR=../data/tutorial.stratify_test_split.work\n",
    "INPUT_PATH=$WORK_DIR/hashFrag_pure.blastn_candidates.sw_scores.tsv\n",
    "STEP=10\n",
    "OUTPUT_PATH=$WORK_DIR/hashFrag_pure.stratified_test.tsv\n",
    "\n",
    "hashFrag stratify_test_split_module -f $TEST_FASTA_PATH -i $INPUT_PATH -s 10 -o $OUTPUT_PATH\n"
   ]
  }
 ],
 "metadata": {
  "kernelspec": {
   "display_name": "Python 3 (ipykernel)",
   "language": "python",
   "name": "python3"
  },
  "language_info": {
   "codemirror_mode": {
    "name": "ipython",
    "version": 3
   },
   "file_extension": ".py",
   "mimetype": "text/x-python",
   "name": "python",
   "nbconvert_exporter": "python",
   "pygments_lexer": "ipython3",
   "version": "3.9.15"
  }
 },
 "nbformat": 4,
 "nbformat_minor": 5
}

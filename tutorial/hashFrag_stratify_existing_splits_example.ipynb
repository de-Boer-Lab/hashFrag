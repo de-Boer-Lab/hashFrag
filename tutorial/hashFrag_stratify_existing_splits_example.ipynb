{
 "cells": [
  {
   "cell_type": "code",
   "execution_count": 1,
   "id": "9426d328-9053-4502-bcc2-37588bd7054a",
   "metadata": {
    "execution": {
     "iopub.execute_input": "2025-01-10T21:18:20.661283Z",
     "iopub.status.busy": "2025-01-10T21:18:20.661069Z",
     "iopub.status.idle": "2025-01-10T21:18:20.666200Z",
     "shell.execute_reply": "2025-01-10T21:18:20.665829Z",
     "shell.execute_reply.started": "2025-01-10T21:18:20.661261Z"
    },
    "tags": []
   },
   "outputs": [],
   "source": [
    "import os\n",
    "os.environ['NUMEXPR_MAX_THREADS'] = '16' # just to prevent warning NUMEXPR messages"
   ]
  },
  {
   "cell_type": "markdown",
   "id": "d6c530bb-9392-442c-bba2-34420b120d7f",
   "metadata": {},
   "source": [
    "# `help` commands for general usage"
   ]
  },
  {
   "cell_type": "code",
   "execution_count": 2,
   "id": "0308633d-5c9a-4425-ab28-191ac234e6df",
   "metadata": {
    "execution": {
     "iopub.execute_input": "2025-01-10T21:18:23.757142Z",
     "iopub.status.busy": "2025-01-10T21:18:23.756879Z",
     "iopub.status.idle": "2025-01-10T21:18:24.059981Z",
     "shell.execute_reply": "2025-01-10T21:18:24.059510Z",
     "shell.execute_reply.started": "2025-01-10T21:18:23.757118Z"
    },
    "tags": []
   },
   "outputs": [
    {
     "name": "stdout",
     "output_type": "stream",
     "text": [
      "usage: hashFrag [-h]\n",
      "                {blastn_module,filter_candidates_module,filter_test_split_module,stratify_test_split_module,identify_homologous_groups_module,create_orthogonal_splits_module,filter_existing_splits,stratify_test_split,create_orthogonal_splits}\n",
      "                ...\n",
      "\n",
      "hashFrag is a tool developed to mitigate the impacts of homology-based data leakage in sequence-to-expression models. By identifying homology (based on\n",
      "pairwise alignment scores) in a sequence dataset, this tool can be used to filter homologous sequences spanning existing train-test splits (e.g.,\n",
      "chromosomal splits), stratify a test split according to different levels of homology, or create homology-aware train-test splits.\n",
      "\n",
      "positional arguments:\n",
      "  {blastn_module,filter_candidates_module,filter_test_split_module,stratify_test_split_module,identify_homologous_groups_module,create_orthogonal_splits_module,filter_existing_splits,stratify_test_split,create_orthogonal_splits}\n",
      "    blastn_module       A wrapper script calling BLASTn to identify candidate pairs of sequences sharing regions with high similarity.\n",
      "    filter_candidates_module\n",
      "                        Filter candidate pairs based on a specified alignment score threshold (false-positive removal).\n",
      "    filter_test_split_module\n",
      "                        Filter test sequences that exhibit homology with any train sequences.\n",
      "    stratify_test_split_module\n",
      "                        Stratify the test split into subsplits based on their maximum alignment score to the sequences in the train split.\n",
      "    identify_homologous_groups_module\n",
      "                        Identify all distinct groups of homologous sequences.\n",
      "    create_orthogonal_splits_module\n",
      "                        Create homology-aware test-train splits.\n",
      "    filter_existing_splits\n",
      "                        Execute the full workflow of commands to filter homology spanning the input test splits.\n",
      "    stratify_test_split\n",
      "                        Execute the full workflow of commands to stratify the test split based on their maximum pairwise alignment score to the train\n",
      "                        split sequences.\n",
      "    create_orthogonal_splits\n",
      "                        Execute the full workflow of commands to create homology-aware train-test splits.\n",
      "\n",
      "optional arguments:\n",
      "  -h, --help            show this help message and exit\n"
     ]
    }
   ],
   "source": [
    "%%bash\n",
    "\n",
    "hashFrag -h"
   ]
  },
  {
   "cell_type": "code",
   "execution_count": 3,
   "id": "4fa15d5b-745f-4746-911e-7ddb372a41f1",
   "metadata": {
    "execution": {
     "iopub.execute_input": "2025-01-10T21:18:37.135475Z",
     "iopub.status.busy": "2025-01-10T21:18:37.135200Z",
     "iopub.status.idle": "2025-01-10T21:18:37.433354Z",
     "shell.execute_reply": "2025-01-10T21:18:37.432911Z",
     "shell.execute_reply.started": "2025-01-10T21:18:37.135447Z"
    },
    "tags": []
   },
   "outputs": [
    {
     "name": "stdout",
     "output_type": "stream",
     "text": [
      "usage: hashFrag stratify_test_split [-h] [--train_fasta_path TRAIN_FASTA_PATH] [--test_fasta_path TEST_FASTA_PATH] [-w WORD_SIZE] [-g GAPOPEN]\n",
      "                                    [-x GAPEXTEND] [-p PENALTY] [-r REWARD] [-m MAX_TARGET_SEQS] [--xdrop_ungap XDROP_UNGAP] [--xdrop_gap XDROP_GAP]\n",
      "                                    [--xdrop_gap_final XDROP_GAP_FINAL] [-e E_VALUE] [-d DUST] [-b BLASTDB_ARGS] [--blastdb_label BLASTDB_LABEL]\n",
      "                                    [-B BLASTN_ARGS] [-T THREADS] [--force] [-o OUTPUT_DIR] [-s STEP]\n",
      "\n",
      "Execute the full workflow of commands to stratify the test split based on their maximum pairwise alignment score to the train split sequences. This\n",
      "involves identifying pairs of sequences sharing similarities with BLAST, and then stratiyfing the test split into subsplits based on the corrected BLAST\n",
      "alignment score.\n",
      "\n",
      "optional arguments:\n",
      "  -h, --help            show this help message and exit\n",
      "  --train_fasta_path TRAIN_FASTA_PATH\n",
      "                        Input FASTA file for the training data split, which will comprise the BLAST database.\n",
      "  --test_fasta_path TEST_FASTA_PATH\n",
      "                        Each sequence will be queried against the train split BLAST database.\n",
      "  -w WORD_SIZE, --word_size WORD_SIZE\n",
      "                        Length of exact matching subsequences of initial match.\n",
      "  -g GAPOPEN, --gapopen GAPOPEN\n",
      "                        Penalty for opening gap in the alignment.\n",
      "  -x GAPEXTEND, --gapextend GAPEXTEND\n",
      "                        Penalty for extending an existing gap in the alignment.\n",
      "  -p PENALTY, --penalty PENALTY\n",
      "                        Nucleotide mismatch in penalty the alignment.\n",
      "  -r REWARD, --reward REWARD\n",
      "                        Nucleotide match reward in the alignment.\n",
      "  -m MAX_TARGET_SEQS, --max_target_seqs MAX_TARGET_SEQS\n",
      "                        The maximum number of target sequences that can be returned per query sequence.\n",
      "  --xdrop_ungap XDROP_UNGAP\n",
      "                        The likelihood threshold required to report sequences as a match.\n",
      "  --xdrop_gap XDROP_GAP\n",
      "                        The likelihood threshold required to report sequences as a match.\n",
      "  --xdrop_gap_final XDROP_GAP_FINAL\n",
      "                        The likelihood threshold required to report sequences as a match.\n",
      "  -e E_VALUE, --e_value E_VALUE\n",
      "                        The likelihood threshold required to report sequences as a match.\n",
      "  -d DUST, --dust DUST  Filter low-complexity (e.g., repetitive) regions.\n",
      "  -b BLASTDB_ARGS, --blastdb_args BLASTDB_ARGS\n",
      "                        Pass additional arguments for makeblastdb call.\n",
      "  --blastdb_label BLASTDB_LABEL\n",
      "                        A label for the BLAST database.\n",
      "  -B BLASTN_ARGS, --blastn_args BLASTN_ARGS\n",
      "                        Pass additional arguments for blastn call.\n",
      "  -T THREADS, --threads THREADS\n",
      "                        The number of CPUs for database search.\n",
      "  --force               Force overwrite BLAST module procedure (default: False)\n",
      "  -o OUTPUT_DIR, --output_dir OUTPUT_DIR\n",
      "                        Directory to write BLASTn results.\n",
      "  -s STEP, --step STEP  The step size refers to how large each alignment score range is.\n"
     ]
    }
   ],
   "source": [
    "%%bash\n",
    "\n",
    "hashFrag stratify_test_split -h"
   ]
  },
  {
   "cell_type": "markdown",
   "id": "c69543af-dea5-4f9a-a0ae-7f73f35dbc4b",
   "metadata": {
    "execution": {
     "iopub.execute_input": "2024-12-29T04:48:46.900958Z",
     "iopub.status.busy": "2024-12-29T04:48:46.900809Z",
     "iopub.status.idle": "2024-12-29T04:48:46.905322Z",
     "shell.execute_reply": "2024-12-29T04:48:46.904781Z",
     "shell.execute_reply.started": "2024-12-29T04:48:46.900938Z"
    }
   },
   "source": [
    "# Section 0: Introduction\n",
    "\n",
    "> This notebook refers to the case when users have existing train-test splits and are interested in identifying and mitigating data leakage attributed to shared sequence homology across splits.\n",
    "\n",
    "The basic workflow is provided with respect two data splits from a subsampled MPRA dataset (K562): a 8,000-sequence train split and a 2,000-sequence test split (provided in the `data` directory).\n",
    "\n",
    "This notebook serves a walkthrough of calling the individual modules comprising the `hashFrag stratify_test_split` command. The basic usage command only supports \"lightning\" mode, and can be called as follows:\n",
    "```\n",
    "TRAIN_FASTA_PATH=../data/example_train_split.fa.gz\n",
    "TEST_FASTA_PATH=../data/example_test_split.fa.gz\n",
    "WORK_DIR=../data/tutorial.stratify_test_split.work\n",
    "\n",
    "WORD_SIZE=7\n",
    "MAX_TARGET_SEQS=8000 # size of train dataset\n",
    "E_VALUE=100\n",
    "STEP=10\n",
    "\n",
    "hashFrag stratify_test_split \\\n",
    "--train-fasta-path $TRAIN_FASTA_PATH \\\n",
    "--test-fasta-path $TEST_FASTA_PATH \\\n",
    "--word-size $WORD_SIZE \\\n",
    "--max-target-seqs $MAX_TARGET_SEQS \\\n",
    "--e-value $E_VALUE \\\n",
    "--step $STEP \\\n",
    "--output-dir $WORK_DIR \\\n",
    "--force\n",
    "```"
   ]
  },
  {
   "cell_type": "markdown",
   "id": "68341864-0783-4525-b293-b859797c4b1e",
   "metadata": {},
   "source": [
    "# Section 1 - Identifying candidate similar sequences\n",
    "\n",
    "When user-derived train-test splits are provided, comparisons are constrained to pairs of sequences across splits. The process of identifying candidate pairs of similar sequences involves first creating a BLAST database of sequences in the train split, and then querying each test split sequence against the database. The BLASTn algorithm returns pairwise matches that represent potential cases of homology. \n",
    "\n",
    "Successful identification of cases of homology is paramount to effectively mitigate homology-based data leakage. As such, we configure the BLASTn parameters such that recall is maximized, even if it comes at the expense of increased false-positives. Here we consider the following parameters of BLASTn:\n",
    "\n",
    "* word_size: smaller word sizes results in more exact word matches found between the query and sequences in the database, leading to more alignment score calculations being initialized.\n",
    "* max_target_seqs: set to the size of the database to remove any constraints and allow for all possible candidate sequences to be returned for a given query.\n",
    "* evalue: the e-value statistic is a measure of how likely you observe the alignment by chance (lower value corresponds to less likely to observe). By increasing the e-value threshold, less stringent matches that could be due to chance are returned.\n",
    "* dust: by setting dust off, low-complexity (e.g., repetitive sequences) are no longer masked/filtered out."
   ]
  },
  {
   "cell_type": "code",
   "execution_count": null,
   "id": "e8aca36f-551c-4b4a-9b6a-58518a4d893c",
   "metadata": {
    "execution": {
     "iopub.execute_input": "2025-01-10T21:22:43.196851Z",
     "iopub.status.busy": "2025-01-10T21:22:43.196667Z",
     "iopub.status.idle": "2025-01-10T21:22:43.703506Z",
     "shell.execute_reply": "2025-01-10T21:22:43.702933Z",
     "shell.execute_reply.started": "2025-01-10T21:22:43.196827Z"
    },
    "tags": []
   },
   "outputs": [
    {
     "name": "stdout",
     "output_type": "stream",
     "text": [
      "2025-01-11 06:22:43 - blastn_module - INFO - Calling module...\n",
      "2025-01-11 06:22:43 - blastn_module - INFO - Train and test FASTA files detected. Computing pairwise BLAST comparisons across splits...\n",
      "2025-01-11 06:22:43 - blastn_module - INFO - Existing BLAST database found. Path: ../data/tutorial.stratify_test_split.work/hashFrag.blastdb\n",
      "2025-01-11 06:22:43 - blastn_module - INFO - Skipping `makeblastdb` call...\n",
      "2025-01-11 06:22:43 - blastn_module - INFO - Existing BLAST results file found. Path: ../data/tutorial.stratify_test_split.work/hashFrag.blastn.out\n",
      "2025-01-11 06:22:43 - blastn_module - INFO - Skipping `blastn` call.\n",
      "2025-01-11 06:22:43 - blastn_module - INFO - Module execution completed.\n",
      "\n"
     ]
    }
   ],
   "source": [
    "%%bash\n",
    "\n",
    "TRAIN_FASTA_PATH=../data/example_train_split.fa.gz\n",
    "TEST_FASTA_PATH=../data/example_test_split.fa.gz\n",
    "WORK_DIR=../data/tutorial.stratify_test_split.work\n",
    "\n",
    "WORD_SIZE=7\n",
    "MAX_TARGET_SEQS=8000 # size of train dataset\n",
    "E_VALUE=100\n",
    "\n",
    "hashFrag blastn_module \\\n",
    "--train-fasta-path $TRAIN_FASTA_PATH \\\n",
    "--test-fasta-path $TEST_FASTA_PATH \\\n",
    "-w $WORD_SIZE \\\n",
    "-m $MAX_TARGET_SEQS \\\n",
    "-e $E_VALUE \\\n",
    "--blastdb-label \"hashFrag\" \\\n",
    "-o $WORK_DIR"
   ]
  },
  {
   "cell_type": "markdown",
   "id": "17256483-34d5-4c45-a269-8c941e2ad303",
   "metadata": {},
   "source": [
    "# Section 2: Use Case(s)\n",
    "\n",
    "## Stratify test split based on homology\n",
    "\n",
    "Another potentially useful feature is to stratify the test split based on each test sequence's maximum alignment score compared to all sequences in the train split. This can aid in studying the effects that homology has on model performance evaluation. The range of values is specified by the `step` parameter.\n",
    "\n",
    "### `hashFrag-lightning` mode (Default behavior)"
   ]
  },
  {
   "cell_type": "code",
   "execution_count": 8,
   "id": "f2cafd54-37f5-41fe-8300-b011d2766be8",
   "metadata": {
    "execution": {
     "iopub.execute_input": "2025-01-10T21:22:43.704455Z",
     "iopub.status.busy": "2025-01-10T21:22:43.704279Z",
     "iopub.status.idle": "2025-01-10T21:22:44.877743Z",
     "shell.execute_reply": "2025-01-10T21:22:44.877008Z",
     "shell.execute_reply.started": "2025-01-10T21:22:43.704432Z"
    },
    "tags": []
   },
   "outputs": [
    {
     "name": "stdout",
     "output_type": "stream",
     "text": [
      "2025-01-11 06:22:44 - stratify_test_split_module - INFO - Calling module...\n",
      "2025-01-11 06:22:44 - stratify_test_split_module - INFO - Stratifying based on corrected BLAST alignment scores (lightning mode).\n",
      "2025-01-11 06:22:44 - stratify_test_split_module - INFO - Stratification results written to: ../data/tutorial.stratify_test_split.work/hashFrag_lightning.stratified_test.tsv.gz\n",
      "2025-01-11 06:22:44 - stratify_test_split_module - INFO - Module execution completed.\n",
      "\n"
     ]
    }
   ],
   "source": [
    "%%bash\n",
    "\n",
    "TEST_FASTA_PATH=../data/example_test_split.fa.gz\n",
    "WORK_DIR=../data/tutorial.stratify_test_split.work\n",
    "INPUT_PATH=$WORK_DIR/hashFrag.blastn.out\n",
    "MODE=lightning\n",
    "STEP=10\n",
    "\n",
    "LABEL=$( basename -s \".test.fa.gz\" $TEST_FASTA_PATH )\n",
    "OUTPUT_PATH=$WORK_DIR/hashFrag_lightning.stratified_test.tsv.gz\n",
    "\n",
    "hashFrag stratify_test_split_module -f $TEST_FASTA_PATH -i $INPUT_PATH -m $MODE -s $STEP -o $OUTPUT_PATH"
   ]
  },
  {
   "cell_type": "markdown",
   "id": "ef7df61d-a724-4dc9-b6a1-15a6fae1df8f",
   "metadata": {},
   "source": [
    "### `hashFrag-pure` mode"
   ]
  },
  {
   "cell_type": "code",
   "execution_count": 10,
   "id": "d700599f-d8c2-4721-8e38-fcae98fa9bcc",
   "metadata": {
    "execution": {
     "iopub.execute_input": "2025-01-10T21:23:38.649822Z",
     "iopub.status.busy": "2025-01-10T21:23:38.649556Z",
     "iopub.status.idle": "2025-01-10T21:23:38.718682Z",
     "shell.execute_reply": "2025-01-10T21:23:38.718214Z",
     "shell.execute_reply.started": "2025-01-10T21:23:38.649797Z"
    },
    "tags": []
   },
   "outputs": [
    {
     "name": "stdout",
     "output_type": "stream",
     "text": [
      "total 1.5K\n",
      "-rw-r----- 1 brett 4.6M Jan 11 06:23 hashFrag.blastn.partition_aaac.tsv\n",
      "-rw-r----- 1 brett 7.2M Jan 11 06:23 hashFrag.blastn.partition_aaab.tsv\n",
      "-rw-r----- 1 brett 7.2M Jan 11 06:23 hashFrag.blastn.partition_aaaa.tsv\n"
     ]
    }
   ],
   "source": [
    "%%bash\n",
    "\n",
    "WORK_DIR=../data/tutorial.stratify_test_split.work\n",
    "\n",
    "cd $WORK_DIR\n",
    "BLAST_PATH=$PWD/hashFrag.blastn.out\n",
    "BLAST_DIR=$PWD/blast_partitions\n",
    "LABEL=$( basename -s \".out\" $BLAST_PATH )\n",
    "\n",
    "mkdir -p $BLAST_DIR\n",
    "cd $BLAST_DIR\n",
    "\n",
    "SPLIT_SIZE=100000\n",
    "\n",
    "split -l $SPLIT_SIZE -a 4 --additional-suffix=.tsv $BLAST_PATH ${LABEL}.partition_\n",
    "\n",
    "ls -thor $BLAST_DIR"
   ]
  },
  {
   "cell_type": "markdown",
   "id": "7c901024-f6c4-4987-b591-33d98d6c2e9c",
   "metadata": {
    "execution": {
     "iopub.execute_input": "2024-12-29T05:03:25.746749Z",
     "iopub.status.busy": "2024-12-29T05:03:25.746290Z",
     "iopub.status.idle": "2024-12-29T05:03:25.751266Z",
     "shell.execute_reply": "2024-12-29T05:03:25.750746Z",
     "shell.execute_reply.started": "2024-12-29T05:03:25.746721Z"
    }
   },
   "source": [
    "This bash script execution will call a custom python script that computes pairwise Smith-Waterman local alignment scores for the candidate pairs of sequences identified by the BLASTn algorithm. Note that this could feasibly be replaced with any scoring metric of interest.\n",
    "\n",
    "The expected format output files consists of a tab-delimited file with 3 columns: the query sequence iD, the target seqeuence ID, and their alignment score:\n",
    "```\n",
    "seq1    seq2    100\n",
    "seq3    seq4    30\n",
    "seq5    seq6    65\n",
    "```"
   ]
  },
  {
   "cell_type": "code",
   "execution_count": 11,
   "id": "812dca2d-c112-4286-9505-7ce579993fb7",
   "metadata": {
    "execution": {
     "iopub.execute_input": "2025-01-10T21:23:44.124338Z",
     "iopub.status.busy": "2025-01-10T21:23:44.124067Z",
     "iopub.status.idle": "2025-01-10T21:25:51.592983Z",
     "shell.execute_reply": "2025-01-10T21:25:51.592196Z",
     "shell.execute_reply.started": "2025-01-10T21:23:44.124317Z"
    },
    "tags": []
   },
   "outputs": [
    {
     "name": "stdout",
     "output_type": "stream",
     "text": [
      "/rshare1/ZETTAI_path_WA_slash_home_KARA/home/brett/work/OrthogonalTrainValSplits/hashFrag/data/tutorial.stratify_test_split.work/blast_partitions/hashFrag.blastn.partition_aaaa.tsv\n",
      "/rshare1/ZETTAI_path_WA_slash_home_KARA/home/brett/work/OrthogonalTrainValSplits/hashFrag/data/tutorial.stratify_test_split.work/blast_partitions/hashFrag.blastn.partition_aaab.tsv\n",
      "/rshare1/ZETTAI_path_WA_slash_home_KARA/home/brett/work/OrthogonalTrainValSplits/hashFrag/data/tutorial.stratify_test_split.work/blast_partitions/hashFrag.blastn.partition_aaac.tsv\n"
     ]
    }
   ],
   "source": [
    "%%bash\n",
    "\n",
    "DATA_DIR=../data\n",
    "cd $DATA_DIR\n",
    "\n",
    "FASTA_PATH=$PWD/example_full_dataset.fa.gz\n",
    "WORK_DIR=$PWD/tutorial.stratify_test_split.work\n",
    "BLAST_DIR=$WORK_DIR/blast_partitions\n",
    "\n",
    "cd ../src/external\n",
    "\n",
    "for PARTITIONED_BLAST_PATH in $BLAST_DIR/*.blastn.partition_*.tsv\n",
    "do\n",
    "    echo $PARTITIONED_BLAST_PATH\n",
    "    bash compute_blast_candidate_SW_scores.sh $FASTA_PATH $PARTITIONED_BLAST_PATH\n",
    "done"
   ]
  },
  {
   "cell_type": "markdown",
   "id": "f7dea73f-0e29-46d5-b019-d82333a99b18",
   "metadata": {},
   "source": [
    "The SW scores for candidate pairs of sequences can subsequently be concatenated into a single `.tsv` file."
   ]
  },
  {
   "cell_type": "code",
   "execution_count": 12,
   "id": "cc21f0e1-2c3a-462c-8b98-fa019b1410db",
   "metadata": {
    "execution": {
     "iopub.execute_input": "2025-01-10T21:25:51.594604Z",
     "iopub.status.busy": "2025-01-10T21:25:51.594355Z",
     "iopub.status.idle": "2025-01-10T21:25:51.855655Z",
     "shell.execute_reply": "2025-01-10T21:25:51.854962Z",
     "shell.execute_reply.started": "2025-01-10T21:25:51.594580Z"
    },
    "tags": []
   },
   "outputs": [
    {
     "name": "stdout",
     "output_type": "stream",
     "text": [
      "BCL11A_1238\tpeak82207_Reversed\t21.0\n",
      "BCL11A_1238\tpeak82428\t13.0\n",
      "BCL11A_1238\tpeak79295\t15.0\n",
      "BCL11A_1238\tpeak4007_Reversed\t14.0\n",
      "BCL11A_1238\tpeak21149\t16.0\n",
      "BCL11A_1238\tpeak12363_Reversed\t18.0\n",
      "BCL11A_1238\tpeak76790_Reversed\t14.0\n",
      "BCL11A_1238\tpeak83790\t13.0\n",
      "BCL11A_1238\tpeak15624_Reversed\t15.0\n",
      "BCL11A_1238\tpeak49119_Reversed\t14.0\n"
     ]
    }
   ],
   "source": [
    "%%bash\n",
    "\n",
    "WORK_DIR=../data/tutorial.stratify_test_split.work\n",
    "BLAST_DIR=$WORK_DIR/blast_partitions\n",
    "\n",
    "zcat $BLAST_DIR/*.pairwise_scores.tsv.gz | gzip > $WORK_DIR/hashFrag_pure.blastn_candidates.sw_scores.tsv.gz\n",
    "\n",
    "zcat $WORK_DIR/hashFrag_pure.blastn_candidates.sw_scores.tsv.gz | head -n 10"
   ]
  },
  {
   "cell_type": "markdown",
   "id": "7caada26-6b68-42d3-8f6e-9564141b7a69",
   "metadata": {},
   "source": [
    "Rather than using the heuristic alignment scores provided by the BLASTn algorithm, we can filter false-positives based on SW alignment scores. Make sure to set the mode to `pure`."
   ]
  },
  {
   "cell_type": "code",
   "execution_count": 13,
   "id": "7a5f32c1-4425-40aa-9d09-67c1d5967311",
   "metadata": {
    "execution": {
     "iopub.execute_input": "2025-01-10T21:25:51.856729Z",
     "iopub.status.busy": "2025-01-10T21:25:51.856528Z",
     "iopub.status.idle": "2025-01-10T21:25:53.349169Z",
     "shell.execute_reply": "2025-01-10T21:25:53.348305Z",
     "shell.execute_reply.started": "2025-01-10T21:25:51.856705Z"
    },
    "tags": []
   },
   "outputs": [
    {
     "name": "stdout",
     "output_type": "stream",
     "text": [
      "2025-01-11 06:25:53 - stratify_test_split_module - INFO - Calling module...\n",
      "2025-01-11 06:25:53 - stratify_test_split_module - INFO - Stratifying based on precomputed alignment scores (pure mode).\n",
      "2025-01-11 06:25:53 - stratify_test_split_module - INFO - Stratification results written to: ../data/tutorial.stratify_test_split.work/hashFrag_pure.stratified_test.tsv.gz\n",
      "2025-01-11 06:25:53 - stratify_test_split_module - INFO - Module execution completed.\n",
      "\n"
     ]
    }
   ],
   "source": [
    "%%bash\n",
    "\n",
    "TEST_FASTA_PATH=../data/example_test_split.fa.gz\n",
    "WORK_DIR=../data/tutorial.stratify_test_split.work\n",
    "INPUT_PATH=$WORK_DIR/hashFrag_pure.blastn_candidates.sw_scores.tsv.gz\n",
    "MODE=pure\n",
    "STEP=10\n",
    "\n",
    "LABEL=$( basename -s \".test.fa.gz\" $TEST_FASTA_PATH )\n",
    "OUTPUT_PATH=$WORK_DIR/hashFrag_pure.stratified_test.tsv.gz\n",
    "\n",
    "hashFrag stratify_test_split_module -f $TEST_FASTA_PATH -i $INPUT_PATH -m $MODE -s $STEP -o $OUTPUT_PATH\n"
   ]
  },
  {
   "cell_type": "code",
   "execution_count": null,
   "id": "fadce8a9-4e35-45ad-8dea-81f98882f7a8",
   "metadata": {},
   "outputs": [],
   "source": []
  }
 ],
 "metadata": {
  "kernelspec": {
   "display_name": "Python 3 (ipykernel)",
   "language": "python",
   "name": "python3"
  },
  "language_info": {
   "codemirror_mode": {
    "name": "ipython",
    "version": 3
   },
   "file_extension": ".py",
   "mimetype": "text/x-python",
   "name": "python",
   "nbconvert_exporter": "python",
   "pygments_lexer": "ipython3",
   "version": "3.9.15"
  }
 },
 "nbformat": 4,
 "nbformat_minor": 5
}

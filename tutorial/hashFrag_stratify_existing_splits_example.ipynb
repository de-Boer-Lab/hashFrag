{
 "cells": [
  {
   "cell_type": "code",
   "execution_count": 1,
   "id": "9426d328-9053-4502-bcc2-37588bd7054a",
   "metadata": {
    "execution": {
     "iopub.execute_input": "2024-12-31T20:48:14.149615Z",
     "iopub.status.busy": "2024-12-31T20:48:14.149258Z",
     "iopub.status.idle": "2024-12-31T20:48:14.154053Z",
     "shell.execute_reply": "2024-12-31T20:48:14.153576Z",
     "shell.execute_reply.started": "2024-12-31T20:48:14.149597Z"
    },
    "tags": []
   },
   "outputs": [],
   "source": [
    "# import os\n",
    "# os.environ['NUMEXPR_MAX_THREADS'] = '16'"
   ]
  },
  {
   "cell_type": "code",
   "execution_count": 2,
   "id": "0308633d-5c9a-4425-ab28-191ac234e6df",
   "metadata": {
    "execution": {
     "iopub.execute_input": "2024-12-31T20:48:14.277777Z",
     "iopub.status.busy": "2024-12-31T20:48:14.277609Z",
     "iopub.status.idle": "2024-12-31T20:48:14.675680Z",
     "shell.execute_reply": "2024-12-31T20:48:14.675248Z",
     "shell.execute_reply.started": "2024-12-31T20:48:14.277759Z"
    },
    "tags": []
   },
   "outputs": [
    {
     "name": "stdout",
     "output_type": "stream",
     "text": [
      "usage: hashFrag [-h]\n",
      "                {blastn_module,filter_candidates_module,filter_test_split_module,stratify_test_split_module,identify_homologous_groups_module,create_orthogonal_splits_module,filter_existing_splits,stratify_test_split,create_orthogonal_splits}\n",
      "                ...\n",
      "\n",
      "hashFrag is a tool developed to mitigate the impacts of homology-based data leakage in sequence-to-expression models. By identifying homology (based on pairwise alignment scores) in a sequence dataset, this tool can be used to\n",
      "filter homologous sequences spanning existing train-test splits (e.g., chromosomal splits), stratify a test split according to different levels of homology, or create homology-aware train-test splits.\n",
      "\n",
      "positional arguments:\n",
      "  {blastn_module,filter_candidates_module,filter_test_split_module,stratify_test_split_module,identify_homologous_groups_module,create_orthogonal_splits_module,filter_existing_splits,stratify_test_split,create_orthogonal_splits}\n",
      "    blastn_module       A wrapper script calling BLASTn to identify candidate pairs of sequences sharing regions with high similarity.\n",
      "    filter_candidates_module\n",
      "                        Filter candidate pairs based on a specified alignment score threshold (false-positive removal).\n",
      "    filter_test_split_module\n",
      "                        Filter test sequences that exhibit homology with any train sequences.\n",
      "    stratify_test_split_module\n",
      "                        Stratify the test split into subsplits based on their maximum alignment score to the sequences in the train split.\n",
      "    identify_homologous_groups_module\n",
      "                        Identify all distinct groups of homologous sequences.\n",
      "    create_orthogonal_splits_module\n",
      "                        Create homology-aware test-train splits.\n",
      "    filter_existing_splits\n",
      "                        Execute the full workflow of commands to filter homology spanning the input test splits.\n",
      "    stratify_test_split\n",
      "                        Execute the full workflow of commands to stratify the test split based on their maximum pairwise alignment score to the train split sequences.\n",
      "    create_orthogonal_splits\n",
      "                        Execute the full workflow of commands to create homology-aware train-test splits.\n",
      "\n",
      "optional arguments:\n",
      "  -h, --help            show this help message and exit\n"
     ]
    }
   ],
   "source": [
    "%%bash\n",
    "\n",
    "hashFrag -h"
   ]
  },
  {
   "cell_type": "markdown",
   "id": "c69543af-dea5-4f9a-a0ae-7f73f35dbc4b",
   "metadata": {
    "execution": {
     "iopub.execute_input": "2024-12-29T04:48:46.900958Z",
     "iopub.status.busy": "2024-12-29T04:48:46.900809Z",
     "iopub.status.idle": "2024-12-29T04:48:46.905322Z",
     "shell.execute_reply": "2024-12-29T04:48:46.904781Z",
     "shell.execute_reply.started": "2024-12-29T04:48:46.900938Z"
    }
   },
   "source": [
    "# Introduction\n",
    "\n",
    "> This notebook refers to the case when users have existing train-test splits and are interested in identifying and mitigating data leakage attributed to shared sequence homology across splits.\n",
    "\n",
    "The basic workflow is provided with respect two data splits from a subsampled MPRA dataset (K562): a 8,000-sequence train split and a 2,000-sequence test split (provided in the `data` directory).\n",
    "\n",
    "hashFrag is a command line tool. This notebook serves as a resource to provide example calls and explanations to each step in the process."
   ]
  },
  {
   "cell_type": "markdown",
   "id": "e9c062cd-e428-4ab2-b59f-50399c2e10e4",
   "metadata": {},
   "source": [
    "# Section 0: Basic usage - full pipeline command"
   ]
  },
  {
   "cell_type": "code",
   "execution_count": 3,
   "id": "afa58119-8dae-4ba8-baa4-2531d980bd8f",
   "metadata": {
    "execution": {
     "iopub.execute_input": "2024-12-31T20:50:15.966079Z",
     "iopub.status.busy": "2024-12-31T20:50:15.965862Z",
     "iopub.status.idle": "2024-12-31T20:52:07.342829Z",
     "shell.execute_reply": "2024-12-31T20:52:07.342342Z",
     "shell.execute_reply.started": "2024-12-31T20:50:15.966059Z"
    },
    "tags": []
   },
   "outputs": [
    {
     "name": "stdout",
     "output_type": "stream",
     "text": [
      "2025-01-01 05:50:18 - pipeline - INFO - Initializing `stratify_test_split` pipeline.\n",
      "\n",
      "2025-01-01 05:50:18 - blastn_module - INFO - Calling module...\n",
      "2025-01-01 05:50:18 - blastn_module - INFO - Train and test FASTA files detected. Computing pairwise BLAST comparisons across splits...\n",
      "2025-01-01 05:50:22 - blastn_module - INFO - BLASTn output: \n",
      "\n",
      "Building a new DB, current time: 01/01/2025 05:50:20\n",
      "New DB name:   /home/brett/work/OrthogonalTrainValSplits/hashFrag/data/tutorial.stratify_test_split.work/hashFrag.blastdb\n",
      "New DB title:  hashFrag\n",
      "Sequence type: Nucleotide\n",
      "Keep MBits: T\n",
      "Maximum file size: 1000000000B\n",
      "Adding sequences from FASTA; added 8000 sequences in 0.208322 seconds.\n",
      "\n",
      "\n",
      "\n",
      "2025-01-01 05:50:22 - blastn_module - INFO - BLAST DataBase construction finished and written to: /home/brett/work/OrthogonalTrainValSplits/hashFrag/data/tutorial.stratify_test_split.work/hashFrag.blastdb\n",
      "2025-01-01 05:52:06 - blastn_module - INFO - BLASTn process finished and written to: /home/brett/work/OrthogonalTrainValSplits/hashFrag/data/tutorial.stratify_test_split.work/hashFrag.blastn.out\n",
      "2025-01-01 05:52:06 - blastn_module - INFO - Module execution completed.\n",
      "\n",
      "2025-01-01 05:52:06 - stratify_test_split_module - INFO - Calling module...\n",
      "2025-01-01 05:52:06 - stratify_test_split_module - INFO - Stratifying based on corrected BLAST alignment scores (lightning mode).\n",
      "2025-01-01 05:52:07 - stratify_test_split_module - INFO - Stratification results written to: /home/brett/work/OrthogonalTrainValSplits/hashFrag/data/tutorial.stratify_test_split.work/hashFrag.stratified_test_split.tsv.gz\n",
      "2025-01-01 05:52:07 - stratify_test_split_module - INFO - Module execution completed.\n",
      "\n",
      "2025-01-01 05:52:07 - pipeline - INFO - Completed execution of the pipeline to stratify the test split by alignment score!\n"
     ]
    }
   ],
   "source": [
    "%%bash\n",
    "\n",
    "TRAIN_FASTA_PATH=/home/brett/work/OrthogonalTrainValSplits/hashFrag/data/example_train_split.fa.gz\n",
    "TEST_FASTA_PATH=/home/brett/work/OrthogonalTrainValSplits/hashFrag/data/example_test_split.fa.gz\n",
    "WORK_DIR=/home/brett/work/OrthogonalTrainValSplits/hashFrag/data/tutorial.stratify_test_split.work\n",
    "\n",
    "WORD_SIZE=7\n",
    "MAX_TARGET_SEQS=8000 # size of train dataset\n",
    "E_VALUE=100\n",
    "STEP=10\n",
    "\n",
    "hashFrag stratify_test_split \\\n",
    "--train_fasta_path $TRAIN_FASTA_PATH \\\n",
    "--test_fasta_path $TEST_FASTA_PATH \\\n",
    "--word_size $WORD_SIZE \\\n",
    "--max_target_seqs $MAX_TARGET_SEQS \\\n",
    "--e_value $E_VALUE \\\n",
    "--step $STEP \\\n",
    "--output_dir $WORK_DIR"
   ]
  },
  {
   "cell_type": "markdown",
   "id": "68341864-0783-4525-b293-b859797c4b1e",
   "metadata": {},
   "source": [
    "# Section 1 - Identifying candidate similar sequences\n",
    "\n",
    "When user-derived train-test splits are provided, comparisons are constrained to pairs of sequences across splits. The process of identifying candidate pairs of similar sequences involves first creating a BLAST database of sequences in the train split, and then querying each test split sequence against the database. The BLASTn algorithm returns pairwise matches that represent potential cases of homology. \n",
    "\n",
    "Successful identification of cases of homology is paramount to effectively mitigate homology-based data leakage. As such, we configure the BLASTn parameters such that recall is maximized, even if it comes at the expense of increased false-positives. Here we consider the following parameters of BLASTn:\n",
    "\n",
    "* word_size: smaller word sizes results in more exact word matches found between the query and sequences in the database, leading to more alignment score calculations being initialized.\n",
    "* max_target_seqs: set to the size of the database to remove any constraints and allow for all possible candidate sequences to be returned for a given query.\n",
    "* evalue: the e-value statistic is a measure of how likely you observe the alignment by chance (lower value corresponds to less likely to observe). By increasing the e-value threshold, less stringent matches that could be due to chance are returned.\n",
    "* dust: by setting dust off, low-complexity (e.g., repetitive sequences) are no longer masked/filtered out."
   ]
  },
  {
   "cell_type": "code",
   "execution_count": 4,
   "id": "e8aca36f-551c-4b4a-9b6a-58518a4d893c",
   "metadata": {
    "execution": {
     "iopub.execute_input": "2024-12-31T20:52:07.343926Z",
     "iopub.status.busy": "2024-12-31T20:52:07.343754Z",
     "iopub.status.idle": "2024-12-31T20:52:07.705901Z",
     "shell.execute_reply": "2024-12-31T20:52:07.705528Z",
     "shell.execute_reply.started": "2024-12-31T20:52:07.343905Z"
    },
    "tags": []
   },
   "outputs": [
    {
     "name": "stdout",
     "output_type": "stream",
     "text": [
      "2025-01-01 05:52:07 - blastn_module - INFO - Calling module...\n",
      "2025-01-01 05:52:07 - blastn_module - INFO - Train and test FASTA files detected. Computing pairwise BLAST comparisons across splits...\n",
      "2025-01-01 05:52:07 - blastn_module - INFO - Existing BLAST database found. Path: /home/brett/work/OrthogonalTrainValSplits/hashFrag/data/tutorial.stratify_test_split.work/hashFrag.blastdb\n",
      "\tskipping `makeblastdb` call.\n",
      "2025-01-01 05:52:07 - blastn_module - INFO - Existing BLAST results file found. Path: /home/brett/work/OrthogonalTrainValSplits/hashFrag/data/tutorial.stratify_test_split.work/hashFrag.blastn.out\n",
      "\tskipping `blastn` call.\n",
      "2025-01-01 05:52:07 - blastn_module - INFO - Module execution completed.\n",
      "\n"
     ]
    }
   ],
   "source": [
    "%%bash\n",
    "\n",
    "TRAIN_FASTA_PATH=/home/brett/work/OrthogonalTrainValSplits/hashFrag/data/example_train_split.fa.gz\n",
    "TEST_FASTA_PATH=/home/brett/work/OrthogonalTrainValSplits/hashFrag/data/example_test_split.fa.gz\n",
    "WORK_DIR=/home/brett/work/OrthogonalTrainValSplits/hashFrag/data/tutorial.stratify_test_split.work\n",
    "\n",
    "WORD_SIZE=7\n",
    "MAX_TARGET_SEQS=8000 # size of train dataset\n",
    "E_VALUE=100\n",
    "\n",
    "hashFrag blastn_module \\\n",
    "--train_fasta_path $TRAIN_FASTA_PATH \\\n",
    "--test_fasta_path $TEST_FASTA_PATH \\\n",
    "-w $WORD_SIZE \\\n",
    "-m $MAX_TARGET_SEQS \\\n",
    "-e $E_VALUE \\\n",
    "--blastdb_label \"hashFrag\" \\\n",
    "-o $WORK_DIR"
   ]
  },
  {
   "cell_type": "markdown",
   "id": "17256483-34d5-4c45-a269-8c941e2ad303",
   "metadata": {},
   "source": [
    "# Section 2: Use Case(s)\n",
    "\n",
    "## Stratify test split based on homology\n",
    "\n",
    "Another potentially useful feature is to stratify the test split based on each test sequence's maximum alignment score compared to all sequences in the train split. This can aid in studying the effects that homology has on model performance evaluation. The range of values is specified by the `step` parameter.\n",
    "\n",
    "### `hashFrag-lightning` mode (Default behavior)"
   ]
  },
  {
   "cell_type": "code",
   "execution_count": 5,
   "id": "f2cafd54-37f5-41fe-8300-b011d2766be8",
   "metadata": {
    "execution": {
     "iopub.execute_input": "2024-12-31T20:52:07.706590Z",
     "iopub.status.busy": "2024-12-31T20:52:07.706447Z",
     "iopub.status.idle": "2024-12-31T20:52:08.741520Z",
     "shell.execute_reply": "2024-12-31T20:52:08.741003Z",
     "shell.execute_reply.started": "2024-12-31T20:52:07.706574Z"
    },
    "tags": []
   },
   "outputs": [
    {
     "name": "stdout",
     "output_type": "stream",
     "text": [
      "2025-01-01 05:52:08 - stratify_test_split_module - INFO - Calling module...\n",
      "2025-01-01 05:52:08 - stratify_test_split_module - INFO - Stratifying based on corrected BLAST alignment scores (lightning mode).\n",
      "2025-01-01 05:52:08 - stratify_test_split_module - INFO - Stratification results written to: /home/brett/work/OrthogonalTrainValSplits/hashFrag/data/tutorial.stratify_test_split.work/hashFrag_lightning.stratified_test.tsv.gz\n",
      "2025-01-01 05:52:08 - stratify_test_split_module - INFO - Module execution completed.\n",
      "\n"
     ]
    }
   ],
   "source": [
    "%%bash\n",
    "\n",
    "TEST_FASTA_PATH=/home/brett/work/OrthogonalTrainValSplits/hashFrag/data/example_test_split.fa.gz\n",
    "WORK_DIR=/home/brett/work/OrthogonalTrainValSplits/hashFrag/data/tutorial.stratify_test_split.work\n",
    "INPUT_PATH=$WORK_DIR/hashFrag.blastn.out\n",
    "MODE=lightning\n",
    "STEP=10\n",
    "\n",
    "LABEL=$( basename -s \".test.fa.gz\" $TEST_FASTA_PATH )\n",
    "OUTPUT_PATH=$WORK_DIR/hashFrag_lightning.stratified_test.tsv.gz\n",
    "\n",
    "hashFrag stratify_test_split_module -f $TEST_FASTA_PATH -i $INPUT_PATH -m $MODE -s $STEP -o $OUTPUT_PATH"
   ]
  },
  {
   "cell_type": "markdown",
   "id": "ef7df61d-a724-4dc9-b6a1-15a6fae1df8f",
   "metadata": {},
   "source": [
    "### `hashFrag-pure` mode"
   ]
  },
  {
   "cell_type": "code",
   "execution_count": 6,
   "id": "d700599f-d8c2-4721-8e38-fcae98fa9bcc",
   "metadata": {
    "execution": {
     "iopub.execute_input": "2024-12-31T20:52:08.742683Z",
     "iopub.status.busy": "2024-12-31T20:52:08.742512Z",
     "iopub.status.idle": "2024-12-31T20:52:08.826512Z",
     "shell.execute_reply": "2024-12-31T20:52:08.826013Z",
     "shell.execute_reply.started": "2024-12-31T20:52:08.742663Z"
    },
    "tags": []
   },
   "outputs": [],
   "source": [
    "%%bash\n",
    "\n",
    "SPLIT_SIZE=100000\n",
    "WORK_DIR=/home/brett/work/OrthogonalTrainValSplits/hashFrag/data/tutorial.stratify_test_split.work\n",
    "BLAST_PATH=$WORK_DIR/hashFrag.blastn.out\n",
    "BLAST_DIR=$WORK_DIR/blast_partitions\n",
    "\n",
    "LABEL=$( basename -s \".out\" $BLAST_PATH )\n",
    "\n",
    "mkdir -p $BLAST_DIR\n",
    "cd $BLAST_DIR\n",
    "\n",
    "split -l $SPLIT_SIZE -a 4 --additional-suffix=.tsv $BLAST_PATH ${LABEL}.partition_"
   ]
  },
  {
   "cell_type": "markdown",
   "id": "7c901024-f6c4-4987-b591-33d98d6c2e9c",
   "metadata": {
    "execution": {
     "iopub.execute_input": "2024-12-29T05:03:25.746749Z",
     "iopub.status.busy": "2024-12-29T05:03:25.746290Z",
     "iopub.status.idle": "2024-12-29T05:03:25.751266Z",
     "shell.execute_reply": "2024-12-29T05:03:25.750746Z",
     "shell.execute_reply.started": "2024-12-29T05:03:25.746721Z"
    }
   },
   "source": [
    "This bash script execution will call a custom python script that computes pairwise Smith-Waterman local alignment scores for the candidate pairs of sequences identified by the BLASTn algorithm. Note that this could feasibly be replaced with any scoring metric of interest.\n",
    "\n",
    "The expected format output files consists of a tab-delimited file with 3 columns: the query sequence iD, the target seqeuence ID, and their alignment score:\n",
    "```\n",
    "seq1    seq2    100\n",
    "seq3    seq4    30\n",
    "seq5    seq6    65\n",
    "```"
   ]
  },
  {
   "cell_type": "code",
   "execution_count": 7,
   "id": "812dca2d-c112-4286-9505-7ce579993fb7",
   "metadata": {
    "execution": {
     "iopub.execute_input": "2024-12-31T20:52:08.827168Z",
     "iopub.status.busy": "2024-12-31T20:52:08.827027Z",
     "iopub.status.idle": "2024-12-31T20:53:58.568643Z",
     "shell.execute_reply": "2024-12-31T20:53:58.568050Z",
     "shell.execute_reply.started": "2024-12-31T20:52:08.827151Z"
    },
    "tags": []
   },
   "outputs": [
    {
     "name": "stdout",
     "output_type": "stream",
     "text": [
      "/home/brett/work/OrthogonalTrainValSplits/hashFrag/data/tutorial.stratify_test_split.work/blast_partitions/hashFrag.blastn.partition_aaaa.tsv\n",
      "/home/brett/work/OrthogonalTrainValSplits/hashFrag/data/tutorial.stratify_test_split.work/blast_partitions/hashFrag.blastn.partition_aaab.tsv\n",
      "/home/brett/work/OrthogonalTrainValSplits/hashFrag/data/tutorial.stratify_test_split.work/blast_partitions/hashFrag.blastn.partition_aaac.tsv\n"
     ]
    }
   ],
   "source": [
    "%%bash\n",
    "\n",
    "cd ../src/external\n",
    "\n",
    "# NOTE THIS IS THE CONCATENATED TRAIN AND TEST FASTA FILES\n",
    "FASTA_PATH=/home/brett/work/OrthogonalTrainValSplits/hashFrag/data/K562.sample_10000.fa.gz\n",
    "\n",
    "WORK_DIR=/home/brett/work/OrthogonalTrainValSplits/hashFrag/data/tutorial.stratify_test_split.work\n",
    "BLAST_DIR=$WORK_DIR/blast_partitions\n",
    "\n",
    "for PARTITIONED_BLAST_PATH in $BLAST_DIR/*.blastn.partition_*.tsv\n",
    "do\n",
    "    echo $PARTITIONED_BLAST_PATH\n",
    "    bash compute_blast_candidate_SW_scores.sh $FASTA_PATH $PARTITIONED_BLAST_PATH\n",
    "done"
   ]
  },
  {
   "cell_type": "markdown",
   "id": "f7dea73f-0e29-46d5-b019-d82333a99b18",
   "metadata": {},
   "source": [
    "The SW scores for candidate pairs of sequences can subsequently be concatenated into a single `.tsv` file."
   ]
  },
  {
   "cell_type": "code",
   "execution_count": 8,
   "id": "cc21f0e1-2c3a-462c-8b98-fa019b1410db",
   "metadata": {
    "execution": {
     "iopub.execute_input": "2024-12-31T20:54:43.795986Z",
     "iopub.status.busy": "2024-12-31T20:54:43.795747Z",
     "iopub.status.idle": "2024-12-31T20:54:44.009483Z",
     "shell.execute_reply": "2024-12-31T20:54:44.008994Z",
     "shell.execute_reply.started": "2024-12-31T20:54:43.795963Z"
    },
    "tags": []
   },
   "outputs": [],
   "source": [
    "%%bash\n",
    "\n",
    "WORK_DIR=/home/brett/work/OrthogonalTrainValSplits/hashFrag/data/tutorial.stratify_test_split.work\n",
    "BLAST_DIR=$WORK_DIR/blast_partitions\n",
    "\n",
    "zcat $BLAST_DIR/*.pairwise_scores.tsv.gz | gzip > $WORK_DIR/hashFrag_pure.blastn_candidates.sw_scores.tsv.gz"
   ]
  },
  {
   "cell_type": "markdown",
   "id": "7caada26-6b68-42d3-8f6e-9564141b7a69",
   "metadata": {},
   "source": [
    "Rather than using the heuristic alignment scores provided by the BLASTn algorithm, we can filter false-positives based on SW alignment scores. Make sure to set the mode to `pure`."
   ]
  },
  {
   "cell_type": "code",
   "execution_count": 9,
   "id": "7a5f32c1-4425-40aa-9d09-67c1d5967311",
   "metadata": {
    "execution": {
     "iopub.execute_input": "2024-12-31T20:54:45.617460Z",
     "iopub.status.busy": "2024-12-31T20:54:45.617232Z",
     "iopub.status.idle": "2024-12-31T20:54:46.799620Z",
     "shell.execute_reply": "2024-12-31T20:54:46.799155Z",
     "shell.execute_reply.started": "2024-12-31T20:54:45.617441Z"
    },
    "tags": []
   },
   "outputs": [
    {
     "name": "stdout",
     "output_type": "stream",
     "text": [
      "2025-01-01 05:54:46 - stratify_test_split_module - INFO - Calling module...\n",
      "2025-01-01 05:54:46 - stratify_test_split_module - INFO - Stratifying based on precomputed alignment scores (pure mode).\n",
      "2025-01-01 05:54:46 - stratify_test_split_module - INFO - Stratification results written to: /home/brett/work/OrthogonalTrainValSplits/hashFrag/data/tutorial.stratify_test_split.work/hashFrag_pure.stratified_test.tsv.gz\n",
      "2025-01-01 05:54:46 - stratify_test_split_module - INFO - Module execution completed.\n",
      "\n"
     ]
    }
   ],
   "source": [
    "%%bash\n",
    "\n",
    "TEST_FASTA_PATH=/home/brett/work/OrthogonalTrainValSplits/hashFrag/data/example_test_split.fa.gz\n",
    "WORK_DIR=/home/brett/work/OrthogonalTrainValSplits/hashFrag/data/tutorial.stratify_test_split.work\n",
    "INPUT_PATH=$WORK_DIR/hashFrag_pure.blastn_candidates.sw_scores.tsv.gz\n",
    "MODE=pure\n",
    "STEP=10\n",
    "\n",
    "LABEL=$( basename -s \".test.fa.gz\" $TEST_FASTA_PATH )\n",
    "OUTPUT_PATH=$WORK_DIR/hashFrag_pure.stratified_test.tsv.gz\n",
    "\n",
    "hashFrag stratify_test_split_module -f $TEST_FASTA_PATH -i $INPUT_PATH -m $MODE -s $STEP -o $OUTPUT_PATH\n"
   ]
  },
  {
   "cell_type": "code",
   "execution_count": null,
   "id": "fadce8a9-4e35-45ad-8dea-81f98882f7a8",
   "metadata": {},
   "outputs": [],
   "source": []
  }
 ],
 "metadata": {
  "kernelspec": {
   "display_name": "Python 3 (ipykernel)",
   "language": "python",
   "name": "python3"
  },
  "language_info": {
   "codemirror_mode": {
    "name": "ipython",
    "version": 3
   },
   "file_extension": ".py",
   "mimetype": "text/x-python",
   "name": "python",
   "nbconvert_exporter": "python",
   "pygments_lexer": "ipython3",
   "version": "3.9.15"
  }
 },
 "nbformat": 4,
 "nbformat_minor": 5
}

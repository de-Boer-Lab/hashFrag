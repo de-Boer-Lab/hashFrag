{
 "cells": [
  {
   "cell_type": "code",
   "execution_count": 1,
   "id": "fe2776f7-0119-4d38-adfc-bb3b41735ecd",
   "metadata": {
    "execution": {
     "iopub.execute_input": "2024-12-20T07:29:32.303612Z",
     "iopub.status.busy": "2024-12-20T07:29:32.303095Z",
     "iopub.status.idle": "2024-12-20T07:29:32.764831Z",
     "shell.execute_reply": "2024-12-20T07:29:32.764334Z",
     "shell.execute_reply.started": "2024-12-20T07:29:32.303581Z"
    },
    "tags": []
   },
   "outputs": [],
   "source": [
    "import os\n",
    "from pathlib import Path"
   ]
  },
  {
   "cell_type": "code",
   "execution_count": 2,
   "id": "b325e01c-0c47-43d8-9d2a-23978b126eb4",
   "metadata": {
    "execution": {
     "iopub.execute_input": "2024-12-20T07:29:40.182995Z",
     "iopub.status.busy": "2024-12-20T07:29:40.182830Z",
     "iopub.status.idle": "2024-12-20T07:29:40.299553Z",
     "shell.execute_reply": "2024-12-20T07:29:40.299005Z",
     "shell.execute_reply.started": "2024-12-20T07:29:40.182976Z"
    },
    "tags": []
   },
   "outputs": [],
   "source": [
    "!export PATH=$PATH:/home/brett/work/OrthogonalTrainValSplits/hashFrag/src"
   ]
  },
  {
   "cell_type": "code",
   "execution_count": 4,
   "id": "6db2ea46-cdec-4611-afad-96d7eb2a42c7",
   "metadata": {
    "execution": {
     "iopub.execute_input": "2024-12-20T07:29:59.534651Z",
     "iopub.status.busy": "2024-12-20T07:29:59.534327Z",
     "iopub.status.idle": "2024-12-20T07:30:03.752381Z",
     "shell.execute_reply": "2024-12-20T07:30:03.751733Z",
     "shell.execute_reply.started": "2024-12-20T07:29:59.534619Z"
    },
    "tags": []
   },
   "outputs": [
    {
     "name": "stdout",
     "output_type": "stream",
     "text": [
      "usage: hashFrag [-h]\n",
      "                {blastn,filter_false_positives,filter_existing_splits,stratify_test_split,identify_homologous_groups,create_orthogonal_splits}\n",
      "                ...\n",
      "\n",
      "positional arguments:\n",
      "  {blastn,filter_false_positives,filter_existing_splits,stratify_test_split,identify_homologous_groups,create_orthogonal_splits}\n",
      "\n",
      "optional arguments:\n",
      "  -h, --help            show this help message and exit\n"
     ]
    }
   ],
   "source": [
    "%%bash\n",
    "\n",
    "hashFrag -h"
   ]
  },
  {
   "cell_type": "markdown",
   "id": "e3707df5-9f13-45e0-a994-8f1723090bec",
   "metadata": {},
   "source": [
    "# Introduction\n",
    "\n",
    "This notebook provides a basic tutorial on the core functionality of hashFrag. Specically this notebook refers to the case when users have existing train-test splits and are interested in identifying and mitigating data leakage attributed to shared sequence homology across splits.\n",
    "\n",
    "Working with two small MPRA datasets: a 8,000-sequence train split and a 2,000-sequence test split (provided in the `data` directory).\n",
    "\n",
    "This notebook will encompass the following tasks:\n",
    "\n",
    "1. `hashFrag blastn`: Identifying candidate pairs of sequences exhibiting similarity across data splits.\n",
    "2. (Optional) For each candidate pairing, compute their optimal local alignment score ([Smith-Waterman algorithm](https://en.wikipedia.org/wiki/Smith%E2%80%93Waterman_algorithm)).\n",
    "3. `hashFrag filter_false_positives`: Using the local alignment scores calculated in the previous step, filter false-positive candidates based on a specified threshold.\n",
    "    + Note that if the previous step was NOT performed, false-positive candidates will be filtered based on the heuristic local alignment scores provided by the BLAST algorithm.\n",
    "    + The threshold to use for tuning is not only dataset-dependent, but also highly depends on BLAST (and, if performed, Smith-Waterman) local alignment parameters. See the advanced tutorial (TODO) for an example on our recommended workflow to tune relevant parameters and select an appropriate threshold.\n",
    "4. `hashFrag filter_existing_splits`: .\n",
    "5. `hashFrag stratify_test_split`: .\n",
    "\n",
    "hashFrag is a command line tool. This notebook serves as a resource to better understand each step in the process."
   ]
  },
  {
   "cell_type": "code",
   "execution_count": 5,
   "id": "0a31e16d-eed3-4f5d-9b61-4a7b6423f1ee",
   "metadata": {
    "execution": {
     "iopub.execute_input": "2024-12-20T07:30:37.473854Z",
     "iopub.status.busy": "2024-12-20T07:30:37.473602Z",
     "iopub.status.idle": "2024-12-20T07:30:37.481290Z",
     "shell.execute_reply": "2024-12-20T07:30:37.480894Z",
     "shell.execute_reply.started": "2024-12-20T07:30:37.473829Z"
    }
   },
   "outputs": [
    {
     "name": "stdout",
     "output_type": "stream",
     "text": [
      "/home/brett/work/OrthogonalTrainValSplits/hashFrag/data/K562.sample_10000.hashFrag.existing_splits.work\n"
     ]
    }
   ],
   "source": [
    "data_dir   = \"/home/brett/work/OrthogonalTrainValSplits/hashFrag/data\"\n",
    "fasta_path = os.path.join(data_dir,\"K562.sample_10000.fa.gz\")\n",
    "label      = os.path.basename(fasta_path).replace(\".fa.gz\",\"\")\n",
    "score_path = os.path.join(data_dir,f\"{label}.pairwise_scores.csv.gz\")\n",
    "work_dir   = os.path.join(data_dir,f\"{label}.hashFrag.existing_splits.work\")\n",
    "Path(work_dir).mkdir(parents=True,exist_ok=True)\n",
    "print(work_dir)\n",
    "\n",
    "blast_dir = os.path.join(work_dir,\"blast_partitions\")\n",
    "Path(blast_dir).mkdir(parents=True,exist_ok=True)"
   ]
  },
  {
   "cell_type": "markdown",
   "id": "614c9641-55f1-47be-abbc-9359444f0528",
   "metadata": {},
   "source": [
    "# Section 1 - Identifying candidate similar sequences\n",
    "\n",
    "The process of identifying candidate pairs of similar sequences involves first creating a BLAST database of the dataset, and then querying each sequence against the database, collecting all pairwise matches that represent potential cases of homology. \n",
    "\n",
    "To effectively mitigate potential biases caused by homology-based data leakage, it is imperative that all cases of homology are successfully identified. To that end, we configure the BLASTn call such that recall is maximized (this comes at the expense of increased false-positives, which are subsequently filtered). Here we consider the following parameters of BLASTn:\n",
    "\n",
    "* word_size: smaller word sizes results in more exact word matches found between the query and sequences in the database, leading to more alignment score calculations being initialized.\n",
    "* max_target_seqs: set to the size of the database to remove any constraints and allow for all possible candidate sequences to be returned for a given query.\n",
    "* evalue: the e-value statistic is a measure of how likely you observe the alignment by chance (lower value corresponds to less likely to observe). By increasing the e-value threshold, matches that could be due to chance are returned.\n",
    "* dust: by setting dust off, low-complexity (e.g., repetitive sequences) are no longer masked/filtered out."
   ]
  },
  {
   "cell_type": "code",
   "execution_count": 7,
   "id": "9207237f-ac51-4448-b06e-add500743ab4",
   "metadata": {
    "execution": {
     "iopub.execute_input": "2024-12-20T07:32:51.663435Z",
     "iopub.status.busy": "2024-12-20T07:32:51.663177Z",
     "iopub.status.idle": "2024-12-20T07:34:58.643993Z",
     "shell.execute_reply": "2024-12-20T07:34:58.643344Z",
     "shell.execute_reply.started": "2024-12-20T07:32:51.663413Z"
    }
   },
   "outputs": [
    {
     "name": "stdout",
     "output_type": "stream",
     "text": [
      "FASTA files for existing train-test splits detected.\n",
      "Computing pairwise BLAST comparisons across splits.\n",
      "Existing BLAST DataBase found (/home/brett/work/OrthogonalTrainValSplits/hashFrag/data/K562.sample_10000.hashFrag.existing_splits.work/K562.sample_8000.train.blastdb). Skipping makeblastdb call.\n",
      "\n",
      "BLASTn process finished and written to: /home/brett/work/OrthogonalTrainValSplits/hashFrag/data/K562.sample_10000.hashFrag.existing_splits.work/K562.sample_2000.test.blastn.out\n"
     ]
    }
   ],
   "source": [
    "%%bash\n",
    "\n",
    "TRAIN_FASTA_PATH=/home/brett/work/OrthogonalTrainValSplits/hashFrag/data/K562.sample_8000.train.fa.gz\n",
    "TEST_FASTA_PATH=/home/brett/work/OrthogonalTrainValSplits/hashFrag/data/K562.sample_2000.test.fa.gz\n",
    "WORK_DIR=/home/brett/work/OrthogonalTrainValSplits/hashFrag/data/K562.sample_10000.hashFrag.existing_splits.work\n",
    "\n",
    "WORD_SIZE=7\n",
    "MAX_TARGET_SEQS=8000 # size of train dataset\n",
    "E_VALUE=100\n",
    "DUST=no\n",
    "\n",
    "hashFrag blastn --train_fasta_path $TRAIN_FASTA_PATH --test_fasta_path $TEST_FASTA_PATH -w $WORD_SIZE -e $E_VALUE -d $DUST -o $WORK_DIR"
   ]
  },
  {
   "cell_type": "code",
   "execution_count": null,
   "id": "3c5363e1-daef-40f0-8b54-2d865bef9829",
   "metadata": {},
   "outputs": [],
   "source": []
  },
  {
   "cell_type": "markdown",
   "id": "b0430f8b-febe-42d6-b4fd-1441fb122d06",
   "metadata": {},
   "source": [
    "# Section 3: Filter false-positives based on a defined threshold\n",
    "\n",
    "The next step involves filtering candidate pairings with alignment scores lower than the specified threshold. There are two different modes of hashFrag depending on what alignment score is selected.\n",
    "\n",
    "* `hashFrag-lightning` is the faster version where the alignment score computed from the BLAST output file. BLASTn is a heuristic method and the alignment scores were found to highly correlate with the optimal alignment scores; however, its underestimation of homology in some cases can lead to slightly worse recall. \n",
    "* `hashFrag-pure` is the slower but more comprehensive method that is based on the optimal, Smith-Waterman local alignment scores between pairs of sequences. The calculation of optimal alignment scores incurs an additional cost to filtering.\n",
    "\n",
    "An alignment score threshold of 60 was determined to be appropriate based on an analysis looking at alignment scores between dinucleotide shuffled (i.e., random) sequences."
   ]
  },
  {
   "cell_type": "markdown",
   "id": "e0f155f7-a159-4597-ad65-613aa5f29a1e",
   "metadata": {
    "execution": {
     "iopub.execute_input": "2024-12-20T07:32:28.558419Z",
     "iopub.status.busy": "2024-12-20T07:32:28.557732Z",
     "iopub.status.idle": "2024-12-20T07:32:28.560794Z",
     "shell.execute_reply": "2024-12-20T07:32:28.560439Z",
     "shell.execute_reply.started": "2024-12-20T07:32:28.558395Z"
    }
   },
   "source": [
    "## Section 3.1: Lightning mode"
   ]
  },
  {
   "cell_type": "code",
   "execution_count": 8,
   "id": "b91c2b77-0706-436a-83ff-a313a15ec47e",
   "metadata": {
    "execution": {
     "iopub.execute_input": "2024-12-20T07:37:08.682241Z",
     "iopub.status.busy": "2024-12-20T07:37:08.680336Z",
     "iopub.status.idle": "2024-12-20T07:37:11.239605Z",
     "shell.execute_reply": "2024-12-20T07:37:11.238854Z",
     "shell.execute_reply.started": "2024-12-20T07:37:08.682210Z"
    }
   },
   "outputs": [
    {
     "name": "stdout",
     "output_type": "stream",
     "text": [
      "Filtered results written to: /home/brett/work/OrthogonalTrainValSplits/hashFrag/data/K562.sample_10000.hashFrag.existing_splits.work/hashFrag_lightning.similar_pairs.tsv.gz\n"
     ]
    }
   ],
   "source": [
    "%%bash\n",
    "\n",
    "WORK_DIR=/home/brett/work/OrthogonalTrainValSplits/hashFrag/data/K562.sample_10000.hashFrag.existing_splits.work\n",
    "INPUT_PATH=$WORK_DIR/K562.sample_2000.test.blastn.out\n",
    "METHOD=lightning\n",
    "THRESHOLD=60\n",
    "\n",
    "hashFrag filter_false_positives -m $METHOD -i $INPUT_PATH -t $THRESHOLD -o $WORK_DIR"
   ]
  },
  {
   "cell_type": "markdown",
   "id": "9752b145-0e01-4cb4-8db9-a5ad61d38eaa",
   "metadata": {},
   "source": [
    "## Section 3.2: Pure mode (optional)"
   ]
  },
  {
   "cell_type": "code",
   "execution_count": 9,
   "id": "6770fdb3-eb7f-4f2b-a902-4d04c212bfdb",
   "metadata": {
    "execution": {
     "iopub.execute_input": "2024-12-20T07:38:00.260688Z",
     "iopub.status.busy": "2024-12-20T07:38:00.260411Z",
     "iopub.status.idle": "2024-12-20T07:38:00.422600Z",
     "shell.execute_reply": "2024-12-20T07:38:00.421859Z",
     "shell.execute_reply.started": "2024-12-20T07:38:00.260662Z"
    }
   },
   "outputs": [],
   "source": [
    "%%bash\n",
    "\n",
    "SPLIT_SIZE=100000\n",
    "WORK_DIR=/home/brett/work/OrthogonalTrainValSplits/hashFrag/data/K562.sample_10000.hashFrag.existing_splits.work\n",
    "BLAST_PATH=$WORK_DIR/K562.sample_2000.test.blastn.out\n",
    "BLAST_DIR=$WORK_DIR/blast_partitions\n",
    "\n",
    "LABEL=$( basename -s \".out\" $BLAST_PATH )\n",
    "\n",
    "mkdir -p $BLAST_DIR\n",
    "cd $BLAST_DIR\n",
    "\n",
    "split -l $SPLIT_SIZE -a 4 --additional-suffix=.tsv $BLAST_PATH ${LABEL}.partition_"
   ]
  },
  {
   "cell_type": "code",
   "execution_count": 10,
   "id": "49f259a5-c46f-47cb-8d7b-854986e45b21",
   "metadata": {
    "execution": {
     "iopub.execute_input": "2024-12-20T07:40:54.777424Z",
     "iopub.status.busy": "2024-12-20T07:40:54.775380Z",
     "iopub.status.idle": "2024-12-20T07:43:24.615537Z",
     "shell.execute_reply": "2024-12-20T07:43:24.614801Z",
     "shell.execute_reply.started": "2024-12-20T07:40:54.777394Z"
    },
    "tags": []
   },
   "outputs": [
    {
     "name": "stdout",
     "output_type": "stream",
     "text": [
      "/home/brett/work/OrthogonalTrainValSplits/hashFrag/data/K562.sample_10000.hashFrag.existing_splits.work/blast_partitions/K562.sample_2000.test.blastn.partition_aaaa.tsv\n",
      "/home/brett/work/OrthogonalTrainValSplits/hashFrag/data/K562.sample_10000.hashFrag.existing_splits.work/blast_partitions/K562.sample_2000.test.blastn.partition_aaab.tsv\n",
      "/home/brett/work/OrthogonalTrainValSplits/hashFrag/data/K562.sample_10000.hashFrag.existing_splits.work/blast_partitions/K562.sample_2000.test.blastn.partition_aaac.tsv\n"
     ]
    }
   ],
   "source": [
    "%%bash\n",
    "\n",
    "cd ../src/external\n",
    "\n",
    "# NOTE THIS IS THE CONCATENATED TRAIN AND TEST FASTA FILES\n",
    "FASTA_PATH=/home/brett/work/OrthogonalTrainValSplits/hashFrag/data/K562.sample_10000.fa.gz\n",
    "\n",
    "WORK_DIR=/home/brett/work/OrthogonalTrainValSplits/hashFrag/data/K562.sample_10000.hashFrag.existing_splits.work\n",
    "BLAST_DIR=$WORK_DIR/blast_partitions\n",
    "\n",
    "for PARTITIONED_BLAST_PATH in $BLAST_DIR/*.blastn.partition_*.tsv\n",
    "do\n",
    "    echo $PARTITIONED_BLAST_PATH\n",
    "    bash compute_blast_candidate_SW_scores.sh $FASTA_PATH $PARTITIONED_BLAST_PATH\n",
    "done"
   ]
  },
  {
   "cell_type": "code",
   "execution_count": 11,
   "id": "7a3b01b8-3515-42f6-8a41-2cc3ca7a1fa6",
   "metadata": {
    "execution": {
     "iopub.execute_input": "2024-12-20T07:43:30.278913Z",
     "iopub.status.busy": "2024-12-20T07:43:30.278650Z",
     "iopub.status.idle": "2024-12-20T07:43:30.551968Z",
     "shell.execute_reply": "2024-12-20T07:43:30.551275Z",
     "shell.execute_reply.started": "2024-12-20T07:43:30.278887Z"
    },
    "tags": []
   },
   "outputs": [],
   "source": [
    "%%bash\n",
    "\n",
    "WORK_DIR=/home/brett/work/OrthogonalTrainValSplits/hashFrag/data/K562.sample_10000.hashFrag.existing_splits.work\n",
    "BLAST_DIR=$WORK_DIR/blast_partitions\n",
    "\n",
    "zcat $BLAST_DIR/*.pairwise_scores.tsv.gz | gzip > $WORK_DIR/K562.sample_10000.blastn_candidates.custom_scores.tsv.gz"
   ]
  },
  {
   "cell_type": "code",
   "execution_count": 12,
   "id": "290ede5d-203d-4f50-ad6b-4ceab6d363f0",
   "metadata": {
    "execution": {
     "iopub.execute_input": "2024-12-20T07:44:07.177883Z",
     "iopub.status.busy": "2024-12-20T07:44:07.177656Z",
     "iopub.status.idle": "2024-12-20T07:44:22.904800Z",
     "shell.execute_reply": "2024-12-20T07:44:22.903991Z",
     "shell.execute_reply.started": "2024-12-20T07:44:07.177860Z"
    },
    "tags": []
   },
   "outputs": [
    {
     "name": "stdout",
     "output_type": "stream",
     "text": [
      "Filtered results written to: /home/brett/work/OrthogonalTrainValSplits/hashFrag/data/K562.sample_10000.hashFrag.existing_splits.work/hashFrag_pure.similar_pairs.tsv.gz\n"
     ]
    }
   ],
   "source": [
    "%%bash\n",
    "\n",
    "WORK_DIR=/home/brett/work/OrthogonalTrainValSplits/hashFrag/data/K562.sample_10000.hashFrag.existing_splits.work\n",
    "INPUT_PATH=$WORK_DIR/K562.sample_10000.blastn_candidates.custom_scores.tsv.gz\n",
    "METHOD=pure\n",
    "\n",
    "THRESHOLD=60\n",
    "\n",
    "hashFrag filter_false_positives -m $METHOD -i $INPUT_PATH -t $THRESHOLD -o $WORK_DIR"
   ]
  },
  {
   "cell_type": "markdown",
   "id": "8a1e7ba0-6b31-4f9a-8a0f-91f34d9998a0",
   "metadata": {},
   "source": [
    "# Section: Use Cases\n",
    "\n",
    "## Section : Filter homology from test split"
   ]
  },
  {
   "cell_type": "code",
   "execution_count": 14,
   "id": "208ddde2-3d1e-42f8-9e9a-c2cd9d5d803e",
   "metadata": {
    "execution": {
     "iopub.execute_input": "2024-12-20T07:46:57.293884Z",
     "iopub.status.busy": "2024-12-20T07:46:57.293636Z",
     "iopub.status.idle": "2024-12-20T07:46:58.837267Z",
     "shell.execute_reply": "2024-12-20T07:46:58.836779Z",
     "shell.execute_reply.started": "2024-12-20T07:46:57.293863Z"
    },
    "tags": []
   },
   "outputs": [
    {
     "name": "stdout",
     "output_type": "stream",
     "text": [
      "199 sequences filtered from test split.\n",
      "Filtered results written to: /home/brett/work/OrthogonalTrainValSplits/hashFrag/data/K562.sample_2000.test.filtered.fa.gz\n"
     ]
    }
   ],
   "source": [
    "%%bash\n",
    "\n",
    "TRAIN_FASTA_PATH=/home/brett/work/OrthogonalTrainValSplits/hashFrag/data/K562.sample_8000.train.fa.gz\n",
    "TEST_FASTA_PATH=/home/brett/work/OrthogonalTrainValSplits/hashFrag/data/K562.sample_2000.test.fa.gz\n",
    "WORK_DIR=/home/brett/work/OrthogonalTrainValSplits/hashFrag/data/K562.sample_10000.hashFrag.existing_splits.work\n",
    "\n",
    "HITS_PATH=$WORK_DIR/hashFrag_lightning.similar_pairs.tsv.gz\n",
    "\n",
    "hashFrag filter_existing_splits --train_fasta_path $TRAIN_FASTA_PATH --test_fasta_path $TEST_FASTA_PATH --hits_path $HITS_PATH"
   ]
  },
  {
   "cell_type": "code",
   "execution_count": 15,
   "id": "dbb857a9-25de-4724-adcf-fcd635bc0b0b",
   "metadata": {
    "execution": {
     "iopub.execute_input": "2024-12-20T07:47:10.793586Z",
     "iopub.status.busy": "2024-12-20T07:47:10.793330Z",
     "iopub.status.idle": "2024-12-20T07:47:12.299001Z",
     "shell.execute_reply": "2024-12-20T07:47:12.298302Z",
     "shell.execute_reply.started": "2024-12-20T07:47:10.793562Z"
    }
   },
   "outputs": [
    {
     "name": "stdout",
     "output_type": "stream",
     "text": [
      "201 sequences filtered from test split.\n",
      "Filtered results written to: /home/brett/work/OrthogonalTrainValSplits/hashFrag/data/K562.sample_2000.test.filtered.fa.gz\n"
     ]
    }
   ],
   "source": [
    "%%bash\n",
    "\n",
    "TRAIN_FASTA_PATH=/home/brett/work/OrthogonalTrainValSplits/hashFrag/data/K562.sample_8000.train.fa.gz\n",
    "TEST_FASTA_PATH=/home/brett/work/OrthogonalTrainValSplits/hashFrag/data/K562.sample_2000.test.fa.gz\n",
    "WORK_DIR=/home/brett/work/OrthogonalTrainValSplits/hashFrag/data/K562.sample_10000.hashFrag.existing_splits.work\n",
    "\n",
    "HITS_PATH=$WORK_DIR/hashFrag_pure.similar_pairs.tsv.gz\n",
    "\n",
    "hashFrag filter_existing_splits --train_fasta_path $TRAIN_FASTA_PATH --test_fasta_path $TEST_FASTA_PATH --hits_path $HITS_PATH"
   ]
  },
  {
   "cell_type": "markdown",
   "id": "681f3eca-ac68-44a3-bb01-8c565c40dc90",
   "metadata": {},
   "source": [
    "## Section: Stratify test split based on homology"
   ]
  },
  {
   "cell_type": "code",
   "execution_count": 19,
   "id": "dbe24a24-f079-4914-850d-81d6e6a90063",
   "metadata": {
    "execution": {
     "iopub.execute_input": "2024-12-20T07:53:41.646293Z",
     "iopub.status.busy": "2024-12-20T07:53:41.646018Z",
     "iopub.status.idle": "2024-12-20T07:53:43.451647Z",
     "shell.execute_reply": "2024-12-20T07:53:43.451125Z",
     "shell.execute_reply.started": "2024-12-20T07:53:41.646269Z"
    },
    "tags": []
   },
   "outputs": [
    {
     "name": "stdout",
     "output_type": "stream",
     "text": [
      "Stratified test split written to file: /home/brett/work/OrthogonalTrainValSplits/hashFrag/data/K562.sample_10000.hashFrag.existing_splits.work/K562.sample_2000.stratified_test.tsv.gz\n"
     ]
    }
   ],
   "source": [
    "%%bash\n",
    "\n",
    "TEST_FASTA_PATH=/home/brett/work/OrthogonalTrainValSplits/hashFrag/data/K562.sample_2000.test.fa.gz\n",
    "WORK_DIR=/home/brett/work/OrthogonalTrainValSplits/hashFrag/data/K562.sample_10000.hashFrag.existing_splits.work\n",
    "INPUT_PATH=$WORK_DIR/K562.sample_2000.test.blastn.out\n",
    "MODE=lightning\n",
    "STEP=10\n",
    "\n",
    "LABEL=$( basename -s \".test.fa.gz\" $TEST_FASTA_PATH )\n",
    "OUTPUT_PATH=$WORK_DIR/${LABEL}.stratified_test.tsv.gz\n",
    "\n",
    "hashFrag stratify_test_split -f $TEST_FASTA_PATH -i $INPUT_PATH -m $MODE -s $STEP -o $OUTPUT_PATH\n"
   ]
  },
  {
   "cell_type": "code",
   "execution_count": 20,
   "id": "c8b5c8cb-7c31-473d-a36f-e7f7e5f3581f",
   "metadata": {
    "execution": {
     "iopub.execute_input": "2024-12-20T07:54:17.713888Z",
     "iopub.status.busy": "2024-12-20T07:54:17.713644Z",
     "iopub.status.idle": "2024-12-20T07:54:19.138271Z",
     "shell.execute_reply": "2024-12-20T07:54:19.137775Z",
     "shell.execute_reply.started": "2024-12-20T07:54:17.713865Z"
    }
   },
   "outputs": [
    {
     "name": "stdout",
     "output_type": "stream",
     "text": [
      "Stratified test split written to file: /home/brett/work/OrthogonalTrainValSplits/hashFrag/data/K562.sample_10000.hashFrag.existing_splits.work/K562.sample_2000.stratified_test.tsv.gz\n"
     ]
    }
   ],
   "source": [
    "%%bash\n",
    "\n",
    "TEST_FASTA_PATH=/home/brett/work/OrthogonalTrainValSplits/hashFrag/data/K562.sample_2000.test.fa.gz\n",
    "WORK_DIR=/home/brett/work/OrthogonalTrainValSplits/hashFrag/data/K562.sample_10000.hashFrag.existing_splits.work\n",
    "INPUT_PATH=$WORK_DIR/K562.sample_10000.blastn_candidates.custom_scores.tsv.gz\n",
    "MODE=pure\n",
    "STEP=10\n",
    "\n",
    "LABEL=$( basename -s \".test.fa.gz\" $TEST_FASTA_PATH )\n",
    "OUTPUT_PATH=$WORK_DIR/${LABEL}.stratified_test.tsv.gz\n",
    "\n",
    "hashFrag stratify_test_split -f $TEST_FASTA_PATH -i $INPUT_PATH -m $MODE -s $STEP -o $OUTPUT_PATH\n"
   ]
  }
 ],
 "metadata": {
  "kernelspec": {
   "display_name": "Python 3 (ipykernel)",
   "language": "python",
   "name": "python3"
  },
  "language_info": {
   "codemirror_mode": {
    "name": "ipython",
    "version": 3
   },
   "file_extension": ".py",
   "mimetype": "text/x-python",
   "name": "python",
   "nbconvert_exporter": "python",
   "pygments_lexer": "ipython3",
   "version": "3.9.15"
  }
 },
 "nbformat": 4,
 "nbformat_minor": 5
}

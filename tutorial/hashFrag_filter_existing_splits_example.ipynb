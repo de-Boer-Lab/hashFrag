{
 "cells": [
  {
   "cell_type": "code",
   "execution_count": 1,
   "id": "fe2776f7-0119-4d38-adfc-bb3b41735ecd",
   "metadata": {
    "execution": {
     "iopub.execute_input": "2024-12-29T04:31:35.569193Z",
     "iopub.status.busy": "2024-12-29T04:31:35.568946Z",
     "iopub.status.idle": "2024-12-29T04:31:35.574769Z",
     "shell.execute_reply": "2024-12-29T04:31:35.574292Z",
     "shell.execute_reply.started": "2024-12-29T04:31:35.569172Z"
    },
    "tags": []
   },
   "outputs": [],
   "source": [
    "import os\n",
    "from pathlib import Path"
   ]
  },
  {
   "cell_type": "code",
   "execution_count": 2,
   "id": "6db2ea46-cdec-4611-afad-96d7eb2a42c7",
   "metadata": {
    "execution": {
     "iopub.execute_input": "2024-12-29T04:31:36.041924Z",
     "iopub.status.busy": "2024-12-29T04:31:36.041683Z",
     "iopub.status.idle": "2024-12-29T04:31:36.391025Z",
     "shell.execute_reply": "2024-12-29T04:31:36.390531Z",
     "shell.execute_reply.started": "2024-12-29T04:31:36.041904Z"
    },
    "tags": []
   },
   "outputs": [
    {
     "name": "stdout",
     "output_type": "stream",
     "text": [
      "usage: hashFrag [-h]\n",
      "                {blastn_module,filter_candidates_module,filter_test_split_module,stratify_test_split_module,identify_homologous_groups_module,create_orthogonal_splits_module,filter_existing_splits,stratify_test_split,create_orthogonal_splits}\n",
      "                ...\n",
      "\n",
      "hashFrag is a tool developed to mitigate the impacts of homology-based data leakage\n",
      "in sequence-to-expression models. By identifying homology (based on pairwise\n",
      "alignment scores) in a sequence dataset, this tool can be used to filter homologous\n",
      "sequences spanning existing train-test splits (e.g., chromosomal splits), stratify\n",
      "a test split according to different levels of homology, or create homology-aware\n",
      "train-test splits.\n",
      "\n",
      "positional arguments:\n",
      "  {blastn_module,filter_candidates_module,filter_test_split_module,stratify_test_split_module,identify_homologous_groups_module,create_orthogonal_splits_module,filter_existing_splits,stratify_test_split,create_orthogonal_splits}\n",
      "    blastn_module       A wrapper script calling BLASTn to identify candidate pairs\n",
      "                        of sequences sharing regions with high similarity.\n",
      "    filter_candidates_module\n",
      "                        Filter candidate pairs based on a specified alignment score\n",
      "                        threshold (false-positive removal).\n",
      "    filter_test_split_module\n",
      "                        Filter test sequences that exhibit homology with any train\n",
      "                        sequences.\n",
      "    stratify_test_split_module\n",
      "                        Stratify the test split into subsplits based on their\n",
      "                        maximum alignment score to the sequences in the train\n",
      "                        split.\n",
      "    identify_homologous_groups_module\n",
      "                        Identify all distinct groups of homologous sequences.\n",
      "    create_orthogonal_splits_module\n",
      "                        Create homology-aware test-train splits.\n",
      "    filter_existing_splits\n",
      "                        Execute the full workflow of commands to filter homology\n",
      "                        spanning the input test splits.\n",
      "    stratify_test_split\n",
      "                        Execute the full workflow of commands to stratify the test\n",
      "                        split based on their maximum pairwise alignment score to\n",
      "                        the train split sequences.\n",
      "    create_orthogonal_splits\n",
      "                        Execute the full workflow of commands to create homology-\n",
      "                        aware train-test splits.\n",
      "\n",
      "optional arguments:\n",
      "  -h, --help            show this help message and exit\n"
     ]
    }
   ],
   "source": [
    "%%bash\n",
    "\n",
    "hashFrag -h"
   ]
  },
  {
   "cell_type": "markdown",
   "id": "e3707df5-9f13-45e0-a994-8f1723090bec",
   "metadata": {},
   "source": [
    "# Introduction\n",
    "\n",
    "> This notebook refers to the case when users have existing train-test splits and are interested in identifying and mitigating data leakage attributed to shared sequence homology across splits.\n",
    "\n",
    "The basic workflow is provided with respect two data splits from a subsampled MPRA dataset (K562): a 8,000-sequence train split and a 2,000-sequence test split (provided in the `data` directory).\n",
    "\n",
    "hashFrag is a command line tool. This notebook serves as a resource to provide example calls and explanations to each step in the process.\n",
    "\n",
    "# Basic setup"
   ]
  },
  {
   "cell_type": "code",
   "execution_count": 4,
   "id": "0a31e16d-eed3-4f5d-9b61-4a7b6423f1ee",
   "metadata": {
    "execution": {
     "iopub.execute_input": "2024-12-28T04:20:26.633253Z",
     "iopub.status.busy": "2024-12-28T04:20:26.632970Z",
     "iopub.status.idle": "2024-12-28T04:20:26.637731Z",
     "shell.execute_reply": "2024-12-28T04:20:26.637391Z",
     "shell.execute_reply.started": "2024-12-28T04:20:26.633237Z"
    },
    "tags": []
   },
   "outputs": [
    {
     "name": "stdout",
     "output_type": "stream",
     "text": [
      "/home/brett/work/OrthogonalTrainValSplits/hashFrag/data/K562.sample_10000.hashFrag.existing_splits.work\n"
     ]
    }
   ],
   "source": [
    "data_dir   = \"/home/brett/work/OrthogonalTrainValSplits/hashFrag/data\"\n",
    "fasta_path = os.path.join(data_dir,\"K562.sample_10000.fa.gz\")\n",
    "label      = os.path.basename(fasta_path).replace(\".fa.gz\",\"\")\n",
    "score_path = os.path.join(data_dir,f\"{label}.pairwise_scores.csv.gz\")\n",
    "work_dir   = os.path.join(data_dir,f\"{label}.hashFrag.filter_existing_splits.work\")\n",
    "Path(work_dir).mkdir(parents=True,exist_ok=True)\n",
    "print(work_dir)\n",
    "\n",
    "blast_dir = os.path.join(work_dir,\"blast_partitions\")\n",
    "Path(blast_dir).mkdir(parents=True,exist_ok=True)"
   ]
  },
  {
   "cell_type": "markdown",
   "id": "dc396c6e-0640-4084-b8c2-770bcfaa0288",
   "metadata": {},
   "source": [
    "# tl;dr"
   ]
  },
  {
   "cell_type": "code",
   "execution_count": 7,
   "id": "8fb9d436-ee31-47a6-b39b-25d3d3cc6bcc",
   "metadata": {
    "execution": {
     "iopub.execute_input": "2024-12-29T05:22:36.591929Z",
     "iopub.status.busy": "2024-12-29T05:22:36.591698Z",
     "iopub.status.idle": "2024-12-29T05:24:58.897887Z",
     "shell.execute_reply": "2024-12-29T05:24:58.897219Z",
     "shell.execute_reply.started": "2024-12-29T05:22:36.591897Z"
    },
    "tags": []
   },
   "outputs": [
    {
     "name": "stdout",
     "output_type": "stream",
     "text": [
      "2024-12-29 14:22:43 - numexpr.utils - INFO - Note: detected 128 virtual cores but NumExpr set to maximum of 64, check \"NUMEXPR_MAX_THREADS\" environment variable.\n",
      "2024-12-29 14:22:43 - numexpr.utils - INFO - Note: NumExpr detected 128 cores but \"NUMEXPR_MAX_THREADS\" not set, so enforcing safe limit of 16.\n",
      "2024-12-29 14:22:43 - numexpr.utils - INFO - NumExpr defaulting to 16 threads.\n",
      "2024-12-29 14:22:49 - pipeline - INFO - Initializing `filter_existing_splits` pipeline.\n",
      "\n",
      "2024-12-29 14:22:49 - blastn_module - INFO - Calling module...\n",
      "2024-12-29 14:22:49 - blastn_module - INFO - Train and test FASTA files detected. Computing pairwise BLAST comparisons across splits...\n",
      "2024-12-29 14:22:56 - blastn_module - INFO - BLASTn output: \n",
      "\n",
      "Building a new DB, current time: 12/29/2024 14:22:56\n",
      "New DB name:   /home/brett/work/OrthogonalTrainValSplits/hashFrag/data/K562.sample_10000.hashFrag.filter_existing_splits.work/hashFrag.blastdb\n",
      "New DB title:  hashFrag\n",
      "Sequence type: Nucleotide\n",
      "Keep MBits: T\n",
      "Maximum file size: 1000000000B\n",
      "Adding sequences from FASTA; added 8000 sequences in 0.177191 seconds.\n",
      "\n",
      "\n",
      "\n",
      "2024-12-29 14:22:56 - blastn_module - INFO - BLAST DataBase construction finished and written to: /home/brett/work/OrthogonalTrainValSplits/hashFrag/data/K562.sample_10000.hashFrag.filter_existing_splits.work/hashFrag.blastdb\n",
      "2024-12-29 14:24:49 - blastn_module - INFO - BLASTn process finished and written to: /home/brett/work/OrthogonalTrainValSplits/hashFrag/data/K562.sample_10000.hashFrag.filter_existing_splits.work/hashFrag.blastn.out\n",
      "2024-12-29 14:24:49 - blastn_module - INFO - Module execution completed.\n",
      "\n",
      "2024-12-29 14:24:49 - filter_candidates_module - INFO - Calling module...\n",
      "2024-12-29 14:24:49 - filter_candidates_module - INFO - Filtering based on corrected BLAST alignment scores (lightning mode).\n",
      "2024-12-29 14:24:50 - filter_candidates_module - INFO - Filtered results written to: /home/brett/work/OrthogonalTrainValSplits/hashFrag/data/K562.sample_10000.hashFrag.filter_existing_splits.work/hashFrag_lightning.similar_pairs.tsv.gz\n",
      "2024-12-29 14:24:50 - filter_candidates_module - INFO - Module execution completed.\n",
      "\n",
      "2024-12-29 14:24:50 - filter_test_split_module - INFO - Calling module...\n",
      "2024-12-29 14:24:50 - filter_test_split_module - INFO - 199 sequences filtered from test split.\n",
      "2024-12-29 14:24:51 - filter_test_split_module - INFO - Filtered results written to: /home/brett/work/OrthogonalTrainValSplits/hashFrag/data/K562.sample_2000.test.filtered.fa.gz\n",
      "2024-12-29 14:24:51 - filter_test_split_module - INFO - Module execution completed.\n",
      "\n",
      "2024-12-29 14:24:51 - pipeline - INFO - Completed execution of the pipeline to filter existing data splits!\n"
     ]
    }
   ],
   "source": [
    "%%bash\n",
    "\n",
    "TRAIN_FASTA_PATH=/home/brett/work/OrthogonalTrainValSplits/hashFrag/data/K562.sample_8000.train.fa.gz\n",
    "TEST_FASTA_PATH=/home/brett/work/OrthogonalTrainValSplits/hashFrag/data/K562.sample_2000.test.fa.gz\n",
    "WORK_DIR=/home/brett/work/OrthogonalTrainValSplits/hashFrag/data/K562.sample_10000.hashFrag.filter_existing_splits.work\n",
    "\n",
    "WORD_SIZE=7\n",
    "MAX_TARGET_SEQS=8000 # size of train dataset\n",
    "E_VALUE=100\n",
    "DUST=no\n",
    "THRESHOLD=60\n",
    "\n",
    "hashFrag filter_existing_splits \\\n",
    "--train_fasta_path $TRAIN_FASTA_PATH \\\n",
    "--test_fasta_path $TEST_FASTA_PATH \\\n",
    "--word_size $WORD_SIZE \\\n",
    "--max_target_seqs $MAX_TARGET_SEQS \\\n",
    "--e_value $E_VALUE \\\n",
    "--dust $DUST \\\n",
    "--output_dir $WORK_DIR \\\n",
    "--threshold $THRESHOLD"
   ]
  },
  {
   "cell_type": "markdown",
   "id": "614c9641-55f1-47be-abbc-9359444f0528",
   "metadata": {},
   "source": [
    "# Section 1 - Identifying candidate similar sequences\n",
    "\n",
    "When user-derived train-test splits are provided, comparisons are constrained to pairs of sequences across splits. The process of identifying candidate pairs of similar sequences involves first creating a BLAST database of sequences in the train split, and then querying each test split sequence against the database. The BLASTn algorithm returns pairwise matches that represent potential cases of homology. \n",
    "\n",
    "Successful identification of cases of homology is paramount to effectively mitigate homology-based data leakage. As such, we configure the BLASTn parameters such that recall is maximized, even if it comes at the expense of increased false-positives. Here we consider the following parameters of BLASTn:\n",
    "\n",
    "* word_size: smaller word sizes results in more exact word matches found between the query and sequences in the database, leading to more alignment score calculations being initialized.\n",
    "* max_target_seqs: set to the size of the database to remove any constraints and allow for all possible candidate sequences to be returned for a given query.\n",
    "* evalue: the e-value statistic is a measure of how likely you observe the alignment by chance (lower value corresponds to less likely to observe). By increasing the e-value threshold, less stringent matches that could be due to chance are returned.\n",
    "* dust: by setting dust off, low-complexity (e.g., repetitive sequences) are no longer masked/filtered out."
   ]
  },
  {
   "cell_type": "code",
   "execution_count": 8,
   "id": "9207237f-ac51-4448-b06e-add500743ab4",
   "metadata": {
    "execution": {
     "iopub.execute_input": "2024-12-29T05:28:17.999596Z",
     "iopub.status.busy": "2024-12-29T05:28:17.995971Z",
     "iopub.status.idle": "2024-12-29T05:28:37.248027Z",
     "shell.execute_reply": "2024-12-29T05:28:37.247357Z",
     "shell.execute_reply.started": "2024-12-29T05:28:17.999571Z"
    },
    "tags": []
   },
   "outputs": [
    {
     "name": "stdout",
     "output_type": "stream",
     "text": [
      "2024-12-29 14:28:37 - blastn_module - INFO - Calling module...\n",
      "2024-12-29 14:28:37 - blastn_module - INFO - Train and test FASTA files detected. Computing pairwise BLAST comparisons across splits...\n",
      "2024-12-29 14:28:37 - blastn_module - INFO - Existing BLAST database found. Path: /home/brett/work/OrthogonalTrainValSplits/hashFrag/data/K562.sample_10000.hashFrag.filter_existing_splits.work/hashFrag.blastdb\n",
      "\tskipping `makeblastdb` call.\n",
      "2024-12-29 14:28:37 - blastn_module - INFO - Existing BLAST results file found. Path: /home/brett/work/OrthogonalTrainValSplits/hashFrag/data/K562.sample_10000.hashFrag.filter_existing_splits.work/hashFrag.blastn.out\n",
      "\tskipping `blastn` call.\n",
      "2024-12-29 14:28:37 - blastn_module - INFO - Module execution completed.\n",
      "\n"
     ]
    }
   ],
   "source": [
    "%%bash\n",
    "\n",
    "TRAIN_FASTA_PATH=/home/brett/work/OrthogonalTrainValSplits/hashFrag/data/K562.sample_8000.train.fa.gz\n",
    "TEST_FASTA_PATH=/home/brett/work/OrthogonalTrainValSplits/hashFrag/data/K562.sample_2000.test.fa.gz\n",
    "WORK_DIR=/home/brett/work/OrthogonalTrainValSplits/hashFrag/data/K562.sample_10000.hashFrag.filter_existing_splits.work\n",
    "\n",
    "WORD_SIZE=7\n",
    "MAX_TARGET_SEQS=8000 # size of train dataset\n",
    "E_VALUE=100\n",
    "DUST=no\n",
    "\n",
    "hashFrag blastn_module \\\n",
    "--train_fasta_path $TRAIN_FASTA_PATH \\\n",
    "--test_fasta_path $TEST_FASTA_PATH \\\n",
    "-w $WORD_SIZE \\\n",
    "-m $MAX_TARGET_SEQS \\\n",
    "-e $E_VALUE \\\n",
    "-d $DUST \\\n",
    "--blastdb_label \"hashFrag\" \\\n",
    "-o $WORK_DIR"
   ]
  },
  {
   "cell_type": "markdown",
   "id": "b0430f8b-febe-42d6-b4fd-1441fb122d06",
   "metadata": {},
   "source": [
    "# Section 2: Filter false-positives based on a defined threshold\n",
    "\n",
    "The next step involves filtering candidate pairings with alignment scores lower than the specified threshold. There are two different modes of hashFrag depending on what alignment score is selected.\n",
    "\n",
    "* `hashFrag-lightning` is the faster version where the alignment score computed from the BLAST output file. BLASTn is a heuristic method and the alignment scores were found to highly correlate with the optimal alignment scores; however, its underestimation of moderate levels of homology leads to slightly lower recall. \n",
    "* `hashFrag-pure` is the slower but more comprehensive method that is based on the optimal, Smith-Waterman local alignment scores between pairs of sequences. The calculation of optimal alignment scores incurs an additional cost to filtering.\n",
    "\n",
    "An alignment score threshold of 60 was determined to be appropriate for a sequence length of 200bp based on analyses assessing alignment scores between dinucleotide shuffled (i.e., random) and genomic nucleotide sequences."
   ]
  },
  {
   "cell_type": "markdown",
   "id": "e0f155f7-a159-4597-ad65-613aa5f29a1e",
   "metadata": {
    "execution": {
     "iopub.execute_input": "2024-12-20T07:32:28.558419Z",
     "iopub.status.busy": "2024-12-20T07:32:28.557732Z",
     "iopub.status.idle": "2024-12-20T07:32:28.560794Z",
     "shell.execute_reply": "2024-12-20T07:32:28.560439Z",
     "shell.execute_reply.started": "2024-12-20T07:32:28.558395Z"
    }
   },
   "source": [
    "## Section 2.1: Lightning mode\n",
    "\n",
    "Candidate pairs are subjected to filtering based on the alignment score calculated by the BLASTn algorithm."
   ]
  },
  {
   "cell_type": "code",
   "execution_count": 10,
   "id": "b91c2b77-0706-436a-83ff-a313a15ec47e",
   "metadata": {
    "execution": {
     "iopub.execute_input": "2024-12-29T05:30:26.576283Z",
     "iopub.status.busy": "2024-12-29T05:30:26.576031Z",
     "iopub.status.idle": "2024-12-29T05:30:27.843469Z",
     "shell.execute_reply": "2024-12-29T05:30:27.842659Z",
     "shell.execute_reply.started": "2024-12-29T05:30:26.576260Z"
    },
    "tags": []
   },
   "outputs": [
    {
     "name": "stdout",
     "output_type": "stream",
     "text": [
      "2024-12-29 14:30:27 - numexpr.utils - INFO - Note: detected 128 virtual cores but NumExpr set to maximum of 64, check \"NUMEXPR_MAX_THREADS\" environment variable.\n",
      "2024-12-29 14:30:27 - numexpr.utils - INFO - Note: NumExpr detected 128 cores but \"NUMEXPR_MAX_THREADS\" not set, so enforcing safe limit of 16.\n",
      "2024-12-29 14:30:27 - numexpr.utils - INFO - NumExpr defaulting to 16 threads.\n",
      "2024-12-29 14:30:27 - filter_candidates_module - INFO - Calling module...\n",
      "2024-12-29 14:30:27 - filter_candidates_module - INFO - Filtering based on corrected BLAST alignment scores (lightning mode).\n",
      "2024-12-29 14:30:27 - filter_candidates_module - INFO - Filtered results written to: /home/brett/work/OrthogonalTrainValSplits/hashFrag/data/K562.sample_10000.hashFrag.filter_existing_splits.work/hashFrag_lightning.similar_pairs.tsv.gz\n",
      "2024-12-29 14:30:27 - filter_candidates_module - INFO - Module execution completed.\n",
      "\n"
     ]
    }
   ],
   "source": [
    "%%bash\n",
    "\n",
    "WORK_DIR=/home/brett/work/OrthogonalTrainValSplits/hashFrag/data/K562.sample_10000.hashFrag.filter_existing_splits.work\n",
    "INPUT_PATH=$WORK_DIR/hashFrag.blastn.out\n",
    "METHOD=lightning\n",
    "THRESHOLD=60\n",
    "\n",
    "hashFrag filter_candidates_module -m $METHOD -i $INPUT_PATH -t $THRESHOLD -o $WORK_DIR"
   ]
  },
  {
   "cell_type": "markdown",
   "id": "9752b145-0e01-4cb4-8db9-a5ad61d38eaa",
   "metadata": {},
   "source": [
    "## Section 2.2: Pure mode (optional)\n",
    "\n",
    "To limit memory usage, we'll start by partitioning the blast output file based on size. "
   ]
  },
  {
   "cell_type": "code",
   "execution_count": 11,
   "id": "6770fdb3-eb7f-4f2b-a902-4d04c212bfdb",
   "metadata": {
    "execution": {
     "iopub.execute_input": "2024-12-29T05:30:49.088556Z",
     "iopub.status.busy": "2024-12-29T05:30:49.088326Z",
     "iopub.status.idle": "2024-12-29T05:30:49.461655Z",
     "shell.execute_reply": "2024-12-29T05:30:49.460845Z",
     "shell.execute_reply.started": "2024-12-29T05:30:49.088537Z"
    },
    "tags": []
   },
   "outputs": [],
   "source": [
    "%%bash\n",
    "\n",
    "SPLIT_SIZE=100000\n",
    "WORK_DIR=/home/brett/work/OrthogonalTrainValSplits/hashFrag/data/K562.sample_10000.hashFrag.filter_existing_splits.work\n",
    "BLAST_PATH=$WORK_DIR/hashFrag.blastn.out\n",
    "BLAST_DIR=$WORK_DIR/blast_partitions\n",
    "\n",
    "LABEL=$( basename -s \".out\" $BLAST_PATH )\n",
    "\n",
    "mkdir -p $BLAST_DIR\n",
    "cd $BLAST_DIR\n",
    "\n",
    "split -l $SPLIT_SIZE -a 4 --additional-suffix=.tsv $BLAST_PATH ${LABEL}.partition_"
   ]
  },
  {
   "cell_type": "markdown",
   "id": "012acb62-1d7e-4a76-aec4-d51443c89fde",
   "metadata": {
    "execution": {
     "iopub.execute_input": "2024-12-20T20:54:56.231905Z",
     "iopub.status.busy": "2024-12-20T20:54:56.228063Z",
     "iopub.status.idle": "2024-12-20T20:54:56.276482Z",
     "shell.execute_reply": "2024-12-20T20:54:56.275829Z",
     "shell.execute_reply.started": "2024-12-20T20:54:56.231868Z"
    }
   },
   "source": [
    "This bash script execution will call a custom python script that computes pairwise Smith-Waterman local alignment scores for the candidate pairs of sequences identified by the BLASTn algorithm. Note that this could feasibly be replaced with any scoring metric of interest.\n",
    "\n",
    "The expected format output files consists of a tab-delimited file with 3 columns: the query sequence iD, the target seqeuence ID, and their alignment score:\n",
    "```\n",
    "seq1    seq2    100\n",
    "seq3    seq4    30\n",
    "seq5    seq6    65\n",
    "```"
   ]
  },
  {
   "cell_type": "code",
   "execution_count": 12,
   "id": "49f259a5-c46f-47cb-8d7b-854986e45b21",
   "metadata": {
    "execution": {
     "iopub.execute_input": "2024-12-29T05:30:58.188672Z",
     "iopub.status.busy": "2024-12-29T05:30:58.188402Z",
     "iopub.status.idle": "2024-12-29T05:32:54.531874Z",
     "shell.execute_reply": "2024-12-29T05:32:54.531083Z",
     "shell.execute_reply.started": "2024-12-29T05:30:58.188648Z"
    },
    "tags": []
   },
   "outputs": [
    {
     "name": "stdout",
     "output_type": "stream",
     "text": [
      "/home/brett/work/OrthogonalTrainValSplits/hashFrag/data/K562.sample_10000.hashFrag.filter_existing_splits.work/blast_partitions/hashFrag.blastn.partition_aaaa.tsv\n",
      "/home/brett/work/OrthogonalTrainValSplits/hashFrag/data/K562.sample_10000.hashFrag.filter_existing_splits.work/blast_partitions/hashFrag.blastn.partition_aaab.tsv\n",
      "/home/brett/work/OrthogonalTrainValSplits/hashFrag/data/K562.sample_10000.hashFrag.filter_existing_splits.work/blast_partitions/hashFrag.blastn.partition_aaac.tsv\n"
     ]
    }
   ],
   "source": [
    "%%bash\n",
    "\n",
    "cd ../src/external\n",
    "\n",
    "# NOTE THIS IS THE CONCATENATED TRAIN AND TEST FASTA FILES\n",
    "FASTA_PATH=/home/brett/work/OrthogonalTrainValSplits/hashFrag/data/K562.sample_10000.fa.gz\n",
    "\n",
    "WORK_DIR=/home/brett/work/OrthogonalTrainValSplits/hashFrag/data/K562.sample_10000.hashFrag.filter_existing_splits.work\n",
    "BLAST_DIR=$WORK_DIR/blast_partitions\n",
    "\n",
    "for PARTITIONED_BLAST_PATH in $BLAST_DIR/*.blastn.partition_*.tsv\n",
    "do\n",
    "    echo $PARTITIONED_BLAST_PATH\n",
    "    bash compute_blast_candidate_SW_scores.sh $FASTA_PATH $PARTITIONED_BLAST_PATH\n",
    "done"
   ]
  },
  {
   "cell_type": "markdown",
   "id": "278f4e14-78ce-4f1e-a491-dd98056e1d23",
   "metadata": {},
   "source": [
    "The SW scores for candidate pairs of sequences can subsequently be concatenated into a single `.tsv` file."
   ]
  },
  {
   "cell_type": "code",
   "execution_count": 13,
   "id": "7a3b01b8-3515-42f6-8a41-2cc3ca7a1fa6",
   "metadata": {
    "execution": {
     "iopub.execute_input": "2024-12-29T05:32:54.533484Z",
     "iopub.status.busy": "2024-12-29T05:32:54.533296Z",
     "iopub.status.idle": "2024-12-29T05:32:54.770310Z",
     "shell.execute_reply": "2024-12-29T05:32:54.769490Z",
     "shell.execute_reply.started": "2024-12-29T05:32:54.533462Z"
    },
    "tags": []
   },
   "outputs": [],
   "source": [
    "%%bash\n",
    "\n",
    "WORK_DIR=/home/brett/work/OrthogonalTrainValSplits/hashFrag/data/K562.sample_10000.hashFrag.filter_existing_splits.work\n",
    "BLAST_DIR=$WORK_DIR/blast_partitions\n",
    "\n",
    "zcat $BLAST_DIR/*.pairwise_scores.tsv.gz | gzip > $WORK_DIR/K562.sample_10000.blastn_candidates.custom_scores.tsv.gz"
   ]
  },
  {
   "cell_type": "markdown",
   "id": "ada8c18c-a8f5-4930-882a-3b9cd52fcb87",
   "metadata": {},
   "source": [
    "Rather than using the heuristic alignment scores provided by the BLASTn algorithm, we can filter false-positives based on SW alignment scores. Make sure to set the mode to `pure`."
   ]
  },
  {
   "cell_type": "code",
   "execution_count": 14,
   "id": "290ede5d-203d-4f50-ad6b-4ceab6d363f0",
   "metadata": {
    "execution": {
     "iopub.execute_input": "2024-12-29T05:32:54.771491Z",
     "iopub.status.busy": "2024-12-29T05:32:54.771304Z",
     "iopub.status.idle": "2024-12-29T05:32:55.680125Z",
     "shell.execute_reply": "2024-12-29T05:32:55.679261Z",
     "shell.execute_reply.started": "2024-12-29T05:32:54.771471Z"
    },
    "tags": []
   },
   "outputs": [
    {
     "name": "stdout",
     "output_type": "stream",
     "text": [
      "2024-12-29 14:32:55 - numexpr.utils - INFO - Note: detected 128 virtual cores but NumExpr set to maximum of 64, check \"NUMEXPR_MAX_THREADS\" environment variable.\n",
      "2024-12-29 14:32:55 - numexpr.utils - INFO - Note: NumExpr detected 128 cores but \"NUMEXPR_MAX_THREADS\" not set, so enforcing safe limit of 16.\n",
      "2024-12-29 14:32:55 - numexpr.utils - INFO - NumExpr defaulting to 16 threads.\n",
      "2024-12-29 14:32:55 - filter_candidates_module - INFO - Calling module...\n",
      "2024-12-29 14:32:55 - filter_candidates_module - INFO - Filtering based on precomputed alignment scores (pure mode).\n",
      "2024-12-29 14:32:55 - filter_candidates_module - INFO - Filtered results written to: /home/brett/work/OrthogonalTrainValSplits/hashFrag/data/K562.sample_10000.hashFrag.filter_existing_splits.work/hashFrag_pure.similar_pairs.tsv.gz\n",
      "2024-12-29 14:32:55 - filter_candidates_module - INFO - Module execution completed.\n",
      "\n"
     ]
    }
   ],
   "source": [
    "%%bash\n",
    "\n",
    "WORK_DIR=/home/brett/work/OrthogonalTrainValSplits/hashFrag/data/K562.sample_10000.hashFrag.filter_existing_splits.work\n",
    "INPUT_PATH=$WORK_DIR/K562.sample_10000.blastn_candidates.custom_scores.tsv.gz\n",
    "METHOD=pure\n",
    "\n",
    "THRESHOLD=60\n",
    "\n",
    "hashFrag filter_candidates_module -m $METHOD -i $INPUT_PATH -t $THRESHOLD -o $WORK_DIR"
   ]
  },
  {
   "cell_type": "markdown",
   "id": "8a1e7ba0-6b31-4f9a-8a0f-91f34d9998a0",
   "metadata": {},
   "source": [
    "# Section 3: Use Case(s)\n",
    "\n",
    "## Filter test split sequences that exhibit homology with any sequences in the train split\n",
    "\n",
    "We show this process for `hashFrag-lightning` or `hashFrag-pure` filtering methods."
   ]
  },
  {
   "cell_type": "code",
   "execution_count": 15,
   "id": "208ddde2-3d1e-42f8-9e9a-c2cd9d5d803e",
   "metadata": {
    "execution": {
     "iopub.execute_input": "2024-12-29T05:34:26.278875Z",
     "iopub.status.busy": "2024-12-29T05:34:26.278593Z",
     "iopub.status.idle": "2024-12-29T05:34:27.543663Z",
     "shell.execute_reply": "2024-12-29T05:34:27.542879Z",
     "shell.execute_reply.started": "2024-12-29T05:34:26.278852Z"
    },
    "tags": []
   },
   "outputs": [
    {
     "name": "stdout",
     "output_type": "stream",
     "text": [
      "2024-12-29 14:34:26 - numexpr.utils - INFO - Note: detected 128 virtual cores but NumExpr set to maximum of 64, check \"NUMEXPR_MAX_THREADS\" environment variable.\n",
      "2024-12-29 14:34:26 - numexpr.utils - INFO - Note: NumExpr detected 128 cores but \"NUMEXPR_MAX_THREADS\" not set, so enforcing safe limit of 16.\n",
      "2024-12-29 14:34:26 - numexpr.utils - INFO - NumExpr defaulting to 16 threads.\n",
      "2024-12-29 14:34:27 - filter_test_split_module - INFO - Calling module...\n",
      "2024-12-29 14:34:27 - filter_test_split_module - INFO - 199 sequences filtered from test split.\n",
      "2024-12-29 14:34:27 - filter_test_split_module - INFO - Filtered results written to: /home/brett/work/OrthogonalTrainValSplits/hashFrag/data/K562.sample_2000.test.filtered.fa.gz\n",
      "2024-12-29 14:34:27 - filter_test_split_module - INFO - Module execution completed.\n",
      "\n"
     ]
    }
   ],
   "source": [
    "%%bash\n",
    "\n",
    "TRAIN_FASTA_PATH=/home/brett/work/OrthogonalTrainValSplits/hashFrag/data/K562.sample_8000.train.fa.gz\n",
    "TEST_FASTA_PATH=/home/brett/work/OrthogonalTrainValSplits/hashFrag/data/K562.sample_2000.test.fa.gz\n",
    "WORK_DIR=/home/brett/work/OrthogonalTrainValSplits/hashFrag/data/K562.sample_10000.hashFrag.filter_existing_splits.work\n",
    "\n",
    "HITS_PATH=$WORK_DIR/hashFrag_lightning.similar_pairs.tsv.gz\n",
    "\n",
    "hashFrag filter_test_split_module --train_fasta_path $TRAIN_FASTA_PATH --test_fasta_path $TEST_FASTA_PATH --hits_path $HITS_PATH"
   ]
  },
  {
   "cell_type": "code",
   "execution_count": 16,
   "id": "dbb857a9-25de-4724-adcf-fcd635bc0b0b",
   "metadata": {
    "execution": {
     "iopub.execute_input": "2024-12-29T05:34:33.567177Z",
     "iopub.status.busy": "2024-12-29T05:34:33.566858Z",
     "iopub.status.idle": "2024-12-29T05:34:34.697218Z",
     "shell.execute_reply": "2024-12-29T05:34:34.696406Z",
     "shell.execute_reply.started": "2024-12-29T05:34:33.567152Z"
    },
    "tags": []
   },
   "outputs": [
    {
     "name": "stdout",
     "output_type": "stream",
     "text": [
      "2024-12-29 14:34:34 - numexpr.utils - INFO - Note: detected 128 virtual cores but NumExpr set to maximum of 64, check \"NUMEXPR_MAX_THREADS\" environment variable.\n",
      "2024-12-29 14:34:34 - numexpr.utils - INFO - Note: NumExpr detected 128 cores but \"NUMEXPR_MAX_THREADS\" not set, so enforcing safe limit of 16.\n",
      "2024-12-29 14:34:34 - numexpr.utils - INFO - NumExpr defaulting to 16 threads.\n",
      "2024-12-29 14:34:34 - filter_test_split_module - INFO - Calling module...\n",
      "2024-12-29 14:34:34 - filter_test_split_module - INFO - 201 sequences filtered from test split.\n",
      "2024-12-29 14:34:34 - filter_test_split_module - INFO - Filtered results written to: /home/brett/work/OrthogonalTrainValSplits/hashFrag/data/K562.sample_2000.test.filtered.fa.gz\n",
      "2024-12-29 14:34:34 - filter_test_split_module - INFO - Module execution completed.\n",
      "\n"
     ]
    }
   ],
   "source": [
    "%%bash\n",
    "\n",
    "TRAIN_FASTA_PATH=/home/brett/work/OrthogonalTrainValSplits/hashFrag/data/K562.sample_8000.train.fa.gz\n",
    "TEST_FASTA_PATH=/home/brett/work/OrthogonalTrainValSplits/hashFrag/data/K562.sample_2000.test.fa.gz\n",
    "WORK_DIR=/home/brett/work/OrthogonalTrainValSplits/hashFrag/data/K562.sample_10000.hashFrag.filter_existing_splits.work\n",
    "\n",
    "HITS_PATH=$WORK_DIR/hashFrag_pure.similar_pairs.tsv.gz\n",
    "\n",
    "hashFrag filter_test_split_module --train_fasta_path $TRAIN_FASTA_PATH --test_fasta_path $TEST_FASTA_PATH --hits_path $HITS_PATH"
   ]
  },
  {
   "cell_type": "code",
   "execution_count": null,
   "id": "ba61d0d1-792e-478a-bae8-2f2324f8b7b4",
   "metadata": {},
   "outputs": [],
   "source": []
  }
 ],
 "metadata": {
  "kernelspec": {
   "display_name": "Python 3 (ipykernel)",
   "language": "python",
   "name": "python3"
  },
  "language_info": {
   "codemirror_mode": {
    "name": "ipython",
    "version": 3
   },
   "file_extension": ".py",
   "mimetype": "text/x-python",
   "name": "python",
   "nbconvert_exporter": "python",
   "pygments_lexer": "ipython3",
   "version": "3.9.15"
  }
 },
 "nbformat": 4,
 "nbformat_minor": 5
}

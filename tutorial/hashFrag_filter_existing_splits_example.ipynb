{
 "cells": [
  {
   "cell_type": "markdown",
   "id": "2ef4f802-44f2-4b67-a2ad-e8fb09365241",
   "metadata": {
    "execution": {
     "iopub.execute_input": "2025-01-10T21:03:40.254199Z",
     "iopub.status.busy": "2025-01-10T21:03:40.212327Z",
     "iopub.status.idle": "2025-01-10T21:03:40.436413Z",
     "shell.execute_reply": "2025-01-10T21:03:40.435946Z",
     "shell.execute_reply.started": "2025-01-10T21:03:40.254139Z"
    },
    "tags": []
   },
   "source": [
    "# `help` commands for general usage"
   ]
  },
  {
   "cell_type": "code",
   "execution_count": 2,
   "id": "6db2ea46-cdec-4611-afad-96d7eb2a42c7",
   "metadata": {
    "execution": {
     "iopub.execute_input": "2024-12-31T20:40:28.721640Z",
     "iopub.status.busy": "2024-12-31T20:40:28.721267Z",
     "iopub.status.idle": "2024-12-31T20:40:29.077791Z",
     "shell.execute_reply": "2024-12-31T20:40:29.077408Z",
     "shell.execute_reply.started": "2024-12-31T20:40:28.721604Z"
    },
    "tags": []
   },
   "outputs": [
    {
     "name": "stdout",
     "output_type": "stream",
     "text": [
      "usage: hashFrag [-h]\n",
      "                {blastn_module,filter_candidates_module,filter_test_split_module,stratify_test_split_module,identify_homologous_groups_module,create_orthogonal_splits_module,filter_existing_splits,stratify_test_split,create_orthogonal_splits}\n",
      "                ...\n",
      "\n",
      "hashFrag is a tool developed to mitigate the impacts of homology-based data leakage in sequence-to-expression models. By identifying homology (based on pairwise alignment scores) in a sequence dataset, this tool can be used to\n",
      "filter homologous sequences spanning existing train-test splits (e.g., chromosomal splits), stratify a test split according to different levels of homology, or create homology-aware train-test splits.\n",
      "\n",
      "positional arguments:\n",
      "  {blastn_module,filter_candidates_module,filter_test_split_module,stratify_test_split_module,identify_homologous_groups_module,create_orthogonal_splits_module,filter_existing_splits,stratify_test_split,create_orthogonal_splits}\n",
      "    blastn_module       A wrapper script calling BLASTn to identify candidate pairs of sequences sharing regions with high similarity.\n",
      "    filter_candidates_module\n",
      "                        Filter candidate pairs based on a specified alignment score threshold (false-positive removal).\n",
      "    filter_test_split_module\n",
      "                        Filter test sequences that exhibit homology with any train sequences.\n",
      "    stratify_test_split_module\n",
      "                        Stratify the test split into subsplits based on their maximum alignment score to the sequences in the train split.\n",
      "    identify_homologous_groups_module\n",
      "                        Identify all distinct groups of homologous sequences.\n",
      "    create_orthogonal_splits_module\n",
      "                        Create homology-aware test-train splits.\n",
      "    filter_existing_splits\n",
      "                        Execute the full workflow of commands to filter homology spanning the input test splits.\n",
      "    stratify_test_split\n",
      "                        Execute the full workflow of commands to stratify the test split based on their maximum pairwise alignment score to the train split sequences.\n",
      "    create_orthogonal_splits\n",
      "                        Execute the full workflow of commands to create homology-aware train-test splits.\n",
      "\n",
      "optional arguments:\n",
      "  -h, --help            show this help message and exit\n"
     ]
    }
   ],
   "source": [
    "%%bash\n",
    "\n",
    "hashFrag -h"
   ]
  },
  {
   "cell_type": "code",
   "execution_count": 2,
   "id": "ecbd36e8-e6cd-4683-8a15-6a0ae4995e19",
   "metadata": {
    "execution": {
     "iopub.execute_input": "2025-01-10T21:03:55.885329Z",
     "iopub.status.busy": "2025-01-10T21:03:55.884973Z",
     "iopub.status.idle": "2025-01-10T21:04:04.006638Z",
     "shell.execute_reply": "2025-01-10T21:04:04.005995Z",
     "shell.execute_reply.started": "2025-01-10T21:03:55.885293Z"
    },
    "tags": []
   },
   "outputs": [
    {
     "name": "stdout",
     "output_type": "stream",
     "text": [
      "usage: hashFrag filter_existing_splits [-h] [--train_fasta_path TRAIN_FASTA_PATH] [--test_fasta_path TEST_FASTA_PATH] [-w WORD_SIZE] [-g GAPOPEN]\n",
      "                                       [-x GAPEXTEND] [-p PENALTY] [-r REWARD] [-m MAX_TARGET_SEQS] [--xdrop_ungap XDROP_UNGAP] [--xdrop_gap XDROP_GAP]\n",
      "                                       [--xdrop_gap_final XDROP_GAP_FINAL] [-e E_VALUE] [-d DUST] [-b BLASTDB_ARGS] [--blastdb_label BLASTDB_LABEL]\n",
      "                                       [-B BLASTN_ARGS] [-T THREADS] [--force] -t THRESHOLD [-o OUTPUT_DIR]\n",
      "\n",
      "Execute the full workflow of commands to filter homology spanning the input test splits. This involves identifying identifying pairs of sequences\n",
      "sharing similarities with BLAST, filtering candidates based on a specified threshold, and filtering the input test split such that there exist no shared\n",
      "homology between the train and test splits..\n",
      "\n",
      "optional arguments:\n",
      "  -h, --help            show this help message and exit\n",
      "  --train_fasta_path TRAIN_FASTA_PATH\n",
      "                        Input FASTA file for the training data split, which will comprise the BLAST database.\n",
      "  --test_fasta_path TEST_FASTA_PATH\n",
      "                        Each sequence will be queried against the train split BLAST database.\n",
      "  -w WORD_SIZE, --word_size WORD_SIZE\n",
      "                        Length of exact matching subsequences of initial match.\n",
      "  -g GAPOPEN, --gapopen GAPOPEN\n",
      "                        Penalty for opening gap in the alignment.\n",
      "  -x GAPEXTEND, --gapextend GAPEXTEND\n",
      "                        Penalty for extending an existing gap in the alignment.\n",
      "  -p PENALTY, --penalty PENALTY\n",
      "                        Nucleotide mismatch in penalty the alignment.\n",
      "  -r REWARD, --reward REWARD\n",
      "                        Nucleotide match reward in the alignment.\n",
      "  -m MAX_TARGET_SEQS, --max_target_seqs MAX_TARGET_SEQS\n",
      "                        The maximum number of target sequences that can be returned per query sequence.\n",
      "  --xdrop_ungap XDROP_UNGAP\n",
      "                        The likelihood threshold required to report sequences as a match.\n",
      "  --xdrop_gap XDROP_GAP\n",
      "                        The likelihood threshold required to report sequences as a match.\n",
      "  --xdrop_gap_final XDROP_GAP_FINAL\n",
      "                        The likelihood threshold required to report sequences as a match.\n",
      "  -e E_VALUE, --e_value E_VALUE\n",
      "                        The likelihood threshold required to report sequences as a match.\n",
      "  -d DUST, --dust DUST  Filter low-complexity (e.g., repetitive) regions.\n",
      "  -b BLASTDB_ARGS, --blastdb_args BLASTDB_ARGS\n",
      "                        Pass additional arguments for makeblastdb call.\n",
      "  --blastdb_label BLASTDB_LABEL\n",
      "                        A label for the BLAST database.\n",
      "  -B BLASTN_ARGS, --blastn_args BLASTN_ARGS\n",
      "                        Pass additional arguments for blastn call.\n",
      "  -T THREADS, --threads THREADS\n",
      "                        The number of CPUs for database search.\n",
      "  --force               Force overwrite BLAST module procedure (default: False)\n",
      "  -t THRESHOLD, --threshold THRESHOLD\n",
      "                        Alignment score threshold to discern a pair of sequences as homologous or a false-positive candidate.\n",
      "  -o OUTPUT_DIR, --output_dir OUTPUT_DIR\n",
      "                        Directory to write BLASTn results.\n"
     ]
    }
   ],
   "source": [
    "%%bash\n",
    "\n",
    "hashFrag filter_existing_splits -h"
   ]
  },
  {
   "cell_type": "markdown",
   "id": "e3707df5-9f13-45e0-a994-8f1723090bec",
   "metadata": {},
   "source": [
    "# Section 0: Introduction\n",
    "\n",
    "> This notebook refers to the case when users have existing train-test splits and are interested in identifying and mitigating data leakage attributed to shared sequence homology across splits.\n",
    "\n",
    "The basic workflow is provided with respect two data splits from a subsampled MPRA dataset (K562): a 8,000-sequence train split and a 2,000-sequence test split (provided in the `data` directory).\n",
    "\n",
    "This notebook serves a walkthrough of calling the individual modules comprising the `hashFrag filter_existing_splits` command. The basic usage command only supports \"lightning\" mode, and can be called as follows:\n",
    "```\n",
    "TRAIN_FASTA_PATH=../data/example_train_split.fa.gz\n",
    "TEST_FASTA_PATH=../data/example_test_split.fa.gz\n",
    "WORK_DIR=../data/tutorial.filter_existing_splits.work\n",
    "\n",
    "WORD_SIZE=7\n",
    "MAX_TARGET_SEQS=8000 # size of train dataset\n",
    "E_VALUE=100\n",
    "THRESHOLD=60\n",
    "\n",
    "hashFrag filter_existing_splits \\\n",
    "--train_fasta_path $TRAIN_FASTA_PATH \\\n",
    "--test_fasta_path $TEST_FASTA_PATH \\\n",
    "--word_size $WORD_SIZE \\\n",
    "--max_target_seqs $MAX_TARGET_SEQS \\\n",
    "--e_value $E_VALUE \\\n",
    "--output_dir $WORK_DIR \\\n",
    "--threshold $THRESHOLD \\\n",
    "--force\n",
    "```"
   ]
  },
  {
   "cell_type": "markdown",
   "id": "614c9641-55f1-47be-abbc-9359444f0528",
   "metadata": {},
   "source": [
    "# Section 1 - Identifying candidate similar sequences\n",
    "\n",
    "When user-derived train-test splits are provided, comparisons are constrained to pairs of sequences across splits. The process of identifying candidate pairs of similar sequences involves first creating a BLAST database of sequences in the train split, and then querying each test split sequence against the database. The BLASTn algorithm returns pairwise matches that represent potential cases of homology. \n",
    "\n",
    "Successful identification of cases of homology is paramount to effectively mitigate homology-based data leakage. As such, we configure the BLASTn parameters such that recall is maximized, even if it comes at the expense of increased false-positives. Here we consider the following parameters of BLASTn:\n",
    "\n",
    "* word_size: smaller word sizes results in more exact word matches found between the query and sequences in the database, leading to more alignment score calculations being initialized.\n",
    "* max_target_seqs: set to the size of the database to remove any constraints and allow for all possible candidate sequences to be returned for a given query.\n",
    "* evalue: the e-value statistic is a measure of how likely you observe the alignment by chance (lower value corresponds to less likely to observe). By increasing the e-value threshold, less stringent matches that could be due to chance are returned.\n",
    "* dust: by setting dust off, low-complexity (e.g., repetitive sequences) are no longer masked/filtered out."
   ]
  },
  {
   "cell_type": "code",
   "execution_count": 5,
   "id": "9207237f-ac51-4448-b06e-add500743ab4",
   "metadata": {
    "execution": {
     "iopub.execute_input": "2025-01-10T21:08:59.435787Z",
     "iopub.status.busy": "2025-01-10T21:08:59.435516Z",
     "iopub.status.idle": "2025-01-10T21:08:59.900834Z",
     "shell.execute_reply": "2025-01-10T21:08:59.900097Z",
     "shell.execute_reply.started": "2025-01-10T21:08:59.435763Z"
    },
    "tags": []
   },
   "outputs": [
    {
     "name": "stdout",
     "output_type": "stream",
     "text": [
      "2025-01-11 06:08:59 - blastn_module - INFO - Calling module...\n",
      "2025-01-11 06:08:59 - blastn_module - INFO - Train and test FASTA files detected. Computing pairwise BLAST comparisons across splits...\n",
      "2025-01-11 06:08:59 - blastn_module - INFO - Existing BLAST database found. Path: ../data/tutorial.filter_existing_splits.work/hashFrag.blastdb\n",
      "2025-01-11 06:08:59 - blastn_module - INFO - Skipping `makeblastdb` call...\n",
      "2025-01-11 06:08:59 - blastn_module - INFO - Existing BLAST results file found. Path: ../data/tutorial.filter_existing_splits.work/hashFrag.blastn.out\n",
      "2025-01-11 06:08:59 - blastn_module - INFO - Skipping `blastn` call.\n",
      "2025-01-11 06:08:59 - blastn_module - INFO - Module execution completed.\n",
      "\n"
     ]
    }
   ],
   "source": [
    "%%bash\n",
    "\n",
    "TRAIN_FASTA_PATH=../data/example_train_split.fa.gz\n",
    "TEST_FASTA_PATH=../data/example_test_split.fa.gz\n",
    "WORK_DIR=../data/tutorial.filter_existing_splits.work\n",
    "\n",
    "WORD_SIZE=7\n",
    "MAX_TARGET_SEQS=8000 # size of train dataset\n",
    "E_VALUE=100\n",
    "\n",
    "hashFrag blastn_module \\\n",
    "--train_fasta_path $TRAIN_FASTA_PATH \\\n",
    "--test_fasta_path $TEST_FASTA_PATH \\\n",
    "-w $WORD_SIZE \\\n",
    "-m $MAX_TARGET_SEQS \\\n",
    "-e $E_VALUE \\\n",
    "--blastdb_label \"hashFrag\" \\\n",
    "-o $WORK_DIR"
   ]
  },
  {
   "cell_type": "markdown",
   "id": "b0430f8b-febe-42d6-b4fd-1441fb122d06",
   "metadata": {},
   "source": [
    "# Section 2: Filter false-positives based on a defined threshold\n",
    "\n",
    "The next step involves filtering candidate pairings with alignment scores lower than the specified threshold. There are two different modes of hashFrag depending on what alignment score is selected.\n",
    "\n",
    "* `hashFrag-lightning` is the faster version where the alignment score computed from the BLAST output file. BLASTn is a heuristic method and the alignment scores were found to highly correlate with the optimal alignment scores; however, its underestimation of moderate levels of homology leads to slightly lower recall. \n",
    "* `hashFrag-pure` is the slower but more comprehensive method that is based on the optimal, Smith-Waterman local alignment scores between pairs of sequences. The calculation of optimal alignment scores incurs an additional cost to filtering.\n",
    "\n",
    "An alignment score threshold of 60 was determined to be appropriate for a sequence length of 200bp based on analyses assessing alignment scores between dinucleotide shuffled (i.e., random) and genomic nucleotide sequences."
   ]
  },
  {
   "cell_type": "markdown",
   "id": "e0f155f7-a159-4597-ad65-613aa5f29a1e",
   "metadata": {
    "execution": {
     "iopub.execute_input": "2024-12-20T07:32:28.558419Z",
     "iopub.status.busy": "2024-12-20T07:32:28.557732Z",
     "iopub.status.idle": "2024-12-20T07:32:28.560794Z",
     "shell.execute_reply": "2024-12-20T07:32:28.560439Z",
     "shell.execute_reply.started": "2024-12-20T07:32:28.558395Z"
    }
   },
   "source": [
    "## Section 2.1: Lightning mode (Default behavior)\n",
    "\n",
    "Candidate pairs are subjected to filtering based on the alignment score calculated by the BLASTn algorithm."
   ]
  },
  {
   "cell_type": "code",
   "execution_count": 6,
   "id": "b91c2b77-0706-436a-83ff-a313a15ec47e",
   "metadata": {
    "execution": {
     "iopub.execute_input": "2025-01-10T21:09:05.384671Z",
     "iopub.status.busy": "2025-01-10T21:09:05.384378Z",
     "iopub.status.idle": "2025-01-10T21:09:06.771737Z",
     "shell.execute_reply": "2025-01-10T21:09:06.771256Z",
     "shell.execute_reply.started": "2025-01-10T21:09:05.384648Z"
    },
    "tags": []
   },
   "outputs": [
    {
     "name": "stdout",
     "output_type": "stream",
     "text": [
      "2025-01-11 06:09:06 - numexpr.utils - INFO - Note: detected 128 virtual cores but NumExpr set to maximum of 64, check \"NUMEXPR_MAX_THREADS\" environment variable.\n",
      "2025-01-11 06:09:06 - numexpr.utils - INFO - Note: NumExpr detected 128 cores but \"NUMEXPR_MAX_THREADS\" not set, so enforcing safe limit of 16.\n",
      "2025-01-11 06:09:06 - numexpr.utils - INFO - NumExpr defaulting to 16 threads.\n",
      "2025-01-11 06:09:06 - filter_candidates_module - INFO - Calling module...\n",
      "2025-01-11 06:09:06 - filter_candidates_module - INFO - Filtering based on corrected BLAST alignment scores (lightning mode).\n",
      "2025-01-11 06:09:06 - filter_candidates_module - INFO - Filtered results written to: ../data/tutorial.filter_existing_splits.work/hashFrag_lightning.similar_pairs.tsv.gz\n",
      "2025-01-11 06:09:06 - filter_candidates_module - INFO - Module execution completed.\n",
      "\n"
     ]
    }
   ],
   "source": [
    "%%bash\n",
    "\n",
    "WORK_DIR=../data/tutorial.filter_existing_splits.work\n",
    "INPUT_PATH=$WORK_DIR/hashFrag.blastn.out\n",
    "METHOD=lightning\n",
    "THRESHOLD=60\n",
    "\n",
    "hashFrag filter_candidates_module -m $METHOD -i $INPUT_PATH -t $THRESHOLD -o $WORK_DIR"
   ]
  },
  {
   "cell_type": "markdown",
   "id": "9752b145-0e01-4cb4-8db9-a5ad61d38eaa",
   "metadata": {},
   "source": [
    "## Section 2.2: Pure mode (optional)\n",
    "\n",
    "To limit memory usage, we'll start by partitioning the blast output file based on size. "
   ]
  },
  {
   "cell_type": "code",
   "execution_count": 9,
   "id": "6770fdb3-eb7f-4f2b-a902-4d04c212bfdb",
   "metadata": {
    "execution": {
     "iopub.execute_input": "2025-01-10T21:11:59.408209Z",
     "iopub.status.busy": "2025-01-10T21:11:59.406482Z",
     "iopub.status.idle": "2025-01-10T21:11:59.550760Z",
     "shell.execute_reply": "2025-01-10T21:11:59.550218Z",
     "shell.execute_reply.started": "2025-01-10T21:11:59.408174Z"
    },
    "tags": []
   },
   "outputs": [
    {
     "name": "stdout",
     "output_type": "stream",
     "text": [
      "total 1.5K\n",
      "-rw-r----- 1 brett 4.6M Jan 11 06:11 hashFrag.blastn.partition_aaac.tsv\n",
      "-rw-r----- 1 brett 7.2M Jan 11 06:11 hashFrag.blastn.partition_aaab.tsv\n",
      "-rw-r----- 1 brett 7.2M Jan 11 06:11 hashFrag.blastn.partition_aaaa.tsv\n"
     ]
    }
   ],
   "source": [
    "%%bash\n",
    "\n",
    "WORK_DIR=../data/tutorial.filter_existing_splits.work\n",
    "\n",
    "cd $WORK_DIR\n",
    "BLAST_PATH=$PWD/hashFrag.blastn.out\n",
    "BLAST_DIR=$PWD/blast_partitions\n",
    "LABEL=$( basename -s \".out\" $BLAST_PATH )\n",
    "\n",
    "mkdir -p $BLAST_DIR\n",
    "cd $BLAST_DIR\n",
    "\n",
    "SPLIT_SIZE=100000\n",
    "\n",
    "split -l $SPLIT_SIZE -a 4 --additional-suffix=.tsv $BLAST_PATH ${LABEL}.partition_\n",
    "\n",
    "ls -thor $BLAST_DIR"
   ]
  },
  {
   "cell_type": "markdown",
   "id": "012acb62-1d7e-4a76-aec4-d51443c89fde",
   "metadata": {
    "execution": {
     "iopub.execute_input": "2024-12-20T20:54:56.231905Z",
     "iopub.status.busy": "2024-12-20T20:54:56.228063Z",
     "iopub.status.idle": "2024-12-20T20:54:56.276482Z",
     "shell.execute_reply": "2024-12-20T20:54:56.275829Z",
     "shell.execute_reply.started": "2024-12-20T20:54:56.231868Z"
    }
   },
   "source": [
    "This bash script execution will call a custom python script that computes pairwise Smith-Waterman local alignment scores for the candidate pairs of sequences identified by the BLASTn algorithm. Note that this could feasibly be replaced with any scoring metric of interest.\n",
    "\n",
    "The expected format output files consists of a tab-delimited file with 3 columns: the query sequence iD, the target seqeuence ID, and their alignment score:\n",
    "```\n",
    "seq1    seq2    100\n",
    "seq3    seq4    30\n",
    "seq5    seq6    65\n",
    "```"
   ]
  },
  {
   "cell_type": "code",
   "execution_count": 16,
   "id": "49f259a5-c46f-47cb-8d7b-854986e45b21",
   "metadata": {
    "execution": {
     "iopub.execute_input": "2025-01-10T21:15:10.957092Z",
     "iopub.status.busy": "2025-01-10T21:15:10.956860Z",
     "iopub.status.idle": "2025-01-10T21:17:02.519215Z",
     "shell.execute_reply": "2025-01-10T21:17:02.518560Z",
     "shell.execute_reply.started": "2025-01-10T21:15:10.957072Z"
    },
    "tags": []
   },
   "outputs": [
    {
     "name": "stdout",
     "output_type": "stream",
     "text": [
      "/rshare1/ZETTAI_path_WA_slash_home_KARA/home/brett/work/OrthogonalTrainValSplits/hashFrag/data/tutorial.filter_existing_splits.work/blast_partitions/hashFrag.blastn.partition_aaaa.tsv\n",
      "/rshare1/ZETTAI_path_WA_slash_home_KARA/home/brett/work/OrthogonalTrainValSplits/hashFrag/data/tutorial.filter_existing_splits.work/blast_partitions/hashFrag.blastn.partition_aaab.tsv\n",
      "/rshare1/ZETTAI_path_WA_slash_home_KARA/home/brett/work/OrthogonalTrainValSplits/hashFrag/data/tutorial.filter_existing_splits.work/blast_partitions/hashFrag.blastn.partition_aaac.tsv\n"
     ]
    }
   ],
   "source": [
    "%%bash\n",
    "\n",
    "DATA_DIR=../data\n",
    "cd $DATA_DIR\n",
    "\n",
    "FASTA_PATH=$PWD/example_full_dataset.fa.gz\n",
    "WORK_DIR=$PWD/tutorial.filter_existing_splits.work\n",
    "BLAST_DIR=$WORK_DIR/blast_partitions\n",
    "\n",
    "cd ../src/external\n",
    "\n",
    "for PARTITIONED_BLAST_PATH in $BLAST_DIR/*.blastn.partition_*.tsv\n",
    "do\n",
    "    echo $PARTITIONED_BLAST_PATH\n",
    "    bash compute_blast_candidate_SW_scores.sh $FASTA_PATH $PARTITIONED_BLAST_PATH\n",
    "done"
   ]
  },
  {
   "cell_type": "markdown",
   "id": "278f4e14-78ce-4f1e-a491-dd98056e1d23",
   "metadata": {},
   "source": [
    "The SW scores for candidate pairs of sequences can subsequently be concatenated into a single `.tsv` file."
   ]
  },
  {
   "cell_type": "code",
   "execution_count": 17,
   "id": "7a3b01b8-3515-42f6-8a41-2cc3ca7a1fa6",
   "metadata": {
    "execution": {
     "iopub.execute_input": "2025-01-10T21:17:25.565610Z",
     "iopub.status.busy": "2025-01-10T21:17:25.565255Z",
     "iopub.status.idle": "2025-01-10T21:17:25.777157Z",
     "shell.execute_reply": "2025-01-10T21:17:25.776604Z",
     "shell.execute_reply.started": "2025-01-10T21:17:25.565574Z"
    },
    "tags": []
   },
   "outputs": [
    {
     "name": "stdout",
     "output_type": "stream",
     "text": [
      "BCL11A_1238\tpeak73841_Reversed\t16.0\n",
      "BCL11A_1238\tpeak42457\t13.0\n",
      "BCL11A_1238\tpeak82207_Reversed\t21.0\n",
      "BCL11A_1238\tpeak69717\t14.0\n",
      "BCL11A_1238\tpeak21149\t16.0\n",
      "BCL11A_1238\tpeak1501\t15.0\n",
      "BCL11A_1238\tHBE1_1082\t13.0\n",
      "BCL11A_1238\tpeak16460_Reversed\t15.0\n",
      "BCL11A_1238\tHBE1_7814\t13.0\n",
      "BCL11A_1238\tpeak62315\t15.0\n"
     ]
    }
   ],
   "source": [
    "%%bash\n",
    "\n",
    "WORK_DIR=../data/tutorial.filter_existing_splits.work\n",
    "BLAST_DIR=$WORK_DIR/blast_partitions\n",
    "\n",
    "zcat $BLAST_DIR/*.pairwise_scores.tsv.gz | gzip > $WORK_DIR/hashFrag_pure.blastn_candidates.sw_scores.tsv.gz\n",
    "\n",
    "zcat $WORK_DIR/hashFrag_pure.blastn_candidates.sw_scores.tsv.gz | head -n 10"
   ]
  },
  {
   "cell_type": "markdown",
   "id": "ada8c18c-a8f5-4930-882a-3b9cd52fcb87",
   "metadata": {},
   "source": [
    "Rather than using the heuristic alignment scores provided by the BLASTn algorithm, we can filter false-positives based on SW alignment scores. Make sure to set the mode to `pure`."
   ]
  },
  {
   "cell_type": "code",
   "execution_count": 18,
   "id": "290ede5d-203d-4f50-ad6b-4ceab6d363f0",
   "metadata": {
    "execution": {
     "iopub.execute_input": "2025-01-10T21:17:27.912991Z",
     "iopub.status.busy": "2025-01-10T21:17:27.912758Z",
     "iopub.status.idle": "2025-01-10T21:17:28.853425Z",
     "shell.execute_reply": "2025-01-10T21:17:28.852798Z",
     "shell.execute_reply.started": "2025-01-10T21:17:27.912973Z"
    },
    "tags": []
   },
   "outputs": [
    {
     "name": "stdout",
     "output_type": "stream",
     "text": [
      "2025-01-11 06:17:28 - numexpr.utils - INFO - Note: detected 128 virtual cores but NumExpr set to maximum of 64, check \"NUMEXPR_MAX_THREADS\" environment variable.\n",
      "2025-01-11 06:17:28 - numexpr.utils - INFO - Note: NumExpr detected 128 cores but \"NUMEXPR_MAX_THREADS\" not set, so enforcing safe limit of 16.\n",
      "2025-01-11 06:17:28 - numexpr.utils - INFO - NumExpr defaulting to 16 threads.\n",
      "2025-01-11 06:17:28 - filter_candidates_module - INFO - Calling module...\n",
      "2025-01-11 06:17:28 - filter_candidates_module - INFO - Filtering based on precomputed alignment scores (pure mode).\n",
      "2025-01-11 06:17:28 - filter_candidates_module - INFO - Filtered results written to: ../data/tutorial.filter_existing_splits.work/hashFrag_pure.similar_pairs.tsv.gz\n",
      "2025-01-11 06:17:28 - filter_candidates_module - INFO - Module execution completed.\n",
      "\n"
     ]
    }
   ],
   "source": [
    "%%bash\n",
    "\n",
    "WORK_DIR=../data/tutorial.filter_existing_splits.work\n",
    "INPUT_PATH=$WORK_DIR/hashFrag_pure.blastn_candidates.sw_scores.tsv.gz\n",
    "METHOD=pure\n",
    "\n",
    "THRESHOLD=60\n",
    "\n",
    "hashFrag filter_candidates_module -m $METHOD -i $INPUT_PATH -t $THRESHOLD -o $WORK_DIR"
   ]
  },
  {
   "cell_type": "markdown",
   "id": "8a1e7ba0-6b31-4f9a-8a0f-91f34d9998a0",
   "metadata": {},
   "source": [
    "# Section 3: Use Case(s)\n",
    "\n",
    "## Filter test split sequences that exhibit homology with any sequences in the train split\n",
    "\n",
    "We show this process for `hashFrag-lightning` or `hashFrag-pure` filtering methods."
   ]
  },
  {
   "cell_type": "code",
   "execution_count": 19,
   "id": "208ddde2-3d1e-42f8-9e9a-c2cd9d5d803e",
   "metadata": {
    "execution": {
     "iopub.execute_input": "2025-01-10T21:17:35.083420Z",
     "iopub.status.busy": "2025-01-10T21:17:35.083057Z",
     "iopub.status.idle": "2025-01-10T21:17:36.084145Z",
     "shell.execute_reply": "2025-01-10T21:17:36.083470Z",
     "shell.execute_reply.started": "2025-01-10T21:17:35.083383Z"
    },
    "tags": []
   },
   "outputs": [
    {
     "name": "stdout",
     "output_type": "stream",
     "text": [
      "2025-01-11 06:17:35 - numexpr.utils - INFO - Note: detected 128 virtual cores but NumExpr set to maximum of 64, check \"NUMEXPR_MAX_THREADS\" environment variable.\n",
      "2025-01-11 06:17:35 - numexpr.utils - INFO - Note: NumExpr detected 128 cores but \"NUMEXPR_MAX_THREADS\" not set, so enforcing safe limit of 16.\n",
      "2025-01-11 06:17:35 - numexpr.utils - INFO - NumExpr defaulting to 16 threads.\n",
      "2025-01-11 06:17:35 - filter_test_split_module - INFO - Calling module...\n",
      "2025-01-11 06:17:35 - filter_test_split_module - INFO - 199 sequences filtered from test split.\n",
      "2025-01-11 06:17:36 - filter_test_split_module - INFO - Filtered results written to: ../data/example_test_split.filtered.fa.gz\n",
      "2025-01-11 06:17:36 - filter_test_split_module - INFO - Module execution completed.\n",
      "\n"
     ]
    }
   ],
   "source": [
    "%%bash\n",
    "\n",
    "TRAIN_FASTA_PATH=../data/example_train_split.fa.gz\n",
    "TEST_FASTA_PATH=../data/example_test_split.fa.gz\n",
    "WORK_DIR=../data/tutorial.filter_existing_splits.work\n",
    "\n",
    "HITS_PATH=$WORK_DIR/hashFrag_lightning.similar_pairs.tsv.gz\n",
    "\n",
    "hashFrag filter_test_split_module --train_fasta_path $TRAIN_FASTA_PATH --test_fasta_path $TEST_FASTA_PATH --hits_path $HITS_PATH"
   ]
  },
  {
   "cell_type": "code",
   "execution_count": 20,
   "id": "dbb857a9-25de-4724-adcf-fcd635bc0b0b",
   "metadata": {
    "execution": {
     "iopub.execute_input": "2025-01-10T21:17:38.237679Z",
     "iopub.status.busy": "2025-01-10T21:17:38.237494Z",
     "iopub.status.idle": "2025-01-10T21:17:39.263114Z",
     "shell.execute_reply": "2025-01-10T21:17:39.262459Z",
     "shell.execute_reply.started": "2025-01-10T21:17:38.237660Z"
    },
    "tags": []
   },
   "outputs": [
    {
     "name": "stdout",
     "output_type": "stream",
     "text": [
      "2025-01-11 06:17:38 - numexpr.utils - INFO - Note: detected 128 virtual cores but NumExpr set to maximum of 64, check \"NUMEXPR_MAX_THREADS\" environment variable.\n",
      "2025-01-11 06:17:38 - numexpr.utils - INFO - Note: NumExpr detected 128 cores but \"NUMEXPR_MAX_THREADS\" not set, so enforcing safe limit of 16.\n",
      "2025-01-11 06:17:38 - numexpr.utils - INFO - NumExpr defaulting to 16 threads.\n",
      "2025-01-11 06:17:38 - filter_test_split_module - INFO - Calling module...\n",
      "2025-01-11 06:17:38 - filter_test_split_module - INFO - 201 sequences filtered from test split.\n",
      "2025-01-11 06:17:39 - filter_test_split_module - INFO - Filtered results written to: ../data/example_test_split.filtered.fa.gz\n",
      "2025-01-11 06:17:39 - filter_test_split_module - INFO - Module execution completed.\n",
      "\n"
     ]
    }
   ],
   "source": [
    "%%bash\n",
    "\n",
    "TRAIN_FASTA_PATH=../data/example_train_split.fa.gz\n",
    "TEST_FASTA_PATH=../data/example_test_split.fa.gz\n",
    "WORK_DIR=../data/tutorial.filter_existing_splits.work\n",
    "\n",
    "HITS_PATH=$WORK_DIR/hashFrag_pure.similar_pairs.tsv.gz\n",
    "\n",
    "hashFrag filter_test_split_module --train_fasta_path $TRAIN_FASTA_PATH --test_fasta_path $TEST_FASTA_PATH --hits_path $HITS_PATH"
   ]
  }
 ],
 "metadata": {
  "kernelspec": {
   "display_name": "Python 3 (ipykernel)",
   "language": "python",
   "name": "python3"
  },
  "language_info": {
   "codemirror_mode": {
    "name": "ipython",
    "version": 3
   },
   "file_extension": ".py",
   "mimetype": "text/x-python",
   "name": "python",
   "nbconvert_exporter": "python",
   "pygments_lexer": "ipython3",
   "version": "3.9.15"
  }
 },
 "nbformat": 4,
 "nbformat_minor": 5
}

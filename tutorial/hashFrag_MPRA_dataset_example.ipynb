{
 "cells": [
  {
   "cell_type": "code",
   "execution_count": 30,
   "id": "e7bb08a6-c8da-4175-90d6-53fadc7afa74",
   "metadata": {
    "execution": {
     "iopub.execute_input": "2024-12-19T08:38:26.320338Z",
     "iopub.status.busy": "2024-12-19T08:38:26.319988Z",
     "iopub.status.idle": "2024-12-19T08:38:26.327780Z",
     "shell.execute_reply": "2024-12-19T08:38:26.327179Z",
     "shell.execute_reply.started": "2024-12-19T08:38:26.320321Z"
    },
    "tags": []
   },
   "outputs": [],
   "source": [
    "import os\n",
    "from Bio import SeqIO\n",
    "from tqdm import tqdm\n",
    "from pathlib import Path"
   ]
  },
  {
   "cell_type": "code",
   "execution_count": 5,
   "id": "fc719fe2-f848-431e-9b17-31479969a4d1",
   "metadata": {
    "execution": {
     "iopub.execute_input": "2024-12-19T07:25:38.854451Z",
     "iopub.status.busy": "2024-12-19T07:25:38.854078Z",
     "iopub.status.idle": "2024-12-19T07:25:39.046818Z",
     "shell.execute_reply": "2024-12-19T07:25:39.046064Z",
     "shell.execute_reply.started": "2024-12-19T07:25:38.854432Z"
    },
    "tags": []
   },
   "outputs": [],
   "source": [
    "!export PATH=$PATH:/home/brett/work/OrthogonalTrainValSplits/hashFrag/src"
   ]
  },
  {
   "cell_type": "code",
   "execution_count": 1,
   "id": "60c5272d-1889-41ca-b3fb-60614d5f83c8",
   "metadata": {
    "execution": {
     "iopub.execute_input": "2024-12-19T07:29:13.491757Z",
     "iopub.status.busy": "2024-12-19T07:29:13.491415Z",
     "iopub.status.idle": "2024-12-19T07:29:48.643211Z",
     "shell.execute_reply": "2024-12-19T07:29:48.642587Z",
     "shell.execute_reply.started": "2024-12-19T07:29:13.491738Z"
    },
    "tags": []
   },
   "outputs": [
    {
     "name": "stdout",
     "output_type": "stream",
     "text": [
      "usage: hashFrag [-h]\n",
      "                {blastn,filter_false_positives,identify_homologous_groups,create_orthogonal_splits}\n",
      "                ...\n",
      "\n",
      "positional arguments:\n",
      "  {blastn,filter_false_positives,identify_homologous_groups,create_orthogonal_splits}\n",
      "\n",
      "optional arguments:\n",
      "  -h, --help            show this help message and exit\n"
     ]
    }
   ],
   "source": [
    "%%bash\n",
    "\n",
    "hashFrag"
   ]
  },
  {
   "cell_type": "markdown",
   "id": "8381d6c3-0050-401e-87b1-c5b2eb76cc78",
   "metadata": {},
   "source": [
    "# Introduction\n",
    "\n",
    "This notebook provides a basic tutorial on the core functionality of hashFrag.\n",
    "\n",
    "Working with a small MPRA dataset of 10,000 sequences (provided in the `data` directory), users can see example calls to the hashFrag. Specifically, this notebook will encompass the following tasks:\n",
    "\n",
    "1. `hashFrag blastn`: Identifying candidate pairs of sequences exhibiting similarity in the dataset.\n",
    "2. (Optional) For each candidate pairing, compute their optimal local alignment score ([Smith-Waterman algorithm](https://en.wikipedia.org/wiki/Smith%E2%80%93Waterman_algorithm)).\n",
    "3. `hashFrag filter_false_positives`: Using the local alignment scores calculated in the previous step, filter false-positive candidates based on a specified threshold.\n",
    "    + Note that if the previous step was NOT performed, false-positive candidates will be filtered based on the heuristic local alignment scores provided by the BLAST algorithm.\n",
    "    + The threshold to use for tuning is not only dataset-dependent, but also highly depends on BLAST (and, if performed, Smith-Waterman) local alignment parameters. See the advanced tutorial (TODO) for an example on our recommended workflow to tune relevant parameters and select an appropriate threshold.\n",
    "4. `hashFrag identify_homologous_groups`: determine the different subgroups of sequences exhibiting homology.\n",
    "5. `hashFrag create_orthogonal_splits`: create homology-aware data splits.\n",
    "\n",
    "hashFrag is a command line tool. This notebook serves as a resource to better understand each step in the process.\n"
   ]
  },
  {
   "cell_type": "markdown",
   "id": "68f3bd7e-e67b-4236-aa5b-0c51c3344d8b",
   "metadata": {
    "execution": {
     "iopub.execute_input": "2024-12-09T04:30:02.468472Z",
     "iopub.status.busy": "2024-12-09T04:30:02.468181Z",
     "iopub.status.idle": "2024-12-09T04:30:02.472211Z",
     "shell.execute_reply": "2024-12-09T04:30:02.471603Z",
     "shell.execute_reply.started": "2024-12-09T04:30:02.468450Z"
    },
    "tags": []
   },
   "source": [
    "# Section 0: Setup"
   ]
  },
  {
   "cell_type": "code",
   "execution_count": 3,
   "id": "82b029ef-ccdd-418e-86dd-0a99721c68a9",
   "metadata": {
    "execution": {
     "iopub.execute_input": "2024-12-19T02:57:49.463792Z",
     "iopub.status.busy": "2024-12-19T02:57:49.463391Z",
     "iopub.status.idle": "2024-12-19T02:57:49.468819Z",
     "shell.execute_reply": "2024-12-19T02:57:49.468423Z",
     "shell.execute_reply.started": "2024-12-19T02:57:49.463773Z"
    },
    "tags": []
   },
   "outputs": [
    {
     "name": "stdout",
     "output_type": "stream",
     "text": [
      "/home/brett/work/OrthogonalTrainValSplits/hashFrag/data/K562.sample_10000.hashFrag.work\n"
     ]
    }
   ],
   "source": [
    "data_dir   = \"/home/brett/work/OrthogonalTrainValSplits/hashFrag/data\"\n",
    "fasta_path = os.path.join(data_dir,\"K562.sample_10000.fa.gz\")\n",
    "label      = os.path.basename(fasta_path).replace(\".fa.gz\",\"\")\n",
    "score_path = os.path.join(data_dir,f\"{label}.pairwise_scores.csv.gz\")\n",
    "work_dir   = os.path.join(data_dir,f\"{label}.hashFrag.work\")\n",
    "Path(work_dir).mkdir(parents=True,exist_ok=True)\n",
    "print(work_dir)\n",
    "\n",
    "blast_dir = os.path.join(work_dir,\"blast_partitions\")\n",
    "Path(blast_dir).mkdir(parents=True,exist_ok=True)"
   ]
  },
  {
   "cell_type": "markdown",
   "id": "86e0deed-41d6-4976-b81c-d2a40d809ba9",
   "metadata": {},
   "source": [
    "# Section 1 - Identifying candidate similar sequences\n",
    "\n",
    "The process of identifying candidate pairs of similar sequences involves first creating a BLAST database of the dataset, and then querying each sequence against the database, collecting all pairwise matches that represent potential cases of homology. \n",
    "\n",
    "To effectively mitigate potential biases caused by homology-based data leakage, it is imperative that all cases of homology are successfully identified. To that end, we configure the BLASTn call such that recall is maximized (this comes at the expense of increased false-positives, which are subsequently filtered). Here we consider the following parameters of BLASTn:\n",
    "\n",
    "* word_size: smaller word sizes results in more exact word matches found between the query and sequences in the database, leading to more alignment score calculations being initialized.\n",
    "* max_target_seqs: set to the size of the database to remove any constraints and allow for all possible candidate sequences to be returned for a given query.\n",
    "* evalue: the e-value statistic is a measure of how likely you observe the alignment by chance (lower value corresponds to less likely to observe). By increasing the e-value threshold, matches that could be due to chance are returned.\n",
    "* dust: by setting dust off, low-complexity (e.g., repetitive sequences) are no longer masked/filtered out."
   ]
  },
  {
   "cell_type": "code",
   "execution_count": 6,
   "id": "1fc29f5e-cba3-4433-b10b-2f7a3c871292",
   "metadata": {
    "execution": {
     "iopub.execute_input": "2024-12-09T23:00:40.161883Z",
     "iopub.status.busy": "2024-12-09T23:00:40.161667Z",
     "iopub.status.idle": "2024-12-09T23:06:42.170825Z",
     "shell.execute_reply": "2024-12-09T23:06:42.170188Z",
     "shell.execute_reply.started": "2024-12-09T23:00:40.161863Z"
    },
    "tags": []
   },
   "outputs": [
    {
     "name": "stdout",
     "output_type": "stream",
     "text": [
      "\n",
      "\n",
      "Building a new DB, current time: 12/10/2024 08:00:47\n",
      "New DB name:   /home/brett/work/OrthogonalTrainValSplits/hashFrag/data/K562.sample_10000.hashFrag.work/K562.sample_10000.blastdb\n",
      "New DB title:  K562.sample_10000\n",
      "Sequence type: Nucleotide\n",
      "Keep MBits: T\n",
      "Maximum file size: 1000000000B\n",
      "Adding sequences from FASTA; added 10000 sequences in 0.260447 seconds.\n",
      "\n",
      "\n",
      "\n",
      "BLAST DataBase construction finished and written to: /home/brett/work/OrthogonalTrainValSplits/hashFrag/data/K562.sample_10000.hashFrag.work/K562.sample_10000.blastdb\n",
      "\n",
      "BLASTn process finished and written to: /home/brett/work/OrthogonalTrainValSplits/hashFrag/data/K562.sample_10000.hashFrag.work/K562.sample_10000.blastn.out\n"
     ]
    }
   ],
   "source": [
    "%%bash\n",
    "\n",
    "FASTA_PATH=/home/brett/work/OrthogonalTrainValSplits/hashFrag/data/K562.sample_10000.fa.gz\n",
    "WORK_DIR=/home/brett/work/OrthogonalTrainValSplits/hashFrag/data/K562.sample_10000.hashFrag.work\n",
    "\n",
    "WORD_SIZE=7\n",
    "MAX_TARGET_SEQS=10000 # size of dataset\n",
    "E_VALUE=100\n",
    "DUST=no\n",
    "\n",
    "hashFrag blastn -f $FASTA_PATH -w $WORD_SIZE -e $E_VALUE -d $DUST -o $WORK_DIR"
   ]
  },
  {
   "cell_type": "markdown",
   "id": "62d63c8e-42ca-451d-acc0-0f4f336c5f12",
   "metadata": {},
   "source": [
    "# Section 3: Filter false-positives based on a defined threshold\n",
    "\n",
    "The next step involves filtering candidate pairings with alignment scores lower than the specified threshold. There are two different modes of hashFrag depending on what alignment score is selected.\n",
    "\n",
    "* `hashFrag-lightning` is the faster version where the alignment score computed from the BLAST output file. BLASTn is a heuristic method and the alignment scores were found to highly correlate with the optimal alignment scores; however, its underestimation of homology in some cases can lead to slightly worse recall. \n",
    "* `hashFrag-pure` is the slower but more comprehensive method that is based on the optimal, Smith-Waterman local alignment scores between pairs of sequences. The calculation of optimal alignment scores incurs an additional cost to filtering.\n",
    "\n",
    "An alignment score threshold of 60 was determined to be appropriate based on an analysis looking at alignment scores between dinucleotide shuffled (i.e., random) sequences."
   ]
  },
  {
   "cell_type": "markdown",
   "id": "e904fb3a-8107-4e46-a4d2-f64c55f2d703",
   "metadata": {},
   "source": [
    "## Section 3.1: Lightning mode"
   ]
  },
  {
   "cell_type": "code",
   "execution_count": 17,
   "id": "b48ccad1-aa5f-4546-96c1-eb1d2f92f8e2",
   "metadata": {
    "execution": {
     "iopub.execute_input": "2024-12-19T07:53:56.447079Z",
     "iopub.status.busy": "2024-12-19T07:53:56.429433Z",
     "iopub.status.idle": "2024-12-19T07:54:14.298959Z",
     "shell.execute_reply": "2024-12-19T07:54:14.298262Z",
     "shell.execute_reply.started": "2024-12-19T07:53:56.447044Z"
    },
    "tags": []
   },
   "outputs": [
    {
     "name": "stdout",
     "output_type": "stream",
     "text": [
      "Filtered results written to: /home/brett/work/OrthogonalTrainValSplits/hashFrag/data/K562.sample_10000.hashFrag.work/hashFrag_lightning.similar_pairs.tsv.gz\n"
     ]
    }
   ],
   "source": [
    "%%bash\n",
    "\n",
    "INPUT_PATH=/home/brett/work/OrthogonalTrainValSplits/hashFrag/data/K562.sample_10000.hashFrag.work/K562.sample_10000.blastn.out.gz\n",
    "METHOD=lightning\n",
    "\n",
    "THRESHOLD=60\n",
    "WORK_DIR=/home/brett/work/OrthogonalTrainValSplits/hashFrag/data/K562.sample_10000.hashFrag.work\n",
    "\n",
    "hashFrag filter_false_positives -m $METHOD -i $INPUT_PATH -t $THRESHOLD -o $WORK_DIR"
   ]
  },
  {
   "cell_type": "markdown",
   "id": "63de3a6b-cfb9-4dac-a41b-3e67e972f9fa",
   "metadata": {},
   "source": [
    "## Section 3.2: Pure mode (optional)"
   ]
  },
  {
   "cell_type": "code",
   "execution_count": 19,
   "id": "ed5859ff-f987-4657-9893-5eda20be19a8",
   "metadata": {
    "execution": {
     "iopub.execute_input": "2024-12-19T08:14:38.940038Z",
     "iopub.status.busy": "2024-12-19T08:14:38.939545Z",
     "iopub.status.idle": "2024-12-19T08:14:39.022795Z",
     "shell.execute_reply": "2024-12-19T08:14:39.022260Z",
     "shell.execute_reply.started": "2024-12-19T08:14:38.940016Z"
    },
    "tags": []
   },
   "outputs": [],
   "source": [
    "%%bash\n",
    "\n",
    "SPLIT_SIZE=100000\n",
    "BLAST_PATH=/home/brett/work/OrthogonalTrainValSplits/hashFrag/data/K562.sample_10000.hashFrag.work/K562.sample_10000.blastn.out\n",
    "BLAST_DIR=/home/brett/work/OrthogonalTrainValSplits/hashFrag/data/K562.sample_10000.hashFrag.work/blast_partitions\n",
    "\n",
    "LABEL=$( basename -s \".out\" $BLAST_PATH )\n",
    "\n",
    "mkdir -p $BLAST_DIR\n",
    "cd $BLAST_DIR\n",
    "\n",
    "split -l $SPLIT_SIZE -a 4 --additional-suffix=.tsv $BLAST_PATH ${LABEL}.partition_"
   ]
  },
  {
   "cell_type": "code",
   "execution_count": 21,
   "id": "26e67396-e139-4544-868b-7b1eeea37b38",
   "metadata": {
    "execution": {
     "iopub.execute_input": "2024-12-19T08:16:17.923184Z",
     "iopub.status.busy": "2024-12-19T08:16:17.922730Z",
     "iopub.status.idle": "2024-12-19T08:22:06.991651Z",
     "shell.execute_reply": "2024-12-19T08:22:06.990916Z",
     "shell.execute_reply.started": "2024-12-19T08:16:17.923162Z"
    },
    "tags": []
   },
   "outputs": [
    {
     "name": "stdout",
     "output_type": "stream",
     "text": [
      "/home/brett/work/OrthogonalTrainValSplits/hashFrag/data/K562.sample_10000.hashFrag.work/blast_partitions/K562.sample_10000.blastn.partition_aaaa.tsv\n",
      "/home/brett/work/OrthogonalTrainValSplits/hashFrag/data/K562.sample_10000.hashFrag.work/blast_partitions/K562.sample_10000.blastn.partition_aaab.tsv\n",
      "/home/brett/work/OrthogonalTrainValSplits/hashFrag/data/K562.sample_10000.hashFrag.work/blast_partitions/K562.sample_10000.blastn.partition_aaac.tsv\n",
      "/home/brett/work/OrthogonalTrainValSplits/hashFrag/data/K562.sample_10000.hashFrag.work/blast_partitions/K562.sample_10000.blastn.partition_aaad.tsv\n",
      "/home/brett/work/OrthogonalTrainValSplits/hashFrag/data/K562.sample_10000.hashFrag.work/blast_partitions/K562.sample_10000.blastn.partition_aaae.tsv\n",
      "/home/brett/work/OrthogonalTrainValSplits/hashFrag/data/K562.sample_10000.hashFrag.work/blast_partitions/K562.sample_10000.blastn.partition_aaaf.tsv\n",
      "/home/brett/work/OrthogonalTrainValSplits/hashFrag/data/K562.sample_10000.hashFrag.work/blast_partitions/K562.sample_10000.blastn.partition_aaag.tsv\n",
      "/home/brett/work/OrthogonalTrainValSplits/hashFrag/data/K562.sample_10000.hashFrag.work/blast_partitions/K562.sample_10000.blastn.partition_aaah.tsv\n",
      "/home/brett/work/OrthogonalTrainValSplits/hashFrag/data/K562.sample_10000.hashFrag.work/blast_partitions/K562.sample_10000.blastn.partition_aaai.tsv\n"
     ]
    }
   ],
   "source": [
    "%%bash\n",
    "\n",
    "cd ../src/external\n",
    "\n",
    "FASTA_PATH=/home/brett/work/OrthogonalTrainValSplits/hashFrag/data/K562.sample_10000.fa.gz\n",
    "PARTITIONED_BLAST_DIR=/home/brett/work/OrthogonalTrainValSplits/hashFrag/data/K562.sample_10000.hashFrag.work/blast_partitions\n",
    "\n",
    "for PARTITIONED_BLAST_PATH in $PARTITIONED_BLAST_DIR/*.blastn.partition_*.tsv\n",
    "do\n",
    "    echo $PARTITIONED_BLAST_PATH\n",
    "    bash compute_blast_candidate_SW_scores.sh $FASTA_PATH $PARTITIONED_BLAST_PATH\n",
    "done"
   ]
  },
  {
   "cell_type": "code",
   "execution_count": 22,
   "id": "b019aebd-9fa0-43ca-b80b-d1150deabe90",
   "metadata": {
    "execution": {
     "iopub.execute_input": "2024-12-19T08:23:52.156635Z",
     "iopub.status.busy": "2024-12-19T08:23:52.156182Z",
     "iopub.status.idle": "2024-12-19T08:23:53.234505Z",
     "shell.execute_reply": "2024-12-19T08:23:53.233737Z",
     "shell.execute_reply.started": "2024-12-19T08:23:52.156613Z"
    },
    "tags": []
   },
   "outputs": [],
   "source": [
    "%%bash\n",
    "\n",
    "PARTITIONED_BLAST_DIR=/home/brett/work/OrthogonalTrainValSplits/hashFrag/data/K562.sample_10000.hashFrag.work/blast_partitions\n",
    "WORK_DIR=$( dirname $PARTITIONED_BLAST_DIR )\n",
    "\n",
    "zcat $PARTITIONED_BLAST_DIR/*.pairwise_scores.tsv.gz | gzip > $WORK_DIR/K562.sample_10000.blastn_candidates.custom_scores.tsv.gz"
   ]
  },
  {
   "cell_type": "code",
   "execution_count": 23,
   "id": "3c8e40c2-0972-4413-9201-37fbf60e124b",
   "metadata": {
    "execution": {
     "iopub.execute_input": "2024-12-19T08:24:02.788349Z",
     "iopub.status.busy": "2024-12-19T08:24:02.787881Z",
     "iopub.status.idle": "2024-12-19T08:24:18.952915Z",
     "shell.execute_reply": "2024-12-19T08:24:18.952196Z",
     "shell.execute_reply.started": "2024-12-19T08:24:02.788321Z"
    },
    "tags": []
   },
   "outputs": [
    {
     "name": "stdout",
     "output_type": "stream",
     "text": [
      "Filtered results written to: /home/brett/work/OrthogonalTrainValSplits/hashFrag/data/K562.sample_10000.hashFrag.work/hashFrag_pure.similar_pairs.tsv.gz\n"
     ]
    }
   ],
   "source": [
    "%%bash\n",
    "\n",
    "INPUT_PATH=/home/brett/work/OrthogonalTrainValSplits/hashFrag/data/K562.sample_10000.hashFrag.work/K562.sample_10000.blastn_candidates.custom_scores.tsv.gz\n",
    "METHOD=pure\n",
    "\n",
    "THRESHOLD=60\n",
    "WORK_DIR=/home/brett/work/OrthogonalTrainValSplits/hashFrag/data/K562.sample_10000.hashFrag.work\n",
    "\n",
    "hashFrag filter_false_positives -m $METHOD -i $INPUT_PATH -t $THRESHOLD -o $WORK_DIR"
   ]
  },
  {
   "cell_type": "markdown",
   "id": "d9c75343-485f-441c-9576-e4c61b82ccb0",
   "metadata": {},
   "source": [
    "# Section 4: Determine groups of homology\n",
    "\n",
    "There are often distinct groups of sequences exhibiting different cases of homology throughout the dataset. To determine such groups, we represent the \"hits\" (i.e., pairs of sequences with an alignment score greater than the threshold) as a sparse adjacency matrix. A graph can then be constructed, where nodes correspond to sequences and edges denote shared homology between the two sequences. The process of identifying groups of homology can readily be solved by identifying disconnected subgraphs. \n",
    "\n",
    "An efficient implementation for this graph-based task is provided in the `igraph` Python library."
   ]
  },
  {
   "cell_type": "code",
   "execution_count": 25,
   "id": "1990b87e-d476-44fc-9db6-e2c17b38a1a5",
   "metadata": {
    "execution": {
     "iopub.execute_input": "2024-12-19T08:26:11.394106Z",
     "iopub.status.busy": "2024-12-19T08:26:11.393679Z",
     "iopub.status.idle": "2024-12-19T08:26:13.271441Z",
     "shell.execute_reply": "2024-12-19T08:26:13.270828Z",
     "shell.execute_reply.started": "2024-12-19T08:26:11.394085Z"
    },
    "tags": []
   },
   "outputs": [
    {
     "name": "stdout",
     "output_type": "stream",
     "text": [
      "1114 sequences exhibiting homology.\n",
      "90 homologous groups identified.\n",
      "Homologous groups written to file: /home/brett/work/OrthogonalTrainValSplits/hashFrag/data/K562.sample_10000.hashFrag.work/homologous_groups.csv\n"
     ]
    }
   ],
   "source": [
    "%%bash\n",
    "\n",
    "HITS_PATH=/home/brett/work/OrthogonalTrainValSplits/hashFrag/data/K562.sample_10000.hashFrag.work/hashFrag_lightning.similar_pairs.tsv.gz\n",
    "OUTPUT_PATH=/home/brett/work/OrthogonalTrainValSplits/hashFrag/data/K562.sample_10000.hashFrag.work/homologous_groups.csv\n",
    "\n",
    "hashFrag identify_homologous_groups -i $HITS_PATH -o $OUTPUT_PATH"
   ]
  },
  {
   "cell_type": "markdown",
   "id": "f5565f51-e041-490a-a639-519dff059526",
   "metadata": {},
   "source": [
    "# Section 5: Use cases of hashFrag\n",
    "\n",
    "Upon identifying groups of sequences exhibiting high similarity (i.e., homology), there are a few ways in which this information can be used for sequence-to-expression model training. These functionalities include: filtering homology spanning existing train-test data splits, creating new, homology-aware (i.e., orthogonal) train-test data splits, or stratifying an existing test split based on homology scores with respect to the train split.\n",
    "\n",
    "## Section 5.1: Filtering homology from existing splits"
   ]
  },
  {
   "cell_type": "code",
   "execution_count": 34,
   "id": "447b835c-aa94-4a49-a73d-c633eb9809a9",
   "metadata": {
    "execution": {
     "iopub.execute_input": "2024-12-19T08:40:35.240193Z",
     "iopub.status.busy": "2024-12-19T08:40:35.239795Z",
     "iopub.status.idle": "2024-12-19T08:40:35.243439Z",
     "shell.execute_reply": "2024-12-19T08:40:35.242772Z",
     "shell.execute_reply.started": "2024-12-19T08:40:35.240175Z"
    },
    "tags": []
   },
   "outputs": [],
   "source": [
    "import gzip\n",
    "import random"
   ]
  },
  {
   "cell_type": "code",
   "execution_count": 40,
   "id": "f9b94552-089f-4bfe-9522-2a5c91fc24a9",
   "metadata": {
    "execution": {
     "iopub.execute_input": "2024-12-19T08:45:27.809866Z",
     "iopub.status.busy": "2024-12-19T08:45:27.809558Z",
     "iopub.status.idle": "2024-12-19T08:45:27.812076Z",
     "shell.execute_reply": "2024-12-19T08:45:27.811819Z",
     "shell.execute_reply.started": "2024-12-19T08:45:27.809849Z"
    },
    "tags": []
   },
   "outputs": [],
   "source": [
    "fasta_path = \"/home/brett/work/OrthogonalTrainValSplits/hashFrag/data/K562.sample_10000.fa.gz\"\n",
    "work_dir = \"/home/brett/work/OrthogonalTrainValSplits/hashFrag/data/K562.sample_10000.hashFrag.work\"\n",
    "train_split_path = os.path.join(work_dir,\"K562.train.fa.gz\")\n",
    "test_split_path = os.path.join(work_dir,\"K562.test.fa.gz\")"
   ]
  },
  {
   "cell_type": "code",
   "execution_count": 44,
   "id": "18aefaea-3bb6-4952-b5c8-674f0c5ca353",
   "metadata": {
    "execution": {
     "iopub.execute_input": "2024-12-19T09:06:15.047419Z",
     "iopub.status.busy": "2024-12-19T09:06:15.047029Z",
     "iopub.status.idle": "2024-12-19T09:06:16.665761Z",
     "shell.execute_reply": "2024-12-19T09:06:16.664954Z",
     "shell.execute_reply.started": "2024-12-19T09:06:15.047398Z"
    },
    "tags": []
   },
   "outputs": [],
   "source": [
    "random.seed(21)\n",
    "\n",
    "fasta_dict = {}\n",
    "with gzip.open(fasta_path,\"rt\") as handle:\n",
    "    for record in SeqIO.parse(handle,\"fasta\"):\n",
    "        fasta_dict[record.id] = str(record.seq)\n",
    "\n",
    "ids = list(fasta_dict)\n",
    "\n",
    "p_train = 0.8\n",
    "n_train = int(len(ids)*p_train)\n",
    "train_ids = random.sample(ids,k=n_train)\n",
    "with gzip.open(train_split_path,\"wt\") as handle:\n",
    "    for sample_id in train_ids:\n",
    "        handle.write(f\">{sample_id}\\n{fasta_dict[sample_id]}\\n\")\n",
    "\n",
    "test_ids = set(ids).difference(set(train_ids))\n",
    "with gzip.open(test_split_path,\"wt\") as handle:\n",
    "    for sample_id in test_ids:\n",
    "        handle.write(f\">{sample_id}\\n{fasta_dict[sample_id]}\\n\")"
   ]
  },
  {
   "cell_type": "code",
   "execution_count": 45,
   "id": "dbf98e83-5219-422f-8a26-0fdb814c12e5",
   "metadata": {
    "execution": {
     "iopub.execute_input": "2024-12-19T09:06:16.667425Z",
     "iopub.status.busy": "2024-12-19T09:06:16.667085Z",
     "iopub.status.idle": "2024-12-19T09:06:17.979055Z",
     "shell.execute_reply": "2024-12-19T09:06:17.978388Z",
     "shell.execute_reply.started": "2024-12-19T09:06:16.667409Z"
    },
    "tags": []
   },
   "outputs": [
    {
     "name": "stdout",
     "output_type": "stream",
     "text": [
      "199 sequences filtered from test split.\n",
      "Filtered results written to: /home/brett/work/OrthogonalTrainValSplits/hashFrag/data/K562.sample_10000.hashFrag.work/K562.test.filtered.fa.gz\n"
     ]
    }
   ],
   "source": [
    "%%bash\n",
    "\n",
    "TRAIN_FASTA_PATH=/home/brett/work/OrthogonalTrainValSplits/hashFrag/data/K562.sample_10000.hashFrag.work/K562.train.fa.gz\n",
    "TEST_FASTA_PATH=/home/brett/work/OrthogonalTrainValSplits/hashFrag/data/K562.sample_10000.hashFrag.work/K562.test.fa.gz\n",
    "HITS_PATH=/home/brett/work/OrthogonalTrainValSplits/hashFrag/data/K562.sample_10000.hashFrag.work/hashFrag_lightning.similar_pairs.tsv.gz\n",
    "\n",
    "hashFrag filter_existing_splits --train_fasta_path $TRAIN_FASTA_PATH --test_fasta_path $TEST_FASTA_PATH --hits_path $HITS_PATH"
   ]
  },
  {
   "cell_type": "markdown",
   "id": "e94e4667-ac88-4586-bcb5-4fd8f27a61f6",
   "metadata": {},
   "source": [
    "## Section 5.2: Creating homology-aware splits"
   ]
  },
  {
   "cell_type": "code",
   "execution_count": 27,
   "id": "ebbc568a-ae85-4df6-a990-0b52f05e6866",
   "metadata": {
    "execution": {
     "iopub.execute_input": "2024-12-19T08:31:43.701999Z",
     "iopub.status.busy": "2024-12-19T08:31:43.701594Z",
     "iopub.status.idle": "2024-12-19T08:31:53.404178Z",
     "shell.execute_reply": "2024-12-19T08:31:53.403572Z",
     "shell.execute_reply.started": "2024-12-19T08:31:43.701980Z"
    },
    "tags": []
   },
   "outputs": [
    {
     "name": "stdout",
     "output_type": "stream",
     "text": [
      "Writing splits...\n",
      "  /home/brett/work/OrthogonalTrainValSplits/hashFrag/data/K562.sample_10000.hashFrag.work/hashFrag.train_8000.test_2000.split_001.csv.gz\n",
      "  /home/brett/work/OrthogonalTrainValSplits/hashFrag/data/K562.sample_10000.hashFrag.work/hashFrag.train_8000.test_2000.split_002.csv.gz\n",
      "  /home/brett/work/OrthogonalTrainValSplits/hashFrag/data/K562.sample_10000.hashFrag.work/hashFrag.train_8000.test_2000.split_003.csv.gz\n",
      "  /home/brett/work/OrthogonalTrainValSplits/hashFrag/data/K562.sample_10000.hashFrag.work/hashFrag.train_8000.test_2000.split_004.csv.gz\n",
      "  /home/brett/work/OrthogonalTrainValSplits/hashFrag/data/K562.sample_10000.hashFrag.work/hashFrag.train_8000.test_2000.split_005.csv.gz\n",
      "  /home/brett/work/OrthogonalTrainValSplits/hashFrag/data/K562.sample_10000.hashFrag.work/hashFrag.train_8000.test_2000.split_006.csv.gz\n",
      "  /home/brett/work/OrthogonalTrainValSplits/hashFrag/data/K562.sample_10000.hashFrag.work/hashFrag.train_8000.test_2000.split_007.csv.gz\n",
      "  /home/brett/work/OrthogonalTrainValSplits/hashFrag/data/K562.sample_10000.hashFrag.work/hashFrag.train_8000.test_2000.split_008.csv.gz\n",
      "  /home/brett/work/OrthogonalTrainValSplits/hashFrag/data/K562.sample_10000.hashFrag.work/hashFrag.train_8000.test_2000.split_009.csv.gz\n",
      "  /home/brett/work/OrthogonalTrainValSplits/hashFrag/data/K562.sample_10000.hashFrag.work/hashFrag.train_8000.test_2000.split_010.csv.gz\n"
     ]
    }
   ],
   "source": [
    "%%bash\n",
    "\n",
    "FASTA_PATH=/home/brett/work/OrthogonalTrainValSplits/hashFrag/data/K562.sample_10000.fa.gz\n",
    "HOMOLOGY_PATH=/home/brett/work/OrthogonalTrainValSplits/hashFrag/data/K562.sample_10000.hashFrag.work/homologous_groups.csv\n",
    "OUT_DIR=/home/brett/work/OrthogonalTrainValSplits/hashFrag/data/K562.sample_10000.hashFrag.work\n",
    "\n",
    "hashFrag create_orthogonal_splits -f $FASTA_PATH -i $HOMOLOGY_PATH -n 10 -o $OUT_DIR"
   ]
  },
  {
   "cell_type": "markdown",
   "id": "497916ec-99a4-431b-b727-9988359bdd53",
   "metadata": {
    "execution": {
     "iopub.execute_input": "2024-12-19T08:31:34.874589Z",
     "iopub.status.busy": "2024-12-19T08:31:34.873361Z",
     "iopub.status.idle": "2024-12-19T08:31:34.884443Z",
     "shell.execute_reply": "2024-12-19T08:31:34.883799Z",
     "shell.execute_reply.started": "2024-12-19T08:31:34.874567Z"
    },
    "tags": []
   },
   "source": [
    "## Section 5.3: Homology-based stratification of test split"
   ]
  },
  {
   "cell_type": "code",
   "execution_count": null,
   "id": "c69d49c1-b505-4dcf-98bd-deb119c3dcc9",
   "metadata": {},
   "outputs": [],
   "source": []
  }
 ],
 "metadata": {
  "kernelspec": {
   "display_name": "Python 3 (ipykernel)",
   "language": "python",
   "name": "python3"
  },
  "language_info": {
   "codemirror_mode": {
    "name": "ipython",
    "version": 3
   },
   "file_extension": ".py",
   "mimetype": "text/x-python",
   "name": "python",
   "nbconvert_exporter": "python",
   "pygments_lexer": "ipython3",
   "version": "3.9.15"
  }
 },
 "nbformat": 4,
 "nbformat_minor": 5
}

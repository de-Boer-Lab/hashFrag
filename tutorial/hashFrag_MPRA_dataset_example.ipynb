{
 "cells": [
  {
   "cell_type": "code",
   "execution_count": 2,
   "id": "e7bb08a6-c8da-4175-90d6-53fadc7afa74",
   "metadata": {
    "execution": {
     "iopub.execute_input": "2024-12-10T05:22:51.707572Z",
     "iopub.status.busy": "2024-12-10T05:22:51.707318Z",
     "iopub.status.idle": "2024-12-10T05:22:52.163284Z",
     "shell.execute_reply": "2024-12-10T05:22:52.162728Z",
     "shell.execute_reply.started": "2024-12-10T05:22:51.707551Z"
    },
    "tags": []
   },
   "outputs": [],
   "source": [
    "import os\n",
    "\n",
    "from pathlib import Path\n",
    "from Bio import SeqIO\n",
    "from tqdm import tqdm"
   ]
  },
  {
   "cell_type": "markdown",
   "id": "8381d6c3-0050-401e-87b1-c5b2eb76cc78",
   "metadata": {},
   "source": [
    "# Introduction\n",
    "\n",
    "This notebook provides a basic tutorial on the core functionality of hashFrag.\n",
    "\n",
    "Working with a small MPRA dataset of 10,000 sequences (provided in the `data` directory), users can see example calls to the hashFrag. Specifically, this notebook will encompass the following tasks:\n",
    "\n",
    "1. `hashFrag blastn`: Identifying candidate pairs of sequences exhibiting similarity in the dataset.\n",
    "2. (Optional) For each candidate pairing, compute their optimal local alignment score ([Smith-Waterman algorithm](https://en.wikipedia.org/wiki/Smith%E2%80%93Waterman_algorithm)).\n",
    "3. `hashFrag filter_false_positives`: Using the local alignment scores calculated in the previous step, filter false-positive candidates based on a specified threshold.\n",
    "    + Note that if the previous step was NOT performed, false-positive candidates will be filtered based on the heuristic local alignment scores provided by the BLAST algorithm.\n",
    "    + The threshold to use for tuning is not only dataset-dependent, but also highly depends on BLAST (and, if performed, Smith-Waterman) local alignment parameters. See the advanced tutorial (TODO) for an example on our recommended workflow to tune relevant parameters and select an appropriate threshold.\n",
    "4. `hashFrag identify_homologous_groups`: determine the different subgroups of sequences exhibiting homology.\n",
    "5. `hashFrag create_orthogonal_splits`: create homology-aware data splits.\n",
    "\n",
    "hashFrag is a command line tool. This notebook serves as a resource to better understand each step in the process.\n"
   ]
  },
  {
   "cell_type": "markdown",
   "id": "68f3bd7e-e67b-4236-aa5b-0c51c3344d8b",
   "metadata": {
    "execution": {
     "iopub.execute_input": "2024-12-09T04:30:02.468472Z",
     "iopub.status.busy": "2024-12-09T04:30:02.468181Z",
     "iopub.status.idle": "2024-12-09T04:30:02.472211Z",
     "shell.execute_reply": "2024-12-09T04:30:02.471603Z",
     "shell.execute_reply.started": "2024-12-09T04:30:02.468450Z"
    },
    "tags": []
   },
   "source": [
    "# Section 0: Setup"
   ]
  },
  {
   "cell_type": "code",
   "execution_count": 3,
   "id": "82b029ef-ccdd-418e-86dd-0a99721c68a9",
   "metadata": {
    "execution": {
     "iopub.execute_input": "2024-12-10T05:22:52.674694Z",
     "iopub.status.busy": "2024-12-10T05:22:52.674371Z",
     "iopub.status.idle": "2024-12-10T05:22:52.688136Z",
     "shell.execute_reply": "2024-12-10T05:22:52.687740Z",
     "shell.execute_reply.started": "2024-12-10T05:22:52.674672Z"
    },
    "tags": []
   },
   "outputs": [
    {
     "name": "stdout",
     "output_type": "stream",
     "text": [
      "/home/brett/work/OrthogonalTrainValSplits/hashFrag/data/K562.sample_10000.hashFrag.work\n"
     ]
    }
   ],
   "source": [
    "data_dir   = \"/home/brett/work/OrthogonalTrainValSplits/hashFrag/data\"\n",
    "fasta_path = os.path.join(data_dir,\"K562.sample_10000.fa.gz\")\n",
    "label      = os.path.basename(fasta_path).replace(\".fa.gz\",\"\")\n",
    "score_path = os.path.join(data_dir,f\"{label}.pairwise_scores.csv.gz\")\n",
    "work_dir   = os.path.join(data_dir,f\"{label}.hashFrag.work\")\n",
    "Path(work_dir).mkdir(parents=True,exist_ok=True)\n",
    "print(work_dir)\n",
    "\n",
    "blast_dir = os.path.join(work_dir,\"blast_partitions\")\n",
    "Path(blast_dir).mkdir(parents=True,exist_ok=True)"
   ]
  },
  {
   "cell_type": "markdown",
   "id": "86e0deed-41d6-4976-b81c-d2a40d809ba9",
   "metadata": {},
   "source": [
    "# Section 1 - Identifying candidate similar sequences\n",
    "\n",
    "The process of identifying candidate pairs of similar sequences involves first creating a BLAST database of the dataset, and then querying each sequence against the database, collecting all pairwise matches that represent potential cases of homology. \n",
    "\n",
    "To effectively mitigate potential biases caused by homology-based data leakage, it is imperative that all cases of homology are successfully identified. To that end, we configure the BLASTn call such that recall is maximized (this comes at the expense of increased false-positives, which are subsequently filtered). Here we consider the following parameters of BLASTn:\n",
    "\n",
    "* word_size: smaller word sizes results in more exact word matches found between the query and sequences in the database, leading to more alignment score calculations being initialized.\n",
    "* max_target_seqs: set to the size of the database to remove any constraints and allow for all possible candidate sequences to be returned for a given query.\n",
    "* evalue: the e-value statistic is a measure of how likely you observe the alignment by chance (lower value corresponds to less likely to observe). By increasing the e-value threshold, matches that could be due to chance are returned.\n",
    "* dust: by setting dust off, low-complexity (e.g., repetitive sequences) are no longer masked/filtered out."
   ]
  },
  {
   "cell_type": "code",
   "execution_count": 6,
   "id": "1fc29f5e-cba3-4433-b10b-2f7a3c871292",
   "metadata": {
    "execution": {
     "iopub.execute_input": "2024-12-09T23:00:40.161883Z",
     "iopub.status.busy": "2024-12-09T23:00:40.161667Z",
     "iopub.status.idle": "2024-12-09T23:06:42.170825Z",
     "shell.execute_reply": "2024-12-09T23:06:42.170188Z",
     "shell.execute_reply.started": "2024-12-09T23:00:40.161863Z"
    },
    "tags": []
   },
   "outputs": [
    {
     "name": "stdout",
     "output_type": "stream",
     "text": [
      "\n",
      "\n",
      "Building a new DB, current time: 12/10/2024 08:00:47\n",
      "New DB name:   /home/brett/work/OrthogonalTrainValSplits/hashFrag/data/K562.sample_10000.hashFrag.work/K562.sample_10000.blastdb\n",
      "New DB title:  K562.sample_10000\n",
      "Sequence type: Nucleotide\n",
      "Keep MBits: T\n",
      "Maximum file size: 1000000000B\n",
      "Adding sequences from FASTA; added 10000 sequences in 0.260447 seconds.\n",
      "\n",
      "\n",
      "\n",
      "BLAST DataBase construction finished and written to: /home/brett/work/OrthogonalTrainValSplits/hashFrag/data/K562.sample_10000.hashFrag.work/K562.sample_10000.blastdb\n",
      "\n",
      "BLASTn process finished and written to: /home/brett/work/OrthogonalTrainValSplits/hashFrag/data/K562.sample_10000.hashFrag.work/K562.sample_10000.blastn.out\n"
     ]
    }
   ],
   "source": [
    "%%bash\n",
    "\n",
    "FASTA_PATH=/home/brett/work/OrthogonalTrainValSplits/hashFrag/data/K562.sample_10000.fa.gz\n",
    "WORK_DIR=/home/brett/work/OrthogonalTrainValSplits/hashFrag/data/K562.sample_10000.hashFrag.work\n",
    "\n",
    "WORD_SIZE=7\n",
    "MAX_TARGET_SEQS=10000 # size of dataset\n",
    "E_VALUE=100\n",
    "DUST=no\n",
    "\n",
    "hashFrag blastn -f $FASTA_PATH -w $WORD_SIZE -e $E_VALUE -d $DUST -o $WORK_DIR"
   ]
  },
  {
   "cell_type": "markdown",
   "id": "e6486486-88d7-4ea0-87ff-3fde803226ae",
   "metadata": {},
   "source": [
    "# Section 2: Computing Smith-Waterman alignment score for candidate pairs\n",
    "\n",
    "BLASTn provides a heuristic local alignment score for each pair of sequence in the output file; however, we found that this score can underestimate the actual local alignment score (particularly for sequences exhibiting moderate similarity). As such, it may be desirable to filter false-positive candidates based on their optimal alignment scores (i.e., Smith-Waterman local alignment). \n",
    "\n",
    "To keep memory low(er), the tabular BLAST results file is partitioned to prevent having to load potentially large data frames (e.g., hundreds of millions of rows). For larger datasets, these partitions would be submitted as independent jobs, but we can get away with computing the alignment scores sequentially here since it's a smaller dataset."
   ]
  },
  {
   "cell_type": "code",
   "execution_count": 9,
   "id": "63f35d69-fe4d-493e-95df-c5eb01295ba0",
   "metadata": {
    "execution": {
     "iopub.execute_input": "2024-12-10T00:54:35.139203Z",
     "iopub.status.busy": "2024-12-10T00:54:35.138935Z",
     "iopub.status.idle": "2024-12-10T00:54:35.900058Z",
     "shell.execute_reply": "2024-12-10T00:54:35.899215Z",
     "shell.execute_reply.started": "2024-12-10T00:54:35.139181Z"
    },
    "tags": []
   },
   "outputs": [],
   "source": [
    "%%bash\n",
    "\n",
    "SPLIT_SIZE=100000\n",
    "BLAST_PATH=/home/brett/work/OrthogonalTrainValSplits/hashFrag/data/K562.sample_10000.hashFrag.work/K562.sample_10000.blastn.out\n",
    "BLAST_DIR=/home/brett/work/OrthogonalTrainValSplits/hashFrag/data/K562.sample_10000.hashFrag.work/blast_partitions\n",
    "\n",
    "LABEL=$( basename -s \".out\" $BLAST_PATH )\n",
    "\n",
    "mkdir -p $BLAST_DIR\n",
    "cd $BLAST_DIR\n",
    "\n",
    "split -l $SPLIT_SIZE -a 4 $BLAST_PATH ${LABEL}.partition_"
   ]
  },
  {
   "cell_type": "code",
   "execution_count": 8,
   "id": "1499a1a0-c9e6-4973-9fd5-767f2a4ee3c1",
   "metadata": {
    "execution": {
     "iopub.execute_input": "2024-12-10T05:37:30.312432Z",
     "iopub.status.busy": "2024-12-10T05:37:30.309920Z",
     "iopub.status.idle": "2024-12-10T05:44:54.892196Z",
     "shell.execute_reply": "2024-12-10T05:44:54.891405Z",
     "shell.execute_reply.started": "2024-12-10T05:37:30.312404Z"
    },
    "tags": []
   },
   "outputs": [
    {
     "name": "stdout",
     "output_type": "stream",
     "text": [
      "/home/brett/work/OrthogonalTrainValSplits/hashFrag/data/K562.sample_10000.hashFrag.work/blast_partitions/K562.sample_10000.blastn.partition_aaaa\n",
      "/home/brett/work/OrthogonalTrainValSplits/hashFrag/data/K562.sample_10000.hashFrag.work/blast_partitions/K562.sample_10000.blastn.partition_aaab\n",
      "/home/brett/work/OrthogonalTrainValSplits/hashFrag/data/K562.sample_10000.hashFrag.work/blast_partitions/K562.sample_10000.blastn.partition_aaac\n",
      "/home/brett/work/OrthogonalTrainValSplits/hashFrag/data/K562.sample_10000.hashFrag.work/blast_partitions/K562.sample_10000.blastn.partition_aaad\n",
      "/home/brett/work/OrthogonalTrainValSplits/hashFrag/data/K562.sample_10000.hashFrag.work/blast_partitions/K562.sample_10000.blastn.partition_aaae\n",
      "/home/brett/work/OrthogonalTrainValSplits/hashFrag/data/K562.sample_10000.hashFrag.work/blast_partitions/K562.sample_10000.blastn.partition_aaaf\n",
      "/home/brett/work/OrthogonalTrainValSplits/hashFrag/data/K562.sample_10000.hashFrag.work/blast_partitions/K562.sample_10000.blastn.partition_aaag\n",
      "/home/brett/work/OrthogonalTrainValSplits/hashFrag/data/K562.sample_10000.hashFrag.work/blast_partitions/K562.sample_10000.blastn.partition_aaah\n",
      "/home/brett/work/OrthogonalTrainValSplits/hashFrag/data/K562.sample_10000.hashFrag.work/blast_partitions/K562.sample_10000.blastn.partition_aaai\n"
     ]
    }
   ],
   "source": [
    "%%bash\n",
    "\n",
    "cd ../src/external\n",
    "\n",
    "FASTA_PATH=/home/brett/work/OrthogonalTrainValSplits/hashFrag/data/K562.sample_10000.fa.gz\n",
    "PARTITIONED_BLAST_DIR=/home/brett/work/OrthogonalTrainValSplits/hashFrag/data/K562.sample_10000.hashFrag.work/blast_partitions\n",
    "\n",
    "for PARTITIONED_BLAST_PATH in $PARTITIONED_BLAST_DIR/*.blastn.partition_*\n",
    "do\n",
    "    echo $PARTITIONED_BLAST_PATH\n",
    "    bash compute_blast_candidate_SW_scores.sh $FASTA_PATH $PARTITIONED_BLAST_PATH\n",
    "done"
   ]
  },
  {
   "cell_type": "markdown",
   "id": "62d63c8e-42ca-451d-acc0-0f4f336c5f12",
   "metadata": {},
   "source": [
    "# Section 3: Filter false-positives based on a defined threshold\n",
    "\n",
    "We can filter candidate pairings with alignment scores lower than the specified threshold. An alignment score threshold of 60 was determined to be appropriate based on an analysis looking at alignment scores between dinucleotide shuffled (i.e., random) sequences."
   ]
  },
  {
   "cell_type": "code",
   "execution_count": 17,
   "id": "b48ccad1-aa5f-4546-96c1-eb1d2f92f8e2",
   "metadata": {
    "execution": {
     "iopub.execute_input": "2024-12-10T07:07:32.647971Z",
     "iopub.status.busy": "2024-12-10T07:07:32.647674Z",
     "iopub.status.idle": "2024-12-10T07:07:39.013429Z",
     "shell.execute_reply": "2024-12-10T07:07:39.012869Z",
     "shell.execute_reply.started": "2024-12-10T07:07:32.647946Z"
    },
    "tags": []
   },
   "outputs": [
    {
     "name": "stdout",
     "output_type": "stream",
     "text": [
      "Filtered results written to: /home/brett/work/OrthogonalTrainValSplits/hashFrag/data/K562.sample_10000.hashFrag.work/blastn_results.filtered_candidates.tsv.gz\n"
     ]
    }
   ],
   "source": [
    "%%bash\n",
    "\n",
    "BLAST_DIR=/home/brett/work/OrthogonalTrainValSplits/hashFrag/data/K562.sample_10000.hashFrag.work/blast_partitions\n",
    "SCORE_DIR=$BLAST_DIR\n",
    "THRESHOLD=60\n",
    "WORK_DIR=/home/brett/work/OrthogonalTrainValSplits/hashFrag/data/K562.sample_10000.hashFrag.work\n",
    "\n",
    "hashFrag filter_false_positives -s $SCORE_DIR -b $BLAST_DIR -t $THRESHOLD -o $WORK_DIR"
   ]
  },
  {
   "cell_type": "markdown",
   "id": "d9c75343-485f-441c-9576-e4c61b82ccb0",
   "metadata": {},
   "source": [
    "# Section 4: Determine groups of homology\n",
    "\n",
    "There are often distinct groups of sequences exhibiting different cases of homology throughout the dataset. To determine such groups, we represent the \"hits\" (i.e., pairs of sequences with an alignment score greater than the threshold) as a sparse adjacency matrix. A graph can then be constructed, where nodes correspond to sequences and edges denote shared homology between the two sequences. The process of identifying groups of homology can readily be solved by identifying disconnected subgraphs. \n",
    "\n",
    "An efficient implementation for this graph-based task is provided in the `igraph` Python library."
   ]
  },
  {
   "cell_type": "code",
   "execution_count": 22,
   "id": "1990b87e-d476-44fc-9db6-e2c17b38a1a5",
   "metadata": {
    "execution": {
     "iopub.execute_input": "2024-12-10T07:11:04.410147Z",
     "iopub.status.busy": "2024-12-10T07:11:04.409674Z",
     "iopub.status.idle": "2024-12-10T07:11:05.821529Z",
     "shell.execute_reply": "2024-12-10T07:11:05.820641Z",
     "shell.execute_reply.started": "2024-12-10T07:11:04.410123Z"
    },
    "tags": []
   },
   "outputs": [
    {
     "name": "stdout",
     "output_type": "stream",
     "text": [
      "1138 sequences exhibiting homology.\n",
      "92 homologous groups identified.\n",
      "Homologous groups written to file: /home/brett/work/OrthogonalTrainValSplits/hashFrag/data/K562.sample_10000.hashFrag.work/homologous_groups.csv\n"
     ]
    }
   ],
   "source": [
    "%%bash\n",
    "\n",
    "HITS_PATH=/home/brett/work/OrthogonalTrainValSplits/hashFrag/data/K562.sample_10000.hashFrag.work/blastn_results.filtered_candidates.tsv.gz\n",
    "OUTPUT_PATH=/home/brett/work/OrthogonalTrainValSplits/hashFrag/data/K562.sample_10000.hashFrag.work/homologous_groups.csv\n",
    "\n",
    "hashFrag identify_homologous_groups -i $HITS_PATH -o $OUTPUT_PATH"
   ]
  },
  {
   "cell_type": "markdown",
   "id": "f5565f51-e041-490a-a639-519dff059526",
   "metadata": {},
   "source": [
    "# Section 5: Create orthogonal data split"
   ]
  },
  {
   "cell_type": "code",
   "execution_count": 40,
   "id": "ebbc568a-ae85-4df6-a990-0b52f05e6866",
   "metadata": {
    "execution": {
     "iopub.execute_input": "2024-12-10T09:24:11.109854Z",
     "iopub.status.busy": "2024-12-10T09:24:11.109318Z",
     "iopub.status.idle": "2024-12-10T09:24:18.206037Z",
     "shell.execute_reply": "2024-12-10T09:24:18.205153Z",
     "shell.execute_reply.started": "2024-12-10T09:24:11.109823Z"
    },
    "tags": []
   },
   "outputs": [
    {
     "name": "stdout",
     "output_type": "stream",
     "text": [
      "Writing splits...\n",
      "  /home/brett/work/OrthogonalTrainValSplits/hashFrag/data/K562.sample_10000.hashFrag.work/hashFrag.train_8000.test_2000.split_001.csv.gz\n",
      "  /home/brett/work/OrthogonalTrainValSplits/hashFrag/data/K562.sample_10000.hashFrag.work/hashFrag.train_8000.test_2000.split_002.csv.gz\n",
      "  /home/brett/work/OrthogonalTrainValSplits/hashFrag/data/K562.sample_10000.hashFrag.work/hashFrag.train_8000.test_2000.split_003.csv.gz\n",
      "  /home/brett/work/OrthogonalTrainValSplits/hashFrag/data/K562.sample_10000.hashFrag.work/hashFrag.train_8000.test_2000.split_004.csv.gz\n",
      "  /home/brett/work/OrthogonalTrainValSplits/hashFrag/data/K562.sample_10000.hashFrag.work/hashFrag.train_8000.test_2000.split_005.csv.gz\n",
      "  /home/brett/work/OrthogonalTrainValSplits/hashFrag/data/K562.sample_10000.hashFrag.work/hashFrag.train_8000.test_2000.split_006.csv.gz\n",
      "  /home/brett/work/OrthogonalTrainValSplits/hashFrag/data/K562.sample_10000.hashFrag.work/hashFrag.train_8000.test_2000.split_007.csv.gz\n",
      "  /home/brett/work/OrthogonalTrainValSplits/hashFrag/data/K562.sample_10000.hashFrag.work/hashFrag.train_8000.test_2000.split_008.csv.gz\n",
      "  /home/brett/work/OrthogonalTrainValSplits/hashFrag/data/K562.sample_10000.hashFrag.work/hashFrag.train_8000.test_2000.split_009.csv.gz\n",
      "  /home/brett/work/OrthogonalTrainValSplits/hashFrag/data/K562.sample_10000.hashFrag.work/hashFrag.train_8000.test_2000.split_010.csv.gz\n"
     ]
    }
   ],
   "source": [
    "%%bash\n",
    "\n",
    "FASTA_PATH=/home/brett/work/OrthogonalTrainValSplits/hashFrag/data/K562.sample_10000.fa.gz\n",
    "HOMOLOGY_PATH=/home/brett/work/OrthogonalTrainValSplits/hashFrag/data/K562.sample_10000.hashFrag.work/homologous_groups.csv\n",
    "OUT_DIR=/home/brett/work/OrthogonalTrainValSplits/hashFrag/data/K562.sample_10000.hashFrag.work\n",
    "\n",
    "hashFrag create_orthogonal_splits -f $FASTA_PATH -i $HOMOLOGY_PATH -n 10 -o $OUT_DIR"
   ]
  }
 ],
 "metadata": {
  "kernelspec": {
   "display_name": "Python 3 (ipykernel)",
   "language": "python",
   "name": "python3"
  },
  "language_info": {
   "codemirror_mode": {
    "name": "ipython",
    "version": 3
   },
   "file_extension": ".py",
   "mimetype": "text/x-python",
   "name": "python",
   "nbconvert_exporter": "python",
   "pygments_lexer": "ipython3",
   "version": "3.9.15"
  }
 },
 "nbformat": 4,
 "nbformat_minor": 5
}

{
 "cells": [
  {
   "cell_type": "code",
   "execution_count": 1,
   "id": "e7bb08a6-c8da-4175-90d6-53fadc7afa74",
   "metadata": {
    "execution": {
     "iopub.execute_input": "2024-12-19T02:57:12.597233Z",
     "iopub.status.busy": "2024-12-19T02:57:12.596790Z",
     "iopub.status.idle": "2024-12-19T02:57:23.536956Z",
     "shell.execute_reply": "2024-12-19T02:57:23.536314Z",
     "shell.execute_reply.started": "2024-12-19T02:57:12.597211Z"
    },
    "tags": []
   },
   "outputs": [],
   "source": [
    "import os\n",
    "from Bio import SeqIO\n",
    "from tqdm import tqdm\n",
    "from pathlib import Path"
   ]
  },
  {
   "cell_type": "code",
   "execution_count": 2,
   "id": "fc719fe2-f848-431e-9b17-31479969a4d1",
   "metadata": {
    "execution": {
     "iopub.execute_input": "2024-12-19T02:57:46.240680Z",
     "iopub.status.busy": "2024-12-19T02:57:46.240164Z",
     "iopub.status.idle": "2024-12-19T02:57:46.358795Z",
     "shell.execute_reply": "2024-12-19T02:57:46.358152Z",
     "shell.execute_reply.started": "2024-12-19T02:57:46.240653Z"
    },
    "tags": []
   },
   "outputs": [],
   "source": [
    "!export PATH=$PATH:/home/brett/work/OrthogonalTrainValSplits/hashFrag/src"
   ]
  },
  {
   "cell_type": "markdown",
   "id": "8381d6c3-0050-401e-87b1-c5b2eb76cc78",
   "metadata": {},
   "source": [
    "# Introduction\n",
    "\n",
    "This notebook provides a basic tutorial on the core functionality of hashFrag.\n",
    "\n",
    "Working with a small MPRA dataset of 10,000 sequences (provided in the `data` directory), users can see example calls to the hashFrag. Specifically, this notebook will encompass the following tasks:\n",
    "\n",
    "1. `hashFrag blastn`: Identifying candidate pairs of sequences exhibiting similarity in the dataset.\n",
    "2. (Optional) For each candidate pairing, compute their optimal local alignment score ([Smith-Waterman algorithm](https://en.wikipedia.org/wiki/Smith%E2%80%93Waterman_algorithm)).\n",
    "3. `hashFrag filter_false_positives`: Using the local alignment scores calculated in the previous step, filter false-positive candidates based on a specified threshold.\n",
    "    + Note that if the previous step was NOT performed, false-positive candidates will be filtered based on the heuristic local alignment scores provided by the BLAST algorithm.\n",
    "    + The threshold to use for tuning is not only dataset-dependent, but also highly depends on BLAST (and, if performed, Smith-Waterman) local alignment parameters. See the advanced tutorial (TODO) for an example on our recommended workflow to tune relevant parameters and select an appropriate threshold.\n",
    "4. `hashFrag identify_homologous_groups`: determine the different subgroups of sequences exhibiting homology.\n",
    "5. `hashFrag create_orthogonal_splits`: create homology-aware data splits.\n",
    "\n",
    "hashFrag is a command line tool. This notebook serves as a resource to better understand each step in the process.\n"
   ]
  },
  {
   "cell_type": "markdown",
   "id": "68f3bd7e-e67b-4236-aa5b-0c51c3344d8b",
   "metadata": {
    "execution": {
     "iopub.execute_input": "2024-12-09T04:30:02.468472Z",
     "iopub.status.busy": "2024-12-09T04:30:02.468181Z",
     "iopub.status.idle": "2024-12-09T04:30:02.472211Z",
     "shell.execute_reply": "2024-12-09T04:30:02.471603Z",
     "shell.execute_reply.started": "2024-12-09T04:30:02.468450Z"
    },
    "tags": []
   },
   "source": [
    "# Section 0: Setup"
   ]
  },
  {
   "cell_type": "code",
   "execution_count": 3,
   "id": "82b029ef-ccdd-418e-86dd-0a99721c68a9",
   "metadata": {
    "execution": {
     "iopub.execute_input": "2024-12-19T02:57:49.463792Z",
     "iopub.status.busy": "2024-12-19T02:57:49.463391Z",
     "iopub.status.idle": "2024-12-19T02:57:49.468819Z",
     "shell.execute_reply": "2024-12-19T02:57:49.468423Z",
     "shell.execute_reply.started": "2024-12-19T02:57:49.463773Z"
    },
    "tags": []
   },
   "outputs": [
    {
     "name": "stdout",
     "output_type": "stream",
     "text": [
      "/home/brett/work/OrthogonalTrainValSplits/hashFrag/data/K562.sample_10000.hashFrag.work\n"
     ]
    }
   ],
   "source": [
    "data_dir   = \"/home/brett/work/OrthogonalTrainValSplits/hashFrag/data\"\n",
    "fasta_path = os.path.join(data_dir,\"K562.sample_10000.fa.gz\")\n",
    "label      = os.path.basename(fasta_path).replace(\".fa.gz\",\"\")\n",
    "score_path = os.path.join(data_dir,f\"{label}.pairwise_scores.csv.gz\")\n",
    "work_dir   = os.path.join(data_dir,f\"{label}.hashFrag.work\")\n",
    "Path(work_dir).mkdir(parents=True,exist_ok=True)\n",
    "print(work_dir)\n",
    "\n",
    "blast_dir = os.path.join(work_dir,\"blast_partitions\")\n",
    "Path(blast_dir).mkdir(parents=True,exist_ok=True)"
   ]
  },
  {
   "cell_type": "markdown",
   "id": "86e0deed-41d6-4976-b81c-d2a40d809ba9",
   "metadata": {},
   "source": [
    "# Section 1 - Identifying candidate similar sequences\n",
    "\n",
    "The process of identifying candidate pairs of similar sequences involves first creating a BLAST database of the dataset, and then querying each sequence against the database, collecting all pairwise matches that represent potential cases of homology. \n",
    "\n",
    "To effectively mitigate potential biases caused by homology-based data leakage, it is imperative that all cases of homology are successfully identified. To that end, we configure the BLASTn call such that recall is maximized (this comes at the expense of increased false-positives, which are subsequently filtered). Here we consider the following parameters of BLASTn:\n",
    "\n",
    "* word_size: smaller word sizes results in more exact word matches found between the query and sequences in the database, leading to more alignment score calculations being initialized.\n",
    "* max_target_seqs: set to the size of the database to remove any constraints and allow for all possible candidate sequences to be returned for a given query.\n",
    "* evalue: the e-value statistic is a measure of how likely you observe the alignment by chance (lower value corresponds to less likely to observe). By increasing the e-value threshold, matches that could be due to chance are returned.\n",
    "* dust: by setting dust off, low-complexity (e.g., repetitive sequences) are no longer masked/filtered out."
   ]
  },
  {
   "cell_type": "code",
   "execution_count": 6,
   "id": "1fc29f5e-cba3-4433-b10b-2f7a3c871292",
   "metadata": {
    "execution": {
     "iopub.execute_input": "2024-12-09T23:00:40.161883Z",
     "iopub.status.busy": "2024-12-09T23:00:40.161667Z",
     "iopub.status.idle": "2024-12-09T23:06:42.170825Z",
     "shell.execute_reply": "2024-12-09T23:06:42.170188Z",
     "shell.execute_reply.started": "2024-12-09T23:00:40.161863Z"
    },
    "tags": []
   },
   "outputs": [
    {
     "name": "stdout",
     "output_type": "stream",
     "text": [
      "\n",
      "\n",
      "Building a new DB, current time: 12/10/2024 08:00:47\n",
      "New DB name:   /home/brett/work/OrthogonalTrainValSplits/hashFrag/data/K562.sample_10000.hashFrag.work/K562.sample_10000.blastdb\n",
      "New DB title:  K562.sample_10000\n",
      "Sequence type: Nucleotide\n",
      "Keep MBits: T\n",
      "Maximum file size: 1000000000B\n",
      "Adding sequences from FASTA; added 10000 sequences in 0.260447 seconds.\n",
      "\n",
      "\n",
      "\n",
      "BLAST DataBase construction finished and written to: /home/brett/work/OrthogonalTrainValSplits/hashFrag/data/K562.sample_10000.hashFrag.work/K562.sample_10000.blastdb\n",
      "\n",
      "BLASTn process finished and written to: /home/brett/work/OrthogonalTrainValSplits/hashFrag/data/K562.sample_10000.hashFrag.work/K562.sample_10000.blastn.out\n"
     ]
    }
   ],
   "source": [
    "%%bash\n",
    "\n",
    "FASTA_PATH=/home/brett/work/OrthogonalTrainValSplits/hashFrag/data/K562.sample_10000.fa.gz\n",
    "WORK_DIR=/home/brett/work/OrthogonalTrainValSplits/hashFrag/data/K562.sample_10000.hashFrag.work\n",
    "\n",
    "WORD_SIZE=7\n",
    "MAX_TARGET_SEQS=10000 # size of dataset\n",
    "E_VALUE=100\n",
    "DUST=no\n",
    "\n",
    "hashFrag blastn -f $FASTA_PATH -w $WORD_SIZE -e $E_VALUE -d $DUST -o $WORK_DIR"
   ]
  },
  {
   "cell_type": "markdown",
   "id": "62d63c8e-42ca-451d-acc0-0f4f336c5f12",
   "metadata": {},
   "source": [
    "# Section 3: Filter false-positives based on a defined threshold\n",
    "\n",
    "We can filter candidate pairings with alignment scores lower than the specified threshold. An alignment score threshold of 60 was determined to be appropriate based on an analysis looking at alignment scores between dinucleotide shuffled (i.e., random) sequences."
   ]
  },
  {
   "cell_type": "code",
   "execution_count": 17,
   "id": "b48ccad1-aa5f-4546-96c1-eb1d2f92f8e2",
   "metadata": {
    "execution": {
     "iopub.execute_input": "2024-12-10T07:07:32.647971Z",
     "iopub.status.busy": "2024-12-10T07:07:32.647674Z",
     "iopub.status.idle": "2024-12-10T07:07:39.013429Z",
     "shell.execute_reply": "2024-12-10T07:07:39.012869Z",
     "shell.execute_reply.started": "2024-12-10T07:07:32.647946Z"
    },
    "tags": []
   },
   "outputs": [
    {
     "name": "stdout",
     "output_type": "stream",
     "text": [
      "Filtered results written to: /home/brett/work/OrthogonalTrainValSplits/hashFrag/data/K562.sample_10000.hashFrag.work/blastn_results.filtered_candidates.tsv.gz\n"
     ]
    }
   ],
   "source": [
    "%%bash\n",
    "\n",
    "BLAST_PATH=/home/brett/work/OrthogonalTrainValSplits/hashFrag/data/K562.sample_10000.hashFrag.work/K562.sample_10000.blastn.out\n",
    "THRESHOLD=60\n",
    "WORK_DIR=/home/brett/work/OrthogonalTrainValSplits/hashFrag/data/K562.sample_10000.hashFrag.work\n",
    "\n",
    "hashFrag filter_false_positives -m \"lightning\"-b $BLAST_PATH -t $THRESHOLD -o $WORK_DIR"
   ]
  },
  {
   "cell_type": "markdown",
   "id": "d9c75343-485f-441c-9576-e4c61b82ccb0",
   "metadata": {},
   "source": [
    "# Section 4: Determine groups of homology\n",
    "\n",
    "There are often distinct groups of sequences exhibiting different cases of homology throughout the dataset. To determine such groups, we represent the \"hits\" (i.e., pairs of sequences with an alignment score greater than the threshold) as a sparse adjacency matrix. A graph can then be constructed, where nodes correspond to sequences and edges denote shared homology between the two sequences. The process of identifying groups of homology can readily be solved by identifying disconnected subgraphs. \n",
    "\n",
    "An efficient implementation for this graph-based task is provided in the `igraph` Python library."
   ]
  },
  {
   "cell_type": "code",
   "execution_count": 22,
   "id": "1990b87e-d476-44fc-9db6-e2c17b38a1a5",
   "metadata": {
    "execution": {
     "iopub.execute_input": "2024-12-10T07:11:04.410147Z",
     "iopub.status.busy": "2024-12-10T07:11:04.409674Z",
     "iopub.status.idle": "2024-12-10T07:11:05.821529Z",
     "shell.execute_reply": "2024-12-10T07:11:05.820641Z",
     "shell.execute_reply.started": "2024-12-10T07:11:04.410123Z"
    },
    "tags": []
   },
   "outputs": [
    {
     "name": "stdout",
     "output_type": "stream",
     "text": [
      "1138 sequences exhibiting homology.\n",
      "92 homologous groups identified.\n",
      "Homologous groups written to file: /home/brett/work/OrthogonalTrainValSplits/hashFrag/data/K562.sample_10000.hashFrag.work/homologous_groups.csv\n"
     ]
    }
   ],
   "source": [
    "%%bash\n",
    "\n",
    "HITS_PATH=/home/brett/work/OrthogonalTrainValSplits/hashFrag/data/K562.sample_10000.hashFrag.work/blastn_results.filtered_candidates.tsv.gz\n",
    "OUTPUT_PATH=/home/brett/work/OrthogonalTrainValSplits/hashFrag/data/K562.sample_10000.hashFrag.work/homologous_groups.csv\n",
    "\n",
    "hashFrag identify_homologous_groups -i $HITS_PATH -o $OUTPUT_PATH"
   ]
  },
  {
   "cell_type": "markdown",
   "id": "f5565f51-e041-490a-a639-519dff059526",
   "metadata": {},
   "source": [
    "# Section 5: Create orthogonal data split"
   ]
  },
  {
   "cell_type": "code",
   "execution_count": 40,
   "id": "ebbc568a-ae85-4df6-a990-0b52f05e6866",
   "metadata": {
    "execution": {
     "iopub.execute_input": "2024-12-10T09:24:11.109854Z",
     "iopub.status.busy": "2024-12-10T09:24:11.109318Z",
     "iopub.status.idle": "2024-12-10T09:24:18.206037Z",
     "shell.execute_reply": "2024-12-10T09:24:18.205153Z",
     "shell.execute_reply.started": "2024-12-10T09:24:11.109823Z"
    },
    "tags": []
   },
   "outputs": [
    {
     "name": "stdout",
     "output_type": "stream",
     "text": [
      "Writing splits...\n",
      "  /home/brett/work/OrthogonalTrainValSplits/hashFrag/data/K562.sample_10000.hashFrag.work/hashFrag.train_8000.test_2000.split_001.csv.gz\n",
      "  /home/brett/work/OrthogonalTrainValSplits/hashFrag/data/K562.sample_10000.hashFrag.work/hashFrag.train_8000.test_2000.split_002.csv.gz\n",
      "  /home/brett/work/OrthogonalTrainValSplits/hashFrag/data/K562.sample_10000.hashFrag.work/hashFrag.train_8000.test_2000.split_003.csv.gz\n",
      "  /home/brett/work/OrthogonalTrainValSplits/hashFrag/data/K562.sample_10000.hashFrag.work/hashFrag.train_8000.test_2000.split_004.csv.gz\n",
      "  /home/brett/work/OrthogonalTrainValSplits/hashFrag/data/K562.sample_10000.hashFrag.work/hashFrag.train_8000.test_2000.split_005.csv.gz\n",
      "  /home/brett/work/OrthogonalTrainValSplits/hashFrag/data/K562.sample_10000.hashFrag.work/hashFrag.train_8000.test_2000.split_006.csv.gz\n",
      "  /home/brett/work/OrthogonalTrainValSplits/hashFrag/data/K562.sample_10000.hashFrag.work/hashFrag.train_8000.test_2000.split_007.csv.gz\n",
      "  /home/brett/work/OrthogonalTrainValSplits/hashFrag/data/K562.sample_10000.hashFrag.work/hashFrag.train_8000.test_2000.split_008.csv.gz\n",
      "  /home/brett/work/OrthogonalTrainValSplits/hashFrag/data/K562.sample_10000.hashFrag.work/hashFrag.train_8000.test_2000.split_009.csv.gz\n",
      "  /home/brett/work/OrthogonalTrainValSplits/hashFrag/data/K562.sample_10000.hashFrag.work/hashFrag.train_8000.test_2000.split_010.csv.gz\n"
     ]
    }
   ],
   "source": [
    "%%bash\n",
    "\n",
    "FASTA_PATH=/home/brett/work/OrthogonalTrainValSplits/hashFrag/data/K562.sample_10000.fa.gz\n",
    "HOMOLOGY_PATH=/home/brett/work/OrthogonalTrainValSplits/hashFrag/data/K562.sample_10000.hashFrag.work/homologous_groups.csv\n",
    "OUT_DIR=/home/brett/work/OrthogonalTrainValSplits/hashFrag/data/K562.sample_10000.hashFrag.work\n",
    "\n",
    "hashFrag create_orthogonal_splits -f $FASTA_PATH -i $HOMOLOGY_PATH -n 10 -o $OUT_DIR"
   ]
  }
 ],
 "metadata": {
  "kernelspec": {
   "display_name": "Python 3 (ipykernel)",
   "language": "python",
   "name": "python3"
  },
  "language_info": {
   "codemirror_mode": {
    "name": "ipython",
    "version": 3
   },
   "file_extension": ".py",
   "mimetype": "text/x-python",
   "name": "python",
   "nbconvert_exporter": "python",
   "pygments_lexer": "ipython3",
   "version": "3.9.15"
  }
 },
 "nbformat": 4,
 "nbformat_minor": 5
}

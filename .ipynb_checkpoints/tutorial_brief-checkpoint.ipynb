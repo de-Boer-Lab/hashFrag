{
 "cells": [
  {
   "cell_type": "code",
   "execution_count": 1,
   "id": "e7bb08a6-c8da-4175-90d6-53fadc7afa74",
   "metadata": {
    "execution": {
     "iopub.execute_input": "2024-11-17T07:14:48.299512Z",
     "iopub.status.busy": "2024-11-17T07:14:48.299253Z",
     "iopub.status.idle": "2024-11-17T07:14:52.613745Z",
     "shell.execute_reply": "2024-11-17T07:14:52.613127Z",
     "shell.execute_reply.started": "2024-11-17T07:14:48.299490Z"
    },
    "tags": []
   },
   "outputs": [],
   "source": [
    "import os\n",
    "import numpy as np\n",
    "import pandas as pd\n",
    "import seaborn as sns\n",
    "import matplotlib.pyplot as plt\n",
    "from tqdm import tqdm\n",
    "from itertools import combinations,combinations_with_replacement\n",
    "\n",
    "import src.utils.helper_functions as helper"
   ]
  },
  {
   "cell_type": "code",
   "execution_count": 2,
   "id": "107275c0-98aa-4412-9690-5c41bee0eada",
   "metadata": {
    "execution": {
     "iopub.execute_input": "2024-11-17T07:14:52.615200Z",
     "iopub.status.busy": "2024-11-17T07:14:52.614808Z",
     "iopub.status.idle": "2024-11-17T07:14:52.618634Z",
     "shell.execute_reply": "2024-11-17T07:14:52.618178Z",
     "shell.execute_reply.started": "2024-11-17T07:14:52.615179Z"
    },
    "tags": []
   },
   "outputs": [],
   "source": [
    "current_dir = os.getcwd()\n",
    "fasta_path = os.path.join(current_dir,\"example_data\",\"K562_clean.sample1000.fa.gz\")\n",
    "score_matrix_path = os.path.join(current_dir,\"example_data\",\"K562_clean.sample1000.score_matrix.csv.gz\")\n",
    "collisions_path = os.path.join(current_dir,\"example_data\",\"K562_clean.sample1000.collisions.pbz2\")\n",
    "recall_path = os.path.join(current_dir,\"example_data\",\"K562_clean.sample1000.recall_analysis.csv.gz\")\n",
    "filtered_collisions_path = os.path.join(current_dir,\"example_data\",\"K562_clean.sample1000.filtered_collisions.pbz2\")"
   ]
  },
  {
   "cell_type": "markdown",
   "id": "78359da8-1faf-4b9a-9d16-2d5cd00ca975",
   "metadata": {},
   "source": [
    "# 0 - Computing all pairwise comparisons"
   ]
  },
  {
   "cell_type": "code",
   "execution_count": 88,
   "id": "2b594eb1-66ff-40ba-9a96-c11a8204a295",
   "metadata": {
    "execution": {
     "iopub.execute_input": "2024-11-17T05:39:16.315379Z",
     "iopub.status.busy": "2024-11-17T05:39:16.314183Z",
     "iopub.status.idle": "2024-11-17T05:42:01.161688Z",
     "shell.execute_reply": "2024-11-17T05:42:01.161115Z",
     "shell.execute_reply.started": "2024-11-17T05:39:16.315356Z"
    },
    "tags": []
   },
   "outputs": [
    {
     "name": "stderr",
     "output_type": "stream",
     "text": [
      "500500it [02:39, 3135.38it/s]\n"
     ]
    },
    {
     "data": {
      "text/html": [
       "<div>\n",
       "<style scoped>\n",
       "    .dataframe tbody tr th:only-of-type {\n",
       "        vertical-align: middle;\n",
       "    }\n",
       "\n",
       "    .dataframe tbody tr th {\n",
       "        vertical-align: top;\n",
       "    }\n",
       "\n",
       "    .dataframe thead th {\n",
       "        text-align: right;\n",
       "    }\n",
       "</style>\n",
       "<table border=\"1\" class=\"dataframe\">\n",
       "  <thead>\n",
       "    <tr style=\"text-align: right;\">\n",
       "      <th></th>\n",
       "      <th>peak10020_Reversed</th>\n",
       "      <th>peak10063_Reversed</th>\n",
       "      <th>peak10125</th>\n",
       "      <th>peak10171_Reversed</th>\n",
       "      <th>peak10246</th>\n",
       "      <th>peak10248</th>\n",
       "      <th>peak10342_Reversed</th>\n",
       "      <th>peak10630</th>\n",
       "      <th>peak10633_Reversed</th>\n",
       "      <th>peak10734_Reversed</th>\n",
       "      <th>...</th>\n",
       "      <th>ENSG00000166473</th>\n",
       "      <th>ENSG00000167536</th>\n",
       "      <th>ENSG00000168118_Reversed</th>\n",
       "      <th>ENSG00000168679_Reversed</th>\n",
       "      <th>ENSG00000169418_Reversed</th>\n",
       "      <th>ENSG00000169682_Reversed</th>\n",
       "      <th>ENSG00000170579</th>\n",
       "      <th>ENSG00000171357_Reversed</th>\n",
       "      <th>ENSG00000171984_Reversed</th>\n",
       "      <th>ENSG00000172115</th>\n",
       "    </tr>\n",
       "  </thead>\n",
       "  <tbody>\n",
       "    <tr>\n",
       "      <th>peak10020_Reversed</th>\n",
       "      <td>200.0</td>\n",
       "      <td>40.0</td>\n",
       "      <td>34.0</td>\n",
       "      <td>44.0</td>\n",
       "      <td>35.0</td>\n",
       "      <td>39.0</td>\n",
       "      <td>40.0</td>\n",
       "      <td>39.0</td>\n",
       "      <td>31.0</td>\n",
       "      <td>47.0</td>\n",
       "      <td>...</td>\n",
       "      <td>39.0</td>\n",
       "      <td>41.0</td>\n",
       "      <td>32.0</td>\n",
       "      <td>43.0</td>\n",
       "      <td>42.0</td>\n",
       "      <td>35.0</td>\n",
       "      <td>33.0</td>\n",
       "      <td>45.0</td>\n",
       "      <td>39.0</td>\n",
       "      <td>43.0</td>\n",
       "    </tr>\n",
       "    <tr>\n",
       "      <th>peak10063_Reversed</th>\n",
       "      <td>40.0</td>\n",
       "      <td>200.0</td>\n",
       "      <td>41.0</td>\n",
       "      <td>38.0</td>\n",
       "      <td>47.0</td>\n",
       "      <td>39.0</td>\n",
       "      <td>40.0</td>\n",
       "      <td>38.0</td>\n",
       "      <td>33.0</td>\n",
       "      <td>40.0</td>\n",
       "      <td>...</td>\n",
       "      <td>47.0</td>\n",
       "      <td>32.0</td>\n",
       "      <td>25.0</td>\n",
       "      <td>49.0</td>\n",
       "      <td>35.0</td>\n",
       "      <td>36.0</td>\n",
       "      <td>33.0</td>\n",
       "      <td>31.0</td>\n",
       "      <td>41.0</td>\n",
       "      <td>31.0</td>\n",
       "    </tr>\n",
       "    <tr>\n",
       "      <th>peak10125</th>\n",
       "      <td>34.0</td>\n",
       "      <td>41.0</td>\n",
       "      <td>200.0</td>\n",
       "      <td>37.0</td>\n",
       "      <td>45.0</td>\n",
       "      <td>45.0</td>\n",
       "      <td>45.0</td>\n",
       "      <td>39.0</td>\n",
       "      <td>31.0</td>\n",
       "      <td>36.0</td>\n",
       "      <td>...</td>\n",
       "      <td>38.0</td>\n",
       "      <td>31.0</td>\n",
       "      <td>25.0</td>\n",
       "      <td>41.0</td>\n",
       "      <td>30.0</td>\n",
       "      <td>35.0</td>\n",
       "      <td>45.0</td>\n",
       "      <td>25.0</td>\n",
       "      <td>41.0</td>\n",
       "      <td>34.0</td>\n",
       "    </tr>\n",
       "    <tr>\n",
       "      <th>peak10171_Reversed</th>\n",
       "      <td>44.0</td>\n",
       "      <td>38.0</td>\n",
       "      <td>37.0</td>\n",
       "      <td>200.0</td>\n",
       "      <td>45.0</td>\n",
       "      <td>37.0</td>\n",
       "      <td>41.0</td>\n",
       "      <td>39.0</td>\n",
       "      <td>33.0</td>\n",
       "      <td>41.0</td>\n",
       "      <td>...</td>\n",
       "      <td>37.0</td>\n",
       "      <td>25.0</td>\n",
       "      <td>28.0</td>\n",
       "      <td>37.0</td>\n",
       "      <td>33.0</td>\n",
       "      <td>33.0</td>\n",
       "      <td>40.0</td>\n",
       "      <td>29.0</td>\n",
       "      <td>42.0</td>\n",
       "      <td>31.0</td>\n",
       "    </tr>\n",
       "    <tr>\n",
       "      <th>peak10246</th>\n",
       "      <td>35.0</td>\n",
       "      <td>47.0</td>\n",
       "      <td>45.0</td>\n",
       "      <td>45.0</td>\n",
       "      <td>200.0</td>\n",
       "      <td>44.0</td>\n",
       "      <td>42.0</td>\n",
       "      <td>40.0</td>\n",
       "      <td>35.0</td>\n",
       "      <td>39.0</td>\n",
       "      <td>...</td>\n",
       "      <td>37.0</td>\n",
       "      <td>29.0</td>\n",
       "      <td>28.0</td>\n",
       "      <td>44.0</td>\n",
       "      <td>35.0</td>\n",
       "      <td>33.0</td>\n",
       "      <td>37.0</td>\n",
       "      <td>30.0</td>\n",
       "      <td>35.0</td>\n",
       "      <td>33.0</td>\n",
       "    </tr>\n",
       "  </tbody>\n",
       "</table>\n",
       "<p>5 rows × 1000 columns</p>\n",
       "</div>"
      ],
      "text/plain": [
       "                    peak10020_Reversed  peak10063_Reversed  peak10125  \\\n",
       "peak10020_Reversed               200.0                40.0       34.0   \n",
       "peak10063_Reversed                40.0               200.0       41.0   \n",
       "peak10125                         34.0                41.0      200.0   \n",
       "peak10171_Reversed                44.0                38.0       37.0   \n",
       "peak10246                         35.0                47.0       45.0   \n",
       "\n",
       "                    peak10171_Reversed  peak10246  peak10248  \\\n",
       "peak10020_Reversed                44.0       35.0       39.0   \n",
       "peak10063_Reversed                38.0       47.0       39.0   \n",
       "peak10125                         37.0       45.0       45.0   \n",
       "peak10171_Reversed               200.0       45.0       37.0   \n",
       "peak10246                         45.0      200.0       44.0   \n",
       "\n",
       "                    peak10342_Reversed  peak10630  peak10633_Reversed  \\\n",
       "peak10020_Reversed                40.0       39.0                31.0   \n",
       "peak10063_Reversed                40.0       38.0                33.0   \n",
       "peak10125                         45.0       39.0                31.0   \n",
       "peak10171_Reversed                41.0       39.0                33.0   \n",
       "peak10246                         42.0       40.0                35.0   \n",
       "\n",
       "                    peak10734_Reversed  ...  ENSG00000166473  ENSG00000167536  \\\n",
       "peak10020_Reversed                47.0  ...             39.0             41.0   \n",
       "peak10063_Reversed                40.0  ...             47.0             32.0   \n",
       "peak10125                         36.0  ...             38.0             31.0   \n",
       "peak10171_Reversed                41.0  ...             37.0             25.0   \n",
       "peak10246                         39.0  ...             37.0             29.0   \n",
       "\n",
       "                    ENSG00000168118_Reversed  ENSG00000168679_Reversed  \\\n",
       "peak10020_Reversed                      32.0                      43.0   \n",
       "peak10063_Reversed                      25.0                      49.0   \n",
       "peak10125                               25.0                      41.0   \n",
       "peak10171_Reversed                      28.0                      37.0   \n",
       "peak10246                               28.0                      44.0   \n",
       "\n",
       "                    ENSG00000169418_Reversed  ENSG00000169682_Reversed  \\\n",
       "peak10020_Reversed                      42.0                      35.0   \n",
       "peak10063_Reversed                      35.0                      36.0   \n",
       "peak10125                               30.0                      35.0   \n",
       "peak10171_Reversed                      33.0                      33.0   \n",
       "peak10246                               35.0                      33.0   \n",
       "\n",
       "                    ENSG00000170579  ENSG00000171357_Reversed  \\\n",
       "peak10020_Reversed             33.0                      45.0   \n",
       "peak10063_Reversed             33.0                      31.0   \n",
       "peak10125                      45.0                      25.0   \n",
       "peak10171_Reversed             40.0                      29.0   \n",
       "peak10246                      37.0                      30.0   \n",
       "\n",
       "                    ENSG00000171984_Reversed  ENSG00000172115  \n",
       "peak10020_Reversed                      39.0             43.0  \n",
       "peak10063_Reversed                      41.0             31.0  \n",
       "peak10125                               41.0             34.0  \n",
       "peak10171_Reversed                      42.0             31.0  \n",
       "peak10246                               35.0             33.0  \n",
       "\n",
       "[5 rows x 1000 columns]"
      ]
     },
     "metadata": {},
     "output_type": "display_data"
    },
    {
     "name": "stdout",
     "output_type": "stream",
     "text": [
      "(1000, 1000)\n",
      "CPU times: user 2min 44s, sys: 288 ms, total: 2min 44s\n",
      "Wall time: 2min 44s\n"
     ]
    }
   ],
   "source": [
    "%%time\n",
    "\n",
    "fasta_dict = helper.parse_fasta_to_dictionary(fasta_path)\n",
    "\n",
    "n   = len(fasta_dict)\n",
    "ids = list(fasta_dict)\n",
    "arr = np.zeros(shape=(n,n),dtype=np.float32)\n",
    "for i,j in tqdm(combinations_with_replacement(range(n),2)):\n",
    "    id_i = ids[i]\n",
    "    id_j = ids[j]\n",
    "    seq_i = fasta_dict[id_i]\n",
    "    seq_j = fasta_dict[id_j]\n",
    "    score = helper.compute_sw_score(seq_i,seq_j)\n",
    "    arr[i,j] = score\n",
    "    arr[j,i] = score\n",
    "\n",
    "df = pd.DataFrame(arr,index=ids,columns=ids)\n",
    "df.to_csv(score_matrix_path,compression=\"gzip\")\n",
    "display(df.head(5))\n",
    "print(df.shape)"
   ]
  },
  {
   "cell_type": "markdown",
   "id": "86e0deed-41d6-4976-b81c-d2a40d809ba9",
   "metadata": {},
   "source": [
    "# 1 - `lsh_forest`"
   ]
  },
  {
   "cell_type": "code",
   "execution_count": 85,
   "id": "80ed7566-12b5-4305-888d-f88caab4e0eb",
   "metadata": {
    "execution": {
     "iopub.execute_input": "2024-11-17T04:41:27.569642Z",
     "iopub.status.busy": "2024-11-17T04:41:27.567794Z",
     "iopub.status.idle": "2024-11-17T04:41:33.185892Z",
     "shell.execute_reply": "2024-11-17T04:41:33.185324Z",
     "shell.execute_reply.started": "2024-11-17T04:41:27.569619Z"
    },
    "tags": []
   },
   "outputs": [
    {
     "name": "stdout",
     "output_type": "stream",
     "text": [
      "LSH Forest process finished and written to: /rshare1/ZETTAI_path_WA_slash_home_KARA/home/brett/work/OrthogonalTrainValSplits/hashFrag/example_data/K562_clean.sample1000.collisions.pbz2\n"
     ]
    }
   ],
   "source": [
    "%%bash\n",
    "\n",
    "FASTA_PATH=$PWD/example_data/K562_clean.sample1000.fa.gz\n",
    "OUTPUT_PATH=$PWD/example_data/K562_clean.sample1000.collisions.pbz2\n",
    "\n",
    "./src/hashFrag lsh_forest -f $FASTA_PATH -k 11 -p 256 -t 256 -n 1000 -s 1 -o $OUTPUT_PATH"
   ]
  },
  {
   "cell_type": "markdown",
   "id": "70257321-ab6e-437b-a12f-0f005d6eaae3",
   "metadata": {},
   "source": [
    "# 2 - `compute_recall`"
   ]
  },
  {
   "cell_type": "code",
   "execution_count": 40,
   "id": "feb93c83-909c-4721-9437-f8785874ead8",
   "metadata": {
    "execution": {
     "iopub.execute_input": "2024-11-17T05:12:45.488812Z",
     "iopub.status.busy": "2024-11-17T05:12:45.488592Z",
     "iopub.status.idle": "2024-11-17T05:13:19.091038Z",
     "shell.execute_reply": "2024-11-17T05:13:19.090544Z",
     "shell.execute_reply.started": "2024-11-17T05:12:45.488795Z"
    },
    "tags": []
   },
   "outputs": [
    {
     "name": "stdout",
     "output_type": "stream",
     "text": [
      "Recall calculation results written to: /rshare1/ZETTAI_path_WA_slash_home_KARA/home/brett/work/OrthogonalTrainValSplits/hashFrag/example_data/K562_clean.sample1000.recall_analysis.csv.gz\n"
     ]
    }
   ],
   "source": [
    "%%bash\n",
    "\n",
    "COLLISIONS_PATH=$PWD/example_data/K562_clean.sample1000.collisions.pbz2\n",
    "SCORE_MATRIX_PATH=$PWD/example_data/K562_clean.sample1000.score_matrix.csv.gz\n",
    "OUTPUT_PATH=$PWD/example_data/K562_clean.sample1000.recall_analysis.csv.gz\n",
    "\n",
    "./src/hashFrag compute_recall -c $COLLISIONS_PATH -d $SCORE_MATRIX_PATH -s 1 -o $OUTPUT_PATH"
   ]
  },
  {
   "cell_type": "code",
   "execution_count": 41,
   "id": "48235cb6-2144-4466-95ca-63fc459cbe3a",
   "metadata": {
    "execution": {
     "iopub.execute_input": "2024-11-17T05:13:25.201274Z",
     "iopub.status.busy": "2024-11-17T05:13:25.201011Z",
     "iopub.status.idle": "2024-11-17T05:13:25.211636Z",
     "shell.execute_reply": "2024-11-17T05:13:25.211269Z",
     "shell.execute_reply.started": "2024-11-17T05:13:25.201250Z"
    },
    "tags": []
   },
   "outputs": [
    {
     "data": {
      "text/html": [
       "<div>\n",
       "<style scoped>\n",
       "    .dataframe tbody tr th:only-of-type {\n",
       "        vertical-align: middle;\n",
       "    }\n",
       "\n",
       "    .dataframe tbody tr th {\n",
       "        vertical-align: top;\n",
       "    }\n",
       "\n",
       "    .dataframe thead th {\n",
       "        text-align: right;\n",
       "    }\n",
       "</style>\n",
       "<table border=\"1\" class=\"dataframe\">\n",
       "  <thead>\n",
       "    <tr style=\"text-align: right;\">\n",
       "      <th></th>\n",
       "      <th>threshold</th>\n",
       "      <th>TP</th>\n",
       "      <th>FP</th>\n",
       "      <th>TN</th>\n",
       "      <th>FN</th>\n",
       "      <th>recall</th>\n",
       "    </tr>\n",
       "  </thead>\n",
       "  <tbody>\n",
       "    <tr>\n",
       "      <th>0</th>\n",
       "      <td>13.0</td>\n",
       "      <td>10896</td>\n",
       "      <td>0</td>\n",
       "      <td>0</td>\n",
       "      <td>989104</td>\n",
       "      <td>0.010896</td>\n",
       "    </tr>\n",
       "    <tr>\n",
       "      <th>1</th>\n",
       "      <td>14.0</td>\n",
       "      <td>10896</td>\n",
       "      <td>0</td>\n",
       "      <td>6</td>\n",
       "      <td>989098</td>\n",
       "      <td>0.010896</td>\n",
       "    </tr>\n",
       "  </tbody>\n",
       "</table>\n",
       "</div>"
      ],
      "text/plain": [
       "   threshold     TP  FP  TN      FN    recall\n",
       "0       13.0  10896   0   0  989104  0.010896\n",
       "1       14.0  10896   0   6  989098  0.010896"
      ]
     },
     "metadata": {},
     "output_type": "display_data"
    },
    {
     "name": "stdout",
     "output_type": "stream",
     "text": [
      "(188, 6)\n"
     ]
    }
   ],
   "source": [
    "recall_df = pd.read_csv(recall_path)\n",
    "display(recall_df.head(2))\n",
    "print(recall_df.shape)"
   ]
  },
  {
   "cell_type": "code",
   "execution_count": 59,
   "id": "8169c601-eebc-4181-9371-40d9cf916e90",
   "metadata": {
    "execution": {
     "iopub.execute_input": "2024-11-17T05:22:39.475658Z",
     "iopub.status.busy": "2024-11-17T05:22:39.475465Z",
     "iopub.status.idle": "2024-11-17T05:22:39.570069Z",
     "shell.execute_reply": "2024-11-17T05:22:39.569638Z",
     "shell.execute_reply.started": "2024-11-17T05:22:39.475642Z"
    },
    "tags": []
   },
   "outputs": [
    {
     "data": {
      "image/png": "[encoded data removed]",
      "text/plain": [
       "<Figure size 500x400 with 1 Axes>"
      ]
     },
     "metadata": {},
     "output_type": "display_data"
    }
   ],
   "source": [
    "fig,ax = plt.subplots(1,1,figsize=(5,4))\n",
    "sns.lineplot(results_df,x=\"threshold\",y=\"recall\",ax=ax,alpha=0.75,linewidth=0.5)\n",
    "sns.scatterplot(results_df,x=\"threshold\",y=\"recall\",ax=ax,alpha=0.75,linewidth=0.5,s=15)\n",
    "ax.set_xticks(np.arange(0,220,20))\n",
    "plt.show()"
   ]
  },
  {
   "cell_type": "markdown",
   "id": "4a1f12f9-1112-4b2d-8c12-bdb9d504a6c1",
   "metadata": {},
   "source": [
    "# 3 - `filter_false_positive_collisions`"
   ]
  },
  {
   "cell_type": "code",
   "execution_count": 105,
   "id": "ec79d17b-2dad-4166-8c65-af3264b96968",
   "metadata": {
    "execution": {
     "iopub.execute_input": "2024-11-17T05:55:38.436422Z",
     "iopub.status.busy": "2024-11-17T05:55:38.436145Z",
     "iopub.status.idle": "2024-11-17T05:55:43.480168Z",
     "shell.execute_reply": "2024-11-17T05:55:43.479473Z",
     "shell.execute_reply.started": "2024-11-17T05:55:38.436401Z"
    },
    "tags": []
   },
   "outputs": [
    {
     "name": "stdout",
     "output_type": "stream",
     "text": [
      "Number of pairwise comparisons to compute: 4948\n",
      "22 sequences remain after filtering according to a threshold of 80\n",
      "Filtered collision results written to: /rshare1/ZETTAI_path_WA_slash_home_KARA/home/brett/work/OrthogonalTrainValSplits/hashFrag/example_data/K562_clean.sample1000.filtered_collisions.pbz2\n"
     ]
    }
   ],
   "source": [
    "%%bash\n",
    "\n",
    "FASTA_PATH=$PWD/example_data/K562_clean.sample1000.fa.gz\n",
    "COLLISIONS_PATH=$PWD/example_data/K562_clean.sample1000.collisions.pbz2\n",
    "THRESHOLD=80\n",
    "OUTPUT_PATH=$PWD/example_data/K562_clean.sample1000.filtered_collisions.pbz2\n",
    "\n",
    "./src/hashFrag filter_false_positives -f $FASTA_PATH -c $COLLISIONS_PATH -t $THRESHOLD -o $OUTPUT_PATH"
   ]
  },
  {
   "cell_type": "markdown",
   "id": "f06b1337-f336-46e5-b852-6a361a86578f",
   "metadata": {},
   "source": [
    "# 4 - `create_orthogonal_splits`"
   ]
  },
  {
   "cell_type": "code",
   "execution_count": 3,
   "id": "de42b1b4-5b95-4982-92e0-85eff355a19c",
   "metadata": {
    "execution": {
     "iopub.execute_input": "2024-11-17T07:15:05.456598Z",
     "iopub.status.busy": "2024-11-17T07:15:05.456235Z",
     "iopub.status.idle": "2024-11-17T07:15:05.463518Z",
     "shell.execute_reply": "2024-11-17T07:15:05.463056Z",
     "shell.execute_reply.started": "2024-11-17T07:15:05.456577Z"
    },
    "tags": []
   },
   "outputs": [
    {
     "data": {
      "text/plain": [
       "22"
      ]
     },
     "execution_count": 3,
     "metadata": {},
     "output_type": "execute_result"
    }
   ],
   "source": [
    "filtered_collisions_dict = helper.load_collisions_dictionary(filtered_collisions_path)\n",
    "len(filtered_collisions_dict)"
   ]
  },
  {
   "cell_type": "code",
   "execution_count": 4,
   "id": "20982904-7764-4db0-bd25-cc0f2598e4f9",
   "metadata": {
    "execution": {
     "iopub.execute_input": "2024-11-17T07:15:06.094261Z",
     "iopub.status.busy": "2024-11-17T07:15:06.093846Z",
     "iopub.status.idle": "2024-11-17T07:15:06.137710Z",
     "shell.execute_reply": "2024-11-17T07:15:06.137246Z",
     "shell.execute_reply.started": "2024-11-17T07:15:06.094244Z"
    },
    "tags": []
   },
   "outputs": [
    {
     "data": {
      "text/plain": [
       "1000"
      ]
     },
     "execution_count": 4,
     "metadata": {},
     "output_type": "execute_result"
    }
   ],
   "source": [
    "fasta_dict = helper.load_fasta_as_dictionary(fasta_path)\n",
    "ids = set(fasta_dict)\n",
    "N = len(ids)\n",
    "len(fasta_dict)"
   ]
  },
  {
   "cell_type": "code",
   "execution_count": 7,
   "id": "436731a8-402b-4c22-af1b-9470bd38e22a",
   "metadata": {
    "execution": {
     "iopub.execute_input": "2024-11-17T07:15:16.427420Z",
     "iopub.status.busy": "2024-11-17T07:15:16.427071Z",
     "iopub.status.idle": "2024-11-17T07:15:16.430456Z",
     "shell.execute_reply": "2024-11-17T07:15:16.429998Z",
     "shell.execute_reply.started": "2024-11-17T07:15:16.427401Z"
    },
    "tags": []
   },
   "outputs": [],
   "source": [
    "import random\n",
    "import igraph as ig\n",
    "import scipy.sparse as sp\n",
    "from collections import defaultdict"
   ]
  },
  {
   "cell_type": "code",
   "execution_count": 8,
   "id": "1d9262c9-a74f-4144-8e71-276e863c8ce3",
   "metadata": {
    "execution": {
     "iopub.execute_input": "2024-11-17T07:15:16.590604Z",
     "iopub.status.busy": "2024-11-17T07:15:16.590280Z",
     "iopub.status.idle": "2024-11-17T07:15:16.612941Z",
     "shell.execute_reply": "2024-11-17T07:15:16.612448Z",
     "shell.execute_reply.started": "2024-11-17T07:15:16.590586Z"
    },
    "tags": []
   },
   "outputs": [
    {
     "name": "stderr",
     "output_type": "stream",
     "text": [
      "100%|███████████████████████████████████████████████████████████████████████████| 22/22 [00:00<00:00, 159644.79it/s]"
     ]
    },
    {
     "name": "stdout",
     "output_type": "stream",
     "text": [
      "22\n"
     ]
    },
    {
     "name": "stderr",
     "output_type": "stream",
     "text": [
      "\n"
     ]
    }
   ],
   "source": [
    "symmetric_collisions_dict = defaultdict(set)\n",
    "for query_id,collisions in tqdm(filtered_collisions_dict.items()):\n",
    "    query_id_ = helper.get_complementary_id(query_id,ids)\n",
    "    if query_id_ is not None:\n",
    "        symmetric_collisions_dict[query_id].add(query_id_)\n",
    "        symmetric_collisions_dict[query_id_].add(query_id)\n",
    "    for hit_id in collisions:\n",
    "        symmetric_collisions_dict[query_id].add(hit_id)\n",
    "        hit_id_ = helper.get_complementary_id(hit_id,ids)\n",
    "        if hit_id_ is not None:\n",
    "            symmetric_collisions_dict[query_id].add(hit_id_)\n",
    "            if query_id_ is not None:\n",
    "                symmetric_collisions_dict[query_id_].add(hit_id)\n",
    "                symmetric_collisions_dict[query_id_].add(hit_id_)\n",
    "\n",
    "print(len(symmetric_collisions_dict))"
   ]
  },
  {
   "cell_type": "code",
   "execution_count": 9,
   "id": "106df40b-bcb1-4fbe-9f75-ae2bcfb87e63",
   "metadata": {
    "execution": {
     "iopub.execute_input": "2024-11-17T07:15:17.624718Z",
     "iopub.status.busy": "2024-11-17T07:15:17.624442Z",
     "iopub.status.idle": "2024-11-17T07:15:17.627459Z",
     "shell.execute_reply": "2024-11-17T07:15:17.627004Z",
     "shell.execute_reply.started": "2024-11-17T07:15:17.624698Z"
    },
    "tags": []
   },
   "outputs": [],
   "source": [
    "collision_idset = set()\n",
    "for query_id,collisions in symmetric_collisions_dict.items():\n",
    "    collision_idset.add(query_id)\n",
    "    collision_idset.update(collisions)\n",
    "collision_ids = list(collision_idset)"
   ]
  },
  {
   "cell_type": "code",
   "execution_count": 10,
   "id": "83eda550-9d65-4d2c-87db-16be888c060d",
   "metadata": {
    "execution": {
     "iopub.execute_input": "2024-11-17T07:15:19.031443Z",
     "iopub.status.busy": "2024-11-17T07:15:19.031150Z",
     "iopub.status.idle": "2024-11-17T07:15:19.040535Z",
     "shell.execute_reply": "2024-11-17T07:15:19.040084Z",
     "shell.execute_reply.started": "2024-11-17T07:15:19.031424Z"
    },
    "tags": []
   },
   "outputs": [
    {
     "name": "stderr",
     "output_type": "stream",
     "text": [
      "100%|████████████████████████████████████████████████████████████████████████████| 22/22 [00:00<00:00, 24263.66it/s]\n"
     ]
    },
    {
     "data": {
      "text/plain": [
       "<22x22 sparse matrix of type '<class 'numpy.uint8'>'\n",
       "\twith 52 stored elements in Compressed Sparse Row format>"
      ]
     },
     "execution_count": 10,
     "metadata": {},
     "output_type": "execute_result"
    }
   ],
   "source": [
    "n = len(collision_ids)\n",
    "id_map = { seq_id:i for i,seq_id in enumerate(collision_ids) }\n",
    "sparse_mat = sp.dok_matrix((n,n),dtype=np.uint8)\n",
    "for id_i,collisions in tqdm(symmetric_collisions_dict.items()):\n",
    "    i = id_map[id_i]\n",
    "    for id_j in collisions:\n",
    "        j = id_map[id_j]\n",
    "        sparse_mat[i,j] = 1\n",
    "        sparse_mat[j,i] = 1\n",
    "sparse_mat = sparse_mat.tocsr()\n",
    "sparse_mat"
   ]
  },
  {
   "cell_type": "code",
   "execution_count": 11,
   "id": "fa8c3b2a-fcf3-4af6-8659-175ebe401744",
   "metadata": {
    "execution": {
     "iopub.execute_input": "2024-11-17T07:15:20.290694Z",
     "iopub.status.busy": "2024-11-17T07:15:20.290404Z",
     "iopub.status.idle": "2024-11-17T07:15:20.293988Z",
     "shell.execute_reply": "2024-11-17T07:15:20.293526Z",
     "shell.execute_reply.started": "2024-11-17T07:15:20.290675Z"
    },
    "tags": []
   },
   "outputs": [],
   "source": [
    "g = ig.Graph.Weighted_Adjacency(\n",
    "    matrix=sparse_mat,\n",
    "    mode=\"undirected\",\n",
    "    loops=False,\n",
    "    attr=\"collisions\"\n",
    ")"
   ]
  },
  {
   "cell_type": "code",
   "execution_count": 12,
   "id": "38ef6428-05cc-4b64-b59f-1ff1ecd43a5d",
   "metadata": {
    "execution": {
     "iopub.execute_input": "2024-11-17T07:15:20.668070Z",
     "iopub.status.busy": "2024-11-17T07:15:20.667725Z",
     "iopub.status.idle": "2024-11-17T07:15:20.670560Z",
     "shell.execute_reply": "2024-11-17T07:15:20.670105Z",
     "shell.execute_reply.started": "2024-11-17T07:15:20.668053Z"
    },
    "tags": []
   },
   "outputs": [],
   "source": [
    "components = g.connected_components(mode='weak')\n",
    "similar_groups = []\n",
    "for component in components:\n",
    "    similar_groups.append({ collision_ids[i] for i in component })"
   ]
  },
  {
   "cell_type": "code",
   "execution_count": 14,
   "id": "02588287-7a3c-496d-98a2-d086df6ec345",
   "metadata": {
    "execution": {
     "iopub.execute_input": "2024-11-17T07:15:25.042246Z",
     "iopub.status.busy": "2024-11-17T07:15:25.041868Z",
     "iopub.status.idle": "2024-11-17T07:15:25.123431Z",
     "shell.execute_reply": "2024-11-17T07:15:25.122960Z",
     "shell.execute_reply.started": "2024-11-17T07:15:25.042224Z"
    },
    "tags": []
   },
   "outputs": [
    {
     "data": {
      "image/png": "[encoded data removed]",
      "text/plain": [
       "<Figure size 640x480 with 1 Axes>"
      ]
     },
     "metadata": {},
     "output_type": "display_data"
    }
   ],
   "source": [
    "fig, ax = plt.subplots()\n",
    "ig.plot(\n",
    "    components,\n",
    "    target=ax,\n",
    "    palette=ig.RainbowPalette(),\n",
    "    vertex_size=0.5,\n",
    "    vertex_color=list(map(int,ig.rescale(components.membership,(0,200),clamp=True))),\n",
    "    edge_width=1\n",
    ")\n",
    "plt.show()"
   ]
  },
  {
   "cell_type": "code",
   "execution_count": 15,
   "id": "4e87af06-a072-4ff8-86fb-5e6227e8e7ae",
   "metadata": {
    "execution": {
     "iopub.execute_input": "2024-11-17T07:15:26.603801Z",
     "iopub.status.busy": "2024-11-17T07:15:26.603440Z",
     "iopub.status.idle": "2024-11-17T07:15:26.606613Z",
     "shell.execute_reply": "2024-11-17T07:15:26.606199Z",
     "shell.execute_reply.started": "2024-11-17T07:15:26.603779Z"
    },
    "tags": []
   },
   "outputs": [],
   "source": [
    "n_splits = 10\n",
    "p_train = 0.8\n",
    "p_test = 0.2\n",
    "\n",
    "N = len(ids)\n",
    "train_size = round(p_train*n)\n",
    "test_size  = round(p_test*n)"
   ]
  },
  {
   "cell_type": "code",
   "execution_count": 16,
   "id": "fdfb861e-4915-4e36-aa0a-c380c8503255",
   "metadata": {
    "execution": {
     "iopub.execute_input": "2024-11-17T07:15:29.315036Z",
     "iopub.status.busy": "2024-11-17T07:15:29.314724Z",
     "iopub.status.idle": "2024-11-17T07:15:29.345567Z",
     "shell.execute_reply": "2024-11-17T07:15:29.344960Z",
     "shell.execute_reply.started": "2024-11-17T07:15:29.315014Z"
    },
    "tags": []
   },
   "outputs": [
    {
     "name": "stderr",
     "output_type": "stream",
     "text": [
      "  0%|                                                                                        | 0/10 [00:00<?, ?it/s]\n"
     ]
    },
    {
     "ename": "AttributeError",
     "evalue": "module 'src.utils.helper_functions' has no attribute 'write_splits_to_file'",
     "output_type": "error",
     "traceback": [
      "\u001b[0;31m---------------------------------------------------------------------------\u001b[0m",
      "\u001b[0;31mAttributeError\u001b[0m                            Traceback (most recent call last)",
      "Cell \u001b[0;32mIn[16], line 65\u001b[0m\n\u001b[1;32m     62\u001b[0m                         ids_\u001b[38;5;241m.\u001b[39mremove(id_y_)\n\u001b[1;32m     64\u001b[0m \u001b[38;5;28;01massert\u001b[39;00m train_split\u001b[38;5;241m.\u001b[39misdisjoint(test_split)\n\u001b[0;32m---> 65\u001b[0m \u001b[43mhelper\u001b[49m\u001b[38;5;241;43m.\u001b[39;49m\u001b[43mwrite_splits_to_file\u001b[49m(train_split,test_split,split_path)\n",
      "\u001b[0;31mAttributeError\u001b[0m: module 'src.utils.helper_functions' has no attribute 'write_splits_to_file'"
     ]
    }
   ],
   "source": [
    "for i in tqdm(range(n_splits)):\n",
    "    split_path = os.path.join(current_dir,\"example_data\",f\"split_{i+1}.csv.gz\")\n",
    "    random.seed(i+1)\n",
    "    ids_ = list(ids)\n",
    "    similar_groups_ = similar_groups.copy()\n",
    "\n",
    "    test_split = set()\n",
    "    while len(test_split) < test_size and ids_:\n",
    "        id_x = random.choice(ids_)\n",
    "        test_split.add(id_x)\n",
    "        ids_.remove(id_x)\n",
    "\n",
    "        id_x_ = helper.get_complementary_id(id_x,ids)\n",
    "        if id_x_ is not None:\n",
    "            test_split.add(id_x_)\n",
    "            ids_.remove(id_x_)\n",
    "\n",
    "        if id_x in collision_idset:\n",
    "            helper.assert_membership(id_x_,collision_idset)\n",
    "\n",
    "            for j,group in enumerate(similar_groups_):\n",
    "                if id_x in group:\n",
    "                    helper.assert_membership(id_x_,group)\n",
    "                    group = similar_groups_.pop(j)\n",
    "                    for id_y in group:\n",
    "                        if id_x == id_y: continue\n",
    "                        test_split.add(id_y)\n",
    "                        ids_.remove(id_y)\n",
    "\n",
    "                        id_y_ = helper.get_complementary_id(id_y,ids)\n",
    "                        if id_y_ is not None:\n",
    "                            helper.assert_membership(id_y_,group)\n",
    "                            test_split.add(id_y_)\n",
    "                            ids_.remove(id_y_)\n",
    "\n",
    "    train_split = set()\n",
    "    while len(train_split) < train_size and ids_:\n",
    "        id_x = random.choice(ids_)\n",
    "        train_split.add(id_x)\n",
    "        ids_.remove(id_x)\n",
    "\n",
    "        id_x_ = helper.get_complementary_id(id_x,ids)\n",
    "        if id_x_ is not None:\n",
    "            train_split.add(id_x_)\n",
    "            ids_.remove(id_x_)\n",
    "\n",
    "        if id_x in collision_idset:\n",
    "            helper.assert_membership(id_x_,collision_idset)\n",
    "            for j,group in enumerate(similar_groups_):\n",
    "                if id_x in group:\n",
    "                    helper.assert_membership(id_x_,group)\n",
    "                    group = similar_groups_.pop(j)\n",
    "                    for id_y in group:\n",
    "                        if id_x == id_y: continue\n",
    "                        train_split.add(id_y)\n",
    "                        ids_.remove(id_y)\n",
    "\n",
    "                        id_y_ = helper.get_complementary_id(id_y,ids)\n",
    "                        if id_y_ is not None:\n",
    "                            helper.assert_membership(id_y_,group)\n",
    "                            train_split.add(id_y_)\n",
    "                            ids_.remove(id_y_)\n",
    "\n",
    "    assert train_split.isdisjoint(test_split)\n",
    "    helper.write_splits_to_file(train_split,test_split,split_path)\n"
   ]
  }
 ],
 "metadata": {
  "kernelspec": {
   "display_name": "Python 3 (ipykernel)",
   "language": "python",
   "name": "python3"
  },
  "language_info": {
   "codemirror_mode": {
    "name": "ipython",
    "version": 3
   },
   "file_extension": ".py",
   "mimetype": "text/x-python",
   "name": "python",
   "nbconvert_exporter": "python",
   "pygments_lexer": "ipython3",
   "version": "3.9.15"
  }
 },
 "nbformat": 4,
 "nbformat_minor": 5
}

{
 "cells": [
  {
   "cell_type": "code",
   "execution_count": 1,
   "id": "e7bb08a6-c8da-4175-90d6-53fadc7afa74",
   "metadata": {
    "execution": {
     "iopub.execute_input": "2024-11-19T08:14:04.391392Z",
     "iopub.status.busy": "2024-11-19T08:14:04.391066Z",
     "iopub.status.idle": "2024-11-19T08:14:16.299028Z",
     "shell.execute_reply": "2024-11-19T08:14:16.298375Z",
     "shell.execute_reply.started": "2024-11-19T08:14:04.391368Z"
    },
    "tags": []
   },
   "outputs": [],
   "source": [
    "import os\n",
    "import numpy as np\n",
    "import pandas as pd\n",
    "import seaborn as sns\n",
    "import matplotlib.pyplot as plt\n",
    "from tqdm import tqdm\n",
    "from collections import defaultdict\n",
    "from itertools import combinations,combinations_with_replacement\n",
    "\n",
    "import src.utils.helper_functions as helper"
   ]
  },
  {
   "cell_type": "code",
   "execution_count": 2,
   "id": "107275c0-98aa-4412-9690-5c41bee0eada",
   "metadata": {
    "execution": {
     "iopub.execute_input": "2024-11-19T08:14:16.300411Z",
     "iopub.status.busy": "2024-11-19T08:14:16.300090Z",
     "iopub.status.idle": "2024-11-19T08:14:16.303509Z",
     "shell.execute_reply": "2024-11-19T08:14:16.303067Z",
     "shell.execute_reply.started": "2024-11-19T08:14:16.300394Z"
    },
    "tags": []
   },
   "outputs": [],
   "source": [
    "current_dir = os.getcwd()\n",
    "fasta_path = os.path.join(current_dir,\"example_data\",\"K562_clean.sample1000.fa.gz\")\n",
    "score_matrix_path = os.path.join(current_dir,\"example_data\",\"K562_clean.sample1000.score_matrix.csv.gz\")\n",
    "collisions_path = os.path.join(current_dir,\"example_data\",\"K562_clean.sample1000.collisions.pbz2\")\n",
    "recall_path = os.path.join(current_dir,\"example_data\",\"K562_clean.sample1000.recall_analysis.csv.gz\")\n",
    "filtered_collisions_path = os.path.join(current_dir,\"example_data\",\"K562_clean.sample1000.filtered_collisions.pbz2\")"
   ]
  },
  {
   "cell_type": "markdown",
   "id": "78359da8-1faf-4b9a-9d16-2d5cd00ca975",
   "metadata": {},
   "source": [
    "# 0 - Computing all pairwise comparisons"
   ]
  },
  {
   "cell_type": "code",
   "execution_count": 88,
   "id": "2b594eb1-66ff-40ba-9a96-c11a8204a295",
   "metadata": {
    "execution": {
     "iopub.execute_input": "2024-11-17T05:39:16.315379Z",
     "iopub.status.busy": "2024-11-17T05:39:16.314183Z",
     "iopub.status.idle": "2024-11-17T05:42:01.161688Z",
     "shell.execute_reply": "2024-11-17T05:42:01.161115Z",
     "shell.execute_reply.started": "2024-11-17T05:39:16.315356Z"
    },
    "tags": []
   },
   "outputs": [
    {
     "name": "stderr",
     "output_type": "stream",
     "text": [
      "500500it [02:39, 3135.38it/s]\n"
     ]
    },
    {
     "data": {
      "text/html": [
       "<div>\n",
       "<style scoped>\n",
       "    .dataframe tbody tr th:only-of-type {\n",
       "        vertical-align: middle;\n",
       "    }\n",
       "\n",
       "    .dataframe tbody tr th {\n",
       "        vertical-align: top;\n",
       "    }\n",
       "\n",
       "    .dataframe thead th {\n",
       "        text-align: right;\n",
       "    }\n",
       "</style>\n",
       "<table border=\"1\" class=\"dataframe\">\n",
       "  <thead>\n",
       "    <tr style=\"text-align: right;\">\n",
       "      <th></th>\n",
       "      <th>peak10020_Reversed</th>\n",
       "      <th>peak10063_Reversed</th>\n",
       "      <th>peak10125</th>\n",
       "      <th>peak10171_Reversed</th>\n",
       "      <th>peak10246</th>\n",
       "      <th>peak10248</th>\n",
       "      <th>peak10342_Reversed</th>\n",
       "      <th>peak10630</th>\n",
       "      <th>peak10633_Reversed</th>\n",
       "      <th>peak10734_Reversed</th>\n",
       "      <th>...</th>\n",
       "      <th>ENSG00000166473</th>\n",
       "      <th>ENSG00000167536</th>\n",
       "      <th>ENSG00000168118_Reversed</th>\n",
       "      <th>ENSG00000168679_Reversed</th>\n",
       "      <th>ENSG00000169418_Reversed</th>\n",
       "      <th>ENSG00000169682_Reversed</th>\n",
       "      <th>ENSG00000170579</th>\n",
       "      <th>ENSG00000171357_Reversed</th>\n",
       "      <th>ENSG00000171984_Reversed</th>\n",
       "      <th>ENSG00000172115</th>\n",
       "    </tr>\n",
       "  </thead>\n",
       "  <tbody>\n",
       "    <tr>\n",
       "      <th>peak10020_Reversed</th>\n",
       "      <td>200.0</td>\n",
       "      <td>40.0</td>\n",
       "      <td>34.0</td>\n",
       "      <td>44.0</td>\n",
       "      <td>35.0</td>\n",
       "      <td>39.0</td>\n",
       "      <td>40.0</td>\n",
       "      <td>39.0</td>\n",
       "      <td>31.0</td>\n",
       "      <td>47.0</td>\n",
       "      <td>...</td>\n",
       "      <td>39.0</td>\n",
       "      <td>41.0</td>\n",
       "      <td>32.0</td>\n",
       "      <td>43.0</td>\n",
       "      <td>42.0</td>\n",
       "      <td>35.0</td>\n",
       "      <td>33.0</td>\n",
       "      <td>45.0</td>\n",
       "      <td>39.0</td>\n",
       "      <td>43.0</td>\n",
       "    </tr>\n",
       "    <tr>\n",
       "      <th>peak10063_Reversed</th>\n",
       "      <td>40.0</td>\n",
       "      <td>200.0</td>\n",
       "      <td>41.0</td>\n",
       "      <td>38.0</td>\n",
       "      <td>47.0</td>\n",
       "      <td>39.0</td>\n",
       "      <td>40.0</td>\n",
       "      <td>38.0</td>\n",
       "      <td>33.0</td>\n",
       "      <td>40.0</td>\n",
       "      <td>...</td>\n",
       "      <td>47.0</td>\n",
       "      <td>32.0</td>\n",
       "      <td>25.0</td>\n",
       "      <td>49.0</td>\n",
       "      <td>35.0</td>\n",
       "      <td>36.0</td>\n",
       "      <td>33.0</td>\n",
       "      <td>31.0</td>\n",
       "      <td>41.0</td>\n",
       "      <td>31.0</td>\n",
       "    </tr>\n",
       "    <tr>\n",
       "      <th>peak10125</th>\n",
       "      <td>34.0</td>\n",
       "      <td>41.0</td>\n",
       "      <td>200.0</td>\n",
       "      <td>37.0</td>\n",
       "      <td>45.0</td>\n",
       "      <td>45.0</td>\n",
       "      <td>45.0</td>\n",
       "      <td>39.0</td>\n",
       "      <td>31.0</td>\n",
       "      <td>36.0</td>\n",
       "      <td>...</td>\n",
       "      <td>38.0</td>\n",
       "      <td>31.0</td>\n",
       "      <td>25.0</td>\n",
       "      <td>41.0</td>\n",
       "      <td>30.0</td>\n",
       "      <td>35.0</td>\n",
       "      <td>45.0</td>\n",
       "      <td>25.0</td>\n",
       "      <td>41.0</td>\n",
       "      <td>34.0</td>\n",
       "    </tr>\n",
       "    <tr>\n",
       "      <th>peak10171_Reversed</th>\n",
       "      <td>44.0</td>\n",
       "      <td>38.0</td>\n",
       "      <td>37.0</td>\n",
       "      <td>200.0</td>\n",
       "      <td>45.0</td>\n",
       "      <td>37.0</td>\n",
       "      <td>41.0</td>\n",
       "      <td>39.0</td>\n",
       "      <td>33.0</td>\n",
       "      <td>41.0</td>\n",
       "      <td>...</td>\n",
       "      <td>37.0</td>\n",
       "      <td>25.0</td>\n",
       "      <td>28.0</td>\n",
       "      <td>37.0</td>\n",
       "      <td>33.0</td>\n",
       "      <td>33.0</td>\n",
       "      <td>40.0</td>\n",
       "      <td>29.0</td>\n",
       "      <td>42.0</td>\n",
       "      <td>31.0</td>\n",
       "    </tr>\n",
       "    <tr>\n",
       "      <th>peak10246</th>\n",
       "      <td>35.0</td>\n",
       "      <td>47.0</td>\n",
       "      <td>45.0</td>\n",
       "      <td>45.0</td>\n",
       "      <td>200.0</td>\n",
       "      <td>44.0</td>\n",
       "      <td>42.0</td>\n",
       "      <td>40.0</td>\n",
       "      <td>35.0</td>\n",
       "      <td>39.0</td>\n",
       "      <td>...</td>\n",
       "      <td>37.0</td>\n",
       "      <td>29.0</td>\n",
       "      <td>28.0</td>\n",
       "      <td>44.0</td>\n",
       "      <td>35.0</td>\n",
       "      <td>33.0</td>\n",
       "      <td>37.0</td>\n",
       "      <td>30.0</td>\n",
       "      <td>35.0</td>\n",
       "      <td>33.0</td>\n",
       "    </tr>\n",
       "  </tbody>\n",
       "</table>\n",
       "<p>5 rows × 1000 columns</p>\n",
       "</div>"
      ],
      "text/plain": [
       "                    peak10020_Reversed  peak10063_Reversed  peak10125  \\\n",
       "peak10020_Reversed               200.0                40.0       34.0   \n",
       "peak10063_Reversed                40.0               200.0       41.0   \n",
       "peak10125                         34.0                41.0      200.0   \n",
       "peak10171_Reversed                44.0                38.0       37.0   \n",
       "peak10246                         35.0                47.0       45.0   \n",
       "\n",
       "                    peak10171_Reversed  peak10246  peak10248  \\\n",
       "peak10020_Reversed                44.0       35.0       39.0   \n",
       "peak10063_Reversed                38.0       47.0       39.0   \n",
       "peak10125                         37.0       45.0       45.0   \n",
       "peak10171_Reversed               200.0       45.0       37.0   \n",
       "peak10246                         45.0      200.0       44.0   \n",
       "\n",
       "                    peak10342_Reversed  peak10630  peak10633_Reversed  \\\n",
       "peak10020_Reversed                40.0       39.0                31.0   \n",
       "peak10063_Reversed                40.0       38.0                33.0   \n",
       "peak10125                         45.0       39.0                31.0   \n",
       "peak10171_Reversed                41.0       39.0                33.0   \n",
       "peak10246                         42.0       40.0                35.0   \n",
       "\n",
       "                    peak10734_Reversed  ...  ENSG00000166473  ENSG00000167536  \\\n",
       "peak10020_Reversed                47.0  ...             39.0             41.0   \n",
       "peak10063_Reversed                40.0  ...             47.0             32.0   \n",
       "peak10125                         36.0  ...             38.0             31.0   \n",
       "peak10171_Reversed                41.0  ...             37.0             25.0   \n",
       "peak10246                         39.0  ...             37.0             29.0   \n",
       "\n",
       "                    ENSG00000168118_Reversed  ENSG00000168679_Reversed  \\\n",
       "peak10020_Reversed                      32.0                      43.0   \n",
       "peak10063_Reversed                      25.0                      49.0   \n",
       "peak10125                               25.0                      41.0   \n",
       "peak10171_Reversed                      28.0                      37.0   \n",
       "peak10246                               28.0                      44.0   \n",
       "\n",
       "                    ENSG00000169418_Reversed  ENSG00000169682_Reversed  \\\n",
       "peak10020_Reversed                      42.0                      35.0   \n",
       "peak10063_Reversed                      35.0                      36.0   \n",
       "peak10125                               30.0                      35.0   \n",
       "peak10171_Reversed                      33.0                      33.0   \n",
       "peak10246                               35.0                      33.0   \n",
       "\n",
       "                    ENSG00000170579  ENSG00000171357_Reversed  \\\n",
       "peak10020_Reversed             33.0                      45.0   \n",
       "peak10063_Reversed             33.0                      31.0   \n",
       "peak10125                      45.0                      25.0   \n",
       "peak10171_Reversed             40.0                      29.0   \n",
       "peak10246                      37.0                      30.0   \n",
       "\n",
       "                    ENSG00000171984_Reversed  ENSG00000172115  \n",
       "peak10020_Reversed                      39.0             43.0  \n",
       "peak10063_Reversed                      41.0             31.0  \n",
       "peak10125                               41.0             34.0  \n",
       "peak10171_Reversed                      42.0             31.0  \n",
       "peak10246                               35.0             33.0  \n",
       "\n",
       "[5 rows x 1000 columns]"
      ]
     },
     "metadata": {},
     "output_type": "display_data"
    },
    {
     "name": "stdout",
     "output_type": "stream",
     "text": [
      "(1000, 1000)\n",
      "CPU times: user 2min 44s, sys: 288 ms, total: 2min 44s\n",
      "Wall time: 2min 44s\n"
     ]
    }
   ],
   "source": [
    "%%time\n",
    "\n",
    "fasta_dict = helper.parse_fasta_to_dictionary(fasta_path)\n",
    "\n",
    "n   = len(fasta_dict)\n",
    "ids = list(fasta_dict)\n",
    "arr = np.zeros(shape=(n,n),dtype=np.float32)\n",
    "for i,j in tqdm(combinations_with_replacement(range(n),2)):\n",
    "    id_i = ids[i]\n",
    "    id_j = ids[j]\n",
    "    seq_i = fasta_dict[id_i]\n",
    "    seq_j = fasta_dict[id_j]\n",
    "    score = helper.compute_sw_score(seq_i,seq_j)\n",
    "    arr[i,j] = score\n",
    "    arr[j,i] = score\n",
    "\n",
    "df = pd.DataFrame(arr,index=ids,columns=ids)\n",
    "df.to_csv(score_matrix_path,compression=\"gzip\")\n",
    "display(df.head(5))\n",
    "print(df.shape)"
   ]
  },
  {
   "cell_type": "markdown",
   "id": "86e0deed-41d6-4976-b81c-d2a40d809ba9",
   "metadata": {},
   "source": [
    "# 1 - `lsh_forest`"
   ]
  },
  {
   "cell_type": "code",
   "execution_count": 85,
   "id": "80ed7566-12b5-4305-888d-f88caab4e0eb",
   "metadata": {
    "execution": {
     "iopub.execute_input": "2024-11-17T04:41:27.569642Z",
     "iopub.status.busy": "2024-11-17T04:41:27.567794Z",
     "iopub.status.idle": "2024-11-17T04:41:33.185892Z",
     "shell.execute_reply": "2024-11-17T04:41:33.185324Z",
     "shell.execute_reply.started": "2024-11-17T04:41:27.569619Z"
    },
    "tags": []
   },
   "outputs": [
    {
     "name": "stdout",
     "output_type": "stream",
     "text": [
      "LSH Forest process finished and written to: /rshare1/ZETTAI_path_WA_slash_home_KARA/home/brett/work/OrthogonalTrainValSplits/hashFrag/example_data/K562_clean.sample1000.collisions.pbz2\n"
     ]
    }
   ],
   "source": [
    "%%bash\n",
    "\n",
    "FASTA_PATH=$PWD/example_data/K562_clean.sample1000.fa.gz\n",
    "OUTPUT_PATH=$PWD/example_data/K562_clean.sample1000.collisions.pbz2\n",
    "\n",
    "./src/hashFrag lsh_forest -f $FASTA_PATH -k 11 -p 256 -t 256 -n 1000 -s 1 -o $OUTPUT_PATH"
   ]
  },
  {
   "cell_type": "markdown",
   "id": "ac42366b-2a53-43da-8bdb-4f20520f2e51",
   "metadata": {},
   "source": [
    "## 1.1 - `blastn`"
   ]
  },
  {
   "cell_type": "code",
   "execution_count": 6,
   "id": "1fc29f5e-cba3-4433-b10b-2f7a3c871292",
   "metadata": {
    "execution": {
     "iopub.execute_input": "2024-11-19T08:15:53.351488Z",
     "iopub.status.busy": "2024-11-19T08:15:53.351038Z",
     "iopub.status.idle": "2024-11-19T08:15:55.314115Z",
     "shell.execute_reply": "2024-11-19T08:15:55.313523Z",
     "shell.execute_reply.started": "2024-11-19T08:15:53.351465Z"
    },
    "tags": []
   },
   "outputs": [
    {
     "name": "stdout",
     "output_type": "stream",
     "text": [
      "\n",
      "\n",
      "Building a new DB, current time: 11/19/2024 17:15:54\n",
      "New DB name:   /rshare1/ZETTAI_path_WA_slash_home_KARA/home/brett/work/OrthogonalTrainValSplits/hashFrag/example_data/K562_clean.sample1000.blastdb\n",
      "New DB title:  K562_clean.sample1000\n",
      "Sequence type: Nucleotide\n",
      "Deleted existing Nucleotide BLAST database named /rshare1/ZETTAI_path_WA_slash_home_KARA/home/brett/work/OrthogonalTrainValSplits/hashFrag/example_data/K562_clean.sample1000.blastdb\n",
      "Keep MBits: T\n",
      "Maximum file size: 1000000000B\n",
      "Adding sequences from FASTA; added 1000 sequences in 0.01405 seconds.\n",
      "\n",
      "\n",
      "\n",
      "\n",
      "BLASTn process finished and written to: /rshare1/ZETTAI_path_WA_slash_home_KARA/home/brett/work/OrthogonalTrainValSplits/hashFrag/example_data/K562_clean.sample1000.blastn_collisions.pbz2\n"
     ]
    }
   ],
   "source": [
    "%%bash\n",
    "\n",
    "FASTA_PATH=$PWD/example_data/K562_clean.sample1000.fa.gz\n",
    "OUTPUT_PATH=$PWD/example_data/K562_clean.sample1000.blastn_collisions.pbz2\n",
    "\n",
    "./src/hashFrag blastn -f $FASTA_PATH -w 11 -B '-max_target_seqs 1000' -o $OUTPUT_PATH"
   ]
  },
  {
   "cell_type": "markdown",
   "id": "70257321-ab6e-437b-a12f-0f005d6eaae3",
   "metadata": {},
   "source": [
    "# 2 - `compute_recall`: LSH Forest"
   ]
  },
  {
   "cell_type": "code",
   "execution_count": 7,
   "id": "feb93c83-909c-4721-9437-f8785874ead8",
   "metadata": {
    "execution": {
     "iopub.execute_input": "2024-11-19T08:17:04.418454Z",
     "iopub.status.busy": "2024-11-19T08:17:04.418137Z",
     "iopub.status.idle": "2024-11-19T08:17:23.127657Z",
     "shell.execute_reply": "2024-11-19T08:17:23.127160Z",
     "shell.execute_reply.started": "2024-11-19T08:17:04.418432Z"
    },
    "tags": []
   },
   "outputs": [
    {
     "name": "stdout",
     "output_type": "stream",
     "text": [
      "Recall calculation results written to: /rshare1/ZETTAI_path_WA_slash_home_KARA/home/brett/work/OrthogonalTrainValSplits/hashFrag/example_data/K562_clean.sample1000.recall_analysis.csv.gz\n"
     ]
    }
   ],
   "source": [
    "%%bash\n",
    "\n",
    "COLLISIONS_PATH=$PWD/example_data/K562_clean.sample1000.collisions.pbz2\n",
    "SCORE_MATRIX_PATH=$PWD/example_data/K562_clean.sample1000.score_matrix.csv.gz\n",
    "OUTPUT_PATH=$PWD/example_data/K562_clean.sample1000.recall_analysis.csv.gz\n",
    "\n",
    "./src/hashFrag compute_recall -c $COLLISIONS_PATH -d $SCORE_MATRIX_PATH -s 1 -o $OUTPUT_PATH"
   ]
  },
  {
   "cell_type": "code",
   "execution_count": 8,
   "id": "54d07921-f774-4d25-bf10-d9dd62e33872",
   "metadata": {
    "execution": {
     "iopub.execute_input": "2024-11-19T08:17:23.128750Z",
     "iopub.status.busy": "2024-11-19T08:17:23.128567Z",
     "iopub.status.idle": "2024-11-19T08:17:23.161197Z",
     "shell.execute_reply": "2024-11-19T08:17:23.160929Z",
     "shell.execute_reply.started": "2024-11-19T08:17:23.128732Z"
    }
   },
   "outputs": [
    {
     "data": {
      "text/html": [
       "<div>\n",
       "<style scoped>\n",
       "    .dataframe tbody tr th:only-of-type {\n",
       "        vertical-align: middle;\n",
       "    }\n",
       "\n",
       "    .dataframe tbody tr th {\n",
       "        vertical-align: top;\n",
       "    }\n",
       "\n",
       "    .dataframe thead th {\n",
       "        text-align: right;\n",
       "    }\n",
       "</style>\n",
       "<table border=\"1\" class=\"dataframe\">\n",
       "  <thead>\n",
       "    <tr style=\"text-align: right;\">\n",
       "      <th></th>\n",
       "      <th>threshold</th>\n",
       "      <th>TP</th>\n",
       "      <th>FP</th>\n",
       "      <th>TN</th>\n",
       "      <th>FN</th>\n",
       "      <th>recall</th>\n",
       "      <th>FPR</th>\n",
       "    </tr>\n",
       "  </thead>\n",
       "  <tbody>\n",
       "    <tr>\n",
       "      <th>0</th>\n",
       "      <td>13.0</td>\n",
       "      <td>10896</td>\n",
       "      <td>0</td>\n",
       "      <td>0</td>\n",
       "      <td>989104</td>\n",
       "      <td>0.010896</td>\n",
       "      <td>0.0</td>\n",
       "    </tr>\n",
       "    <tr>\n",
       "      <th>1</th>\n",
       "      <td>14.0</td>\n",
       "      <td>10896</td>\n",
       "      <td>0</td>\n",
       "      <td>6</td>\n",
       "      <td>989098</td>\n",
       "      <td>0.010896</td>\n",
       "      <td>0.0</td>\n",
       "    </tr>\n",
       "  </tbody>\n",
       "</table>\n",
       "</div>"
      ],
      "text/plain": [
       "   threshold     TP  FP  TN      FN    recall  FPR\n",
       "0       13.0  10896   0   0  989104  0.010896  0.0\n",
       "1       14.0  10896   0   6  989098  0.010896  0.0"
      ]
     },
     "metadata": {},
     "output_type": "display_data"
    },
    {
     "name": "stdout",
     "output_type": "stream",
     "text": [
      "(188, 7)\n"
     ]
    }
   ],
   "source": [
    "recall_df = pd.read_csv(recall_path)\n",
    "display(recall_df.head(2))\n",
    "print(recall_df.shape)"
   ]
  },
  {
   "cell_type": "markdown",
   "id": "e0de4175-0d8b-4d14-8660-baf30b00e20d",
   "metadata": {},
   "source": [
    "## 2.1 - `compute_recall`: BLASTn"
   ]
  },
  {
   "cell_type": "code",
   "execution_count": 22,
   "id": "c833ab70-3c6e-418a-8a89-274cc38200d4",
   "metadata": {
    "execution": {
     "iopub.execute_input": "2024-11-19T07:17:52.561372Z",
     "iopub.status.busy": "2024-11-19T07:17:52.560921Z",
     "iopub.status.idle": "2024-11-19T07:18:10.863975Z",
     "shell.execute_reply": "2024-11-19T07:18:10.863348Z",
     "shell.execute_reply.started": "2024-11-19T07:17:52.561350Z"
    },
    "tags": []
   },
   "outputs": [
    {
     "name": "stdout",
     "output_type": "stream",
     "text": [
      "Recall calculation results written to: /rshare1/ZETTAI_path_WA_slash_home_KARA/home/brett/work/OrthogonalTrainValSplits/hashFrag/example_data/K562_clean.sample1000.recall_analysis_blast.csv.gz\n"
     ]
    }
   ],
   "source": [
    "%%bash\n",
    "\n",
    "COLLISIONS_PATH=$PWD/example_data/K562_clean.blast_collisions.pbz2\n",
    "SCORE_MATRIX_PATH=$PWD/example_data/K562_clean.sample1000.score_matrix.csv.gz\n",
    "OUTPUT_PATH=$PWD/example_data/K562_clean.sample1000.blast_recall_analysis.csv.gz\n",
    "\n",
    "./src/hashFrag compute_recall -c $COLLISIONS_PATH -d $SCORE_MATRIX_PATH -s 1 -o $OUTPUT_PATH"
   ]
  },
  {
   "cell_type": "code",
   "execution_count": 14,
   "id": "48235cb6-2144-4466-95ca-63fc459cbe3a",
   "metadata": {
    "execution": {
     "iopub.execute_input": "2024-11-19T07:14:27.428520Z",
     "iopub.status.busy": "2024-11-19T07:14:27.428314Z",
     "iopub.status.idle": "2024-11-19T07:14:27.598531Z",
     "shell.execute_reply": "2024-11-19T07:14:27.598079Z",
     "shell.execute_reply.started": "2024-11-19T07:14:27.428503Z"
    },
    "tags": []
   },
   "outputs": [
    {
     "data": {
      "text/html": [
       "<div>\n",
       "<style scoped>\n",
       "    .dataframe tbody tr th:only-of-type {\n",
       "        vertical-align: middle;\n",
       "    }\n",
       "\n",
       "    .dataframe tbody tr th {\n",
       "        vertical-align: top;\n",
       "    }\n",
       "\n",
       "    .dataframe thead th {\n",
       "        text-align: right;\n",
       "    }\n",
       "</style>\n",
       "<table border=\"1\" class=\"dataframe\">\n",
       "  <thead>\n",
       "    <tr style=\"text-align: right;\">\n",
       "      <th></th>\n",
       "      <th>threshold</th>\n",
       "      <th>TP</th>\n",
       "      <th>FP</th>\n",
       "      <th>TN</th>\n",
       "      <th>FN</th>\n",
       "      <th>recall</th>\n",
       "      <th>FPR</th>\n",
       "    </tr>\n",
       "  </thead>\n",
       "  <tbody>\n",
       "    <tr>\n",
       "      <th>0</th>\n",
       "      <td>13.0</td>\n",
       "      <td>10896</td>\n",
       "      <td>0</td>\n",
       "      <td>0</td>\n",
       "      <td>989104</td>\n",
       "      <td>0.010896</td>\n",
       "      <td>0.0</td>\n",
       "    </tr>\n",
       "    <tr>\n",
       "      <th>1</th>\n",
       "      <td>14.0</td>\n",
       "      <td>10896</td>\n",
       "      <td>0</td>\n",
       "      <td>6</td>\n",
       "      <td>989098</td>\n",
       "      <td>0.010896</td>\n",
       "      <td>0.0</td>\n",
       "    </tr>\n",
       "  </tbody>\n",
       "</table>\n",
       "</div>"
      ],
      "text/plain": [
       "   threshold     TP  FP  TN      FN    recall  FPR\n",
       "0       13.0  10896   0   0  989104  0.010896  0.0\n",
       "1       14.0  10896   0   6  989098  0.010896  0.0"
      ]
     },
     "metadata": {},
     "output_type": "display_data"
    },
    {
     "name": "stdout",
     "output_type": "stream",
     "text": [
      "(188, 7)\n"
     ]
    }
   ],
   "source": [
    "recall_df = pd.read_csv(recall_path)\n",
    "display(recall_df.head(2))\n",
    "print(recall_df.shape)"
   ]
  },
  {
   "cell_type": "code",
   "execution_count": 23,
   "id": "ad6f23e5-c83e-4ab3-8391-29fb3c8866f3",
   "metadata": {
    "execution": {
     "iopub.execute_input": "2024-11-19T07:18:39.150043Z",
     "iopub.status.busy": "2024-11-19T07:18:39.149580Z",
     "iopub.status.idle": "2024-11-19T07:18:39.160099Z",
     "shell.execute_reply": "2024-11-19T07:18:39.159637Z",
     "shell.execute_reply.started": "2024-11-19T07:18:39.150021Z"
    },
    "tags": []
   },
   "outputs": [
    {
     "data": {
      "text/html": [
       "<div>\n",
       "<style scoped>\n",
       "    .dataframe tbody tr th:only-of-type {\n",
       "        vertical-align: middle;\n",
       "    }\n",
       "\n",
       "    .dataframe tbody tr th {\n",
       "        vertical-align: top;\n",
       "    }\n",
       "\n",
       "    .dataframe thead th {\n",
       "        text-align: right;\n",
       "    }\n",
       "</style>\n",
       "<table border=\"1\" class=\"dataframe\">\n",
       "  <thead>\n",
       "    <tr style=\"text-align: right;\">\n",
       "      <th></th>\n",
       "      <th>threshold</th>\n",
       "      <th>TP</th>\n",
       "      <th>FP</th>\n",
       "      <th>TN</th>\n",
       "      <th>FN</th>\n",
       "      <th>recall</th>\n",
       "      <th>FPR</th>\n",
       "    </tr>\n",
       "  </thead>\n",
       "  <tbody>\n",
       "    <tr>\n",
       "      <th>0</th>\n",
       "      <td>13.0</td>\n",
       "      <td>12504</td>\n",
       "      <td>0</td>\n",
       "      <td>0</td>\n",
       "      <td>987496</td>\n",
       "      <td>0.012504</td>\n",
       "      <td>0.0</td>\n",
       "    </tr>\n",
       "    <tr>\n",
       "      <th>1</th>\n",
       "      <td>14.0</td>\n",
       "      <td>12504</td>\n",
       "      <td>0</td>\n",
       "      <td>6</td>\n",
       "      <td>987490</td>\n",
       "      <td>0.012504</td>\n",
       "      <td>0.0</td>\n",
       "    </tr>\n",
       "  </tbody>\n",
       "</table>\n",
       "</div>"
      ],
      "text/plain": [
       "   threshold     TP  FP  TN      FN    recall  FPR\n",
       "0       13.0  12504   0   0  987496  0.012504  0.0\n",
       "1       14.0  12504   0   6  987490  0.012504  0.0"
      ]
     },
     "metadata": {},
     "output_type": "display_data"
    },
    {
     "name": "stdout",
     "output_type": "stream",
     "text": [
      "(188, 7)\n"
     ]
    }
   ],
   "source": [
    "blast_recall_path = os.path.join(current_dir,\"example_data\",\"K562_clean.sample1000.recall_analysis_blast.csv.gz\")\n",
    "blast_recall_df = pd.read_csv(blast_recall_path)\n",
    "display(blast_recall_df.head(2))\n",
    "print(blast_recall_df.shape)"
   ]
  },
  {
   "cell_type": "code",
   "execution_count": 24,
   "id": "02a67ce5-4fe1-480f-82f1-30a1448134a2",
   "metadata": {
    "execution": {
     "iopub.execute_input": "2024-11-19T07:19:35.428729Z",
     "iopub.status.busy": "2024-11-19T07:19:35.428314Z",
     "iopub.status.idle": "2024-11-19T07:19:35.437060Z",
     "shell.execute_reply": "2024-11-19T07:19:35.436644Z",
     "shell.execute_reply.started": "2024-11-19T07:19:35.428712Z"
    },
    "tags": []
   },
   "outputs": [
    {
     "data": {
      "text/html": [
       "<div>\n",
       "<style scoped>\n",
       "    .dataframe tbody tr th:only-of-type {\n",
       "        vertical-align: middle;\n",
       "    }\n",
       "\n",
       "    .dataframe tbody tr th {\n",
       "        vertical-align: top;\n",
       "    }\n",
       "\n",
       "    .dataframe thead th {\n",
       "        text-align: right;\n",
       "    }\n",
       "</style>\n",
       "<table border=\"1\" class=\"dataframe\">\n",
       "  <thead>\n",
       "    <tr style=\"text-align: right;\">\n",
       "      <th></th>\n",
       "      <th>threshold</th>\n",
       "      <th>TP</th>\n",
       "      <th>FP</th>\n",
       "      <th>TN</th>\n",
       "      <th>FN</th>\n",
       "      <th>recall</th>\n",
       "      <th>FPR</th>\n",
       "      <th>method</th>\n",
       "    </tr>\n",
       "  </thead>\n",
       "  <tbody>\n",
       "    <tr>\n",
       "      <th>0</th>\n",
       "      <td>13.0</td>\n",
       "      <td>10896</td>\n",
       "      <td>0</td>\n",
       "      <td>0</td>\n",
       "      <td>989104</td>\n",
       "      <td>0.010896</td>\n",
       "      <td>0.0</td>\n",
       "      <td>lsh_forest</td>\n",
       "    </tr>\n",
       "    <tr>\n",
       "      <th>1</th>\n",
       "      <td>14.0</td>\n",
       "      <td>10896</td>\n",
       "      <td>0</td>\n",
       "      <td>6</td>\n",
       "      <td>989098</td>\n",
       "      <td>0.010896</td>\n",
       "      <td>0.0</td>\n",
       "      <td>lsh_forest</td>\n",
       "    </tr>\n",
       "    <tr>\n",
       "      <th>2</th>\n",
       "      <td>15.0</td>\n",
       "      <td>10896</td>\n",
       "      <td>0</td>\n",
       "      <td>8</td>\n",
       "      <td>989096</td>\n",
       "      <td>0.010896</td>\n",
       "      <td>0.0</td>\n",
       "      <td>lsh_forest</td>\n",
       "    </tr>\n",
       "    <tr>\n",
       "      <th>3</th>\n",
       "      <td>16.0</td>\n",
       "      <td>10896</td>\n",
       "      <td>0</td>\n",
       "      <td>22</td>\n",
       "      <td>989082</td>\n",
       "      <td>0.010896</td>\n",
       "      <td>0.0</td>\n",
       "      <td>lsh_forest</td>\n",
       "    </tr>\n",
       "    <tr>\n",
       "      <th>4</th>\n",
       "      <td>17.0</td>\n",
       "      <td>10896</td>\n",
       "      <td>0</td>\n",
       "      <td>32</td>\n",
       "      <td>989072</td>\n",
       "      <td>0.010896</td>\n",
       "      <td>0.0</td>\n",
       "      <td>lsh_forest</td>\n",
       "    </tr>\n",
       "  </tbody>\n",
       "</table>\n",
       "</div>"
      ],
      "text/plain": [
       "   threshold     TP  FP  TN      FN    recall  FPR      method\n",
       "0       13.0  10896   0   0  989104  0.010896  0.0  lsh_forest\n",
       "1       14.0  10896   0   6  989098  0.010896  0.0  lsh_forest\n",
       "2       15.0  10896   0   8  989096  0.010896  0.0  lsh_forest\n",
       "3       16.0  10896   0  22  989082  0.010896  0.0  lsh_forest\n",
       "4       17.0  10896   0  32  989072  0.010896  0.0  lsh_forest"
      ]
     },
     "execution_count": 24,
     "metadata": {},
     "output_type": "execute_result"
    }
   ],
   "source": [
    "recall_df[\"method\"] = \"lsh_forest\"\n",
    "blast_recall_df[\"method\"] = \"blastn\"\n",
    "combined_recall_df = pd.concat([recall_df,blast_recall_df])\n",
    "combined_recall_df.head()\n"
   ]
  },
  {
   "cell_type": "code",
   "execution_count": 27,
   "id": "8169c601-eebc-4181-9371-40d9cf916e90",
   "metadata": {
    "execution": {
     "iopub.execute_input": "2024-11-19T07:22:00.060531Z",
     "iopub.status.busy": "2024-11-19T07:22:00.060099Z",
     "iopub.status.idle": "2024-11-19T07:22:00.275948Z",
     "shell.execute_reply": "2024-11-19T07:22:00.275466Z",
     "shell.execute_reply.started": "2024-11-19T07:22:00.060507Z"
    },
    "tags": []
   },
   "outputs": [
    {
     "data": {
      "image/png": "[encoded data removed]",
      "text/plain": [
       "<Figure size 800x400 with 2 Axes>"
      ]
     },
     "metadata": {},
     "output_type": "display_data"
    }
   ],
   "source": [
    "fig,axes = plt.subplots(1,2,figsize=(8,4))\n",
    "sns.lineplot(combined_recall_df,x=\"threshold\",y=\"recall\",hue=\"method\",ax=axes[0],alpha=0.75,linewidth=0.5)\n",
    "sns.scatterplot(combined_recall_df,x=\"threshold\",y=\"recall\",hue=\"method\",ax=axes[0],alpha=0.75,linewidth=0.5,s=15)\n",
    "axes[0].set_xticks(np.arange(0,220,20))\n",
    "\n",
    "sns.lineplot(combined_recall_df,x=\"threshold\",y=\"FPR\",hue=\"method\",ax=axes[1],alpha=0.75,linewidth=0.5)\n",
    "sns.scatterplot(combined_recall_df,x=\"threshold\",y=\"FPR\",hue=\"method\",ax=axes[1],alpha=0.75,linewidth=0.5,s=15)\n",
    "axes[1].set_xticks(np.arange(0,220,20))\n",
    "plt.tight_layout()\n",
    "plt.show()"
   ]
  },
  {
   "cell_type": "markdown",
   "id": "4a1f12f9-1112-4b2d-8c12-bdb9d504a6c1",
   "metadata": {},
   "source": [
    "# 3 - `filter_false_positive_collisions`"
   ]
  },
  {
   "cell_type": "code",
   "execution_count": 105,
   "id": "ec79d17b-2dad-4166-8c65-af3264b96968",
   "metadata": {
    "execution": {
     "iopub.execute_input": "2024-11-17T05:55:38.436422Z",
     "iopub.status.busy": "2024-11-17T05:55:38.436145Z",
     "iopub.status.idle": "2024-11-17T05:55:43.480168Z",
     "shell.execute_reply": "2024-11-17T05:55:43.479473Z",
     "shell.execute_reply.started": "2024-11-17T05:55:38.436401Z"
    },
    "tags": []
   },
   "outputs": [
    {
     "name": "stdout",
     "output_type": "stream",
     "text": [
      "Number of pairwise comparisons to compute: 4948\n",
      "22 sequences remain after filtering according to a threshold of 80\n",
      "Filtered collision results written to: /rshare1/ZETTAI_path_WA_slash_home_KARA/home/brett/work/OrthogonalTrainValSplits/hashFrag/example_data/K562_clean.sample1000.filtered_collisions.pbz2\n"
     ]
    }
   ],
   "source": [
    "%%bash\n",
    "\n",
    "FASTA_PATH=$PWD/example_data/K562_clean.sample1000.fa.gz\n",
    "COLLISIONS_PATH=$PWD/example_data/K562_clean.sample1000.collisions.pbz2\n",
    "THRESHOLD=80\n",
    "OUTPUT_PATH=$PWD/example_data/K562_clean.sample1000.filtered_collisions.pbz2\n",
    "\n",
    "./src/hashFrag filter_false_positives -f $FASTA_PATH -c $COLLISIONS_PATH -t $THRESHOLD -o $OUTPUT_PATH"
   ]
  },
  {
   "cell_type": "markdown",
   "id": "f06b1337-f336-46e5-b852-6a361a86578f",
   "metadata": {},
   "source": [
    "# 4 - `create_orthogonal_splits`"
   ]
  },
  {
   "cell_type": "code",
   "execution_count": 3,
   "id": "de42b1b4-5b95-4982-92e0-85eff355a19c",
   "metadata": {
    "execution": {
     "iopub.execute_input": "2024-11-17T07:16:06.921402Z",
     "iopub.status.busy": "2024-11-17T07:16:06.921091Z",
     "iopub.status.idle": "2024-11-17T07:16:06.927784Z",
     "shell.execute_reply": "2024-11-17T07:16:06.927329Z",
     "shell.execute_reply.started": "2024-11-17T07:16:06.921384Z"
    },
    "tags": []
   },
   "outputs": [
    {
     "data": {
      "text/plain": [
       "22"
      ]
     },
     "execution_count": 3,
     "metadata": {},
     "output_type": "execute_result"
    }
   ],
   "source": [
    "filtered_collisions_dict = helper.load_collisions_dictionary(filtered_collisions_path)\n",
    "len(filtered_collisions_dict)"
   ]
  },
  {
   "cell_type": "code",
   "execution_count": 4,
   "id": "20982904-7764-4db0-bd25-cc0f2598e4f9",
   "metadata": {
    "execution": {
     "iopub.execute_input": "2024-11-17T07:16:07.547727Z",
     "iopub.status.busy": "2024-11-17T07:16:07.547567Z",
     "iopub.status.idle": "2024-11-17T07:16:07.571267Z",
     "shell.execute_reply": "2024-11-17T07:16:07.570761Z",
     "shell.execute_reply.started": "2024-11-17T07:16:07.547711Z"
    },
    "tags": []
   },
   "outputs": [
    {
     "data": {
      "text/plain": [
       "1000"
      ]
     },
     "execution_count": 4,
     "metadata": {},
     "output_type": "execute_result"
    }
   ],
   "source": [
    "fasta_dict = helper.load_fasta_as_dictionary(fasta_path)\n",
    "ids = set(fasta_dict)\n",
    "N = len(ids)\n",
    "len(fasta_dict)"
   ]
  },
  {
   "cell_type": "code",
   "execution_count": 5,
   "id": "436731a8-402b-4c22-af1b-9470bd38e22a",
   "metadata": {
    "execution": {
     "iopub.execute_input": "2024-11-17T07:16:08.463318Z",
     "iopub.status.busy": "2024-11-17T07:16:08.463069Z",
     "iopub.status.idle": "2024-11-17T07:16:08.519366Z",
     "shell.execute_reply": "2024-11-17T07:16:08.518819Z",
     "shell.execute_reply.started": "2024-11-17T07:16:08.463295Z"
    },
    "tags": []
   },
   "outputs": [],
   "source": [
    "import random\n",
    "import igraph as ig\n",
    "import scipy.sparse as sp\n",
    "from collections import defaultdict"
   ]
  },
  {
   "cell_type": "code",
   "execution_count": 6,
   "id": "1d9262c9-a74f-4144-8e71-276e863c8ce3",
   "metadata": {
    "execution": {
     "iopub.execute_input": "2024-11-17T07:16:08.963235Z",
     "iopub.status.busy": "2024-11-17T07:16:08.962977Z",
     "iopub.status.idle": "2024-11-17T07:16:08.974406Z",
     "shell.execute_reply": "2024-11-17T07:16:08.973923Z",
     "shell.execute_reply.started": "2024-11-17T07:16:08.963218Z"
    },
    "tags": []
   },
   "outputs": [
    {
     "name": "stderr",
     "output_type": "stream",
     "text": [
      "100%|███████████████████████████████████████████████████████████████████████████| 22/22 [00:00<00:00, 197590.34it/s]"
     ]
    },
    {
     "name": "stdout",
     "output_type": "stream",
     "text": [
      "22\n"
     ]
    },
    {
     "name": "stderr",
     "output_type": "stream",
     "text": [
      "\n"
     ]
    }
   ],
   "source": [
    "symmetric_collisions_dict = defaultdict(set)\n",
    "for query_id,collisions in tqdm(filtered_collisions_dict.items()):\n",
    "    query_id_ = helper.get_complementary_id(query_id,ids)\n",
    "    if query_id_ is not None:\n",
    "        symmetric_collisions_dict[query_id].add(query_id_)\n",
    "        symmetric_collisions_dict[query_id_].add(query_id)\n",
    "    for hit_id in collisions:\n",
    "        symmetric_collisions_dict[query_id].add(hit_id)\n",
    "        hit_id_ = helper.get_complementary_id(hit_id,ids)\n",
    "        if hit_id_ is not None:\n",
    "            symmetric_collisions_dict[query_id].add(hit_id_)\n",
    "            if query_id_ is not None:\n",
    "                symmetric_collisions_dict[query_id_].add(hit_id)\n",
    "                symmetric_collisions_dict[query_id_].add(hit_id_)\n",
    "\n",
    "print(len(symmetric_collisions_dict))"
   ]
  },
  {
   "cell_type": "code",
   "execution_count": 7,
   "id": "106df40b-bcb1-4fbe-9f75-ae2bcfb87e63",
   "metadata": {
    "execution": {
     "iopub.execute_input": "2024-11-17T07:16:09.830963Z",
     "iopub.status.busy": "2024-11-17T07:16:09.830655Z",
     "iopub.status.idle": "2024-11-17T07:16:09.834509Z",
     "shell.execute_reply": "2024-11-17T07:16:09.834043Z",
     "shell.execute_reply.started": "2024-11-17T07:16:09.830931Z"
    },
    "tags": []
   },
   "outputs": [],
   "source": [
    "collision_idset = set()\n",
    "for query_id,collisions in symmetric_collisions_dict.items():\n",
    "    collision_idset.add(query_id)\n",
    "    collision_idset.update(collisions)\n",
    "collision_ids = list(collision_idset)"
   ]
  },
  {
   "cell_type": "code",
   "execution_count": 8,
   "id": "83eda550-9d65-4d2c-87db-16be888c060d",
   "metadata": {
    "execution": {
     "iopub.execute_input": "2024-11-17T07:16:10.407418Z",
     "iopub.status.busy": "2024-11-17T07:16:10.407228Z",
     "iopub.status.idle": "2024-11-17T07:16:10.415054Z",
     "shell.execute_reply": "2024-11-17T07:16:10.414620Z",
     "shell.execute_reply.started": "2024-11-17T07:16:10.407399Z"
    },
    "tags": []
   },
   "outputs": [
    {
     "name": "stderr",
     "output_type": "stream",
     "text": [
      "100%|████████████████████████████████████████████████████████████████████████████| 22/22 [00:00<00:00, 24586.91it/s]\n"
     ]
    },
    {
     "data": {
      "text/plain": [
       "<22x22 sparse matrix of type '<class 'numpy.uint8'>'\n",
       "\twith 52 stored elements in Compressed Sparse Row format>"
      ]
     },
     "execution_count": 8,
     "metadata": {},
     "output_type": "execute_result"
    }
   ],
   "source": [
    "n = len(collision_ids)\n",
    "id_map = { seq_id:i for i,seq_id in enumerate(collision_ids) }\n",
    "sparse_mat = sp.dok_matrix((n,n),dtype=np.uint8)\n",
    "for id_i,collisions in tqdm(symmetric_collisions_dict.items()):\n",
    "    i = id_map[id_i]\n",
    "    for id_j in collisions:\n",
    "        j = id_map[id_j]\n",
    "        sparse_mat[i,j] = 1\n",
    "        sparse_mat[j,i] = 1\n",
    "sparse_mat = sparse_mat.tocsr()\n",
    "sparse_mat"
   ]
  },
  {
   "cell_type": "code",
   "execution_count": 9,
   "id": "fa8c3b2a-fcf3-4af6-8659-175ebe401744",
   "metadata": {
    "execution": {
     "iopub.execute_input": "2024-11-17T07:16:11.180738Z",
     "iopub.status.busy": "2024-11-17T07:16:11.180526Z",
     "iopub.status.idle": "2024-11-17T07:16:11.183506Z",
     "shell.execute_reply": "2024-11-17T07:16:11.183048Z",
     "shell.execute_reply.started": "2024-11-17T07:16:11.180722Z"
    },
    "tags": []
   },
   "outputs": [],
   "source": [
    "g = ig.Graph.Weighted_Adjacency(\n",
    "    matrix=sparse_mat,\n",
    "    mode=\"undirected\",\n",
    "    loops=False,\n",
    "    attr=\"collisions\"\n",
    ")"
   ]
  },
  {
   "cell_type": "code",
   "execution_count": 10,
   "id": "38ef6428-05cc-4b64-b59f-1ff1ecd43a5d",
   "metadata": {
    "execution": {
     "iopub.execute_input": "2024-11-17T07:16:11.745572Z",
     "iopub.status.busy": "2024-11-17T07:16:11.745382Z",
     "iopub.status.idle": "2024-11-17T07:16:11.748477Z",
     "shell.execute_reply": "2024-11-17T07:16:11.748028Z",
     "shell.execute_reply.started": "2024-11-17T07:16:11.745556Z"
    },
    "tags": []
   },
   "outputs": [],
   "source": [
    "components = g.connected_components(mode='weak')\n",
    "similar_groups = []\n",
    "for component in components:\n",
    "    similar_groups.append({ collision_ids[i] for i in component })"
   ]
  },
  {
   "cell_type": "code",
   "execution_count": 11,
   "id": "02588287-7a3c-496d-98a2-d086df6ec345",
   "metadata": {
    "execution": {
     "iopub.execute_input": "2024-11-17T07:16:12.315486Z",
     "iopub.status.busy": "2024-11-17T07:16:12.315177Z",
     "iopub.status.idle": "2024-11-17T07:16:12.419453Z",
     "shell.execute_reply": "2024-11-17T07:16:12.418925Z",
     "shell.execute_reply.started": "2024-11-17T07:16:12.315453Z"
    },
    "tags": []
   },
   "outputs": [
    {
     "data": {
      "image/png": "[encoded data removed]",
      "text/plain": [
       "<Figure size 640x480 with 1 Axes>"
      ]
     },
     "metadata": {},
     "output_type": "display_data"
    }
   ],
   "source": [
    "fig, ax = plt.subplots()\n",
    "ig.plot(\n",
    "    components,\n",
    "    target=ax,\n",
    "    palette=ig.RainbowPalette(),\n",
    "    vertex_size=0.5,\n",
    "    vertex_color=list(map(int,ig.rescale(components.membership,(0,200),clamp=True))),\n",
    "    edge_width=1\n",
    ")\n",
    "plt.show()"
   ]
  },
  {
   "cell_type": "code",
   "execution_count": 16,
   "id": "4e87af06-a072-4ff8-86fb-5e6227e8e7ae",
   "metadata": {
    "execution": {
     "iopub.execute_input": "2024-11-17T07:17:40.029762Z",
     "iopub.status.busy": "2024-11-17T07:17:40.029513Z",
     "iopub.status.idle": "2024-11-17T07:17:40.033766Z",
     "shell.execute_reply": "2024-11-17T07:17:40.033382Z",
     "shell.execute_reply.started": "2024-11-17T07:17:40.029742Z"
    },
    "tags": []
   },
   "outputs": [
    {
     "data": {
      "text/plain": [
       "(800, 200)"
      ]
     },
     "execution_count": 16,
     "metadata": {},
     "output_type": "execute_result"
    }
   ],
   "source": [
    "n_splits = 10\n",
    "p_train = 0.8\n",
    "p_test = 0.2\n",
    "\n",
    "N = len(ids)\n",
    "train_size = round(p_train*N)\n",
    "test_size  = round(p_test*N)\n",
    "\n",
    "train_size,test_size"
   ]
  },
  {
   "cell_type": "code",
   "execution_count": 17,
   "id": "fdfb861e-4915-4e36-aa0a-c380c8503255",
   "metadata": {
    "execution": {
     "iopub.execute_input": "2024-11-17T07:17:40.988687Z",
     "iopub.status.busy": "2024-11-17T07:17:40.988306Z",
     "iopub.status.idle": "2024-11-17T07:17:41.077477Z",
     "shell.execute_reply": "2024-11-17T07:17:41.077030Z",
     "shell.execute_reply.started": "2024-11-17T07:17:40.988666Z"
    },
    "tags": []
   },
   "outputs": [
    {
     "name": "stderr",
     "output_type": "stream",
     "text": [
      "100%|██████████████████████████████████████████████████████████████████████████████| 10/10 [00:00<00:00, 127.06it/s]\n"
     ]
    }
   ],
   "source": [
    "for i in tqdm(range(n_splits)):\n",
    "    split_path = os.path.join(current_dir,\"example_data\",f\"split_{i+1}.csv.gz\")\n",
    "    random.seed(i+1)\n",
    "    ids_ = list(ids)\n",
    "    similar_groups_ = similar_groups.copy()\n",
    "\n",
    "    test_split = set()\n",
    "    while len(test_split) < test_size and ids_:\n",
    "        id_x = random.choice(ids_)\n",
    "        test_split.add(id_x)\n",
    "        ids_.remove(id_x)\n",
    "\n",
    "        id_x_ = helper.get_complementary_id(id_x,ids)\n",
    "        if id_x_ is not None:\n",
    "            test_split.add(id_x_)\n",
    "            ids_.remove(id_x_)\n",
    "\n",
    "        if id_x in collision_idset:\n",
    "            helper.assert_membership(id_x_,collision_idset)\n",
    "\n",
    "            for j,group in enumerate(similar_groups_):\n",
    "                if id_x in group:\n",
    "                    helper.assert_membership(id_x_,group)\n",
    "                    group = similar_groups_.pop(j)\n",
    "                    for id_y in group:\n",
    "                        if id_x == id_y: continue\n",
    "                        test_split.add(id_y)\n",
    "                        ids_.remove(id_y)\n",
    "\n",
    "                        id_y_ = helper.get_complementary_id(id_y,ids)\n",
    "                        if id_y_ is not None:\n",
    "                            helper.assert_membership(id_y_,group)\n",
    "                            test_split.add(id_y_)\n",
    "                            ids_.remove(id_y_)\n",
    "\n",
    "    train_split = set()\n",
    "    while len(train_split) < train_size and ids_:\n",
    "        id_x = random.choice(ids_)\n",
    "        train_split.add(id_x)\n",
    "        ids_.remove(id_x)\n",
    "\n",
    "        id_x_ = helper.get_complementary_id(id_x,ids)\n",
    "        if id_x_ is not None:\n",
    "            train_split.add(id_x_)\n",
    "            ids_.remove(id_x_)\n",
    "\n",
    "        if id_x in collision_idset:\n",
    "            helper.assert_membership(id_x_,collision_idset)\n",
    "            for j,group in enumerate(similar_groups_):\n",
    "                if id_x in group:\n",
    "                    helper.assert_membership(id_x_,group)\n",
    "                    group = similar_groups_.pop(j)\n",
    "                    for id_y in group:\n",
    "                        if id_x == id_y: continue\n",
    "                        train_split.add(id_y)\n",
    "                        ids_.remove(id_y)\n",
    "\n",
    "                        id_y_ = helper.get_complementary_id(id_y,ids)\n",
    "                        if id_y_ is not None:\n",
    "                            helper.assert_membership(id_y_,group)\n",
    "                            train_split.add(id_y_)\n",
    "                            ids_.remove(id_y_)\n",
    "\n",
    "    assert train_split.isdisjoint(test_split)\n",
    "    helper.write_splits_to_file(train_split,test_split,split_path)\n"
   ]
  },
  {
   "cell_type": "code",
   "execution_count": 18,
   "id": "128d77f2-33fa-45d2-8a17-49dcadf717e0",
   "metadata": {
    "execution": {
     "iopub.execute_input": "2024-11-17T07:17:43.385100Z",
     "iopub.status.busy": "2024-11-17T07:17:43.384812Z",
     "iopub.status.idle": "2024-11-17T07:17:43.388691Z",
     "shell.execute_reply": "2024-11-17T07:17:43.388312Z",
     "shell.execute_reply.started": "2024-11-17T07:17:43.385074Z"
    },
    "tags": []
   },
   "outputs": [
    {
     "data": {
      "text/plain": [
       "(800, 200)"
      ]
     },
     "execution_count": 18,
     "metadata": {},
     "output_type": "execute_result"
    }
   ],
   "source": [
    "len(train_split),len(test_split)"
   ]
  }
 ],
 "metadata": {
  "kernelspec": {
   "display_name": "Python 3 (ipykernel)",
   "language": "python",
   "name": "python3"
  },
  "language_info": {
   "codemirror_mode": {
    "name": "ipython",
    "version": 3
   },
   "file_extension": ".py",
   "mimetype": "text/x-python",
   "name": "python",
   "nbconvert_exporter": "python",
   "pygments_lexer": "ipython3",
   "version": "3.9.15"
  }
 },
 "nbformat": 4,
 "nbformat_minor": 5
}
